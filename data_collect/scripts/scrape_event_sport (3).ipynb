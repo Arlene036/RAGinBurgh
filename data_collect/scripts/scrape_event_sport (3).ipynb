{
  "cells": [
    {
      "cell_type": "code",
      "source": [
        "from google.colab import drive\n",
        "drive.mount('/content/drive')"
      ],
      "metadata": {
        "colab": {
          "base_uri": "https://localhost:8080/"
        },
        "id": "4jqwh_XdZrxd",
        "outputId": "3515e91f-1998-4d10-973c-5638924c988c"
      },
      "execution_count": 30,
      "outputs": [
        {
          "output_type": "stream",
          "name": "stdout",
          "text": [
            "Mounted at /content/drive\n"
          ]
        }
      ]
    },
    {
      "cell_type": "code",
      "source": [
        "!pip install selenium\n",
        "!apt-get update\n",
        "!apt-get install -y chromium-driver\n",
        "%pip install google-colab-selenium"
      ],
      "metadata": {
        "colab": {
          "base_uri": "https://localhost:8080/"
        },
        "id": "QNhwVOKimj6h",
        "outputId": "946fc084-f223-4489-8bc0-8332bdafb2f1"
      },
      "execution_count": 37,
      "outputs": [
        {
          "output_type": "stream",
          "name": "stdout",
          "text": [
            "Collecting selenium\n",
            "  Downloading selenium-4.25.0-py3-none-any.whl.metadata (7.1 kB)\n",
            "Requirement already satisfied: urllib3<3,>=1.26 in /usr/local/lib/python3.10/dist-packages (from urllib3[socks]<3,>=1.26->selenium) (2.2.3)\n",
            "Collecting trio~=0.17 (from selenium)\n",
            "  Downloading trio-0.27.0-py3-none-any.whl.metadata (8.6 kB)\n",
            "Collecting trio-websocket~=0.9 (from selenium)\n",
            "  Downloading trio_websocket-0.11.1-py3-none-any.whl.metadata (4.7 kB)\n",
            "Requirement already satisfied: certifi>=2021.10.8 in /usr/local/lib/python3.10/dist-packages (from selenium) (2024.8.30)\n",
            "Requirement already satisfied: typing_extensions~=4.9 in /usr/local/lib/python3.10/dist-packages (from selenium) (4.12.2)\n",
            "Requirement already satisfied: websocket-client~=1.8 in /usr/local/lib/python3.10/dist-packages (from selenium) (1.8.0)\n",
            "Requirement already satisfied: attrs>=23.2.0 in /usr/local/lib/python3.10/dist-packages (from trio~=0.17->selenium) (24.2.0)\n",
            "Collecting sortedcontainers (from trio~=0.17->selenium)\n",
            "  Downloading sortedcontainers-2.4.0-py2.py3-none-any.whl.metadata (10 kB)\n",
            "Requirement already satisfied: idna in /usr/local/lib/python3.10/dist-packages (from trio~=0.17->selenium) (3.10)\n",
            "Collecting outcome (from trio~=0.17->selenium)\n",
            "  Downloading outcome-1.3.0.post0-py2.py3-none-any.whl.metadata (2.6 kB)\n",
            "Requirement already satisfied: sniffio>=1.3.0 in /usr/local/lib/python3.10/dist-packages (from trio~=0.17->selenium) (1.3.1)\n",
            "Requirement already satisfied: exceptiongroup in /usr/local/lib/python3.10/dist-packages (from trio~=0.17->selenium) (1.2.2)\n",
            "Collecting wsproto>=0.14 (from trio-websocket~=0.9->selenium)\n",
            "  Downloading wsproto-1.2.0-py3-none-any.whl.metadata (5.6 kB)\n",
            "Requirement already satisfied: pysocks!=1.5.7,<2.0,>=1.5.6 in /usr/local/lib/python3.10/dist-packages (from urllib3[socks]<3,>=1.26->selenium) (1.7.1)\n",
            "Collecting h11<1,>=0.9.0 (from wsproto>=0.14->trio-websocket~=0.9->selenium)\n",
            "  Downloading h11-0.14.0-py3-none-any.whl.metadata (8.2 kB)\n",
            "Downloading selenium-4.25.0-py3-none-any.whl (9.7 MB)\n",
            "\u001b[2K   \u001b[90m━━━━━━━━━━━━━━━━━━━━━━━━━━━━━━━━━━━━━━━━\u001b[0m \u001b[32m9.7/9.7 MB\u001b[0m \u001b[31m76.2 MB/s\u001b[0m eta \u001b[36m0:00:00\u001b[0m\n",
            "\u001b[?25hDownloading trio-0.27.0-py3-none-any.whl (481 kB)\n",
            "\u001b[2K   \u001b[90m━━━━━━━━━━━━━━━━━━━━━━━━━━━━━━━━━━━━━━━━\u001b[0m \u001b[32m481.7/481.7 kB\u001b[0m \u001b[31m28.9 MB/s\u001b[0m eta \u001b[36m0:00:00\u001b[0m\n",
            "\u001b[?25hDownloading trio_websocket-0.11.1-py3-none-any.whl (17 kB)\n",
            "Downloading wsproto-1.2.0-py3-none-any.whl (24 kB)\n",
            "Downloading outcome-1.3.0.post0-py2.py3-none-any.whl (10 kB)\n",
            "Downloading sortedcontainers-2.4.0-py2.py3-none-any.whl (29 kB)\n",
            "Downloading h11-0.14.0-py3-none-any.whl (58 kB)\n",
            "\u001b[2K   \u001b[90m━━━━━━━━━━━━━━━━━━━━━━━━━━━━━━━━━━━━━━━━\u001b[0m \u001b[32m58.3/58.3 kB\u001b[0m \u001b[31m3.8 MB/s\u001b[0m eta \u001b[36m0:00:00\u001b[0m\n",
            "\u001b[?25hInstalling collected packages: sortedcontainers, outcome, h11, wsproto, trio, trio-websocket, selenium\n",
            "Successfully installed h11-0.14.0 outcome-1.3.0.post0 selenium-4.25.0 sortedcontainers-2.4.0 trio-0.27.0 trio-websocket-0.11.1 wsproto-1.2.0\n",
            "Hit:1 http://archive.ubuntu.com/ubuntu jammy InRelease\n",
            "Get:2 http://archive.ubuntu.com/ubuntu jammy-updates InRelease [128 kB]\n",
            "Get:3 http://archive.ubuntu.com/ubuntu jammy-backports InRelease [127 kB]\n",
            "Get:4 https://cloud.r-project.org/bin/linux/ubuntu jammy-cran40/ InRelease [3,626 B]\n",
            "Get:5 http://security.ubuntu.com/ubuntu jammy-security InRelease [129 kB]\n",
            "Get:6 https://developer.download.nvidia.com/compute/cuda/repos/ubuntu2204/x86_64  InRelease [1,581 B]\n",
            "Ign:7 https://r2u.stat.illinois.edu/ubuntu jammy InRelease\n",
            "Get:8 https://r2u.stat.illinois.edu/ubuntu jammy Release [5,713 B]\n",
            "Get:9 https://r2u.stat.illinois.edu/ubuntu jammy Release.gpg [793 B]\n",
            "Hit:10 https://ppa.launchpadcontent.net/deadsnakes/ppa/ubuntu jammy InRelease\n",
            "Hit:11 https://ppa.launchpadcontent.net/graphics-drivers/ppa/ubuntu jammy InRelease\n",
            "Get:12 http://archive.ubuntu.com/ubuntu jammy-updates/main amd64 Packages [2,650 kB]\n",
            "Hit:13 https://ppa.launchpadcontent.net/ubuntugis/ppa/ubuntu jammy InRelease\n",
            "Get:14 http://archive.ubuntu.com/ubuntu jammy-updates/universe amd64 Packages [1,450 kB]\n",
            "Get:15 https://developer.download.nvidia.com/compute/cuda/repos/ubuntu2204/x86_64  Packages [1,032 kB]\n",
            "Get:16 https://r2u.stat.illinois.edu/ubuntu jammy/main amd64 Packages [2,597 kB]\n",
            "Get:17 https://r2u.stat.illinois.edu/ubuntu jammy/main all Packages [8,403 kB]\n",
            "Get:18 http://security.ubuntu.com/ubuntu jammy-security/universe amd64 Packages [1,162 kB]\n",
            "Get:19 http://security.ubuntu.com/ubuntu jammy-security/main amd64 Packages [2,374 kB]\n",
            "Get:20 http://security.ubuntu.com/ubuntu jammy-security/restricted amd64 Packages [3,200 kB]\n",
            "Fetched 23.3 MB in 4s (5,917 kB/s)\n",
            "Reading package lists... Done\n",
            "W: Skipping acquire of configured file 'main/source/Sources' as repository 'https://r2u.stat.illinois.edu/ubuntu jammy InRelease' does not seem to provide it (sources.list entry misspelt?)\n",
            "Reading package lists... Done\n",
            "Building dependency tree... Done\n",
            "Reading state information... Done\n",
            "Note, selecting 'chromium-chromedriver' instead of 'chromium-driver'\n",
            "The following additional packages will be installed:\n",
            "  apparmor chromium-browser libfuse3-3 liblzo2-2 libudev1 snapd squashfs-tools systemd-hwe-hwdb\n",
            "  udev\n",
            "Suggested packages:\n",
            "  apparmor-profiles-extra apparmor-utils fuse3 zenity | kdialog\n",
            "The following NEW packages will be installed:\n",
            "  apparmor chromium-browser chromium-chromedriver libfuse3-3 liblzo2-2 snapd squashfs-tools\n",
            "  systemd-hwe-hwdb udev\n",
            "The following packages will be upgraded:\n",
            "  libudev1\n",
            "1 upgraded, 9 newly installed, 0 to remove and 50 not upgraded.\n",
            "Need to get 29.0 MB of archives.\n",
            "After this operation, 120 MB of additional disk space will be used.\n",
            "Get:1 http://archive.ubuntu.com/ubuntu jammy-updates/main amd64 apparmor amd64 3.0.4-2ubuntu2.4 [598 kB]\n",
            "Get:2 http://archive.ubuntu.com/ubuntu jammy/main amd64 liblzo2-2 amd64 2.10-2build3 [53.7 kB]\n",
            "Get:3 http://archive.ubuntu.com/ubuntu jammy/main amd64 squashfs-tools amd64 1:4.5-3build1 [159 kB]\n",
            "Get:4 http://archive.ubuntu.com/ubuntu jammy-updates/main amd64 libudev1 amd64 249.11-0ubuntu3.12 [78.2 kB]\n",
            "Get:5 http://archive.ubuntu.com/ubuntu jammy-updates/main amd64 udev amd64 249.11-0ubuntu3.12 [1,557 kB]\n",
            "Get:6 http://archive.ubuntu.com/ubuntu jammy/main amd64 libfuse3-3 amd64 3.10.5-1build1 [81.2 kB]\n",
            "Get:7 http://archive.ubuntu.com/ubuntu jammy-updates/main amd64 snapd amd64 2.65.3+22.04 [26.4 MB]\n",
            "Get:8 http://archive.ubuntu.com/ubuntu jammy-updates/universe amd64 chromium-browser amd64 1:85.0.4183.83-0ubuntu2.22.04.1 [49.2 kB]\n",
            "Get:9 http://archive.ubuntu.com/ubuntu jammy-updates/universe amd64 chromium-chromedriver amd64 1:85.0.4183.83-0ubuntu2.22.04.1 [2,308 B]\n",
            "Get:10 http://archive.ubuntu.com/ubuntu jammy-updates/main amd64 systemd-hwe-hwdb all 249.11.5 [3,228 B]\n",
            "Fetched 29.0 MB in 0s (59.8 MB/s)\n",
            "Preconfiguring packages ...\n",
            "Selecting previously unselected package apparmor.\n",
            "(Reading database ... 123629 files and directories currently installed.)\n",
            "Preparing to unpack .../apparmor_3.0.4-2ubuntu2.4_amd64.deb ...\n",
            "Unpacking apparmor (3.0.4-2ubuntu2.4) ...\n",
            "Selecting previously unselected package liblzo2-2:amd64.\n",
            "Preparing to unpack .../liblzo2-2_2.10-2build3_amd64.deb ...\n",
            "Unpacking liblzo2-2:amd64 (2.10-2build3) ...\n",
            "Selecting previously unselected package squashfs-tools.\n",
            "Preparing to unpack .../squashfs-tools_1%3a4.5-3build1_amd64.deb ...\n",
            "Unpacking squashfs-tools (1:4.5-3build1) ...\n",
            "Preparing to unpack .../libudev1_249.11-0ubuntu3.12_amd64.deb ...\n",
            "Unpacking libudev1:amd64 (249.11-0ubuntu3.12) over (249.11-0ubuntu3.10) ...\n",
            "Setting up libudev1:amd64 (249.11-0ubuntu3.12) ...\n",
            "Selecting previously unselected package udev.\n",
            "(Reading database ... 123837 files and directories currently installed.)\n",
            "Preparing to unpack .../udev_249.11-0ubuntu3.12_amd64.deb ...\n",
            "Unpacking udev (249.11-0ubuntu3.12) ...\n",
            "Selecting previously unselected package libfuse3-3:amd64.\n",
            "Preparing to unpack .../libfuse3-3_3.10.5-1build1_amd64.deb ...\n",
            "Unpacking libfuse3-3:amd64 (3.10.5-1build1) ...\n",
            "Selecting previously unselected package snapd.\n",
            "Preparing to unpack .../snapd_2.65.3+22.04_amd64.deb ...\n",
            "Unpacking snapd (2.65.3+22.04) ...\n",
            "Setting up apparmor (3.0.4-2ubuntu2.4) ...\n",
            "Created symlink /etc/systemd/system/sysinit.target.wants/apparmor.service → /lib/systemd/system/apparmor.service.\n",
            "Setting up liblzo2-2:amd64 (2.10-2build3) ...\n",
            "Setting up squashfs-tools (1:4.5-3build1) ...\n",
            "Setting up udev (249.11-0ubuntu3.12) ...\n",
            "invoke-rc.d: could not determine current runlevel\n",
            "invoke-rc.d: policy-rc.d denied execution of start.\n",
            "Setting up libfuse3-3:amd64 (3.10.5-1build1) ...\n",
            "Setting up snapd (2.65.3+22.04) ...\n",
            "Created symlink /etc/systemd/system/multi-user.target.wants/snapd.apparmor.service → /lib/systemd/system/snapd.apparmor.service.\n",
            "Created symlink /etc/systemd/system/multi-user.target.wants/snapd.autoimport.service → /lib/systemd/system/snapd.autoimport.service.\n",
            "Created symlink /etc/systemd/system/multi-user.target.wants/snapd.core-fixup.service → /lib/systemd/system/snapd.core-fixup.service.\n",
            "Created symlink /etc/systemd/system/multi-user.target.wants/snapd.recovery-chooser-trigger.service → /lib/systemd/system/snapd.recovery-chooser-trigger.service.\n",
            "Created symlink /etc/systemd/system/multi-user.target.wants/snapd.seeded.service → /lib/systemd/system/snapd.seeded.service.\n",
            "Created symlink /etc/systemd/system/cloud-final.service.wants/snapd.seeded.service → /lib/systemd/system/snapd.seeded.service.\n",
            "Unit /lib/systemd/system/snapd.seeded.service is added as a dependency to a non-existent unit cloud-final.service.\n",
            "Created symlink /etc/systemd/system/multi-user.target.wants/snapd.service → /lib/systemd/system/snapd.service.\n",
            "Created symlink /etc/systemd/system/timers.target.wants/snapd.snap-repair.timer → /lib/systemd/system/snapd.snap-repair.timer.\n",
            "Created symlink /etc/systemd/system/sockets.target.wants/snapd.socket → /lib/systemd/system/snapd.socket.\n",
            "Created symlink /etc/systemd/system/final.target.wants/snapd.system-shutdown.service → /lib/systemd/system/snapd.system-shutdown.service.\n",
            "Selecting previously unselected package chromium-browser.\n",
            "(Reading database ... 124066 files and directories currently installed.)\n",
            "Preparing to unpack .../chromium-browser_1%3a85.0.4183.83-0ubuntu2.22.04.1_amd64.deb ...\n",
            "=> Installing the chromium snap\n",
            "==> Checking connectivity with the snap store\n",
            "===> System doesn't have a working snapd, skipping\n",
            "Unpacking chromium-browser (1:85.0.4183.83-0ubuntu2.22.04.1) ...\n",
            "Selecting previously unselected package chromium-chromedriver.\n",
            "Preparing to unpack .../chromium-chromedriver_1%3a85.0.4183.83-0ubuntu2.22.04.1_amd64.deb ...\n",
            "Unpacking chromium-chromedriver (1:85.0.4183.83-0ubuntu2.22.04.1) ...\n",
            "Selecting previously unselected package systemd-hwe-hwdb.\n",
            "Preparing to unpack .../systemd-hwe-hwdb_249.11.5_all.deb ...\n",
            "Unpacking systemd-hwe-hwdb (249.11.5) ...\n",
            "Setting up systemd-hwe-hwdb (249.11.5) ...\n",
            "Setting up chromium-browser (1:85.0.4183.83-0ubuntu2.22.04.1) ...\n",
            "update-alternatives: using /usr/bin/chromium-browser to provide /usr/bin/x-www-browser (x-www-browser) in auto mode\n",
            "update-alternatives: using /usr/bin/chromium-browser to provide /usr/bin/gnome-www-browser (gnome-www-browser) in auto mode\n",
            "Setting up chromium-chromedriver (1:85.0.4183.83-0ubuntu2.22.04.1) ...\n",
            "Processing triggers for udev (249.11-0ubuntu3.12) ...\n",
            "Processing triggers for hicolor-icon-theme (0.17-2) ...\n",
            "Processing triggers for libc-bin (2.35-0ubuntu3.4) ...\n",
            "/sbin/ldconfig.real: /usr/local/lib/libur_adapter_level_zero.so.0 is not a symbolic link\n",
            "\n",
            "/sbin/ldconfig.real: /usr/local/lib/libur_adapter_opencl.so.0 is not a symbolic link\n",
            "\n",
            "/sbin/ldconfig.real: /usr/local/lib/libtbbmalloc.so.2 is not a symbolic link\n",
            "\n",
            "/sbin/ldconfig.real: /usr/local/lib/libtbb.so.12 is not a symbolic link\n",
            "\n",
            "/sbin/ldconfig.real: /usr/local/lib/libtbbbind_2_5.so.3 is not a symbolic link\n",
            "\n",
            "/sbin/ldconfig.real: /usr/local/lib/libtbbmalloc_proxy.so.2 is not a symbolic link\n",
            "\n",
            "/sbin/ldconfig.real: /usr/local/lib/libtbbbind_2_0.so.3 is not a symbolic link\n",
            "\n",
            "/sbin/ldconfig.real: /usr/local/lib/libtbbbind.so.3 is not a symbolic link\n",
            "\n",
            "/sbin/ldconfig.real: /usr/local/lib/libur_loader.so.0 is not a symbolic link\n",
            "\n",
            "Processing triggers for man-db (2.10.2-1) ...\n",
            "Processing triggers for dbus (1.12.20-2ubuntu4.1) ...\n",
            "Collecting google-colab-selenium\n",
            "  Downloading google_colab_selenium-1.0.14-py3-none-any.whl.metadata (2.7 kB)\n",
            "Requirement already satisfied: selenium in /usr/local/lib/python3.10/dist-packages (from google-colab-selenium) (4.25.0)\n",
            "Requirement already satisfied: urllib3<3,>=1.26 in /usr/local/lib/python3.10/dist-packages (from urllib3[socks]<3,>=1.26->selenium->google-colab-selenium) (2.2.3)\n",
            "Requirement already satisfied: trio~=0.17 in /usr/local/lib/python3.10/dist-packages (from selenium->google-colab-selenium) (0.27.0)\n",
            "Requirement already satisfied: trio-websocket~=0.9 in /usr/local/lib/python3.10/dist-packages (from selenium->google-colab-selenium) (0.11.1)\n",
            "Requirement already satisfied: certifi>=2021.10.8 in /usr/local/lib/python3.10/dist-packages (from selenium->google-colab-selenium) (2024.8.30)\n",
            "Requirement already satisfied: typing_extensions~=4.9 in /usr/local/lib/python3.10/dist-packages (from selenium->google-colab-selenium) (4.12.2)\n",
            "Requirement already satisfied: websocket-client~=1.8 in /usr/local/lib/python3.10/dist-packages (from selenium->google-colab-selenium) (1.8.0)\n",
            "Requirement already satisfied: attrs>=23.2.0 in /usr/local/lib/python3.10/dist-packages (from trio~=0.17->selenium->google-colab-selenium) (24.2.0)\n",
            "Requirement already satisfied: sortedcontainers in /usr/local/lib/python3.10/dist-packages (from trio~=0.17->selenium->google-colab-selenium) (2.4.0)\n",
            "Requirement already satisfied: idna in /usr/local/lib/python3.10/dist-packages (from trio~=0.17->selenium->google-colab-selenium) (3.10)\n",
            "Requirement already satisfied: outcome in /usr/local/lib/python3.10/dist-packages (from trio~=0.17->selenium->google-colab-selenium) (1.3.0.post0)\n",
            "Requirement already satisfied: sniffio>=1.3.0 in /usr/local/lib/python3.10/dist-packages (from trio~=0.17->selenium->google-colab-selenium) (1.3.1)\n",
            "Requirement already satisfied: exceptiongroup in /usr/local/lib/python3.10/dist-packages (from trio~=0.17->selenium->google-colab-selenium) (1.2.2)\n",
            "Requirement already satisfied: wsproto>=0.14 in /usr/local/lib/python3.10/dist-packages (from trio-websocket~=0.9->selenium->google-colab-selenium) (1.2.0)\n",
            "Requirement already satisfied: pysocks!=1.5.7,<2.0,>=1.5.6 in /usr/local/lib/python3.10/dist-packages (from urllib3[socks]<3,>=1.26->selenium->google-colab-selenium) (1.7.1)\n",
            "Requirement already satisfied: h11<1,>=0.9.0 in /usr/local/lib/python3.10/dist-packages (from wsproto>=0.14->trio-websocket~=0.9->selenium->google-colab-selenium) (0.14.0)\n",
            "Downloading google_colab_selenium-1.0.14-py3-none-any.whl (8.2 kB)\n",
            "Installing collected packages: google-colab-selenium\n",
            "Successfully installed google-colab-selenium-1.0.14\n"
          ]
        }
      ]
    },
    {
      "cell_type": "code",
      "source": [
        "\n",
        "from selenium.webdriver.support.ui import WebDriverWait\n",
        "from selenium.webdriver.support import expected_conditions as EC\n",
        "\n",
        "from selenium.webdriver.common.by import By\n",
        "from selenium.webdriver.common.action_chains import ActionChains\n",
        "import time\n",
        "from bs4 import BeautifulSoup\n",
        "import google_colab_selenium as gs\n",
        "import json\n",
        "import re"
      ],
      "metadata": {
        "id": "BHpYHU4VZf1w"
      },
      "execution_count": null,
      "outputs": []
    },
    {
      "cell_type": "markdown",
      "source": [
        "# Pittsburgh events calendar"
      ],
      "metadata": {
        "id": "phREBZHfquPT"
      }
    },
    {
      "cell_type": "code",
      "source": [
        "def find_soup(url):\n",
        "  # Set up Selenium's browser driver\n",
        "  driver = gs.Chrome()\n",
        "\n",
        "  # Open the target webpage\n",
        "  driver.get(url)  # Replace with the actual URL\n",
        "\n",
        "  # Loop to click the \"Show More\" button until it can no longer be clicked\n",
        "  while True:\n",
        "      try:\n",
        "          # Find the \"Show More\" button\n",
        "          show_more_button = driver.find_element(By.CSS_SELECTOR, \"div.ldm span.textnode\")\n",
        "\n",
        "          # Check if the button is visible and click it\n",
        "          if show_more_button.is_displayed():\n",
        "              print(\"Clicking 'Show More' button...\")\n",
        "              driver.execute_script(\"arguments[0].click();\", show_more_button)\n",
        "              time.sleep(2)  # Wait for content to load\n",
        "          else:\n",
        "              break  # Exit the loop if the button is not visible\n",
        "      except Exception as e:\n",
        "          print(\"No more 'Show More' button to click.\")\n",
        "          break\n",
        "\n",
        "  # Once the page is fully loaded, use BeautifulSoup to parse the content\n",
        "  soup = BeautifulSoup(driver.page_source, 'html.parser')\n",
        "\n",
        "  # Close the browser\n",
        "  driver.quit()\n",
        "  return soup"
      ],
      "metadata": {
        "id": "DdWVobdpZQb1"
      },
      "execution_count": null,
      "outputs": []
    },
    {
      "cell_type": "code",
      "source": [
        "def store_file(soup, filename, return_soup=False):\n",
        "    event_items = soup.find('ul', {'class': 'dates-list'}).find_all('li', {'class': 'date-row'}) if soup.find('ul', {'class': 'dates-list'}) else None\n",
        "\n",
        "    events = []\n",
        "\n",
        "    if event_items:\n",
        "        for item in event_items:\n",
        "            event_date = item.find('div', {'class': 'date'}).text.strip() if item.find('div', {'class': 'date'}) else 'N/A'\n",
        "            event_time = item.find('div', {'class': 'time'}).text.strip() if item.find('div', {'class': 'time'}) else 'N/A'\n",
        "\n",
        "            event_date = re.sub(r'\\s+', ' ', event_date)\n",
        "            if event_date[0] == 'O' and event_date < 'Oct 27 2024':\n",
        "                continue\n",
        "            event_time = f\"{event_date}|{event_time}\"\n",
        "            event_time = re.sub(r'\\s+', ' ', event_time)\n",
        "\n",
        "            event_name = item.find('div', {'class': 'venue'}).find('a').text.strip() if item.find('div', {'class': 'venue'}).find('a') else 'N/A'\n",
        "\n",
        "            destination_div = item.find('div', {'class': 'date-desc'})\n",
        "            destination = destination_div.find('a').text.strip() if destination_div.find('a') else 'N/A'\n",
        "\n",
        "            location = item.find('span', {'class': 'location'}).text.strip() if item.find('span', {'class': 'location'}) else 'N/A'\n",
        "\n",
        "            price = item.find('div', {'class': 'from-price'}).text.strip() if item.find('div', {'class': 'from-price'}) else 'N/A'\n",
        "\n",
        "            event = {\n",
        "                'event_name': event_name,\n",
        "                'event_time': event_time,\n",
        "                'location': f\"{destination}|{location}\",\n",
        "                'price': price\n",
        "            }\n",
        "            events.append(event)\n",
        "    else:\n",
        "        print(\"No 'dates-list' found.\")\n",
        "\n",
        "    if return_soup:\n",
        "        return events\n",
        "\n",
        "    with open(filename, 'w') as f:\n",
        "        json.dump(events, f, indent=4)\n",
        "\n",
        "    print(f\"Data saved to {filename}\")"
      ],
      "metadata": {
        "id": "K7sw6HoLdypm"
      },
      "execution_count": null,
      "outputs": []
    },
    {
      "cell_type": "code",
      "source": [
        "from pickle import TRUE\n",
        "urls=['https://pittsburgh.events/october/','https://pittsburgh.events/november/','https://pittsburgh.events/december/']\n",
        "files=['october.json','november.json','december.json']\n",
        "\n",
        "events=[]\n",
        "for i in range(len(urls)):\n",
        "  soup=find_soup(urls[i])\n",
        "  events.extend(store_file(soup,files[i],return_soup=TRUE))\n",
        "with open('/content/drive/MyDrive/11711/assignment2/data/PittsburgEventCalendar.json', 'w') as f:\n",
        "    json.dump(events, f, indent=4)"
      ],
      "metadata": {
        "colab": {
          "base_uri": "https://localhost:8080/",
          "height": 408
        },
        "id": "tQC7dnOxam0d",
        "outputId": "18164a85-5cb8-42b3-821c-5141f6b21276"
      },
      "execution_count": null,
      "outputs": [
        {
          "output_type": "display_data",
          "data": {
            "text/plain": [
              "<IPython.core.display.HTML object>"
            ],
            "text/html": [
              "\n",
              "            <div class=\"spinner-container\">\n",
              "                <div class=\"spinner\" id=\"ac2ec373-aa97-4458-b7a9-a9ae27a9d14c-circle\"></div>\n",
              "                <div class=\"spinner-text\" id=\"ac2ec373-aa97-4458-b7a9-a9ae27a9d14c-text\">Initializing Chromedriver</div>\n",
              "            </div>\n",
              "            <style>\n",
              "                @keyframes spin {\n",
              "                    from { transform: rotate(0deg); }\n",
              "                    to { transform: rotate(360deg); }\n",
              "                }\n",
              "\n",
              "                .spinner-container {\n",
              "                    display: flex;\n",
              "                    align-items: center;\n",
              "                    margin-bottom: 3px;\n",
              "                }\n",
              "\n",
              "                .spinner {\n",
              "                    border: 3px solid rgba(0, 0, 0, 0.1);\n",
              "                    border-left-color: lightblue;\n",
              "                    border-radius: 50%;\n",
              "                    width: 12px;\n",
              "                    height: 12px;\n",
              "                    animation: spin 1s linear infinite;\n",
              "                }\n",
              "\n",
              "                .spinner-text {\n",
              "                    padding-left: 6px;\n",
              "                }\n",
              "            </style>\n",
              "        "
            ]
          },
          "metadata": {}
        },
        {
          "output_type": "display_data",
          "data": {
            "text/plain": [
              "<IPython.core.display.Javascript object>"
            ],
            "application/javascript": [
              "\n",
              "            const element = document.getElementById(\"ac2ec373-aa97-4458-b7a9-a9ae27a9d14c-circle\");\n",
              "            element.style.border = \"3px solid limegreen\";\n",
              "            element.style.animation = \"none\";\n",
              "\n",
              "            const text = document.getElementById(\"ac2ec373-aa97-4458-b7a9-a9ae27a9d14c-text\");\n",
              "            text.innerText = \"Initialized Chromedriver\";\n",
              "        "
            ]
          },
          "metadata": {}
        },
        {
          "output_type": "stream",
          "name": "stdout",
          "text": [
            "Clicking 'Show More' button...\n",
            "Clicking 'Show More' button...\n",
            "Clicking 'Show More' button...\n",
            "Clicking 'Show More' button...\n",
            "Clicking 'Show More' button...\n",
            "\n"
          ]
        },
        {
          "output_type": "display_data",
          "data": {
            "text/plain": [
              "<IPython.core.display.HTML object>"
            ],
            "text/html": [
              "\n",
              "            <div class=\"spinner-container\">\n",
              "                <div class=\"spinner\" id=\"0344ae96-1e78-41b2-8ad0-2ca147213fa1-circle\"></div>\n",
              "                <div class=\"spinner-text\" id=\"0344ae96-1e78-41b2-8ad0-2ca147213fa1-text\">Initializing Chromedriver</div>\n",
              "            </div>\n",
              "            <style>\n",
              "                @keyframes spin {\n",
              "                    from { transform: rotate(0deg); }\n",
              "                    to { transform: rotate(360deg); }\n",
              "                }\n",
              "\n",
              "                .spinner-container {\n",
              "                    display: flex;\n",
              "                    align-items: center;\n",
              "                    margin-bottom: 3px;\n",
              "                }\n",
              "\n",
              "                .spinner {\n",
              "                    border: 3px solid rgba(0, 0, 0, 0.1);\n",
              "                    border-left-color: lightblue;\n",
              "                    border-radius: 50%;\n",
              "                    width: 12px;\n",
              "                    height: 12px;\n",
              "                    animation: spin 1s linear infinite;\n",
              "                }\n",
              "\n",
              "                .spinner-text {\n",
              "                    padding-left: 6px;\n",
              "                }\n",
              "            </style>\n",
              "        "
            ]
          },
          "metadata": {}
        },
        {
          "output_type": "display_data",
          "data": {
            "text/plain": [
              "<IPython.core.display.Javascript object>"
            ],
            "application/javascript": [
              "\n",
              "            const element = document.getElementById(\"0344ae96-1e78-41b2-8ad0-2ca147213fa1-circle\");\n",
              "            element.style.border = \"3px solid limegreen\";\n",
              "            element.style.animation = \"none\";\n",
              "\n",
              "            const text = document.getElementById(\"0344ae96-1e78-41b2-8ad0-2ca147213fa1-text\");\n",
              "            text.innerText = \"Initialized Chromedriver\";\n",
              "        "
            ]
          },
          "metadata": {}
        },
        {
          "output_type": "stream",
          "name": "stdout",
          "text": [
            "Clicking 'Show More' button...\n",
            "Clicking 'Show More' button...\n",
            "Clicking 'Show More' button...\n",
            "Clicking 'Show More' button...\n",
            "Clicking 'Show More' button...\n",
            "Clicking 'Show More' button...\n",
            "Clicking 'Show More' button...\n",
            "\n"
          ]
        },
        {
          "output_type": "display_data",
          "data": {
            "text/plain": [
              "<IPython.core.display.HTML object>"
            ],
            "text/html": [
              "\n",
              "            <div class=\"spinner-container\">\n",
              "                <div class=\"spinner\" id=\"3f273ca8-c066-4e38-ad71-20e227be1c0b-circle\"></div>\n",
              "                <div class=\"spinner-text\" id=\"3f273ca8-c066-4e38-ad71-20e227be1c0b-text\">Initializing Chromedriver</div>\n",
              "            </div>\n",
              "            <style>\n",
              "                @keyframes spin {\n",
              "                    from { transform: rotate(0deg); }\n",
              "                    to { transform: rotate(360deg); }\n",
              "                }\n",
              "\n",
              "                .spinner-container {\n",
              "                    display: flex;\n",
              "                    align-items: center;\n",
              "                    margin-bottom: 3px;\n",
              "                }\n",
              "\n",
              "                .spinner {\n",
              "                    border: 3px solid rgba(0, 0, 0, 0.1);\n",
              "                    border-left-color: lightblue;\n",
              "                    border-radius: 50%;\n",
              "                    width: 12px;\n",
              "                    height: 12px;\n",
              "                    animation: spin 1s linear infinite;\n",
              "                }\n",
              "\n",
              "                .spinner-text {\n",
              "                    padding-left: 6px;\n",
              "                }\n",
              "            </style>\n",
              "        "
            ]
          },
          "metadata": {}
        },
        {
          "output_type": "display_data",
          "data": {
            "text/plain": [
              "<IPython.core.display.Javascript object>"
            ],
            "application/javascript": [
              "\n",
              "            const element = document.getElementById(\"3f273ca8-c066-4e38-ad71-20e227be1c0b-circle\");\n",
              "            element.style.border = \"3px solid limegreen\";\n",
              "            element.style.animation = \"none\";\n",
              "\n",
              "            const text = document.getElementById(\"3f273ca8-c066-4e38-ad71-20e227be1c0b-text\");\n",
              "            text.innerText = \"Initialized Chromedriver\";\n",
              "        "
            ]
          },
          "metadata": {}
        },
        {
          "output_type": "stream",
          "name": "stdout",
          "text": [
            "Clicking 'Show More' button...\n",
            "Clicking 'Show More' button...\n",
            "Clicking 'Show More' button...\n",
            "Clicking 'Show More' button...\n",
            "\n"
          ]
        }
      ]
    },
    {
      "cell_type": "code",
      "source": [
        "soup=find_soup('https://pittsburgh.events/october/')\n",
        "# 假设你已经获得了 soup 对象\n",
        "# 找到包含日期列表的元素\n",
        "date_list = soup.find('ul', {'class': 'dates-list'})\n",
        "\n",
        "# 如果找到 date-list，提取其中每个 'date-row' 的信息\n",
        "if date_list:\n",
        "    date_rows = date_list.find_all('li', {'class': 'date-row'})\n",
        "\n",
        "    # 遍历每个日期条目并提取信息\n",
        "    for row in date_rows:\n",
        "        date = row.find('div', {'class': 'date'}).text.strip() if row.find('div', {'class': 'date'}) else 'N/A'\n",
        "        # 输出每个事件的信息\n",
        "        print(f\"Date: {date}\")\n",
        "else:\n",
        "    print(\"No 'dates-list' found.\")"
      ],
      "metadata": {
        "colab": {
          "base_uri": "https://localhost:8080/",
          "height": 463
        },
        "id": "42sghIh8ancV",
        "outputId": "43c681bd-ebe2-4211-a7ff-26ebc3e1cec5"
      },
      "execution_count": null,
      "outputs": [
        {
          "output_type": "display_data",
          "data": {
            "text/plain": [
              "<IPython.core.display.HTML object>"
            ],
            "text/html": [
              "\n",
              "            <div class=\"spinner-container\">\n",
              "                <div class=\"spinner\" id=\"ac6499ad-b574-40af-89a2-3bad40522d82-circle\"></div>\n",
              "                <div class=\"spinner-text\" id=\"ac6499ad-b574-40af-89a2-3bad40522d82-text\">Initializing Chromedriver</div>\n",
              "            </div>\n",
              "            <style>\n",
              "                @keyframes spin {\n",
              "                    from { transform: rotate(0deg); }\n",
              "                    to { transform: rotate(360deg); }\n",
              "                }\n",
              "\n",
              "                .spinner-container {\n",
              "                    display: flex;\n",
              "                    align-items: center;\n",
              "                    margin-bottom: 3px;\n",
              "                }\n",
              "\n",
              "                .spinner {\n",
              "                    border: 3px solid rgba(0, 0, 0, 0.1);\n",
              "                    border-left-color: lightblue;\n",
              "                    border-radius: 50%;\n",
              "                    width: 12px;\n",
              "                    height: 12px;\n",
              "                    animation: spin 1s linear infinite;\n",
              "                }\n",
              "\n",
              "                .spinner-text {\n",
              "                    padding-left: 6px;\n",
              "                }\n",
              "            </style>\n",
              "        "
            ]
          },
          "metadata": {}
        },
        {
          "output_type": "display_data",
          "data": {
            "text/plain": [
              "<IPython.core.display.Javascript object>"
            ],
            "application/javascript": [
              "\n",
              "            const element = document.getElementById(\"ac6499ad-b574-40af-89a2-3bad40522d82-circle\");\n",
              "            element.style.border = \"3px solid limegreen\";\n",
              "            element.style.animation = \"none\";\n",
              "\n",
              "            const text = document.getElementById(\"ac6499ad-b574-40af-89a2-3bad40522d82-text\");\n",
              "            text.innerText = \"Initialized Chromedriver\";\n",
              "        "
            ]
          },
          "metadata": {}
        },
        {
          "output_type": "stream",
          "name": "stdout",
          "text": [
            "Clicking 'Show More' button...\n",
            "Clicking 'Show More' button...\n",
            "Clicking 'Show More' button...\n",
            "Clicking 'Show More' button...\n",
            "Clicking 'Show More' button...\n"
          ]
        },
        {
          "output_type": "error",
          "ename": "KeyboardInterrupt",
          "evalue": "",
          "traceback": [
            "\u001b[0;31m---------------------------------------------------------------------------\u001b[0m",
            "\u001b[0;31mKeyboardInterrupt\u001b[0m                         Traceback (most recent call last)",
            "\u001b[0;32m<ipython-input-36-b738fa47fc78>\u001b[0m in \u001b[0;36m<cell line: 1>\u001b[0;34m()\u001b[0m\n\u001b[0;32m----> 1\u001b[0;31m \u001b[0msoup\u001b[0m\u001b[0;34m=\u001b[0m\u001b[0mfind_soup\u001b[0m\u001b[0;34m(\u001b[0m\u001b[0;34m'https://pittsburgh.events/october/'\u001b[0m\u001b[0;34m)\u001b[0m\u001b[0;34m\u001b[0m\u001b[0;34m\u001b[0m\u001b[0m\n\u001b[0m\u001b[1;32m      2\u001b[0m \u001b[0;31m# 假设你已经获得了 soup 对象\u001b[0m\u001b[0;34m\u001b[0m\u001b[0;34m\u001b[0m\u001b[0m\n\u001b[1;32m      3\u001b[0m \u001b[0;31m# 找到包含日期列表的元素\u001b[0m\u001b[0;34m\u001b[0m\u001b[0;34m\u001b[0m\u001b[0m\n\u001b[1;32m      4\u001b[0m \u001b[0mdate_list\u001b[0m \u001b[0;34m=\u001b[0m \u001b[0msoup\u001b[0m\u001b[0;34m.\u001b[0m\u001b[0mfind\u001b[0m\u001b[0;34m(\u001b[0m\u001b[0;34m'ul'\u001b[0m\u001b[0;34m,\u001b[0m \u001b[0;34m{\u001b[0m\u001b[0;34m'class'\u001b[0m\u001b[0;34m:\u001b[0m \u001b[0;34m'dates-list'\u001b[0m\u001b[0;34m}\u001b[0m\u001b[0;34m)\u001b[0m\u001b[0;34m\u001b[0m\u001b[0;34m\u001b[0m\u001b[0m\n\u001b[1;32m      5\u001b[0m \u001b[0;34m\u001b[0m\u001b[0m\n",
            "\u001b[0;32m<ipython-input-35-24a0e431209b>\u001b[0m in \u001b[0;36mfind_soup\u001b[0;34m(url)\u001b[0m\n\u001b[1;32m     24\u001b[0m \u001b[0;34m\u001b[0m\u001b[0m\n\u001b[1;32m     25\u001b[0m   \u001b[0;31m# Once the page is fully loaded, use BeautifulSoup to parse the content\u001b[0m\u001b[0;34m\u001b[0m\u001b[0;34m\u001b[0m\u001b[0m\n\u001b[0;32m---> 26\u001b[0;31m   \u001b[0msoup\u001b[0m \u001b[0;34m=\u001b[0m \u001b[0mBeautifulSoup\u001b[0m\u001b[0;34m(\u001b[0m\u001b[0mdriver\u001b[0m\u001b[0;34m.\u001b[0m\u001b[0mpage_source\u001b[0m\u001b[0;34m,\u001b[0m \u001b[0;34m'html.parser'\u001b[0m\u001b[0;34m)\u001b[0m\u001b[0;34m\u001b[0m\u001b[0;34m\u001b[0m\u001b[0m\n\u001b[0m\u001b[1;32m     27\u001b[0m \u001b[0;34m\u001b[0m\u001b[0m\n\u001b[1;32m     28\u001b[0m   \u001b[0;31m# Extract the content you need, here is an example:\u001b[0m\u001b[0;34m\u001b[0m\u001b[0;34m\u001b[0m\u001b[0m\n",
            "\u001b[0;32m/usr/local/lib/python3.10/dist-packages/selenium/webdriver/remote/webdriver.py\u001b[0m in \u001b[0;36mpage_source\u001b[0;34m(self)\u001b[0m\n\u001b[1;32m    453\u001b[0m                 \u001b[0mdriver\u001b[0m\u001b[0;34m.\u001b[0m\u001b[0mpage_source\u001b[0m\u001b[0;34m\u001b[0m\u001b[0;34m\u001b[0m\u001b[0m\n\u001b[1;32m    454\u001b[0m         \"\"\"\n\u001b[0;32m--> 455\u001b[0;31m         \u001b[0;32mreturn\u001b[0m \u001b[0mself\u001b[0m\u001b[0;34m.\u001b[0m\u001b[0mexecute\u001b[0m\u001b[0;34m(\u001b[0m\u001b[0mCommand\u001b[0m\u001b[0;34m.\u001b[0m\u001b[0mGET_PAGE_SOURCE\u001b[0m\u001b[0;34m)\u001b[0m\u001b[0;34m[\u001b[0m\u001b[0;34m\"value\"\u001b[0m\u001b[0;34m]\u001b[0m\u001b[0;34m\u001b[0m\u001b[0;34m\u001b[0m\u001b[0m\n\u001b[0m\u001b[1;32m    456\u001b[0m \u001b[0;34m\u001b[0m\u001b[0m\n\u001b[1;32m    457\u001b[0m     \u001b[0;32mdef\u001b[0m \u001b[0mclose\u001b[0m\u001b[0;34m(\u001b[0m\u001b[0mself\u001b[0m\u001b[0;34m)\u001b[0m \u001b[0;34m->\u001b[0m \u001b[0;32mNone\u001b[0m\u001b[0;34m:\u001b[0m\u001b[0;34m\u001b[0m\u001b[0;34m\u001b[0m\u001b[0m\n",
            "\u001b[0;32m/usr/local/lib/python3.10/dist-packages/selenium/webdriver/remote/webdriver.py\u001b[0m in \u001b[0;36mexecute\u001b[0;34m(self, driver_command, params)\u001b[0m\n\u001b[1;32m    350\u001b[0m                 \u001b[0mparams\u001b[0m\u001b[0;34m[\u001b[0m\u001b[0;34m\"sessionId\"\u001b[0m\u001b[0;34m]\u001b[0m \u001b[0;34m=\u001b[0m \u001b[0mself\u001b[0m\u001b[0;34m.\u001b[0m\u001b[0msession_id\u001b[0m\u001b[0;34m\u001b[0m\u001b[0;34m\u001b[0m\u001b[0m\n\u001b[1;32m    351\u001b[0m \u001b[0;34m\u001b[0m\u001b[0m\n\u001b[0;32m--> 352\u001b[0;31m         \u001b[0mresponse\u001b[0m \u001b[0;34m=\u001b[0m \u001b[0mself\u001b[0m\u001b[0;34m.\u001b[0m\u001b[0mcommand_executor\u001b[0m\u001b[0;34m.\u001b[0m\u001b[0mexecute\u001b[0m\u001b[0;34m(\u001b[0m\u001b[0mdriver_command\u001b[0m\u001b[0;34m,\u001b[0m \u001b[0mparams\u001b[0m\u001b[0;34m)\u001b[0m\u001b[0;34m\u001b[0m\u001b[0;34m\u001b[0m\u001b[0m\n\u001b[0m\u001b[1;32m    353\u001b[0m         \u001b[0;32mif\u001b[0m \u001b[0mresponse\u001b[0m\u001b[0;34m:\u001b[0m\u001b[0;34m\u001b[0m\u001b[0;34m\u001b[0m\u001b[0m\n\u001b[1;32m    354\u001b[0m             \u001b[0mself\u001b[0m\u001b[0;34m.\u001b[0m\u001b[0merror_handler\u001b[0m\u001b[0;34m.\u001b[0m\u001b[0mcheck_response\u001b[0m\u001b[0;34m(\u001b[0m\u001b[0mresponse\u001b[0m\u001b[0;34m)\u001b[0m\u001b[0;34m\u001b[0m\u001b[0;34m\u001b[0m\u001b[0m\n",
            "\u001b[0;32m/usr/local/lib/python3.10/dist-packages/selenium/webdriver/remote/remote_connection.py\u001b[0m in \u001b[0;36mexecute\u001b[0;34m(self, command, params)\u001b[0m\n\u001b[1;32m    304\u001b[0m         \u001b[0mtrimmed\u001b[0m \u001b[0;34m=\u001b[0m \u001b[0mself\u001b[0m\u001b[0;34m.\u001b[0m\u001b[0m_trim_large_entries\u001b[0m\u001b[0;34m(\u001b[0m\u001b[0mparams\u001b[0m\u001b[0;34m)\u001b[0m\u001b[0;34m\u001b[0m\u001b[0;34m\u001b[0m\u001b[0m\n\u001b[1;32m    305\u001b[0m         \u001b[0mLOGGER\u001b[0m\u001b[0;34m.\u001b[0m\u001b[0mdebug\u001b[0m\u001b[0;34m(\u001b[0m\u001b[0;34m\"%s %s %s\"\u001b[0m\u001b[0;34m,\u001b[0m \u001b[0mcommand_info\u001b[0m\u001b[0;34m[\u001b[0m\u001b[0;36m0\u001b[0m\u001b[0;34m]\u001b[0m\u001b[0;34m,\u001b[0m \u001b[0murl\u001b[0m\u001b[0;34m,\u001b[0m \u001b[0mstr\u001b[0m\u001b[0;34m(\u001b[0m\u001b[0mtrimmed\u001b[0m\u001b[0;34m)\u001b[0m\u001b[0;34m)\u001b[0m\u001b[0;34m\u001b[0m\u001b[0;34m\u001b[0m\u001b[0m\n\u001b[0;32m--> 306\u001b[0;31m         \u001b[0;32mreturn\u001b[0m \u001b[0mself\u001b[0m\u001b[0;34m.\u001b[0m\u001b[0m_request\u001b[0m\u001b[0;34m(\u001b[0m\u001b[0mcommand_info\u001b[0m\u001b[0;34m[\u001b[0m\u001b[0;36m0\u001b[0m\u001b[0;34m]\u001b[0m\u001b[0;34m,\u001b[0m \u001b[0murl\u001b[0m\u001b[0;34m,\u001b[0m \u001b[0mbody\u001b[0m\u001b[0;34m=\u001b[0m\u001b[0mdata\u001b[0m\u001b[0;34m)\u001b[0m\u001b[0;34m\u001b[0m\u001b[0;34m\u001b[0m\u001b[0m\n\u001b[0m\u001b[1;32m    307\u001b[0m \u001b[0;34m\u001b[0m\u001b[0m\n\u001b[1;32m    308\u001b[0m     \u001b[0;32mdef\u001b[0m \u001b[0m_request\u001b[0m\u001b[0;34m(\u001b[0m\u001b[0mself\u001b[0m\u001b[0;34m,\u001b[0m \u001b[0mmethod\u001b[0m\u001b[0;34m,\u001b[0m \u001b[0murl\u001b[0m\u001b[0;34m,\u001b[0m \u001b[0mbody\u001b[0m\u001b[0;34m=\u001b[0m\u001b[0;32mNone\u001b[0m\u001b[0;34m)\u001b[0m\u001b[0;34m:\u001b[0m\u001b[0;34m\u001b[0m\u001b[0;34m\u001b[0m\u001b[0m\n",
            "\u001b[0;32m/usr/local/lib/python3.10/dist-packages/selenium/webdriver/remote/remote_connection.py\u001b[0m in \u001b[0;36m_request\u001b[0;34m(self, method, url, body)\u001b[0m\n\u001b[1;32m    324\u001b[0m \u001b[0;34m\u001b[0m\u001b[0m\n\u001b[1;32m    325\u001b[0m         \u001b[0;32mif\u001b[0m \u001b[0mself\u001b[0m\u001b[0;34m.\u001b[0m\u001b[0mkeep_alive\u001b[0m\u001b[0;34m:\u001b[0m\u001b[0;34m\u001b[0m\u001b[0;34m\u001b[0m\u001b[0m\n\u001b[0;32m--> 326\u001b[0;31m             \u001b[0mresponse\u001b[0m \u001b[0;34m=\u001b[0m \u001b[0mself\u001b[0m\u001b[0;34m.\u001b[0m\u001b[0m_conn\u001b[0m\u001b[0;34m.\u001b[0m\u001b[0mrequest\u001b[0m\u001b[0;34m(\u001b[0m\u001b[0mmethod\u001b[0m\u001b[0;34m,\u001b[0m \u001b[0murl\u001b[0m\u001b[0;34m,\u001b[0m \u001b[0mbody\u001b[0m\u001b[0;34m=\u001b[0m\u001b[0mbody\u001b[0m\u001b[0;34m,\u001b[0m \u001b[0mheaders\u001b[0m\u001b[0;34m=\u001b[0m\u001b[0mheaders\u001b[0m\u001b[0;34m)\u001b[0m\u001b[0;34m\u001b[0m\u001b[0;34m\u001b[0m\u001b[0m\n\u001b[0m\u001b[1;32m    327\u001b[0m             \u001b[0mstatuscode\u001b[0m \u001b[0;34m=\u001b[0m \u001b[0mresponse\u001b[0m\u001b[0;34m.\u001b[0m\u001b[0mstatus\u001b[0m\u001b[0;34m\u001b[0m\u001b[0;34m\u001b[0m\u001b[0m\n\u001b[1;32m    328\u001b[0m         \u001b[0;32melse\u001b[0m\u001b[0;34m:\u001b[0m\u001b[0;34m\u001b[0m\u001b[0;34m\u001b[0m\u001b[0m\n",
            "\u001b[0;32m/usr/local/lib/python3.10/dist-packages/urllib3/_request_methods.py\u001b[0m in \u001b[0;36mrequest\u001b[0;34m(self, method, url, body, fields, headers, json, **urlopen_kw)\u001b[0m\n\u001b[1;32m    133\u001b[0m \u001b[0;34m\u001b[0m\u001b[0m\n\u001b[1;32m    134\u001b[0m         \u001b[0;32mif\u001b[0m \u001b[0mmethod\u001b[0m \u001b[0;32min\u001b[0m \u001b[0mself\u001b[0m\u001b[0;34m.\u001b[0m\u001b[0m_encode_url_methods\u001b[0m\u001b[0;34m:\u001b[0m\u001b[0;34m\u001b[0m\u001b[0;34m\u001b[0m\u001b[0m\n\u001b[0;32m--> 135\u001b[0;31m             return self.request_encode_url(\n\u001b[0m\u001b[1;32m    136\u001b[0m                 \u001b[0mmethod\u001b[0m\u001b[0;34m,\u001b[0m\u001b[0;34m\u001b[0m\u001b[0;34m\u001b[0m\u001b[0m\n\u001b[1;32m    137\u001b[0m                 \u001b[0murl\u001b[0m\u001b[0;34m,\u001b[0m\u001b[0;34m\u001b[0m\u001b[0;34m\u001b[0m\u001b[0m\n",
            "\u001b[0;32m/usr/local/lib/python3.10/dist-packages/urllib3/_request_methods.py\u001b[0m in \u001b[0;36mrequest_encode_url\u001b[0;34m(self, method, url, fields, headers, **urlopen_kw)\u001b[0m\n\u001b[1;32m    180\u001b[0m             \u001b[0murl\u001b[0m \u001b[0;34m+=\u001b[0m \u001b[0;34m\"?\"\u001b[0m \u001b[0;34m+\u001b[0m \u001b[0murlencode\u001b[0m\u001b[0;34m(\u001b[0m\u001b[0mfields\u001b[0m\u001b[0;34m)\u001b[0m\u001b[0;34m\u001b[0m\u001b[0;34m\u001b[0m\u001b[0m\n\u001b[1;32m    181\u001b[0m \u001b[0;34m\u001b[0m\u001b[0m\n\u001b[0;32m--> 182\u001b[0;31m         \u001b[0;32mreturn\u001b[0m \u001b[0mself\u001b[0m\u001b[0;34m.\u001b[0m\u001b[0murlopen\u001b[0m\u001b[0;34m(\u001b[0m\u001b[0mmethod\u001b[0m\u001b[0;34m,\u001b[0m \u001b[0murl\u001b[0m\u001b[0;34m,\u001b[0m \u001b[0;34m**\u001b[0m\u001b[0mextra_kw\u001b[0m\u001b[0;34m)\u001b[0m\u001b[0;34m\u001b[0m\u001b[0;34m\u001b[0m\u001b[0m\n\u001b[0m\u001b[1;32m    183\u001b[0m \u001b[0;34m\u001b[0m\u001b[0m\n\u001b[1;32m    184\u001b[0m     def request_encode_body(\n",
            "\u001b[0;32m/usr/local/lib/python3.10/dist-packages/urllib3/poolmanager.py\u001b[0m in \u001b[0;36murlopen\u001b[0;34m(self, method, url, redirect, **kw)\u001b[0m\n\u001b[1;32m    441\u001b[0m             \u001b[0mresponse\u001b[0m \u001b[0;34m=\u001b[0m \u001b[0mconn\u001b[0m\u001b[0;34m.\u001b[0m\u001b[0murlopen\u001b[0m\u001b[0;34m(\u001b[0m\u001b[0mmethod\u001b[0m\u001b[0;34m,\u001b[0m \u001b[0murl\u001b[0m\u001b[0;34m,\u001b[0m \u001b[0;34m**\u001b[0m\u001b[0mkw\u001b[0m\u001b[0;34m)\u001b[0m\u001b[0;34m\u001b[0m\u001b[0;34m\u001b[0m\u001b[0m\n\u001b[1;32m    442\u001b[0m         \u001b[0;32melse\u001b[0m\u001b[0;34m:\u001b[0m\u001b[0;34m\u001b[0m\u001b[0;34m\u001b[0m\u001b[0m\n\u001b[0;32m--> 443\u001b[0;31m             \u001b[0mresponse\u001b[0m \u001b[0;34m=\u001b[0m \u001b[0mconn\u001b[0m\u001b[0;34m.\u001b[0m\u001b[0murlopen\u001b[0m\u001b[0;34m(\u001b[0m\u001b[0mmethod\u001b[0m\u001b[0;34m,\u001b[0m \u001b[0mu\u001b[0m\u001b[0;34m.\u001b[0m\u001b[0mrequest_uri\u001b[0m\u001b[0;34m,\u001b[0m \u001b[0;34m**\u001b[0m\u001b[0mkw\u001b[0m\u001b[0;34m)\u001b[0m\u001b[0;34m\u001b[0m\u001b[0;34m\u001b[0m\u001b[0m\n\u001b[0m\u001b[1;32m    444\u001b[0m \u001b[0;34m\u001b[0m\u001b[0m\n\u001b[1;32m    445\u001b[0m         \u001b[0mredirect_location\u001b[0m \u001b[0;34m=\u001b[0m \u001b[0mredirect\u001b[0m \u001b[0;32mand\u001b[0m \u001b[0mresponse\u001b[0m\u001b[0;34m.\u001b[0m\u001b[0mget_redirect_location\u001b[0m\u001b[0;34m(\u001b[0m\u001b[0;34m)\u001b[0m\u001b[0;34m\u001b[0m\u001b[0;34m\u001b[0m\u001b[0m\n",
            "\u001b[0;32m/usr/local/lib/python3.10/dist-packages/urllib3/connectionpool.py\u001b[0m in \u001b[0;36murlopen\u001b[0;34m(self, method, url, body, headers, retries, redirect, assert_same_host, timeout, pool_timeout, release_conn, chunked, body_pos, preload_content, decode_content, **response_kw)\u001b[0m\n\u001b[1;32m    787\u001b[0m \u001b[0;34m\u001b[0m\u001b[0m\n\u001b[1;32m    788\u001b[0m             \u001b[0;31m# Make the request on the HTTPConnection object\u001b[0m\u001b[0;34m\u001b[0m\u001b[0;34m\u001b[0m\u001b[0m\n\u001b[0;32m--> 789\u001b[0;31m             response = self._make_request(\n\u001b[0m\u001b[1;32m    790\u001b[0m                 \u001b[0mconn\u001b[0m\u001b[0;34m,\u001b[0m\u001b[0;34m\u001b[0m\u001b[0;34m\u001b[0m\u001b[0m\n\u001b[1;32m    791\u001b[0m                 \u001b[0mmethod\u001b[0m\u001b[0;34m,\u001b[0m\u001b[0;34m\u001b[0m\u001b[0;34m\u001b[0m\u001b[0m\n",
            "\u001b[0;32m/usr/local/lib/python3.10/dist-packages/urllib3/connectionpool.py\u001b[0m in \u001b[0;36m_make_request\u001b[0;34m(self, conn, method, url, body, headers, retries, timeout, chunked, response_conn, preload_content, decode_content, enforce_content_length)\u001b[0m\n\u001b[1;32m    534\u001b[0m         \u001b[0;31m# Receive the response from the server\u001b[0m\u001b[0;34m\u001b[0m\u001b[0;34m\u001b[0m\u001b[0m\n\u001b[1;32m    535\u001b[0m         \u001b[0;32mtry\u001b[0m\u001b[0;34m:\u001b[0m\u001b[0;34m\u001b[0m\u001b[0;34m\u001b[0m\u001b[0m\n\u001b[0;32m--> 536\u001b[0;31m             \u001b[0mresponse\u001b[0m \u001b[0;34m=\u001b[0m \u001b[0mconn\u001b[0m\u001b[0;34m.\u001b[0m\u001b[0mgetresponse\u001b[0m\u001b[0;34m(\u001b[0m\u001b[0;34m)\u001b[0m\u001b[0;34m\u001b[0m\u001b[0;34m\u001b[0m\u001b[0m\n\u001b[0m\u001b[1;32m    537\u001b[0m         \u001b[0;32mexcept\u001b[0m \u001b[0;34m(\u001b[0m\u001b[0mBaseSSLError\u001b[0m\u001b[0;34m,\u001b[0m \u001b[0mOSError\u001b[0m\u001b[0;34m)\u001b[0m \u001b[0;32mas\u001b[0m \u001b[0me\u001b[0m\u001b[0;34m:\u001b[0m\u001b[0;34m\u001b[0m\u001b[0;34m\u001b[0m\u001b[0m\n\u001b[1;32m    538\u001b[0m             \u001b[0mself\u001b[0m\u001b[0;34m.\u001b[0m\u001b[0m_raise_timeout\u001b[0m\u001b[0;34m(\u001b[0m\u001b[0merr\u001b[0m\u001b[0;34m=\u001b[0m\u001b[0me\u001b[0m\u001b[0;34m,\u001b[0m \u001b[0murl\u001b[0m\u001b[0;34m=\u001b[0m\u001b[0murl\u001b[0m\u001b[0;34m,\u001b[0m \u001b[0mtimeout_value\u001b[0m\u001b[0;34m=\u001b[0m\u001b[0mread_timeout\u001b[0m\u001b[0;34m)\u001b[0m\u001b[0;34m\u001b[0m\u001b[0;34m\u001b[0m\u001b[0m\n",
            "\u001b[0;32m/usr/local/lib/python3.10/dist-packages/urllib3/connection.py\u001b[0m in \u001b[0;36mgetresponse\u001b[0;34m(self)\u001b[0m\n\u001b[1;32m    505\u001b[0m \u001b[0;34m\u001b[0m\u001b[0m\n\u001b[1;32m    506\u001b[0m         \u001b[0;31m# Get the response from http.client.HTTPConnection\u001b[0m\u001b[0;34m\u001b[0m\u001b[0;34m\u001b[0m\u001b[0m\n\u001b[0;32m--> 507\u001b[0;31m         \u001b[0mhttplib_response\u001b[0m \u001b[0;34m=\u001b[0m \u001b[0msuper\u001b[0m\u001b[0;34m(\u001b[0m\u001b[0;34m)\u001b[0m\u001b[0;34m.\u001b[0m\u001b[0mgetresponse\u001b[0m\u001b[0;34m(\u001b[0m\u001b[0;34m)\u001b[0m\u001b[0;34m\u001b[0m\u001b[0;34m\u001b[0m\u001b[0m\n\u001b[0m\u001b[1;32m    508\u001b[0m \u001b[0;34m\u001b[0m\u001b[0m\n\u001b[1;32m    509\u001b[0m         \u001b[0;32mtry\u001b[0m\u001b[0;34m:\u001b[0m\u001b[0;34m\u001b[0m\u001b[0;34m\u001b[0m\u001b[0m\n",
            "\u001b[0;32m/usr/lib/python3.10/http/client.py\u001b[0m in \u001b[0;36mgetresponse\u001b[0;34m(self)\u001b[0m\n\u001b[1;32m   1373\u001b[0m         \u001b[0;32mtry\u001b[0m\u001b[0;34m:\u001b[0m\u001b[0;34m\u001b[0m\u001b[0;34m\u001b[0m\u001b[0m\n\u001b[1;32m   1374\u001b[0m             \u001b[0;32mtry\u001b[0m\u001b[0;34m:\u001b[0m\u001b[0;34m\u001b[0m\u001b[0;34m\u001b[0m\u001b[0m\n\u001b[0;32m-> 1375\u001b[0;31m                 \u001b[0mresponse\u001b[0m\u001b[0;34m.\u001b[0m\u001b[0mbegin\u001b[0m\u001b[0;34m(\u001b[0m\u001b[0;34m)\u001b[0m\u001b[0;34m\u001b[0m\u001b[0;34m\u001b[0m\u001b[0m\n\u001b[0m\u001b[1;32m   1376\u001b[0m             \u001b[0;32mexcept\u001b[0m \u001b[0mConnectionError\u001b[0m\u001b[0;34m:\u001b[0m\u001b[0;34m\u001b[0m\u001b[0;34m\u001b[0m\u001b[0m\n\u001b[1;32m   1377\u001b[0m                 \u001b[0mself\u001b[0m\u001b[0;34m.\u001b[0m\u001b[0mclose\u001b[0m\u001b[0;34m(\u001b[0m\u001b[0;34m)\u001b[0m\u001b[0;34m\u001b[0m\u001b[0;34m\u001b[0m\u001b[0m\n",
            "\u001b[0;32m/usr/lib/python3.10/http/client.py\u001b[0m in \u001b[0;36mbegin\u001b[0;34m(self)\u001b[0m\n\u001b[1;32m    316\u001b[0m         \u001b[0;31m# read until we get a non-100 response\u001b[0m\u001b[0;34m\u001b[0m\u001b[0;34m\u001b[0m\u001b[0m\n\u001b[1;32m    317\u001b[0m         \u001b[0;32mwhile\u001b[0m \u001b[0;32mTrue\u001b[0m\u001b[0;34m:\u001b[0m\u001b[0;34m\u001b[0m\u001b[0;34m\u001b[0m\u001b[0m\n\u001b[0;32m--> 318\u001b[0;31m             \u001b[0mversion\u001b[0m\u001b[0;34m,\u001b[0m \u001b[0mstatus\u001b[0m\u001b[0;34m,\u001b[0m \u001b[0mreason\u001b[0m \u001b[0;34m=\u001b[0m \u001b[0mself\u001b[0m\u001b[0;34m.\u001b[0m\u001b[0m_read_status\u001b[0m\u001b[0;34m(\u001b[0m\u001b[0;34m)\u001b[0m\u001b[0;34m\u001b[0m\u001b[0;34m\u001b[0m\u001b[0m\n\u001b[0m\u001b[1;32m    319\u001b[0m             \u001b[0;32mif\u001b[0m \u001b[0mstatus\u001b[0m \u001b[0;34m!=\u001b[0m \u001b[0mCONTINUE\u001b[0m\u001b[0;34m:\u001b[0m\u001b[0;34m\u001b[0m\u001b[0;34m\u001b[0m\u001b[0m\n\u001b[1;32m    320\u001b[0m                 \u001b[0;32mbreak\u001b[0m\u001b[0;34m\u001b[0m\u001b[0;34m\u001b[0m\u001b[0m\n",
            "\u001b[0;32m/usr/lib/python3.10/http/client.py\u001b[0m in \u001b[0;36m_read_status\u001b[0;34m(self)\u001b[0m\n\u001b[1;32m    277\u001b[0m \u001b[0;34m\u001b[0m\u001b[0m\n\u001b[1;32m    278\u001b[0m     \u001b[0;32mdef\u001b[0m \u001b[0m_read_status\u001b[0m\u001b[0;34m(\u001b[0m\u001b[0mself\u001b[0m\u001b[0;34m)\u001b[0m\u001b[0;34m:\u001b[0m\u001b[0;34m\u001b[0m\u001b[0;34m\u001b[0m\u001b[0m\n\u001b[0;32m--> 279\u001b[0;31m         \u001b[0mline\u001b[0m \u001b[0;34m=\u001b[0m \u001b[0mstr\u001b[0m\u001b[0;34m(\u001b[0m\u001b[0mself\u001b[0m\u001b[0;34m.\u001b[0m\u001b[0mfp\u001b[0m\u001b[0;34m.\u001b[0m\u001b[0mreadline\u001b[0m\u001b[0;34m(\u001b[0m\u001b[0m_MAXLINE\u001b[0m \u001b[0;34m+\u001b[0m \u001b[0;36m1\u001b[0m\u001b[0;34m)\u001b[0m\u001b[0;34m,\u001b[0m \u001b[0;34m\"iso-8859-1\"\u001b[0m\u001b[0;34m)\u001b[0m\u001b[0;34m\u001b[0m\u001b[0;34m\u001b[0m\u001b[0m\n\u001b[0m\u001b[1;32m    280\u001b[0m         \u001b[0;32mif\u001b[0m \u001b[0mlen\u001b[0m\u001b[0;34m(\u001b[0m\u001b[0mline\u001b[0m\u001b[0;34m)\u001b[0m \u001b[0;34m>\u001b[0m \u001b[0m_MAXLINE\u001b[0m\u001b[0;34m:\u001b[0m\u001b[0;34m\u001b[0m\u001b[0;34m\u001b[0m\u001b[0m\n\u001b[1;32m    281\u001b[0m             \u001b[0;32mraise\u001b[0m \u001b[0mLineTooLong\u001b[0m\u001b[0;34m(\u001b[0m\u001b[0;34m\"status line\"\u001b[0m\u001b[0;34m)\u001b[0m\u001b[0;34m\u001b[0m\u001b[0;34m\u001b[0m\u001b[0m\n",
            "\u001b[0;32m/usr/lib/python3.10/socket.py\u001b[0m in \u001b[0;36mreadinto\u001b[0;34m(self, b)\u001b[0m\n\u001b[1;32m    703\u001b[0m         \u001b[0;32mwhile\u001b[0m \u001b[0;32mTrue\u001b[0m\u001b[0;34m:\u001b[0m\u001b[0;34m\u001b[0m\u001b[0;34m\u001b[0m\u001b[0m\n\u001b[1;32m    704\u001b[0m             \u001b[0;32mtry\u001b[0m\u001b[0;34m:\u001b[0m\u001b[0;34m\u001b[0m\u001b[0;34m\u001b[0m\u001b[0m\n\u001b[0;32m--> 705\u001b[0;31m                 \u001b[0;32mreturn\u001b[0m \u001b[0mself\u001b[0m\u001b[0;34m.\u001b[0m\u001b[0m_sock\u001b[0m\u001b[0;34m.\u001b[0m\u001b[0mrecv_into\u001b[0m\u001b[0;34m(\u001b[0m\u001b[0mb\u001b[0m\u001b[0;34m)\u001b[0m\u001b[0;34m\u001b[0m\u001b[0;34m\u001b[0m\u001b[0m\n\u001b[0m\u001b[1;32m    706\u001b[0m             \u001b[0;32mexcept\u001b[0m \u001b[0mtimeout\u001b[0m\u001b[0;34m:\u001b[0m\u001b[0;34m\u001b[0m\u001b[0;34m\u001b[0m\u001b[0m\n\u001b[1;32m    707\u001b[0m                 \u001b[0mself\u001b[0m\u001b[0;34m.\u001b[0m\u001b[0m_timeout_occurred\u001b[0m \u001b[0;34m=\u001b[0m \u001b[0;32mTrue\u001b[0m\u001b[0;34m\u001b[0m\u001b[0;34m\u001b[0m\u001b[0m\n",
            "\u001b[0;31mKeyboardInterrupt\u001b[0m: "
          ]
        }
      ]
    },
    {
      "cell_type": "markdown",
      "source": [
        "#Downtown Pittsburgh events calendar"
      ],
      "metadata": {
        "id": "jMv4hd_kvTkL"
      }
    },
    {
      "cell_type": "code",
      "source": [
        "with open('f.txt', 'r') as f:\n",
        "    text = [line.strip() for line in f]"
      ],
      "metadata": {
        "id": "xiPMIF6zx3fE"
      },
      "execution_count": null,
      "outputs": []
    },
    {
      "cell_type": "code",
      "source": [
        "events=[]\n",
        "line=0\n",
        "while line<len(text):\n",
        "  if text[line]=='':\n",
        "    line+=1\n",
        "    continue\n",
        "  event = {\n",
        "      'event_name': text[line],\n",
        "      'event_time': text[line+1],\n",
        "  }\n",
        "  if text[line+2]=='Virtual Event':\n",
        "    event['location']='Virtual Event'\n",
        "    content_line=line+3\n",
        "  elif text[line+2]=='August Wilson African American Cultural Center':\n",
        "      event['location']=text[line+2]\n",
        "      content_line=line+3\n",
        "  else:\n",
        "      event['location']=text[line+2]+'|'+text[line+3]+','+text[line+4]\n",
        "      content_line=line+5\n",
        "  if text[content_line]!='':\n",
        "    event['content']=[]\n",
        "  while text[content_line]!='':\n",
        "    event['content'].append(text[content_line])\n",
        "    content_line+=1\n",
        "    if content_line==len(text) or text[content_line]=='':\n",
        "      break\n",
        "  events.append(event)\n",
        "  del event\n",
        "  line=content_line\n",
        "print(events)"
      ],
      "metadata": {
        "colab": {
          "base_uri": "https://localhost:8080/"
        },
        "id": "45exe5n8ydin",
        "outputId": "cf8df35f-f6a6-45f8-c605-520e7fa08984"
      },
      "execution_count": null,
      "outputs": [
        {
          "output_type": "stream",
          "name": "stdout",
          "text": [
            "[{'event_name': 'Mod Sun & lovelytheband: Here’s Your Flowers Tour', 'event_time': 'Oct 27, 2024 - Oct 27, 2024 | 6:00 pm - 10:00 pm', 'location': 'Stage AE|400 N Shore Dr,Pittsburgh, PA 15212'}, {'event_name': 'Lucky Draw', 'event_time': 'Oct 27, 2024 - Oct 27, 2024 | 7:30 pm - 9:30 pm', 'location': 'Arcade Comedy Theater|943 Liberty Ave,Pittsburgh, PA 15222', 'content': ['Arcade Comedy Theater presents “Lucky Draw” an improv comedy show where half of the cast is drawn at random! Each show, Arcade Academy students and team members drop their names into box at the start of the night. Throughout the evening, the hosts will be playing short form games and doing a long-form set that mixes up these performers alongside special guests, teachers, and coaches from the Arcade community. If you’re a student or improviser, this is a perfect chance to maybe try out new games or play with some seasoned performers. And if you’re just looking for a fun, unique night out Ñ you’ll get a chance to see some inventive and exciting new comedy for less than a price of a movie ticket (oh yeah, and you can BYOB).']}, {'event_name': 'Homefront and Frontlines: Women and the Impact of War', 'event_time': 'Oct 27, 2024 - Oct 27, 2024 | 2:00 pm - 4:00 pm', 'location': 'Heinz History Center|1212 Smallman St,Pittsburgh, PA 15222', 'content': ['Join the History Center and the Veterans Breakfast Club for a storytelling event honoring the strength and sacrifice of women during war time, from the battlefield to the home front.', 'Hear firsthand accounts from veterans and military families who will share their personal journeys of how military life has shaped their identities and their lives.', 'This program is not just about listening – it’s also about sharing. We encourage attendees to share their stories and unique perspectives on their life experiences.', 'The “Homefront and Frontlines: Women and the Impact of War” program is held in conjunction with the History Center’s new exhibition, A Woman’s Place: How Women Shaped Pittsburgh. The exhibit recognizes that military action and times of conflict have always been a double-edged sword for women, bringing sacrifice and loss but also opportunities for them to learn new skills, demonstrate untapped abilities, and enter previously inaccessible spaces closed to them during peacetime.', 'Whether soldier or civilian, military service has always required from women a complicated balancing act, managing the needs of home, family, work, and service, while supporting a loved one away on duty, or increasingly in the modern era, taking on that role themselves.']}, {'event_name': \"NACADA's 2024 Annual Conference\", 'event_time': 'Oct 27, 2024 - Oct 30, 2024', 'location': 'David L. Lawrence Convention Center|1000 Fort Duquesne Blvd,Pittsburgh, PA 15222', 'content': ['NACADA promotes and supports quality academic advising in institutions of higher education to enhance the educational development of students. NACADA provides a forum for discussion, debate, and the exchange of ideas pertaining to academic advising through numerous activities and publications. NACADA also serves as an advocate for effective academic advising by providing a Consulting and Speaker Service and funding for Research related to academic advising.', 'Attendees are on their own for lunch and dinner each day during the event. Lunch options will be available for purchase at the David L. Lawrence Convention Center but attendees will have a break between 11:30 a.m. - 1:30 p.m. on Monday and Tuesday to dine at nearby restaurants.']}, {'event_name': 'Peter Pan', 'event_time': 'Oct 27, 2024 - Oct 27, 2024 | 2:00 pm - 5:00 pm', 'location': 'Benedum Center|7th St and Penn Ave,Pittsburgh, PA 15222', 'content': ['Escape to Neverland for a daring adventure with Wendy, John, Michael, Tinkerbell and Peter in the ever-playful Peter Pan. This new interpretation of the classic tale is told through the eyes of a child, and includes spectacular flying, swashbuckling sword fights, giant puppets, costumes inspired by punk fashion and, of course, a little pixie dust! A Pittsburgh premiere, this magical ballet is sure to mesmerize audiences of all ages.', 'Choreography: Trey McIntyre | Music: Edward Elgar, arranged by Niel DePonte', 'Flying Effects provided by ZFX']}, {'event_name': 'Harry Potter and the Order of the Phoenix™ in Concert', 'event_time': 'Oct 27, 2024 - Oct 27, 2024 | 2:30 pm - 6:30 pm', 'location': 'Heinz Hall|600 Penn Ave,Pittsburgh, PA 15222', 'content': ['Experience your favorite movies transformed with the music of a live symphony orchestra in the Harry Potter™ Film Concert Series.? For the first time ever, audiences can rediscover the magic of?Harry Potter and the Order of the Phoenix™ while a live symphony orchestra performs Nicholas Hooper’s unforgettable score and Harry Potter™ soars across the big screen in high-definition.', 'WIZARDING WORLD and all related trademarks, characters, names, and indicia are © & ™ Warner Bros. Entertainment Inc. Publishing Rights © JKR.', 'Costume Policy', 'Heinz Hall does not permit costume masks of any kind or facsimiles of weapons that would make other guests feel uncomfortable or detract from the concert experience.']}, {'event_name': 'Black & Gold Tour', 'event_time': 'Oct 27, 2024 - Oct 27, 2024 | 3:00 pm - 4:30 pm', 'location': 'Boarding|2101 Smallman St,Pittsburgh, PA 15222', 'content': [\"Pittsburgh's 4-time Best Comedian (and ultimate yinzer) Matt Light will guide you on an unforgettable journey all through the 'tahn. You will laugh, sing, dance and make fun of Cleveland. There will be games, trivia, surprises, and lots of towel twirling.\"]}, {'event_name': 'Lucky Draw', 'event_time': 'Oct 27, 2024 - Oct 27, 2024 | 7:30 pm - 8:30 pm', 'location': 'Arcade Comedy Theater|943 Liberty Ave,Pittsburgh, PA 15222', 'content': ['Each show, Arcade Academy students and team members drop their names into box at the start of the night. Throughout the evening, the hosts will be playing short form games and doing a long-form set that mixes up these performers alongside special guests, teachers, and coaches from the Arcade community. If you’re a student or improviser, this is a perfect chance to maybe try out new games or play with some seasoned performers. And if you’re just looking for a fun, unique night out Ñ you’ll get a chance to see some inventive and exciting new comedy for less than a price of a movie ticket (oh yeah, and you can BYOB).']}, {'event_name': 'Steelers Tailgate', 'event_time': 'Oct 28, 2024 - Oct 28, 2024 | 4:00 pm - 8:00 pm', 'location': 'Stage AE|400 N Shore Dr,Pittsburgh, PA 15212', 'content': ['Velveeta: 5:45-7:15PM (8:15 Kickoff)', 'Stage AE is the Official host of the Pittsburgh Steelers Tailgates. Open before every home game at Acrisure Stadium, the region’s largest tailgate event offers free admission, live music, food and drink specials and the chance to win prizes and autographed items.']}, {'event_name': 'Pittsburgh Steelers vs. New York Giants', 'event_time': 'Oct 28, 2024 - Oct 28, 2024 | 8:00 pm - 11:30 pm', 'location': 'Acrisure Stadium|100 Art Rooney Ave,Pittsburgh, PA 15212'}, {'event_name': 'Trick-or-Treat at Museum of Illusions', 'event_time': 'Oct 28, 2024 - Oct 31, 2024', 'location': 'Museum of Illusions|267 N Shore Dr,Pittsburgh, PA 15212', 'content': ['While MOI is known for their tricks, they also want to treat guests. From Monday, October 28 to Thursday, October 31, 2024, kids can get a head start on trick-or-treating at the Museum during regular operating hours. And don’t forget the tricks! Fan-favorite illusions like Head on a Plate, Ames Room, the Vortex Tunnel, and more will have guests wondering what’s real and what’s not. It’s the perfect destination for families looking to treat their kids to some tricks that aren’t too scary during this fright-filled season.']}, {'event_name': 'Pittsburgh Steelers vs. New York Giants', 'event_time': 'Oct 28, 2024 - Oct 28, 2024 | 8:00 pm - 11:30 pm', 'location': 'Acrirsure Stadium|100 Art Rooney Avenue,Pittsburgh, PA 15212', 'content': ['Gameday Info', 'Parking Lots Open: 3:15 pm', 'Will Call Open: 5:15 pm', 'Gates Open: 6:15 pm', 'Kickoff: 8:15 pm', 'Be sure to access your digital ticket(s) and save to your Apple or Google Wallet before you arrive at Acrisure Stadium. Please have your digital ticket(s) ready on your phone as you arrive at the stadium gate.', 'Parking lots and garages open 5 hours prior to kickoff.', 'Fans are encouraged to arrive 2 hours early to avoid anticipated heavy traffic and last-minute crowds at the gate, and also to enjoy in-stadium pregame activities. All gates will open at 6:15 pm.']}, {'event_name': 'Cavetown', 'event_time': 'Oct 29, 2024 - Oct 29, 2024 | 7:00 pm - 11:00 pm', 'location': 'Stage AE|400 N Shore Dr,Pittsburgh, PA 15212', 'content': ['$1 per ticket goes to Save The Children to support families in Gaza.']}, {'event_name': 'Penguins vs. Wild', 'event_time': 'Oct 29, 2024 - Oct 29, 2024 | 7:30 pm - 10:30 pm', 'location': 'PPG Paints Arena|1001 Fifth Ave,Pittsburgh, PA 15219'}, {'event_name': '& Juliet', 'event_time': 'Oct 29, 2024 - Nov 3, 2024', 'location': 'Benedum Center|7th St and Penn Ave,Pittsburgh, PA 15222', 'content': ['& Juliet asks: what would happen next if Juliet didn’t end it all over Romeo? Get whisked away on a fabulous journey as she ditches her famous ending for a fresh beginning and a second chance at life and love—her way.', 'Juliet’s new story bursts to life through a playlist of pop anthems as iconic as her name, including \"Since U Been Gone‚\" \"Roar,\" \"Baby One More Time,\" \"Larger Than Life‚\" \"That’s The Way It Is,“ and \"Can\\'t Stop the Feeling!\"—all from the genius songwriter/producer behind more #1 hits than any other artist this century. Break free of the balcony scene and get into this romantic comedy that proves there’s life after Romeo. The only thing tragic would be missing it.']}, {'event_name': 'Storytime Spotlight', 'event_time': 'Oct 29, 2024 - Oct 29, 2024 | 6:30 pm - 7:30 pm', 'location': 'Virutal Event|This series highlights Black and Brown children’s book authors and will feature conversations and a live reading with the author.,Storytime Spotlight Series is moderated by Cathryn Calhoun, Director of Education and Community Engagement at AWAACC.'}, {'event_name': 'Día de los Muertos Lunch Event', 'event_time': 'Oct 30, 2024 - Oct 30, 2024 | 12:00 pm - 1:30 pm', 'location': 'The Backyard|149 8th St,Pittsburgh, PA 15222'}, {'event_name': 'Creative Conversations — & Juliet', 'event_time': 'Oct 30, 2024 - Oct 30, 2024 | 6:30 pm - 7:30 pm', 'location': 'Trust Arts Education Center|807 Liberty Ave,Pittsburgh, PA 15222', 'content': ['Join Trust Arts Education for a pre-show chat on Wednesday nights with members from the company (schedule permitting) hosted by local theatre professionals to learn insights into the show you can’t find in your playbill.', 'What special lighting cues should you watch for? What is life on tour like? What musical allusions will deepen your enjoyment of the show? What questions do you have? Now is your chance to ask! (While enjoying pre-show snacks!)']}, {'event_name': 'Penguins vs. Ducks', 'event_time': 'Oct 31, 2024 - Oct 31, 2024 | 7:00 pm - 10:00 pm', 'location': 'PPG Paints Arena|1001 Fifth Ave,Pittsburgh, PA 15219'}, {'event_name': 'Haunted Pittsburgh Ghost Tour', 'event_time': 'Jun 1, 2024 - Nov 2, 2024 | 7:00 pm - 9:00 pm', 'location': 'Downtown Pittsburgh|414 Grant St,Pittsburgh, PA 15219', 'content': [\"Pittsburgh has a North Side and a South Side--we take you to its dark side. We visit the sites of Pittsburgh's greatest encounters with the unexplained and tell you the stories associated with them. We know where all the bodies are buried.\", \"We'll take you as close to as many haunted sites as we can within the time allotted for the tour and regale you with Pittsburgh's greatest ghost stories.  There are no public restrooms on our route. Tours run rain or shine.\"]}, {'event_name': 'Art & Artists Tour', 'event_time': 'Jun 1, 2024 - Dec 28, 2024 | 4:00 pm - 5:30 pm', 'location': 'Walk The Burgh Tours|1049 Penn Ave,Pittsburgh, PA 15222', 'content': ['Our most fun walk! Journey off the beaten path with us and discover hidden art that is tucked away in our downtown nooks, crannies, and alleys. Our expert guides will dive into the history of the city’s Cultural District that is filled with historic theaters and beautiful plazas, and learn about the famous artists, actors, and musicians from our beloved city. You’ll also see the best of Pittsburgh’s public art: captivating sculptures, light installations, and colorful murals. This is a great tour for photo-ops, and is a wonderful way for families with children to see and interact with the city.']}, {'event_name': 'Comedy Bus Tour', 'event_time': 'Jul 5, 2024 - Nov 22, 2024 | 8:00 pm - 9:30 pm', 'location': 'Penn Ave (between 10th St & 11th St)|1027 Penn Ave,Pittsburgh, PA 15222', 'content': ['Duration', 'Approximately 90 Minutes (includes bathroom break)', 'Please arrive 15 minutes before your scheduled start time. The bus will depart on time, so please plan accordingly! No refund or credit provided if you miss the bus.', 'About', \"Explore the Steel City like never before! Hop aboard and experience Pittsburgh's one and only transportainment bus.\", \"Join us for these weekly, one-of-a-kind rides hosted by local comedians. No two shows are alike and crowd participation is encouraged. It's the perfect blend of laughter, fun and celebration. Every tour will feature games, shenanigans, music, and surprises.\", \"Whether you are visiting Pittsburgh for the first time or you're a lifelong yinzer, a trip on The Burgh Bus is an experience like no other. This is not your average bus… so bring your smiles, good vibes and enjoy the ride! It's guaranteed to be a party ? ?\", 'Available for private tours, party bus rentals and shuttle services!', 'PLEASE NOTE: The evening rides are for ages 21+ only and the content is R-Rated. Passengers will be asked to provide a valid ID upon boarding. No refunds will be issued if you are underage or fail to bring proof of age.', 'Boarding Location', \"1027 Penn Ave (near Jimmy John's)\", 'Pittsburgh, PA 15222', 'You will board the bus in downtown Pittsburgh on Penn Ave (at 10th St intersection), by the convention center.', 'What to Bring?', '•\\tBYOB + Valid ID', '•\\tCoolers are allowed if they can easily fit on your lap or under the seat', '•\\tCash for tips (the host and driver will definitely appreciate it!)', 'What NOT to Bring?', '•\\tNo food', '•\\tIf you BYOB… no glass!', '•\\tNo smoking of any kind', '•\\tNo noisemakers']}, {'event_name': \"Captain's Dinner Cruise & Tour\", 'event_time': 'Oct 5, 2024 - Nov 16, 2024 | 5:30 pm - 9:00 pm', 'location': 'Gateway Clipper Fleet Docks|350 West Station Square Dr,Pittsburgh, PA 15219', 'content': ['Join the Gateway Clipper Captain’s Dinner Cruise & Tour in Pittsburgh, PA!', '2025 Dates Now Available to Book!', 'Looking for a fun and unique evening out in Pittsburgh? Come aboard our Captain’s Dinner Cruise & Tour for a fabulous dinner, music and dancing and fabulous views of the city skyline! Bring a date, a group of friends, or the whole family and just have fun out on the water in Pittsburgh!', 'CAPTAIN’S DINNER CRUISE & TOUR TRIP DETAILS:', '•\\tBuffet Dinner will be available upon boarding, please help yourself. The food will remain available for 30 minutes after sailing.', '•\\tA full-service bar is available on board- ask our bartenders for the weekly special! Must be 21+ with valid photo ID to consume alcoholic beverages. (NO CASH ON BOARD – Credit/Debit cards, Google Pay and Apple Pay accepted)', '•\\tOur friendly photo team will capture a boarding picture of your group- you can purchase the day of OR pre purchase during check out. (NO CASH ON BOARD – Credit/Debit cards, Google Pay and Apple Pay accepted)', '•\\tThis cruise features DJ Entertainment, brief narration, and the most beautiful city skyline in the USA!', '•\\tClick the “Book Now” button to purchase tickets, appetizers, souvenirs and more.', '•\\tWe suggest Dressy Casual Attire- Click here for details!']}, {'event_name': 'Roger Jacoby: Pittsburgh Stories', 'event_time': 'Oct 25, 2024 - Jan 5, 2025', 'location': 'Wood Street Galleries|601 Wood St,Pittsburgh, PA 15222', 'content': ['Wood Street Galleries is pleased to present the world premiere of three newly restored experimental films by Roger Jacoby (b. New York, 1944–1985), a pivotal figure bridging the pre- and post-liberation eras of gay experimental filmmaking. This exhibition is the inaugural project in a series of exhibitions and programs dedicated to historic artists who have created significant work in, about, or influenced by the city of Pittsburgh, specifically in the field of time-based or experimental media.', \"Roger Jacoby's career as a filmmaker spanned from 1972 until his untimely death from AIDS in 1985, during which he completed eight films—all produced in Pittsburgh. Originally trained as a painter and classical pianist, Jacoby's artistic journey took a transformative turn through his work as a gallery assistant for his aunt, Rose Fried. This role introduced him to New York’s vibrant artistic circles, including Andy Warhol’s Factory, where he met his long-time partner, the Warhol Superstar Ondine. Encouraged by filmmaker Marie Menken, who gifted him his first film camera, Jacoby began experimenting with film around 1970. Seeking a change in environment, he and Ondine relocated to Pittsburgh in 1972, where Jacoby found a job playing piano for silent films at the Carnegie Museum of Art. There, he connected with Sally Dixon, the museum’s pioneering Film Department founder, who introduced him to the Pittsburgh Filmmakers, then based at the Selma Burke Art Center, a key gathering place for local artists.\", 'Jacoby’s approach to filmmaking was both practical and deeply personal. He began processing his film footage in his own bathroom, using his bathtub as a makeshift darkroom. Even after receiving a National Endowment for the Arts grant in 1972 to acquire more advanced equipment, Jacoby continued hand-processing his films, embracing the unique, handcrafted qualities that became the hallmark of his work.', \"Over the past three years, The Berkely Art Museum and Pacific Film Archive have meticulously transferred and restored a selection of Jacoby's early films, with support from the Avant-Garde Masters Grants awarded by The Film Foundation and the National Film Preservation Foundation.\", \"On view at Wood Street Galleries from October 2024 through January 2025 are Dream Sphinx Opera (1973) and L’Amico Fried’s Glamorous Friends (1976), which showcase Jacoby's innovative use of hand-processing techniques to manipulate film emulsion, resulting in striking abstract imagery. These films feature appearances by Sally Dixon and Ondine, along with other members of Pittsburgh's art and film communities, set against backdrops that include Phipps Conservatory, Carnegie Music Hall, the Carnegie Museum of Natural History, and various domestic spaces, including Jacoby’s own apartment on Walnut Street in Shadyside. Also on view will be How to Be a Homosexual Part I (1980), in which Jacoby turns his camera on his own community. This film captures intimate portraits of his sister and mother, a deaf friend, and a gay couple from the Gay Activist Alliance, revealing the personal and communal aspects of Jacoby's work.\", \"These films, marked by Jacoby's characteristic blending of avant-garde techniques and personal narrative, offer a compelling window into the life and artistic vision of a filmmaker whose work remains a vital part of Pittsburgh's cultural legacy.\"]}, {'event_name': 'Laser Rock Monsters', 'event_time': 'Oct 25, 2024 - Nov 3, 2024 | 4:00 pm - 5:00 pm', 'location': 'Carnegie Science Center|1 Allegheny Avenue,Pittsburgh, PA 15212', 'content': ['PG-13!', 'We’re on the “Highway to Hell” this fall! Grow out a mullet and bang your head to Laser Rock Monsters. Celebrate a time when rock stars where larger than life, with the ear searing ’80s metal music combined with eye popping laser effects. Remember, if the laser show is too loud you are too old. Hit list includes “Crazy Train,” “Panama,” “Dream On,” and many more.']}, {'event_name': 'MJ the Musical', 'event_time': 'Nov 19, 2024 - Dec 1, 2024', 'location': 'Benedum Center|7th St and Penn Ave,Pittsburgh, PA 15222', 'content': ['Created by Tony Award®-winning Director/Choreographer Christopher Wheeldon and two-time Pulitzer Prize winner Lynn Nottage, MJ goes beyond the singular moves and signature sound of the star, offering a rare look at the creative mind and collaborative spirit that catapulted Michael Jackson into legendary status. MJ is startin’ somethin’ as it makes its Pittsburgh premiere at the Benedum Center']}, {'event_name': 'Beauty of the Burgh Tour', 'event_time': 'Aug 1, 2024 - Dec 31, 2024 | 10:00 am - 1:00 pm', 'location': 'Bike The Burgh Tours|This tour is perfect if you are new to the city and you would like to see the most interesting spots of Pittsburgh. But if you know the Burgh already, we promise you that you will still find out unknown historical facts!,Our \"Best of\": On this tour we will cruise through the streets of the financial and cultural district, explore the Strip District and check out the North Shore. We will find some details that some of you all drove and walked by hundreds of time but probably never really noticed. We will dive into the history of Pittsburgh, tracking down the people who shaped this city to what it is today: a beauty. Old and new buildings, city squares and public art will turn this ride into a unique event full of exciting (re)discoveries of The Burgh.', 'content': ['A fun QUIZ will be part of this tour, too. The winner will be rewarded with a 30% discount at the next tour! Participants of this tour will also get a souvenir.', 'We are pleased to also offer this tour in Spanish. Please email tours@biketheburgh.com at least 2 weeks in advance to ensure that the Spanish tour is available.']}, {'event_name': 'The Science Behind PIXAR', 'event_time': 'May 25, 2024 - Jan 5, 2025', 'location': 'Carnegie Science Center|1 Allegheny Ave,Pittsburgh, PA 15212', 'content': ['Dive into the minds of the artists and computer scientists who help bring Pixar’s award-winning films to the big screen. Go behind the scenes with The Science Behind Pixar exhibition as you replicate Pixar magic using science, technology, engineering, and math (STEM) through more than 50 interactive and hands-on displays.', 'Flex your STEM muscles by taking on fun challenges throughout the two-story, 12,000-square-foot playground:', 'Plus, your selfies are about to get an animated upgrade! Strike a pose with life size re-creations of Buzz Lightyear from Toy Story, Mike and Sulley from Monsters University, Dory from Finding Nemo, Edna Mode from The Incredibles, and WALL•E from WALL•E.', 'Get ready for a thrilling, interactive, and informative experience with The Science Behind Pixar in Pittsburgh! Whether you’re booking a Pixar field trip, planning a family trip, or revisiting your favorite Pixar movies and characters, you’re in for a totally good time. Adventure awaits!']}, {'event_name': 'Kim Bond: We Are Not Alone', 'event_time': 'Sep 6, 2024 - Jan 12, 2025', 'location': '707 Gallery|707 Penn Avenue,Pittsburgh, PA 15222', 'content': [\"For nearly four decades, Kim Bond (b. 1963, Pittsburgh, Pennsylvania) has explored the intersections of paranormal phenomena and the pursuit of a kinder, more inclusive world through her multidisciplinary practice encompassing drawings, paintings, sculptures, and writings. Bond's oeuvre is characterized by the integration of extraterrestrial imagery, including aliens, spacecraft, and Sasquatch, into natural environments such as the Colorado Mountains, Niagara Falls, Lake Erie, and Mt. St. Helena. These entities, with whom Bond professes communication, are depicted in tranquil landscapes, symbolizing hope and moral integrity. Another series depicts “The Rainbow Club,” Bond's vision for a utopian social venue that welcomes all beings, transcending barriers of gender, ability, age, and even species. In a fragmented society, Bond's work envisions a harmonious realm where diversity is not only accepted but celebrated.\", 'Bond initially honed her artistic skills and developed her unique aesthetic language through exposure to The Joy of Painting, a groundbreaking instructional television program created by Bob Ross that aired from 1983 to 1994 on PBS. The Joy of Painting democratized access to arts education, including individuals with disabilities. Airing on public television, the show allowed people to learn how to paint from their homes, eliminating both cost barriers and the need for physical attendance in classes. Ross’ simple, encouraging instruction and adaptive tools and techniques made painting approachable for everyone, regardless of skill level or physical ability. The flexible viewing format and his philosophy of “no mistakes, only happy accidents” further promoted creativity and individual expression, breaking down barriers and highlighting the inclusive power of art.', 'Since 2018, Bond has been a resident artist at VaultArt Studio, a progressive arts organization that supports and promotes the inclusion of artists with disabilities in contemporary art by providing professional-level arts instruction in a supportive studio environment. Bond’s affiliation with VaultArt Studio has allowed her to further develop and professionalize her artistic practice, engage with a diverse community of artists, and continue to advocate for inclusivity through her work. Her contributions to the studio and the broader community exemplify her commitment to creating a world where differences are embraced and celebrated.']}, {'event_name': 'History Center and Fort Pitt Museum: Free Admission for Kids', 'event_time': 'Oct 1, 2024 - Nov 30, 2024', 'location': 'Heinz History Center|1212 Smallman St,Pittsburgh, PA 15222', 'content': ['Beginning Tuesday, Oct. 1 through Saturday, Nov. 30, all kids aged 17 and under will be receive free admission to the History Center, which includes the Western Pennsylvania Sports Museum; and Fort Pitt Museum, located in historic Point State Park. Regular admission rates apply for all adult visitors.', 'At the History Center, families can explore six floors of award-winning exhibitions and interactive learning spaces:', '·         Spiral down a 12-foot “Liberty Tube” slide in the Great Hall and design pop art, construct bridges, and more in the interactive Discovery Place exhibition.', '·         Explore the Neighborhood of Make-Believe featuring the original set and puppets in the Mister Rogers’ Neighborhood exhibition.', '·         Land a space rover on the surface of the Moon inside the Apollo 11 section of Pittsburgh: A Tradition of Innovation.', '·         Exercise their minds and bodies while climbing the UPMC SmartSteps, the world’s only history exhibition in a stairwell! Visitors can punch a stamp card on all six floors to win a free Heinz pickle pin.', '·         Throw a touchdown pass to legendary Steelers and score the winning goal for the Penguins inside the two-floor Western Pennsylvania Sports Museum.', 'At the Fort Pitt Museum, families can discover the world-shaping events that occurred right here in Pittsburgh during the 18th century. The museum tells the story of Western Pennsylvania’s pivotal role during the French & Indian War, the American Revolution, and as the birthplace of Pittsburgh through interactive exhibitions, life-like figures, and artifacts.', 'Visitors can take in-depth exploration of the history and culture of American Indian tribes who once called Western Pa. home inside the Fort Pitt Museum’s new exhibition, Homelands: Native Nations of Allegheny. Created in collaboration with federally recognized Delaware, Seneca, Seneca-Cayuga, and Shawnee tribes, the exhibition illuminates the past, present, and future of the region’s Native tribes with rare artifacts and new scholarship.', 'The History Center and Fort Pitt Museum are open daily from 10 a.m. to 5 p.m.', 'For more information, visit heinzhistorycenter.org.', 'The Senator John Heinz History Center, an affiliate of the Smithsonian Institution and the largest history museum in Pennsylvania, presents American history with a Western Pennsylvania connection. The History Center was recently voted as the #1 history museum in America by USA Today and Pittsburgh’s Best Museum by readers of Pittsburgh Magazine. The History Center and Sports Museum are located at 1212 Smallman Street in the city’s Strip District. The History Center’s family of museums includes the Sports Museum; the Fort Pitt Museum in historic Point State Park; and Meadowcroft Rockshelter and Historic Village, a National Historic Landmark located in Avella, Pa., in Washington County. More information is available at heinzhistorycenter.org.']}, {'event_name': 'Miguel Muñoz in What is Magic for You?', 'event_time': 'Oct 2, 2024 - Nov 3, 2024', 'location': 'Liberty Magic|811 Liberty Ave,Pittsburgh, PA 15222', 'content': ['Miguel Muñoz, World Champion of Magic brings us an intimate and magical show where the surprise, the impossible, the poetry and the absurd will be present at all times. We enter the magical world of Miguel Muñoz to get closer to the answer to this question: What is magic for you?', 'Miguel Muñoz is a magician, circus artist and Puntocero co-director. He has been awarded many times including World Champion of Magic (Grand Prix Fism 2018), FISM award (2015), Spanish Grand Prix (2011), FISM Europe 2014, Frakson to the best magician of the year 2010, Grand prix at White Magic Convention (Rusia2014), Mandraque dór (2018). He has worked with acclaimed directors and companies like Tim Burton & Disney (in their movie DUMBO), DV8 Physical Theatre, NoFit State Circus, Tattoo Theatre. Miguel tours internationally including places as prestigious as Hollywood Magic Castle, London National Theatre, Teatro Circo Price in Madrid, or Taipei National Theatre. He studied Theatrical and Circus arts at London Circus Space.']}, {'event_name': 'The Hobbit', 'event_time': 'Oct 23, 2024 - Nov 10, 2024', 'location': \"O'Reilly Theater|621 Penn Ave,Pittsburgh, PA 15222\", 'content': ['THE FABLED FANTASY BECOMES REALITY', \"In this all-ages adventure, J.R.R. Tolkien’s magical Middle Earth transitions from page to stage in spellbinding fashion. An unexpected journey awaits homebody Bilbo Baggins, his BFF Gandalf, a new guy named Thorin, and anyone brave enough to join them. What starts as a Dungeons and Dragons tabletop game between friends quickly escalates into a collective fever dream as the group overcomes obstacles ranging from monstrous goblins to the fearsome dragon Smaug and form a bond for the ages. This epic trek, reimagined through the whimsical lens of playwright Greg Banks (Public's Unplugged Robin Hood) and featuring puppets designed by Resident Artists Matt Acheson (Broadway’s War Horse Puppetry Director) and Jamie Agnello, is a treasure hunt sure to make families want to go there and back again.\", 'This show is rated PG and is recommended for ages 7+. This show contains characters that go on perilous adventures, scary imagery, death and destruction of mythical towns, and moments of magic and imagination.', 'Presented by the M. Patrick Daniels Fund of The Pittsburgh Foundation']}, {'event_name': '& Juliet', 'event_time': 'Oct 29, 2024 - Nov 3, 2024', 'location': 'Benedum Center|7th St and Penn Ave,Pittsburgh, PA 15222', 'content': ['& Juliet asks: what would happen next if Juliet didn’t end it all over Romeo? Get whisked away on a fabulous journey as she ditches her famous ending for a fresh beginning and a second chance at life and love—her way.', 'Juliet’s new story bursts to life through a playlist of pop anthems as iconic as her name, including \"Since U Been Gone‚\" \"Roar,\" \"Baby One More Time,\" \"Larger Than Life‚\" \"That’s The Way It Is,“ and \"Can\\'t Stop the Feeling!\"—all from the genius songwriter/producer behind more #1 hits than any other artist this century. Break free of the balcony scene and get into this romantic comedy that proves there’s life after Romeo. The only thing tragic would be missing it.']}, {'event_name': 'Build On', 'event_time': 'Nov 2, 2024 - Nov 3, 2024', 'location': 'David L. Lawrence Convention Center|1000 Fort Dusquene Boulevard,Pittsburgh, PA 15222'}, {'event_name': 'Pennsylvania Bridal & Wedding Expo', 'event_time': 'Nov 3, 2024 - Nov 3, 2024', 'location': 'David L. Lawrence Convention Center|1000 Fort Dusquene Boulevard,Pittsburgh, PA 15222'}, {'event_name': \"Disney's Beauty and the Beast\", 'event_time': 'Nov 7, 2024 - Nov 10, 2024 | 7:30 pm - 1:00 pm', 'location': 'Byham Theater|101 Sixth Street,Pittsburgh, PA 15222', 'content': [\"Pittsburgh Musical Theater in collaboration with The Pittsburgh Cultural Trust presents Disney's Beauty and the Beast.\", 'The romantic and beloved fairytale recounts the story of Belle, a young woman in a provincial town, and the Beast, who is really a young prince trapped under the spell of an enchantress. If the Beast can learn to love and be loved, the curse will end and he will be transformed into his former self. But time is running out. If the Beast does not learn his lesson soon, he and his household will be doomed for all eternity. Featuring all of the wonderful songs made famous in the Academy Award-winning animated feature film, along with new ones written for the stage adaptation, the enchantment never ends!', 'Music by Alan Menken', 'Lyrics by Howard Ashman Tim Rice', 'Book by Linda Woolverton', 'Disney Beauty and the Beast is presented through special arrangement with Music Theatre International (MTI). All authorized performance materials are also supplied by MTI. www.mtishows.com', 'This performance is presented by the young artists of PMT Conservatory in collaboration with the CAPA Orchestra.']}, {'event_name': 'Iron Maiden', 'event_time': 'Nov 8, 2024 - Nov 8, 2024 | 7:30 pm - 10:30 pm', 'location': 'PPG Paints Arena|1001 Fifth Ave,Pittsburgh, PA 15219'}, {'event_name': 'Jim Gaffigan', 'event_time': 'Nov 9, 2024 - Nov 9, 2024 | 7:00 pm - 10:00 pm', 'location': 'PPG Paints Arena|1001 Fifth Ave,Pittsburgh, PA 15219'}, {'event_name': 'American Society of Microbiology - Annual Biomedical Research Conference for Minority Students', 'event_time': 'Nov 14, 2024 - Nov 16, 2024', 'location': 'David L. Lawrence Convention Center|1000 Fort Dusquene Boulevard,Pittsburgh, PA 15222', 'content': ['The four-day conference will consist in thousands of presentations related to STEM disciplines and the best researches will be awarded during the conference’s closing banquet. Please check the website to learn more!']}, {'event_name': 'SkyWatch', 'event_time': 'Nov 16, 2024 - Nov 16, 2024 | 7:00 pm - 9:00 pm', 'location': 'Carnegie Science Center|1 Allegheny Ave,Pittsburgh, PA 15212', 'content': ['What cosmic wonders lie just out of reach, waiting to be discovered among the starry frontier? Guests are invited to reconnect with the night sky through a featured planetarium performance and, weather-permitting, live views of night sky objects in stunning telescopic detail. In addition to the rooftop observing session, a complementary suite of indoor astronomical experiences will be accessible and comfortable for all guests. The events are rain or shine.', 'Doors open at 8:45 pm. Additional summer dates scheduled for Saturdays: June 8, July 13, and Aug. 10. Please note the November SkyWatch runs from 7–9 pm.']}, {'event_name': 'Mike Birbiglia: Please Stop the Ride', 'event_time': 'Nov 23, 2024 - Nov 24, 2024 | 6:00 pm - 7:30 pm', 'location': 'Byham Theater|101 6th St,Pittsburgh, PA 15222', 'content': [\"His five solo shows Sleepwalk With Me, My Girlfriend’s Boyfriend, Thank God For Jokes, The New One, and The Old Man & The Pool enjoyed successful runs on and off Broadway and became hit Netflix comedy specials. The shows merge storytelling and comedy in a way that The New York Times has called “Birbiglian.” Birbiglia also wrote, directed, and starred in the films Sleepwalk with Me and Don’t Think Twice. As an actor, Birbiglia has appeared in the films Trainwreck, The Fault in Our Stars, Popstar, A Man Called Otto as well as TV roles in Orange Is the New Black and Billions. He hosts the podcast Mike Birbiglia's Working It Out\"]}, {'event_name': 'Eagle Fall Show Pittsburgh 2024', 'event_time': 'Nov 23, 2024 - Nov 24, 2024', 'location': 'David L. Lawrence Convention Center|1000 Fort Dusquene Boulevard,Pittsburgh, PA 15222'}, {'event_name': 'KANSAS', 'event_time': 'Dec 11, 2024 - Dec 11, 2024 | 7:30 pm - 10:00 pm', 'location': 'Benedum Center|7th St and Penn Ave,Pittsburgh, PA 15222', 'content': ['Fans will hear songs spanning 50 years of KANSAS music including hits such as Carry On Wayward Son, Dust in the Wind, Point of Know Return, Play the Game Tonight, and Fight Fire with Fire, fan favorites, and deep cuts that have rarely been played live.']}, {'event_name': 'Lit Friday', 'event_time': 'Dec 13, 2024 - Dec 13, 2024 | 6:00 pm - 7:00 pm', 'location': 'Virtual Event', 'content': ['Lit Fridays is a literary-focused, virtual salon presented by the August Wilson African American Cultural Center, featuring conversations and guest performances on the last Friday* of each month at 6:00p EST via Facebook Live and Zoom Webinar. All conversations are moderated by AWAACC Literary Curator, Jessica Lanay.']}, {'event_name': 'AWCommunity Day', 'event_time': 'Dec 14, 2024 - Dec 14, 2024 | 12:00 pm - 4:00 pm', 'location': 'August Wilson African American Cultural Center', 'content': ['AWCommunity Days is a quarterly event that is proudly sponsored by UPMC/UPMC Health Plan. This free family-friendly event features local vendors, artisans, performers, and themed community building activations at the August Wilson African American Cultural Center. Community days.']}, {'event_name': 'Justin Timberlake', 'event_time': 'Dec 14, 2024 - Dec 14, 2024 | 7:30 pm - 11:00 pm', 'location': 'PPG Paints Arena|1001 Fifth Ave,Pittsburgh, PA 15219'}, {'event_name': 'Storytime Spotlight', 'event_time': 'Dec 17, 2024 - Dec 17, 2024 | 6:30 pm - 7:30 pm', 'location': 'Virtual Event', 'content': ['This series highlights Black and Brown children’s book authors and will feature conversations and a live reading with the author.', 'Storytime Spotlight Series is moderated by Cathryn Calhoun, Director of Education and Community Engagement at AWAACC.']}]\n"
          ]
        }
      ]
    },
    {
      "cell_type": "code",
      "source": [
        "events"
      ],
      "metadata": {
        "colab": {
          "base_uri": "https://localhost:8080/"
        },
        "id": "86421JDw6iuJ",
        "outputId": "64dd4ab6-4e0c-4ab0-d1e5-66c30c68498f"
      },
      "execution_count": null,
      "outputs": [
        {
          "output_type": "execute_result",
          "data": {
            "text/plain": [
              "[{'event_name': 'Mod Sun & lovelytheband: Here’s Your Flowers Tour',\n",
              "  'event_time': 'Oct 27, 2024 - Oct 27, 2024 | 6:00 pm - 10:00 pm',\n",
              "  'location': 'Stage AE|400 N Shore Dr,Pittsburgh, PA 15212'},\n",
              " {'event_name': 'Lucky Draw',\n",
              "  'event_time': 'Oct 27, 2024 - Oct 27, 2024 | 7:30 pm - 9:30 pm',\n",
              "  'location': 'Arcade Comedy Theater|943 Liberty Ave,Pittsburgh, PA 15222',\n",
              "  'content': ['Arcade Comedy Theater presents “Lucky Draw” an improv comedy show where half of the cast is drawn at random! Each show, Arcade Academy students and team members drop their names into box at the start of the night. Throughout the evening, the hosts will be playing short form games and doing a long-form set that mixes up these performers alongside special guests, teachers, and coaches from the Arcade community. If you’re a student or improviser, this is a perfect chance to maybe try out new games or play with some seasoned performers. And if you’re just looking for a fun, unique night out Ñ you’ll get a chance to see some inventive and exciting new comedy for less than a price of a movie ticket (oh yeah, and you can BYOB).']},\n",
              " {'event_name': 'Homefront and Frontlines: Women and the Impact of War',\n",
              "  'event_time': 'Oct 27, 2024 - Oct 27, 2024 | 2:00 pm - 4:00 pm',\n",
              "  'location': 'Heinz History Center|1212 Smallman St,Pittsburgh, PA 15222',\n",
              "  'content': ['Join the History Center and the Veterans Breakfast Club for a storytelling event honoring the strength and sacrifice of women during war time, from the battlefield to the home front.',\n",
              "   'Hear firsthand accounts from veterans and military families who will share their personal journeys of how military life has shaped their identities and their lives.',\n",
              "   'This program is not just about listening – it’s also about sharing. We encourage attendees to share their stories and unique perspectives on their life experiences.',\n",
              "   'The “Homefront and Frontlines: Women and the Impact of War” program is held in conjunction with the History Center’s new exhibition, A Woman’s Place: How Women Shaped Pittsburgh. The exhibit recognizes that military action and times of conflict have always been a double-edged sword for women, bringing sacrifice and loss but also opportunities for them to learn new skills, demonstrate untapped abilities, and enter previously inaccessible spaces closed to them during peacetime.',\n",
              "   'Whether soldier or civilian, military service has always required from women a complicated balancing act, managing the needs of home, family, work, and service, while supporting a loved one away on duty, or increasingly in the modern era, taking on that role themselves.']},\n",
              " {'event_name': \"NACADA's 2024 Annual Conference\",\n",
              "  'event_time': 'Oct 27, 2024 - Oct 30, 2024',\n",
              "  'location': 'David L. Lawrence Convention Center|1000 Fort Duquesne Blvd,Pittsburgh, PA 15222',\n",
              "  'content': ['NACADA promotes and supports quality academic advising in institutions of higher education to enhance the educational development of students. NACADA provides a forum for discussion, debate, and the exchange of ideas pertaining to academic advising through numerous activities and publications. NACADA also serves as an advocate for effective academic advising by providing a Consulting and Speaker Service and funding for Research related to academic advising.',\n",
              "   'Attendees are on their own for lunch and dinner each day during the event. Lunch options will be available for purchase at the David L. Lawrence Convention Center but attendees will have a break between 11:30 a.m. - 1:30 p.m. on Monday and Tuesday to dine at nearby restaurants.']},\n",
              " {'event_name': 'Peter Pan',\n",
              "  'event_time': 'Oct 27, 2024 - Oct 27, 2024 | 2:00 pm - 5:00 pm',\n",
              "  'location': 'Benedum Center|7th St and Penn Ave,Pittsburgh, PA 15222',\n",
              "  'content': ['Escape to Neverland for a daring adventure with Wendy, John, Michael, Tinkerbell and Peter in the ever-playful Peter Pan. This new interpretation of the classic tale is told through the eyes of a child, and includes spectacular flying, swashbuckling sword fights, giant puppets, costumes inspired by punk fashion and, of course, a little pixie dust! A Pittsburgh premiere, this magical ballet is sure to mesmerize audiences of all ages.',\n",
              "   'Choreography: Trey McIntyre | Music: Edward Elgar, arranged by Niel DePonte',\n",
              "   'Flying Effects provided by ZFX']},\n",
              " {'event_name': 'Harry Potter and the Order of the Phoenix™ in Concert',\n",
              "  'event_time': 'Oct 27, 2024 - Oct 27, 2024 | 2:30 pm - 6:30 pm',\n",
              "  'location': 'Heinz Hall|600 Penn Ave,Pittsburgh, PA 15222',\n",
              "  'content': ['Experience your favorite movies transformed with the music of a live symphony orchestra in the Harry Potter™ Film Concert Series.? For the first time ever, audiences can rediscover the magic of?Harry Potter and the Order of the Phoenix™ while a live symphony orchestra performs Nicholas Hooper’s unforgettable score and Harry Potter™ soars across the big screen in high-definition.',\n",
              "   'WIZARDING WORLD and all related trademarks, characters, names, and indicia are © & ™ Warner Bros. Entertainment Inc. Publishing Rights © JKR.',\n",
              "   'Costume Policy',\n",
              "   'Heinz Hall does not permit costume masks of any kind or facsimiles of weapons that would make other guests feel uncomfortable or detract from the concert experience.']},\n",
              " {'event_name': 'Black & Gold Tour',\n",
              "  'event_time': 'Oct 27, 2024 - Oct 27, 2024 | 3:00 pm - 4:30 pm',\n",
              "  'location': 'Boarding|2101 Smallman St,Pittsburgh, PA 15222',\n",
              "  'content': [\"Pittsburgh's 4-time Best Comedian (and ultimate yinzer) Matt Light will guide you on an unforgettable journey all through the 'tahn. You will laugh, sing, dance and make fun of Cleveland. There will be games, trivia, surprises, and lots of towel twirling.\"]},\n",
              " {'event_name': 'Lucky Draw',\n",
              "  'event_time': 'Oct 27, 2024 - Oct 27, 2024 | 7:30 pm - 8:30 pm',\n",
              "  'location': 'Arcade Comedy Theater|943 Liberty Ave,Pittsburgh, PA 15222',\n",
              "  'content': ['Each show, Arcade Academy students and team members drop their names into box at the start of the night. Throughout the evening, the hosts will be playing short form games and doing a long-form set that mixes up these performers alongside special guests, teachers, and coaches from the Arcade community. If you’re a student or improviser, this is a perfect chance to maybe try out new games or play with some seasoned performers. And if you’re just looking for a fun, unique night out Ñ you’ll get a chance to see some inventive and exciting new comedy for less than a price of a movie ticket (oh yeah, and you can BYOB).']},\n",
              " {'event_name': 'Steelers Tailgate',\n",
              "  'event_time': 'Oct 28, 2024 - Oct 28, 2024 | 4:00 pm - 8:00 pm',\n",
              "  'location': 'Stage AE|400 N Shore Dr,Pittsburgh, PA 15212',\n",
              "  'content': ['Velveeta: 5:45-7:15PM (8:15 Kickoff)',\n",
              "   'Stage AE is the Official host of the Pittsburgh Steelers Tailgates. Open before every home game at Acrisure Stadium, the region’s largest tailgate event offers free admission, live music, food and drink specials and the chance to win prizes and autographed items.']},\n",
              " {'event_name': 'Pittsburgh Steelers vs. New York Giants',\n",
              "  'event_time': 'Oct 28, 2024 - Oct 28, 2024 | 8:00 pm - 11:30 pm',\n",
              "  'location': 'Acrisure Stadium|100 Art Rooney Ave,Pittsburgh, PA 15212'},\n",
              " {'event_name': 'Trick-or-Treat at Museum of Illusions',\n",
              "  'event_time': 'Oct 28, 2024 - Oct 31, 2024',\n",
              "  'location': 'Museum of Illusions|267 N Shore Dr,Pittsburgh, PA 15212',\n",
              "  'content': ['While MOI is known for their tricks, they also want to treat guests. From Monday, October 28 to Thursday, October 31, 2024, kids can get a head start on trick-or-treating at the Museum during regular operating hours. And don’t forget the tricks! Fan-favorite illusions like Head on a Plate, Ames Room, the Vortex Tunnel, and more will have guests wondering what’s real and what’s not. It’s the perfect destination for families looking to treat their kids to some tricks that aren’t too scary during this fright-filled season.']},\n",
              " {'event_name': 'Pittsburgh Steelers vs. New York Giants',\n",
              "  'event_time': 'Oct 28, 2024 - Oct 28, 2024 | 8:00 pm - 11:30 pm',\n",
              "  'location': 'Acrirsure Stadium|100 Art Rooney Avenue,Pittsburgh, PA 15212',\n",
              "  'content': ['Gameday Info',\n",
              "   'Parking Lots Open: 3:15 pm',\n",
              "   'Will Call Open: 5:15 pm',\n",
              "   'Gates Open: 6:15 pm',\n",
              "   'Kickoff: 8:15 pm',\n",
              "   'Be sure to access your digital ticket(s) and save to your Apple or Google Wallet before you arrive at Acrisure Stadium. Please have your digital ticket(s) ready on your phone as you arrive at the stadium gate.',\n",
              "   'Parking lots and garages open 5 hours prior to kickoff.',\n",
              "   'Fans are encouraged to arrive 2 hours early to avoid anticipated heavy traffic and last-minute crowds at the gate, and also to enjoy in-stadium pregame activities. All gates will open at 6:15 pm.']},\n",
              " {'event_name': 'Cavetown',\n",
              "  'event_time': 'Oct 29, 2024 - Oct 29, 2024 | 7:00 pm - 11:00 pm',\n",
              "  'location': 'Stage AE|400 N Shore Dr,Pittsburgh, PA 15212',\n",
              "  'content': ['$1 per ticket goes to Save The Children to support families in Gaza.']},\n",
              " {'event_name': 'Penguins vs. Wild',\n",
              "  'event_time': 'Oct 29, 2024 - Oct 29, 2024 | 7:30 pm - 10:30 pm',\n",
              "  'location': 'PPG Paints Arena|1001 Fifth Ave,Pittsburgh, PA 15219'},\n",
              " {'event_name': '& Juliet',\n",
              "  'event_time': 'Oct 29, 2024 - Nov 3, 2024',\n",
              "  'location': 'Benedum Center|7th St and Penn Ave,Pittsburgh, PA 15222',\n",
              "  'content': ['& Juliet asks: what would happen next if Juliet didn’t end it all over Romeo? Get whisked away on a fabulous journey as she ditches her famous ending for a fresh beginning and a second chance at life and love—her way.',\n",
              "   'Juliet’s new story bursts to life through a playlist of pop anthems as iconic as her name, including \"Since U Been Gone‚\" \"Roar,\" \"Baby One More Time,\" \"Larger Than Life‚\" \"That’s The Way It Is,“ and \"Can\\'t Stop the Feeling!\"—all from the genius songwriter/producer behind more #1 hits than any other artist this century. Break free of the balcony scene and get into this romantic comedy that proves there’s life after Romeo. The only thing tragic would be missing it.']},\n",
              " {'event_name': 'Storytime Spotlight',\n",
              "  'event_time': 'Oct 29, 2024 - Oct 29, 2024 | 6:30 pm - 7:30 pm',\n",
              "  'location': 'Virutal Event|This series highlights Black and Brown children’s book authors and will feature conversations and a live reading with the author.,Storytime Spotlight Series is moderated by Cathryn Calhoun, Director of Education and Community Engagement at AWAACC.'},\n",
              " {'event_name': 'Día de los Muertos Lunch Event',\n",
              "  'event_time': 'Oct 30, 2024 - Oct 30, 2024 | 12:00 pm - 1:30 pm',\n",
              "  'location': 'The Backyard|149 8th St,Pittsburgh, PA 15222'},\n",
              " {'event_name': 'Creative Conversations — & Juliet',\n",
              "  'event_time': 'Oct 30, 2024 - Oct 30, 2024 | 6:30 pm - 7:30 pm',\n",
              "  'location': 'Trust Arts Education Center|807 Liberty Ave,Pittsburgh, PA 15222',\n",
              "  'content': ['Join Trust Arts Education for a pre-show chat on Wednesday nights with members from the company (schedule permitting) hosted by local theatre professionals to learn insights into the show you can’t find in your playbill.',\n",
              "   'What special lighting cues should you watch for? What is life on tour like? What musical allusions will deepen your enjoyment of the show? What questions do you have? Now is your chance to ask! (While enjoying pre-show snacks!)']},\n",
              " {'event_name': 'Penguins vs. Ducks',\n",
              "  'event_time': 'Oct 31, 2024 - Oct 31, 2024 | 7:00 pm - 10:00 pm',\n",
              "  'location': 'PPG Paints Arena|1001 Fifth Ave,Pittsburgh, PA 15219'},\n",
              " {'event_name': 'Haunted Pittsburgh Ghost Tour',\n",
              "  'event_time': 'Jun 1, 2024 - Nov 2, 2024 | 7:00 pm - 9:00 pm',\n",
              "  'location': 'Downtown Pittsburgh|414 Grant St,Pittsburgh, PA 15219',\n",
              "  'content': [\"Pittsburgh has a North Side and a South Side--we take you to its dark side. We visit the sites of Pittsburgh's greatest encounters with the unexplained and tell you the stories associated with them. We know where all the bodies are buried.\",\n",
              "   \"We'll take you as close to as many haunted sites as we can within the time allotted for the tour and regale you with Pittsburgh's greatest ghost stories.  There are no public restrooms on our route. Tours run rain or shine.\"]},\n",
              " {'event_name': 'Art & Artists Tour',\n",
              "  'event_time': 'Jun 1, 2024 - Dec 28, 2024 | 4:00 pm - 5:30 pm',\n",
              "  'location': 'Walk The Burgh Tours|1049 Penn Ave,Pittsburgh, PA 15222',\n",
              "  'content': ['Our most fun walk! Journey off the beaten path with us and discover hidden art that is tucked away in our downtown nooks, crannies, and alleys. Our expert guides will dive into the history of the city’s Cultural District that is filled with historic theaters and beautiful plazas, and learn about the famous artists, actors, and musicians from our beloved city. You’ll also see the best of Pittsburgh’s public art: captivating sculptures, light installations, and colorful murals. This is a great tour for photo-ops, and is a wonderful way for families with children to see and interact with the city.']},\n",
              " {'event_name': 'Comedy Bus Tour',\n",
              "  'event_time': 'Jul 5, 2024 - Nov 22, 2024 | 8:00 pm - 9:30 pm',\n",
              "  'location': 'Penn Ave (between 10th St & 11th St)|1027 Penn Ave,Pittsburgh, PA 15222',\n",
              "  'content': ['Duration',\n",
              "   'Approximately 90 Minutes (includes bathroom break)',\n",
              "   'Please arrive 15 minutes before your scheduled start time. The bus will depart on time, so please plan accordingly! No refund or credit provided if you miss the bus.',\n",
              "   'About',\n",
              "   \"Explore the Steel City like never before! Hop aboard and experience Pittsburgh's one and only transportainment bus.\",\n",
              "   \"Join us for these weekly, one-of-a-kind rides hosted by local comedians. No two shows are alike and crowd participation is encouraged. It's the perfect blend of laughter, fun and celebration. Every tour will feature games, shenanigans, music, and surprises.\",\n",
              "   \"Whether you are visiting Pittsburgh for the first time or you're a lifelong yinzer, a trip on The Burgh Bus is an experience like no other. This is not your average bus… so bring your smiles, good vibes and enjoy the ride! It's guaranteed to be a party ? ?\",\n",
              "   'Available for private tours, party bus rentals and shuttle services!',\n",
              "   'PLEASE NOTE: The evening rides are for ages 21+ only and the content is R-Rated. Passengers will be asked to provide a valid ID upon boarding. No refunds will be issued if you are underage or fail to bring proof of age.',\n",
              "   'Boarding Location',\n",
              "   \"1027 Penn Ave (near Jimmy John's)\",\n",
              "   'Pittsburgh, PA 15222',\n",
              "   'You will board the bus in downtown Pittsburgh on Penn Ave (at 10th St intersection), by the convention center.',\n",
              "   'What to Bring?',\n",
              "   '•\\tBYOB + Valid ID',\n",
              "   '•\\tCoolers are allowed if they can easily fit on your lap or under the seat',\n",
              "   '•\\tCash for tips (the host and driver will definitely appreciate it!)',\n",
              "   'What NOT to Bring?',\n",
              "   '•\\tNo food',\n",
              "   '•\\tIf you BYOB… no glass!',\n",
              "   '•\\tNo smoking of any kind',\n",
              "   '•\\tNo noisemakers']},\n",
              " {'event_name': \"Captain's Dinner Cruise & Tour\",\n",
              "  'event_time': 'Oct 5, 2024 - Nov 16, 2024 | 5:30 pm - 9:00 pm',\n",
              "  'location': 'Gateway Clipper Fleet Docks|350 West Station Square Dr,Pittsburgh, PA 15219',\n",
              "  'content': ['Join the Gateway Clipper Captain’s Dinner Cruise & Tour in Pittsburgh, PA!',\n",
              "   '2025 Dates Now Available to Book!',\n",
              "   'Looking for a fun and unique evening out in Pittsburgh? Come aboard our Captain’s Dinner Cruise & Tour for a fabulous dinner, music and dancing and fabulous views of the city skyline! Bring a date, a group of friends, or the whole family and just have fun out on the water in Pittsburgh!',\n",
              "   'CAPTAIN’S DINNER CRUISE & TOUR TRIP DETAILS:',\n",
              "   '•\\tBuffet Dinner will be available upon boarding, please help yourself. The food will remain available for 30 minutes after sailing.',\n",
              "   '•\\tA full-service bar is available on board- ask our bartenders for the weekly special! Must be 21+ with valid photo ID to consume alcoholic beverages. (NO CASH ON BOARD – Credit/Debit cards, Google Pay and Apple Pay accepted)',\n",
              "   '•\\tOur friendly photo team will capture a boarding picture of your group- you can purchase the day of OR pre purchase during check out. (NO CASH ON BOARD – Credit/Debit cards, Google Pay and Apple Pay accepted)',\n",
              "   '•\\tThis cruise features DJ Entertainment, brief narration, and the most beautiful city skyline in the USA!',\n",
              "   '•\\tClick the “Book Now” button to purchase tickets, appetizers, souvenirs and more.',\n",
              "   '•\\tWe suggest Dressy Casual Attire- Click here for details!']},\n",
              " {'event_name': 'Roger Jacoby: Pittsburgh Stories',\n",
              "  'event_time': 'Oct 25, 2024 - Jan 5, 2025',\n",
              "  'location': 'Wood Street Galleries|601 Wood St,Pittsburgh, PA 15222',\n",
              "  'content': ['Wood Street Galleries is pleased to present the world premiere of three newly restored experimental films by Roger Jacoby (b. New York, 1944–1985), a pivotal figure bridging the pre- and post-liberation eras of gay experimental filmmaking. This exhibition is the inaugural project in a series of exhibitions and programs dedicated to historic artists who have created significant work in, about, or influenced by the city of Pittsburgh, specifically in the field of time-based or experimental media.',\n",
              "   \"Roger Jacoby's career as a filmmaker spanned from 1972 until his untimely death from AIDS in 1985, during which he completed eight films—all produced in Pittsburgh. Originally trained as a painter and classical pianist, Jacoby's artistic journey took a transformative turn through his work as a gallery assistant for his aunt, Rose Fried. This role introduced him to New York’s vibrant artistic circles, including Andy Warhol’s Factory, where he met his long-time partner, the Warhol Superstar Ondine. Encouraged by filmmaker Marie Menken, who gifted him his first film camera, Jacoby began experimenting with film around 1970. Seeking a change in environment, he and Ondine relocated to Pittsburgh in 1972, where Jacoby found a job playing piano for silent films at the Carnegie Museum of Art. There, he connected with Sally Dixon, the museum’s pioneering Film Department founder, who introduced him to the Pittsburgh Filmmakers, then based at the Selma Burke Art Center, a key gathering place for local artists.\",\n",
              "   'Jacoby’s approach to filmmaking was both practical and deeply personal. He began processing his film footage in his own bathroom, using his bathtub as a makeshift darkroom. Even after receiving a National Endowment for the Arts grant in 1972 to acquire more advanced equipment, Jacoby continued hand-processing his films, embracing the unique, handcrafted qualities that became the hallmark of his work.',\n",
              "   \"Over the past three years, The Berkely Art Museum and Pacific Film Archive have meticulously transferred and restored a selection of Jacoby's early films, with support from the Avant-Garde Masters Grants awarded by The Film Foundation and the National Film Preservation Foundation.\",\n",
              "   \"On view at Wood Street Galleries from October 2024 through January 2025 are Dream Sphinx Opera (1973) and L’Amico Fried’s Glamorous Friends (1976), which showcase Jacoby's innovative use of hand-processing techniques to manipulate film emulsion, resulting in striking abstract imagery. These films feature appearances by Sally Dixon and Ondine, along with other members of Pittsburgh's art and film communities, set against backdrops that include Phipps Conservatory, Carnegie Music Hall, the Carnegie Museum of Natural History, and various domestic spaces, including Jacoby’s own apartment on Walnut Street in Shadyside. Also on view will be How to Be a Homosexual Part I (1980), in which Jacoby turns his camera on his own community. This film captures intimate portraits of his sister and mother, a deaf friend, and a gay couple from the Gay Activist Alliance, revealing the personal and communal aspects of Jacoby's work.\",\n",
              "   \"These films, marked by Jacoby's characteristic blending of avant-garde techniques and personal narrative, offer a compelling window into the life and artistic vision of a filmmaker whose work remains a vital part of Pittsburgh's cultural legacy.\"]},\n",
              " {'event_name': 'Laser Rock Monsters',\n",
              "  'event_time': 'Oct 25, 2024 - Nov 3, 2024 | 4:00 pm - 5:00 pm',\n",
              "  'location': 'Carnegie Science Center|1 Allegheny Avenue,Pittsburgh, PA 15212',\n",
              "  'content': ['PG-13!',\n",
              "   'We’re on the “Highway to Hell” this fall! Grow out a mullet and bang your head to Laser Rock Monsters. Celebrate a time when rock stars where larger than life, with the ear searing ’80s metal music combined with eye popping laser effects. Remember, if the laser show is too loud you are too old. Hit list includes “Crazy Train,” “Panama,” “Dream On,” and many more.']},\n",
              " {'event_name': 'MJ the Musical',\n",
              "  'event_time': 'Nov 19, 2024 - Dec 1, 2024',\n",
              "  'location': 'Benedum Center|7th St and Penn Ave,Pittsburgh, PA 15222',\n",
              "  'content': ['Created by Tony Award®-winning Director/Choreographer Christopher Wheeldon and two-time Pulitzer Prize winner Lynn Nottage, MJ goes beyond the singular moves and signature sound of the star, offering a rare look at the creative mind and collaborative spirit that catapulted Michael Jackson into legendary status. MJ is startin’ somethin’ as it makes its Pittsburgh premiere at the Benedum Center']},\n",
              " {'event_name': 'Beauty of the Burgh Tour',\n",
              "  'event_time': 'Aug 1, 2024 - Dec 31, 2024 | 10:00 am - 1:00 pm',\n",
              "  'location': 'Bike The Burgh Tours|This tour is perfect if you are new to the city and you would like to see the most interesting spots of Pittsburgh. But if you know the Burgh already, we promise you that you will still find out unknown historical facts!,Our \"Best of\": On this tour we will cruise through the streets of the financial and cultural district, explore the Strip District and check out the North Shore. We will find some details that some of you all drove and walked by hundreds of time but probably never really noticed. We will dive into the history of Pittsburgh, tracking down the people who shaped this city to what it is today: a beauty. Old and new buildings, city squares and public art will turn this ride into a unique event full of exciting (re)discoveries of The Burgh.',\n",
              "  'content': ['A fun QUIZ will be part of this tour, too. The winner will be rewarded with a 30% discount at the next tour! Participants of this tour will also get a souvenir.',\n",
              "   'We are pleased to also offer this tour in Spanish. Please email tours@biketheburgh.com at least 2 weeks in advance to ensure that the Spanish tour is available.']},\n",
              " {'event_name': 'The Science Behind PIXAR',\n",
              "  'event_time': 'May 25, 2024 - Jan 5, 2025',\n",
              "  'location': 'Carnegie Science Center|1 Allegheny Ave,Pittsburgh, PA 15212',\n",
              "  'content': ['Dive into the minds of the artists and computer scientists who help bring Pixar’s award-winning films to the big screen. Go behind the scenes with The Science Behind Pixar exhibition as you replicate Pixar magic using science, technology, engineering, and math (STEM) through more than 50 interactive and hands-on displays.',\n",
              "   'Flex your STEM muscles by taking on fun challenges throughout the two-story, 12,000-square-foot playground:',\n",
              "   'Plus, your selfies are about to get an animated upgrade! Strike a pose with life size re-creations of Buzz Lightyear from Toy Story, Mike and Sulley from Monsters University, Dory from Finding Nemo, Edna Mode from The Incredibles, and WALL•E from WALL•E.',\n",
              "   'Get ready for a thrilling, interactive, and informative experience with The Science Behind Pixar in Pittsburgh! Whether you’re booking a Pixar field trip, planning a family trip, or revisiting your favorite Pixar movies and characters, you’re in for a totally good time. Adventure awaits!']},\n",
              " {'event_name': 'Kim Bond: We Are Not Alone',\n",
              "  'event_time': 'Sep 6, 2024 - Jan 12, 2025',\n",
              "  'location': '707 Gallery|707 Penn Avenue,Pittsburgh, PA 15222',\n",
              "  'content': [\"For nearly four decades, Kim Bond (b. 1963, Pittsburgh, Pennsylvania) has explored the intersections of paranormal phenomena and the pursuit of a kinder, more inclusive world through her multidisciplinary practice encompassing drawings, paintings, sculptures, and writings. Bond's oeuvre is characterized by the integration of extraterrestrial imagery, including aliens, spacecraft, and Sasquatch, into natural environments such as the Colorado Mountains, Niagara Falls, Lake Erie, and Mt. St. Helena. These entities, with whom Bond professes communication, are depicted in tranquil landscapes, symbolizing hope and moral integrity. Another series depicts “The Rainbow Club,” Bond's vision for a utopian social venue that welcomes all beings, transcending barriers of gender, ability, age, and even species. In a fragmented society, Bond's work envisions a harmonious realm where diversity is not only accepted but celebrated.\"]},\n",
              " {'event_name': 'Bond initially honed her artistic skills and developed her unique aesthetic language through exposure to The Joy of Painting, a groundbreaking instructional television program created by Bob Ross that aired from 1983 to 1994 on PBS. The Joy of Painting democratized access to arts education, including individuals with disabilities. Airing on public television, the show allowed people to learn how to paint from their homes, eliminating both cost barriers and the need for physical attendance in classes. Ross’ simple, encouraging instruction and adaptive tools and techniques made painting approachable for everyone, regardless of skill level or physical ability. The flexible viewing format and his philosophy of “no mistakes, only happy accidents” further promoted creativity and individual expression, breaking down barriers and highlighting the inclusive power of art.',\n",
              "  'event_time': 'Since 2018, Bond has been a resident artist at VaultArt Studio, a progressive arts organization that supports and promotes the inclusion of artists with disabilities in contemporary art by providing professional-level arts instruction in a supportive studio environment. Bond’s affiliation with VaultArt Studio has allowed her to further develop and professionalize her artistic practice, engage with a diverse community of artists, and continue to advocate for inclusivity through her work. Her contributions to the studio and the broader community exemplify her commitment to creating a world where differences are embraced and celebrated.',\n",
              "  'location': '|,History Center and Fort Pitt Museum: Free Admission for Kids',\n",
              "  'content': ['Oct 1, 2024 - Nov 30, 2024',\n",
              "   'Heinz History Center',\n",
              "   '1212 Smallman St',\n",
              "   'Pittsburgh, PA 15222',\n",
              "   'Beginning Tuesday, Oct. 1 through Saturday, Nov. 30, all kids aged 17 and under will be receive free admission to the History Center, which includes the Western Pennsylvania Sports Museum; and Fort Pitt Museum, located in historic Point State Park. Regular admission rates apply for all adult visitors.',\n",
              "   'At the History Center, families can explore six floors of award-winning exhibitions and interactive learning spaces:',\n",
              "   '·         Spiral down a 12-foot “Liberty Tube” slide in the Great Hall and design pop art, construct bridges, and more in the interactive Discovery Place exhibition.',\n",
              "   '·         Explore the Neighborhood of Make-Believe featuring the original set and puppets in the Mister Rogers’ Neighborhood exhibition.',\n",
              "   '·         Land a space rover on the surface of the Moon inside the Apollo 11 section of Pittsburgh: A Tradition of Innovation.',\n",
              "   '·         Exercise their minds and bodies while climbing the UPMC SmartSteps, the world’s only history exhibition in a stairwell! Visitors can punch a stamp card on all six floors to win a free Heinz pickle pin.',\n",
              "   '·         Throw a touchdown pass to legendary Steelers and score the winning goal for the Penguins inside the two-floor Western Pennsylvania Sports Museum.',\n",
              "   'At the Fort Pitt Museum, families can discover the world-shaping events that occurred right here in Pittsburgh during the 18th century. The museum tells the story of Western Pennsylvania’s pivotal role during the French & Indian War, the American Revolution, and as the birthplace of Pittsburgh through interactive exhibitions, life-like figures, and artifacts.',\n",
              "   'Visitors can take in-depth exploration of the history and culture of American Indian tribes who once called Western Pa. home inside the Fort Pitt Museum’s new exhibition, Homelands: Native Nations of Allegheny. Created in collaboration with federally recognized Delaware, Seneca, Seneca-Cayuga, and Shawnee tribes, the exhibition illuminates the past, present, and future of the region’s Native tribes with rare artifacts and new scholarship.',\n",
              "   'The History Center and Fort Pitt Museum are open daily from 10 a.m. to 5 p.m.',\n",
              "   'For more information, visit heinzhistorycenter.org.',\n",
              "   'The Senator John Heinz History Center, an affiliate of the Smithsonian Institution and the largest history museum in Pennsylvania, presents American history with a Western Pennsylvania connection. The History Center was recently voted as the #1 history museum in America by USA Today and Pittsburgh’s Best Museum by readers of Pittsburgh Magazine. The History Center and Sports Museum are located at 1212 Smallman Street in the city’s Strip District. The History Center’s family of museums includes the Sports Museum; the Fort Pitt Museum in historic Point State Park; and Meadowcroft Rockshelter and Historic Village, a National Historic Landmark located in Avella, Pa., in Washington County. More information is available at heinzhistorycenter.org.']},\n",
              " {'event_name': 'Miguel Muñoz in What is Magic for You?',\n",
              "  'event_time': 'Oct 2, 2024 - Nov 3, 2024',\n",
              "  'location': 'Liberty Magic|811 Liberty Ave,Pittsburgh, PA 15222',\n",
              "  'content': ['Miguel Muñoz, World Champion of Magic brings us an intimate and magical show where the surprise, the impossible, the poetry and the absurd will be present at all times. We enter the magical world of Miguel Muñoz to get closer to the answer to this question: What is magic for you?',\n",
              "   'Miguel Muñoz is a magician, circus artist and Puntocero co-director. He has been awarded many times including World Champion of Magic (Grand Prix Fism 2018), FISM award (2015), Spanish Grand Prix (2011), FISM Europe 2014, Frakson to the best magician of the year 2010, Grand prix at White Magic Convention (Rusia2014), Mandraque dór (2018). He has worked with acclaimed directors and companies like Tim Burton & Disney (in their movie DUMBO), DV8 Physical Theatre, NoFit State Circus, Tattoo Theatre. Miguel tours internationally including places as prestigious as Hollywood Magic Castle, London National Theatre, Teatro Circo Price in Madrid, or Taipei National Theatre. He studied Theatrical and Circus arts at London Circus Space.']},\n",
              " {'event_name': 'The Hobbit',\n",
              "  'event_time': 'Oct 23, 2024 - Nov 10, 2024',\n",
              "  'location': \"O'Reilly Theater|621 Penn Ave,Pittsburgh, PA 15222\",\n",
              "  'content': ['THE FABLED FANTASY BECOMES REALITY',\n",
              "   \"In this all-ages adventure, J.R.R. Tolkien’s magical Middle Earth transitions from page to stage in spellbinding fashion. An unexpected journey awaits homebody Bilbo Baggins, his BFF Gandalf, a new guy named Thorin, and anyone brave enough to join them. What starts as a Dungeons and Dragons tabletop game between friends quickly escalates into a collective fever dream as the group overcomes obstacles ranging from monstrous goblins to the fearsome dragon Smaug and form a bond for the ages. This epic trek, reimagined through the whimsical lens of playwright Greg Banks (Public's Unplugged Robin Hood) and featuring puppets designed by Resident Artists Matt Acheson (Broadway’s War Horse Puppetry Director) and Jamie Agnello, is a treasure hunt sure to make families want to go there and back again.\",\n",
              "   'This show is rated PG and is recommended for ages 7+. This show contains characters that go on perilous adventures, scary imagery, death and destruction of mythical towns, and moments of magic and imagination.',\n",
              "   'Presented by the M. Patrick Daniels Fund of The Pittsburgh Foundation']},\n",
              " {'event_name': '& Juliet',\n",
              "  'event_time': 'Oct 29, 2024 - Nov 3, 2024',\n",
              "  'location': 'Benedum Center|7th St and Penn Ave,Pittsburgh, PA 15222',\n",
              "  'content': ['& Juliet asks: what would happen next if Juliet didn’t end it all over Romeo? Get whisked away on a fabulous journey as she ditches her famous ending for a fresh beginning and a second chance at life and love—her way.',\n",
              "   'Juliet’s new story bursts to life through a playlist of pop anthems as iconic as her name, including \"Since U Been Gone‚\" \"Roar,\" \"Baby One More Time,\" \"Larger Than Life‚\" \"That’s The Way It Is,“ and \"Can\\'t Stop the Feeling!\"—all from the genius songwriter/producer behind more #1 hits than any other artist this century. Break free of the balcony scene and get into this romantic comedy that proves there’s life after Romeo. The only thing tragic would be missing it.']},\n",
              " {'event_name': 'Build On',\n",
              "  'event_time': 'Nov 2, 2024 - Nov 3, 2024',\n",
              "  'location': 'David L. Lawrence Convention Center|1000 Fort Dusquene Boulevard,Pittsburgh, PA 15222'},\n",
              " {'event_name': 'Pennsylvania Bridal & Wedding Expo',\n",
              "  'event_time': 'Nov 3, 2024 - Nov 3, 2024',\n",
              "  'location': 'David L. Lawrence Convention Center|1000 Fort Dusquene Boulevard,Pittsburgh, PA 15222'},\n",
              " {'event_name': \"Disney's Beauty and the Beast\",\n",
              "  'event_time': 'Nov 7, 2024 - Nov 10, 2024 | 7:30 pm - 1:00 pm',\n",
              "  'location': 'Byham Theater|101 Sixth Street,Pittsburgh, PA 15222',\n",
              "  'content': [\"Pittsburgh Musical Theater in collaboration with The Pittsburgh Cultural Trust presents Disney's Beauty and the Beast.\",\n",
              "   'The romantic and beloved fairytale recounts the story of Belle, a young woman in a provincial town, and the Beast, who is really a young prince trapped under the spell of an enchantress. If the Beast can learn to love and be loved, the curse will end and he will be transformed into his former self. But time is running out. If the Beast does not learn his lesson soon, he and his household will be doomed for all eternity. Featuring all of the wonderful songs made famous in the Academy Award-winning animated feature film, along with new ones written for the stage adaptation, the enchantment never ends!',\n",
              "   'Music by Alan Menken',\n",
              "   'Lyrics by Howard Ashman Tim Rice',\n",
              "   'Book by Linda Woolverton',\n",
              "   'Disney Beauty and the Beast is presented through special arrangement with Music Theatre International (MTI). All authorized performance materials are also supplied by MTI. www.mtishows.com',\n",
              "   'This performance is presented by the young artists of PMT Conservatory in collaboration with the CAPA Orchestra.']},\n",
              " {'event_name': 'Iron Maiden',\n",
              "  'event_time': 'Nov 8, 2024 - Nov 8, 2024 | 7:30 pm - 10:30 pm',\n",
              "  'location': 'PPG Paints Arena|1001 Fifth Ave,Pittsburgh, PA 15219'},\n",
              " {'event_name': 'Jim Gaffigan',\n",
              "  'event_time': 'Nov 9, 2024 - Nov 9, 2024 | 7:00 pm - 10:00 pm',\n",
              "  'location': 'PPG Paints Arena|1001 Fifth Ave,Pittsburgh, PA 15219'},\n",
              " {'event_name': 'American Society of Microbiology - Annual Biomedical Research Conference for Minority Students',\n",
              "  'event_time': 'Nov 14, 2024 - Nov 16, 2024',\n",
              "  'location': 'David L. Lawrence Convention Center|1000 Fort Dusquene Boulevard,Pittsburgh, PA 15222',\n",
              "  'content': ['The four-day conference will consist in thousands of presentations related to STEM disciplines and the best researches will be awarded during the conference’s closing banquet. Please check the website to learn more!']},\n",
              " {'event_name': 'SkyWatch',\n",
              "  'event_time': 'Nov 16, 2024 - Nov 16, 2024 | 7:00 pm - 9:00 pm',\n",
              "  'location': 'Carnegie Science Center|1 Allegheny Ave,Pittsburgh, PA 15212',\n",
              "  'content': ['What cosmic wonders lie just out of reach, waiting to be discovered among the starry frontier? Guests are invited to reconnect with the night sky through a featured planetarium performance and, weather-permitting, live views of night sky objects in stunning telescopic detail. In addition to the rooftop observing session, a complementary suite of indoor astronomical experiences will be accessible and comfortable for all guests. The events are rain or shine.',\n",
              "   'Doors open at 8:45 pm. Additional summer dates scheduled for Saturdays: June 8, July 13, and Aug. 10. Please note the November SkyWatch runs from 7–9 pm.']},\n",
              " {'event_name': 'Mike Birbiglia: Please Stop the Ride',\n",
              "  'event_time': 'Nov 23, 2024 - Nov 24, 2024 | 6:00 pm - 7:30 pm',\n",
              "  'location': 'Byham Theater|101 6th St,Pittsburgh, PA 15222',\n",
              "  'content': [\"His five solo shows Sleepwalk With Me, My Girlfriend’s Boyfriend, Thank God For Jokes, The New One, and The Old Man & The Pool enjoyed successful runs on and off Broadway and became hit Netflix comedy specials. The shows merge storytelling and comedy in a way that The New York Times has called “Birbiglian.” Birbiglia also wrote, directed, and starred in the films Sleepwalk with Me and Don’t Think Twice. As an actor, Birbiglia has appeared in the films Trainwreck, The Fault in Our Stars, Popstar, A Man Called Otto as well as TV roles in Orange Is the New Black and Billions. He hosts the podcast Mike Birbiglia's Working It Out\"]},\n",
              " {'event_name': 'Eagle Fall Show Pittsburgh 2024',\n",
              "  'event_time': 'Nov 23, 2024 - Nov 24, 2024',\n",
              "  'location': 'David L. Lawrence Convention Center|1000 Fort Dusquene Boulevard,Pittsburgh, PA 15222'},\n",
              " {'event_name': 'KANSAS',\n",
              "  'event_time': 'Dec 11, 2024 - Dec 11, 2024 | 7:30 pm - 10:00 pm',\n",
              "  'location': 'Benedum Center|7th St and Penn Ave,Pittsburgh, PA 15222',\n",
              "  'content': ['Fans will hear songs spanning 50 years of KANSAS music including hits such as Carry On Wayward Son, Dust in the Wind, Point of Know Return, Play the Game Tonight, and Fight Fire with Fire, fan favorites, and deep cuts that have rarely been played live.']},\n",
              " {'event_name': 'Lit Friday',\n",
              "  'event_time': 'Dec 13, 2024 - Dec 13, 2024 | 6:00 pm - 7:00 pm',\n",
              "  'location': 'Virtual Event',\n",
              "  'content': ['Lit Fridays is a literary-focused, virtual salon presented by the August Wilson African American Cultural Center, featuring conversations and guest performances on the last Friday* of each month at 6:00p EST via Facebook Live and Zoom Webinar. All conversations are moderated by AWAACC Literary Curator, Jessica Lanay.']},\n",
              " {'event_name': 'AWCommunity Day',\n",
              "  'event_time': 'Dec 14, 2024 - Dec 14, 2024 | 12:00 pm - 4:00 pm',\n",
              "  'location': 'August Wilson African American Cultural Center',\n",
              "  'content': ['AWCommunity Days is a quarterly event that is proudly sponsored by UPMC/UPMC Health Plan. This free family-friendly event features local vendors, artisans, performers, and themed community building activations at the August Wilson African American Cultural Center. Community days.']},\n",
              " {'event_name': 'Justin Timberlake',\n",
              "  'event_time': 'Dec 14, 2024 - Dec 14, 2024 | 7:30 pm - 11:00 pm',\n",
              "  'location': 'PPG Paints Arena|1001 Fifth Ave,Pittsburgh, PA 15219'},\n",
              " {'event_name': 'Storytime Spotlight',\n",
              "  'event_time': 'Dec 17, 2024 - Dec 17, 2024 | 6:30 pm - 7:30 pm',\n",
              "  'location': 'Virtual Event',\n",
              "  'content': ['This series highlights Black and Brown children’s book authors and will feature conversations and a live reading with the author.',\n",
              "   'Storytime Spotlight Series is moderated by Cathryn Calhoun, Director of Education and Community Engagement at AWAACC.']}]"
            ]
          },
          "metadata": {},
          "execution_count": 75
        }
      ]
    },
    {
      "cell_type": "code",
      "source": [
        "with open('/content/drive/MyDrive/11711/assignment2/data/DowntownPittsburghEventsCalendar.json', 'w') as f:\n",
        "    json.dump(events, f, indent=4)"
      ],
      "metadata": {
        "id": "LTmX6fEPxyCy"
      },
      "execution_count": null,
      "outputs": []
    },
    {
      "cell_type": "code",
      "source": [
        "with open('/content/drive/MyDrive/11711/assignment2/data/DowntownPittsburghEventsCalendar.json', 'r') as f:\n",
        "    events = json.load(f)\n",
        "with open('/content/drive/MyDrive/11711/assignment2/data/pirates.txt', 'r') as f:\n",
        "    text = [line.strip() for line in f]\n",
        "line=0\n",
        "while line<len(text):\n",
        "  if text[line]=='':\n",
        "    line+=1\n",
        "    continue\n",
        "  event = {\n",
        "      'event_name': text[line],\n",
        "      'event_time': text[line+1],\n",
        "  }\n",
        "\n",
        "  content_line=line+2\n",
        "\n",
        "  if text[content_line]!='':\n",
        "    event['content']=[]\n",
        "  while text[content_line]!='':\n",
        "    event['content'].append(text[content_line])\n",
        "    content_line+=1\n",
        "    if content_line==len(text) or text[content_line]=='':\n",
        "      break\n",
        "  events.append(event)\n",
        "  del event\n",
        "  line=content_line\n",
        "with open('/content/drive/MyDrive/11711/assignment2/data/DowntownPittsburghEventsCalendar.json', 'w') as f:\n",
        "    json.dump(events, f, indent=4)"
      ],
      "metadata": {
        "id": "cC_oCb5RgxUp"
      },
      "execution_count": null,
      "outputs": []
    },
    {
      "cell_type": "markdown",
      "source": [
        "#Pittsburgh City Paper events"
      ],
      "metadata": {
        "id": "eCQMjJzM4pDZ"
      }
    },
    {
      "cell_type": "code",
      "source": [
        "urls=['https://www.pghcitypaper.com/pittsburgh/EventSearch?keywords=annual&sortType=date&v=d','https://www.pghcitypaper.com/pittsburgh/EventSearch?narrowByDate=2024-10-27-to-2024-12-31&sortType=date&v=d']\n",
        "p1='https://www.pghcitypaper.com/pittsburgh/EventSearch?narrowByDate=2024-10-27-to-2024-12-31&page='\n",
        "p2='&sortType=date&v=d'\n",
        "for i in range(2,18):\n",
        "  urls.append(p1+str(i)+p2)"
      ],
      "metadata": {
        "id": "SvsmTRpX4t8N"
      },
      "execution_count": null,
      "outputs": []
    },
    {
      "cell_type": "code",
      "source": [
        "from posixpath import split\n",
        "def store_file(soup, filename,return_soup=False):\n",
        "    event_items = soup.find_all('div', {'class': \"fdn-pres-content uk-flex-1 uk-padding-xsmall-right fdn-event-search-text-block\"})\n",
        "\n",
        "    events = []\n",
        "\n",
        "    if event_items:\n",
        "        for item in event_items:\n",
        "            event_name = item.find('p', {'class': 'fdn-teaser-headline'}).text.strip() if item.find('p', {'class': 'fdn-teaser-headline'}) else 'N/A'\n",
        "\n",
        "            event_link = item.find('a')['href'] if item.find('a') else 'N/A'\n",
        "\n",
        "            event_time = item.find('p', {'class': 'fdn-teaser-subheadline'}).text.strip() if item.find('p', {'class': 'fdn-teaser-subheadline'}) else 'N/A'\n",
        "\n",
        "            location = item.find('p', {'class': 'fdn-event-teaser-location'}).text.strip() if item.find('p', {'class': 'fdn-event-teaser-location'}) else 'N/A'\n",
        "\n",
        "            price = item.find('span', {'class': 'uk-margin-xsmall-top'}).text.strip() if item.find('span', {'class': 'uk-margin-xsmall-top'}) else 'N/A'\n",
        "\n",
        "            content = item.find('div', {'class': 'fdn-teaser-description'}).text.strip() if item.find('div', {'class': 'fdn-teaser-description'}) else 'N/A'\n",
        "\n",
        "            event = {\n",
        "                'event_name': event_name,\n",
        "                'event_time': event_time,\n",
        "                'location': location,\n",
        "                'price': price,\n",
        "                'content': content\n",
        "            }\n",
        "\n",
        "            events.append(event)\n",
        "    else:\n",
        "        print(\"No event items found.\")\n",
        "\n",
        "    if return_soup:\n",
        "        return events\n",
        "\n",
        "    with open(filename, 'w') as f:\n",
        "        json.dump(events, f, indent=4)\n",
        "\n",
        "    print(f\"Data saved to {filename}\")"
      ],
      "metadata": {
        "id": "bHAPlV4W8nOp"
      },
      "execution_count": null,
      "outputs": []
    },
    {
      "cell_type": "code",
      "source": [
        "def find_soup(url):\n",
        "  # Set up Selenium's browser driver\n",
        "  driver = gs.Chrome()\n",
        "\n",
        "  # Open the target webpage\n",
        "  driver.get(url)  # Replace with the actual URL\n",
        "\n",
        "  # Once the page is fully loaded, use BeautifulSoup to parse the content\n",
        "  soup = BeautifulSoup(driver.page_source, 'html.parser')\n",
        "\n",
        "  # Close the browser\n",
        "  driver.quit()\n",
        "  return soup"
      ],
      "metadata": {
        "id": "lKaesDQq-9vt"
      },
      "execution_count": null,
      "outputs": []
    },
    {
      "cell_type": "code",
      "source": [
        "soup=find_soup(urls[0])\n",
        "soup=store_file(soup,'a',return_soup=True)\n"
      ],
      "metadata": {
        "colab": {
          "base_uri": "https://localhost:8080/",
          "height": 37
        },
        "id": "Xrmu7ciX-i3w",
        "outputId": "29e67046-3acf-4baa-da78-e4a03bd9aac7"
      },
      "execution_count": null,
      "outputs": [
        {
          "output_type": "display_data",
          "data": {
            "text/plain": [
              "<IPython.core.display.HTML object>"
            ],
            "text/html": [
              "\n",
              "            <div class=\"spinner-container\">\n",
              "                <div class=\"spinner\" id=\"5296035b-adaf-496c-be07-e40b0ce7e1e2-circle\"></div>\n",
              "                <div class=\"spinner-text\" id=\"5296035b-adaf-496c-be07-e40b0ce7e1e2-text\">Initializing Chromedriver</div>\n",
              "            </div>\n",
              "            <style>\n",
              "                @keyframes spin {\n",
              "                    from { transform: rotate(0deg); }\n",
              "                    to { transform: rotate(360deg); }\n",
              "                }\n",
              "\n",
              "                .spinner-container {\n",
              "                    display: flex;\n",
              "                    align-items: center;\n",
              "                    margin-bottom: 3px;\n",
              "                }\n",
              "\n",
              "                .spinner {\n",
              "                    border: 3px solid rgba(0, 0, 0, 0.1);\n",
              "                    border-left-color: lightblue;\n",
              "                    border-radius: 50%;\n",
              "                    width: 12px;\n",
              "                    height: 12px;\n",
              "                    animation: spin 1s linear infinite;\n",
              "                }\n",
              "\n",
              "                .spinner-text {\n",
              "                    padding-left: 6px;\n",
              "                }\n",
              "            </style>\n",
              "        "
            ]
          },
          "metadata": {}
        },
        {
          "output_type": "display_data",
          "data": {
            "text/plain": [
              "<IPython.core.display.Javascript object>"
            ],
            "application/javascript": [
              "\n",
              "            const element = document.getElementById(\"5296035b-adaf-496c-be07-e40b0ce7e1e2-circle\");\n",
              "            element.style.border = \"3px solid limegreen\";\n",
              "            element.style.animation = \"none\";\n",
              "\n",
              "            const text = document.getElementById(\"5296035b-adaf-496c-be07-e40b0ce7e1e2-text\");\n",
              "            text.innerText = \"Initialized Chromedriver\";\n",
              "        "
            ]
          },
          "metadata": {}
        }
      ]
    },
    {
      "cell_type": "code",
      "source": [
        "with open('/content/drive/MyDrive/11711/assignment2/data/tem.json', 'w') as f:\n",
        "    json.dump(soup, f, indent=4)"
      ],
      "metadata": {
        "id": "ADv2t8GsR0hl"
      },
      "execution_count": null,
      "outputs": []
    },
    {
      "cell_type": "code",
      "source": [
        "from pickle import TRUE\n",
        "\n",
        "events=[]\n",
        "for i in range(len(urls)):\n",
        "  soup=find_soup(urls[i])\n",
        "  events.extend(store_file(soup,files[0],return_soup=TRUE))\n",
        "with open('/content/drive/MyDrive/11711/assignment2/data/PittsburghCityPaperEvents.json', 'w') as f:\n",
        "    json.dump(events, f, indent=4)"
      ],
      "metadata": {
        "colab": {
          "base_uri": "https://localhost:8080/",
          "height": 363
        },
        "id": "OzVZYu7L8v9R",
        "outputId": "5108da90-d939-48b7-c767-b817da3201af"
      },
      "execution_count": null,
      "outputs": [
        {
          "output_type": "display_data",
          "data": {
            "text/plain": [
              "<IPython.core.display.HTML object>"
            ],
            "text/html": [
              "\n",
              "            <div class=\"spinner-container\">\n",
              "                <div class=\"spinner\" id=\"742fd6ea-8a9a-4f16-9f64-bd2e80b4d77f-circle\"></div>\n",
              "                <div class=\"spinner-text\" id=\"742fd6ea-8a9a-4f16-9f64-bd2e80b4d77f-text\">Initializing Chromedriver</div>\n",
              "            </div>\n",
              "            <style>\n",
              "                @keyframes spin {\n",
              "                    from { transform: rotate(0deg); }\n",
              "                    to { transform: rotate(360deg); }\n",
              "                }\n",
              "\n",
              "                .spinner-container {\n",
              "                    display: flex;\n",
              "                    align-items: center;\n",
              "                    margin-bottom: 3px;\n",
              "                }\n",
              "\n",
              "                .spinner {\n",
              "                    border: 3px solid rgba(0, 0, 0, 0.1);\n",
              "                    border-left-color: lightblue;\n",
              "                    border-radius: 50%;\n",
              "                    width: 12px;\n",
              "                    height: 12px;\n",
              "                    animation: spin 1s linear infinite;\n",
              "                }\n",
              "\n",
              "                .spinner-text {\n",
              "                    padding-left: 6px;\n",
              "                }\n",
              "            </style>\n",
              "        "
            ]
          },
          "metadata": {}
        },
        {
          "output_type": "display_data",
          "data": {
            "text/plain": [
              "<IPython.core.display.Javascript object>"
            ],
            "application/javascript": [
              "\n",
              "            const element = document.getElementById(\"742fd6ea-8a9a-4f16-9f64-bd2e80b4d77f-circle\");\n",
              "            element.style.border = \"3px solid limegreen\";\n",
              "            element.style.animation = \"none\";\n",
              "\n",
              "            const text = document.getElementById(\"742fd6ea-8a9a-4f16-9f64-bd2e80b4d77f-text\");\n",
              "            text.innerText = \"Initialized Chromedriver\";\n",
              "        "
            ]
          },
          "metadata": {}
        },
        {
          "output_type": "display_data",
          "data": {
            "text/plain": [
              "<IPython.core.display.HTML object>"
            ],
            "text/html": [
              "\n",
              "            <div class=\"spinner-container\">\n",
              "                <div class=\"spinner\" id=\"20fa3f54-3673-4652-8a27-3627521e6f43-circle\"></div>\n",
              "                <div class=\"spinner-text\" id=\"20fa3f54-3673-4652-8a27-3627521e6f43-text\">Initializing Chromedriver</div>\n",
              "            </div>\n",
              "            <style>\n",
              "                @keyframes spin {\n",
              "                    from { transform: rotate(0deg); }\n",
              "                    to { transform: rotate(360deg); }\n",
              "                }\n",
              "\n",
              "                .spinner-container {\n",
              "                    display: flex;\n",
              "                    align-items: center;\n",
              "                    margin-bottom: 3px;\n",
              "                }\n",
              "\n",
              "                .spinner {\n",
              "                    border: 3px solid rgba(0, 0, 0, 0.1);\n",
              "                    border-left-color: lightblue;\n",
              "                    border-radius: 50%;\n",
              "                    width: 12px;\n",
              "                    height: 12px;\n",
              "                    animation: spin 1s linear infinite;\n",
              "                }\n",
              "\n",
              "                .spinner-text {\n",
              "                    padding-left: 6px;\n",
              "                }\n",
              "            </style>\n",
              "        "
            ]
          },
          "metadata": {}
        },
        {
          "output_type": "display_data",
          "data": {
            "text/plain": [
              "<IPython.core.display.Javascript object>"
            ],
            "application/javascript": [
              "\n",
              "            const element = document.getElementById(\"20fa3f54-3673-4652-8a27-3627521e6f43-circle\");\n",
              "            element.style.border = \"3px solid limegreen\";\n",
              "            element.style.animation = \"none\";\n",
              "\n",
              "            const text = document.getElementById(\"20fa3f54-3673-4652-8a27-3627521e6f43-text\");\n",
              "            text.innerText = \"Initialized Chromedriver\";\n",
              "        "
            ]
          },
          "metadata": {}
        },
        {
          "output_type": "display_data",
          "data": {
            "text/plain": [
              "<IPython.core.display.HTML object>"
            ],
            "text/html": [
              "\n",
              "            <div class=\"spinner-container\">\n",
              "                <div class=\"spinner\" id=\"71e1d3b6-95a3-4a53-ae7e-9dc3df0f0433-circle\"></div>\n",
              "                <div class=\"spinner-text\" id=\"71e1d3b6-95a3-4a53-ae7e-9dc3df0f0433-text\">Initializing Chromedriver</div>\n",
              "            </div>\n",
              "            <style>\n",
              "                @keyframes spin {\n",
              "                    from { transform: rotate(0deg); }\n",
              "                    to { transform: rotate(360deg); }\n",
              "                }\n",
              "\n",
              "                .spinner-container {\n",
              "                    display: flex;\n",
              "                    align-items: center;\n",
              "                    margin-bottom: 3px;\n",
              "                }\n",
              "\n",
              "                .spinner {\n",
              "                    border: 3px solid rgba(0, 0, 0, 0.1);\n",
              "                    border-left-color: lightblue;\n",
              "                    border-radius: 50%;\n",
              "                    width: 12px;\n",
              "                    height: 12px;\n",
              "                    animation: spin 1s linear infinite;\n",
              "                }\n",
              "\n",
              "                .spinner-text {\n",
              "                    padding-left: 6px;\n",
              "                }\n",
              "            </style>\n",
              "        "
            ]
          },
          "metadata": {}
        },
        {
          "output_type": "display_data",
          "data": {
            "text/plain": [
              "<IPython.core.display.Javascript object>"
            ],
            "application/javascript": [
              "\n",
              "            const element = document.getElementById(\"71e1d3b6-95a3-4a53-ae7e-9dc3df0f0433-circle\");\n",
              "            element.style.border = \"3px solid limegreen\";\n",
              "            element.style.animation = \"none\";\n",
              "\n",
              "            const text = document.getElementById(\"71e1d3b6-95a3-4a53-ae7e-9dc3df0f0433-text\");\n",
              "            text.innerText = \"Initialized Chromedriver\";\n",
              "        "
            ]
          },
          "metadata": {}
        },
        {
          "output_type": "display_data",
          "data": {
            "text/plain": [
              "<IPython.core.display.HTML object>"
            ],
            "text/html": [
              "\n",
              "            <div class=\"spinner-container\">\n",
              "                <div class=\"spinner\" id=\"3cecd336-1f43-45c1-adb1-92bba26bb2f3-circle\"></div>\n",
              "                <div class=\"spinner-text\" id=\"3cecd336-1f43-45c1-adb1-92bba26bb2f3-text\">Initializing Chromedriver</div>\n",
              "            </div>\n",
              "            <style>\n",
              "                @keyframes spin {\n",
              "                    from { transform: rotate(0deg); }\n",
              "                    to { transform: rotate(360deg); }\n",
              "                }\n",
              "\n",
              "                .spinner-container {\n",
              "                    display: flex;\n",
              "                    align-items: center;\n",
              "                    margin-bottom: 3px;\n",
              "                }\n",
              "\n",
              "                .spinner {\n",
              "                    border: 3px solid rgba(0, 0, 0, 0.1);\n",
              "                    border-left-color: lightblue;\n",
              "                    border-radius: 50%;\n",
              "                    width: 12px;\n",
              "                    height: 12px;\n",
              "                    animation: spin 1s linear infinite;\n",
              "                }\n",
              "\n",
              "                .spinner-text {\n",
              "                    padding-left: 6px;\n",
              "                }\n",
              "            </style>\n",
              "        "
            ]
          },
          "metadata": {}
        },
        {
          "output_type": "display_data",
          "data": {
            "text/plain": [
              "<IPython.core.display.Javascript object>"
            ],
            "application/javascript": [
              "\n",
              "            const element = document.getElementById(\"3cecd336-1f43-45c1-adb1-92bba26bb2f3-circle\");\n",
              "            element.style.border = \"3px solid limegreen\";\n",
              "            element.style.animation = \"none\";\n",
              "\n",
              "            const text = document.getElementById(\"3cecd336-1f43-45c1-adb1-92bba26bb2f3-text\");\n",
              "            text.innerText = \"Initialized Chromedriver\";\n",
              "        "
            ]
          },
          "metadata": {}
        },
        {
          "output_type": "display_data",
          "data": {
            "text/plain": [
              "<IPython.core.display.HTML object>"
            ],
            "text/html": [
              "\n",
              "            <div class=\"spinner-container\">\n",
              "                <div class=\"spinner\" id=\"2f612c17-72c5-432c-aee6-db7bf0f32e44-circle\"></div>\n",
              "                <div class=\"spinner-text\" id=\"2f612c17-72c5-432c-aee6-db7bf0f32e44-text\">Initializing Chromedriver</div>\n",
              "            </div>\n",
              "            <style>\n",
              "                @keyframes spin {\n",
              "                    from { transform: rotate(0deg); }\n",
              "                    to { transform: rotate(360deg); }\n",
              "                }\n",
              "\n",
              "                .spinner-container {\n",
              "                    display: flex;\n",
              "                    align-items: center;\n",
              "                    margin-bottom: 3px;\n",
              "                }\n",
              "\n",
              "                .spinner {\n",
              "                    border: 3px solid rgba(0, 0, 0, 0.1);\n",
              "                    border-left-color: lightblue;\n",
              "                    border-radius: 50%;\n",
              "                    width: 12px;\n",
              "                    height: 12px;\n",
              "                    animation: spin 1s linear infinite;\n",
              "                }\n",
              "\n",
              "                .spinner-text {\n",
              "                    padding-left: 6px;\n",
              "                }\n",
              "            </style>\n",
              "        "
            ]
          },
          "metadata": {}
        },
        {
          "output_type": "display_data",
          "data": {
            "text/plain": [
              "<IPython.core.display.Javascript object>"
            ],
            "application/javascript": [
              "\n",
              "            const element = document.getElementById(\"2f612c17-72c5-432c-aee6-db7bf0f32e44-circle\");\n",
              "            element.style.border = \"3px solid limegreen\";\n",
              "            element.style.animation = \"none\";\n",
              "\n",
              "            const text = document.getElementById(\"2f612c17-72c5-432c-aee6-db7bf0f32e44-text\");\n",
              "            text.innerText = \"Initialized Chromedriver\";\n",
              "        "
            ]
          },
          "metadata": {}
        },
        {
          "output_type": "display_data",
          "data": {
            "text/plain": [
              "<IPython.core.display.HTML object>"
            ],
            "text/html": [
              "\n",
              "            <div class=\"spinner-container\">\n",
              "                <div class=\"spinner\" id=\"b45d2fd6-128e-4086-bc4e-d8f390610734-circle\"></div>\n",
              "                <div class=\"spinner-text\" id=\"b45d2fd6-128e-4086-bc4e-d8f390610734-text\">Initializing Chromedriver</div>\n",
              "            </div>\n",
              "            <style>\n",
              "                @keyframes spin {\n",
              "                    from { transform: rotate(0deg); }\n",
              "                    to { transform: rotate(360deg); }\n",
              "                }\n",
              "\n",
              "                .spinner-container {\n",
              "                    display: flex;\n",
              "                    align-items: center;\n",
              "                    margin-bottom: 3px;\n",
              "                }\n",
              "\n",
              "                .spinner {\n",
              "                    border: 3px solid rgba(0, 0, 0, 0.1);\n",
              "                    border-left-color: lightblue;\n",
              "                    border-radius: 50%;\n",
              "                    width: 12px;\n",
              "                    height: 12px;\n",
              "                    animation: spin 1s linear infinite;\n",
              "                }\n",
              "\n",
              "                .spinner-text {\n",
              "                    padding-left: 6px;\n",
              "                }\n",
              "            </style>\n",
              "        "
            ]
          },
          "metadata": {}
        },
        {
          "output_type": "display_data",
          "data": {
            "text/plain": [
              "<IPython.core.display.Javascript object>"
            ],
            "application/javascript": [
              "\n",
              "            const element = document.getElementById(\"b45d2fd6-128e-4086-bc4e-d8f390610734-circle\");\n",
              "            element.style.border = \"3px solid limegreen\";\n",
              "            element.style.animation = \"none\";\n",
              "\n",
              "            const text = document.getElementById(\"b45d2fd6-128e-4086-bc4e-d8f390610734-text\");\n",
              "            text.innerText = \"Initialized Chromedriver\";\n",
              "        "
            ]
          },
          "metadata": {}
        },
        {
          "output_type": "display_data",
          "data": {
            "text/plain": [
              "<IPython.core.display.HTML object>"
            ],
            "text/html": [
              "\n",
              "            <div class=\"spinner-container\">\n",
              "                <div class=\"spinner\" id=\"a316f034-d6df-4fc0-b075-e4770ef74199-circle\"></div>\n",
              "                <div class=\"spinner-text\" id=\"a316f034-d6df-4fc0-b075-e4770ef74199-text\">Initializing Chromedriver</div>\n",
              "            </div>\n",
              "            <style>\n",
              "                @keyframes spin {\n",
              "                    from { transform: rotate(0deg); }\n",
              "                    to { transform: rotate(360deg); }\n",
              "                }\n",
              "\n",
              "                .spinner-container {\n",
              "                    display: flex;\n",
              "                    align-items: center;\n",
              "                    margin-bottom: 3px;\n",
              "                }\n",
              "\n",
              "                .spinner {\n",
              "                    border: 3px solid rgba(0, 0, 0, 0.1);\n",
              "                    border-left-color: lightblue;\n",
              "                    border-radius: 50%;\n",
              "                    width: 12px;\n",
              "                    height: 12px;\n",
              "                    animation: spin 1s linear infinite;\n",
              "                }\n",
              "\n",
              "                .spinner-text {\n",
              "                    padding-left: 6px;\n",
              "                }\n",
              "            </style>\n",
              "        "
            ]
          },
          "metadata": {}
        },
        {
          "output_type": "display_data",
          "data": {
            "text/plain": [
              "<IPython.core.display.Javascript object>"
            ],
            "application/javascript": [
              "\n",
              "            const element = document.getElementById(\"a316f034-d6df-4fc0-b075-e4770ef74199-circle\");\n",
              "            element.style.border = \"3px solid limegreen\";\n",
              "            element.style.animation = \"none\";\n",
              "\n",
              "            const text = document.getElementById(\"a316f034-d6df-4fc0-b075-e4770ef74199-text\");\n",
              "            text.innerText = \"Initialized Chromedriver\";\n",
              "        "
            ]
          },
          "metadata": {}
        },
        {
          "output_type": "display_data",
          "data": {
            "text/plain": [
              "<IPython.core.display.HTML object>"
            ],
            "text/html": [
              "\n",
              "            <div class=\"spinner-container\">\n",
              "                <div class=\"spinner\" id=\"50f9100d-7ec8-4507-bfc1-f55e63029b82-circle\"></div>\n",
              "                <div class=\"spinner-text\" id=\"50f9100d-7ec8-4507-bfc1-f55e63029b82-text\">Initializing Chromedriver</div>\n",
              "            </div>\n",
              "            <style>\n",
              "                @keyframes spin {\n",
              "                    from { transform: rotate(0deg); }\n",
              "                    to { transform: rotate(360deg); }\n",
              "                }\n",
              "\n",
              "                .spinner-container {\n",
              "                    display: flex;\n",
              "                    align-items: center;\n",
              "                    margin-bottom: 3px;\n",
              "                }\n",
              "\n",
              "                .spinner {\n",
              "                    border: 3px solid rgba(0, 0, 0, 0.1);\n",
              "                    border-left-color: lightblue;\n",
              "                    border-radius: 50%;\n",
              "                    width: 12px;\n",
              "                    height: 12px;\n",
              "                    animation: spin 1s linear infinite;\n",
              "                }\n",
              "\n",
              "                .spinner-text {\n",
              "                    padding-left: 6px;\n",
              "                }\n",
              "            </style>\n",
              "        "
            ]
          },
          "metadata": {}
        },
        {
          "output_type": "display_data",
          "data": {
            "text/plain": [
              "<IPython.core.display.Javascript object>"
            ],
            "application/javascript": [
              "\n",
              "            const element = document.getElementById(\"50f9100d-7ec8-4507-bfc1-f55e63029b82-circle\");\n",
              "            element.style.border = \"3px solid limegreen\";\n",
              "            element.style.animation = \"none\";\n",
              "\n",
              "            const text = document.getElementById(\"50f9100d-7ec8-4507-bfc1-f55e63029b82-text\");\n",
              "            text.innerText = \"Initialized Chromedriver\";\n",
              "        "
            ]
          },
          "metadata": {}
        },
        {
          "output_type": "display_data",
          "data": {
            "text/plain": [
              "<IPython.core.display.HTML object>"
            ],
            "text/html": [
              "\n",
              "            <div class=\"spinner-container\">\n",
              "                <div class=\"spinner\" id=\"22d628f5-dd31-4849-8887-cf97ad8a0e24-circle\"></div>\n",
              "                <div class=\"spinner-text\" id=\"22d628f5-dd31-4849-8887-cf97ad8a0e24-text\">Initializing Chromedriver</div>\n",
              "            </div>\n",
              "            <style>\n",
              "                @keyframes spin {\n",
              "                    from { transform: rotate(0deg); }\n",
              "                    to { transform: rotate(360deg); }\n",
              "                }\n",
              "\n",
              "                .spinner-container {\n",
              "                    display: flex;\n",
              "                    align-items: center;\n",
              "                    margin-bottom: 3px;\n",
              "                }\n",
              "\n",
              "                .spinner {\n",
              "                    border: 3px solid rgba(0, 0, 0, 0.1);\n",
              "                    border-left-color: lightblue;\n",
              "                    border-radius: 50%;\n",
              "                    width: 12px;\n",
              "                    height: 12px;\n",
              "                    animation: spin 1s linear infinite;\n",
              "                }\n",
              "\n",
              "                .spinner-text {\n",
              "                    padding-left: 6px;\n",
              "                }\n",
              "            </style>\n",
              "        "
            ]
          },
          "metadata": {}
        },
        {
          "output_type": "display_data",
          "data": {
            "text/plain": [
              "<IPython.core.display.Javascript object>"
            ],
            "application/javascript": [
              "\n",
              "            const element = document.getElementById(\"22d628f5-dd31-4849-8887-cf97ad8a0e24-circle\");\n",
              "            element.style.border = \"3px solid limegreen\";\n",
              "            element.style.animation = \"none\";\n",
              "\n",
              "            const text = document.getElementById(\"22d628f5-dd31-4849-8887-cf97ad8a0e24-text\");\n",
              "            text.innerText = \"Initialized Chromedriver\";\n",
              "        "
            ]
          },
          "metadata": {}
        },
        {
          "output_type": "display_data",
          "data": {
            "text/plain": [
              "<IPython.core.display.HTML object>"
            ],
            "text/html": [
              "\n",
              "            <div class=\"spinner-container\">\n",
              "                <div class=\"spinner\" id=\"043dbdb8-2a73-4b6f-8479-ea3909adf857-circle\"></div>\n",
              "                <div class=\"spinner-text\" id=\"043dbdb8-2a73-4b6f-8479-ea3909adf857-text\">Initializing Chromedriver</div>\n",
              "            </div>\n",
              "            <style>\n",
              "                @keyframes spin {\n",
              "                    from { transform: rotate(0deg); }\n",
              "                    to { transform: rotate(360deg); }\n",
              "                }\n",
              "\n",
              "                .spinner-container {\n",
              "                    display: flex;\n",
              "                    align-items: center;\n",
              "                    margin-bottom: 3px;\n",
              "                }\n",
              "\n",
              "                .spinner {\n",
              "                    border: 3px solid rgba(0, 0, 0, 0.1);\n",
              "                    border-left-color: lightblue;\n",
              "                    border-radius: 50%;\n",
              "                    width: 12px;\n",
              "                    height: 12px;\n",
              "                    animation: spin 1s linear infinite;\n",
              "                }\n",
              "\n",
              "                .spinner-text {\n",
              "                    padding-left: 6px;\n",
              "                }\n",
              "            </style>\n",
              "        "
            ]
          },
          "metadata": {}
        },
        {
          "output_type": "display_data",
          "data": {
            "text/plain": [
              "<IPython.core.display.Javascript object>"
            ],
            "application/javascript": [
              "\n",
              "            const element = document.getElementById(\"043dbdb8-2a73-4b6f-8479-ea3909adf857-circle\");\n",
              "            element.style.border = \"3px solid limegreen\";\n",
              "            element.style.animation = \"none\";\n",
              "\n",
              "            const text = document.getElementById(\"043dbdb8-2a73-4b6f-8479-ea3909adf857-text\");\n",
              "            text.innerText = \"Initialized Chromedriver\";\n",
              "        "
            ]
          },
          "metadata": {}
        },
        {
          "output_type": "display_data",
          "data": {
            "text/plain": [
              "<IPython.core.display.HTML object>"
            ],
            "text/html": [
              "\n",
              "            <div class=\"spinner-container\">\n",
              "                <div class=\"spinner\" id=\"263fae60-4f98-43ec-b8f4-ad72a8c2ad1d-circle\"></div>\n",
              "                <div class=\"spinner-text\" id=\"263fae60-4f98-43ec-b8f4-ad72a8c2ad1d-text\">Initializing Chromedriver</div>\n",
              "            </div>\n",
              "            <style>\n",
              "                @keyframes spin {\n",
              "                    from { transform: rotate(0deg); }\n",
              "                    to { transform: rotate(360deg); }\n",
              "                }\n",
              "\n",
              "                .spinner-container {\n",
              "                    display: flex;\n",
              "                    align-items: center;\n",
              "                    margin-bottom: 3px;\n",
              "                }\n",
              "\n",
              "                .spinner {\n",
              "                    border: 3px solid rgba(0, 0, 0, 0.1);\n",
              "                    border-left-color: lightblue;\n",
              "                    border-radius: 50%;\n",
              "                    width: 12px;\n",
              "                    height: 12px;\n",
              "                    animation: spin 1s linear infinite;\n",
              "                }\n",
              "\n",
              "                .spinner-text {\n",
              "                    padding-left: 6px;\n",
              "                }\n",
              "            </style>\n",
              "        "
            ]
          },
          "metadata": {}
        },
        {
          "output_type": "display_data",
          "data": {
            "text/plain": [
              "<IPython.core.display.Javascript object>"
            ],
            "application/javascript": [
              "\n",
              "            const element = document.getElementById(\"263fae60-4f98-43ec-b8f4-ad72a8c2ad1d-circle\");\n",
              "            element.style.border = \"3px solid limegreen\";\n",
              "            element.style.animation = \"none\";\n",
              "\n",
              "            const text = document.getElementById(\"263fae60-4f98-43ec-b8f4-ad72a8c2ad1d-text\");\n",
              "            text.innerText = \"Initialized Chromedriver\";\n",
              "        "
            ]
          },
          "metadata": {}
        },
        {
          "output_type": "display_data",
          "data": {
            "text/plain": [
              "<IPython.core.display.HTML object>"
            ],
            "text/html": [
              "\n",
              "            <div class=\"spinner-container\">\n",
              "                <div class=\"spinner\" id=\"e318dbac-a7ab-40bf-8cdd-f9add6ddcd40-circle\"></div>\n",
              "                <div class=\"spinner-text\" id=\"e318dbac-a7ab-40bf-8cdd-f9add6ddcd40-text\">Initializing Chromedriver</div>\n",
              "            </div>\n",
              "            <style>\n",
              "                @keyframes spin {\n",
              "                    from { transform: rotate(0deg); }\n",
              "                    to { transform: rotate(360deg); }\n",
              "                }\n",
              "\n",
              "                .spinner-container {\n",
              "                    display: flex;\n",
              "                    align-items: center;\n",
              "                    margin-bottom: 3px;\n",
              "                }\n",
              "\n",
              "                .spinner {\n",
              "                    border: 3px solid rgba(0, 0, 0, 0.1);\n",
              "                    border-left-color: lightblue;\n",
              "                    border-radius: 50%;\n",
              "                    width: 12px;\n",
              "                    height: 12px;\n",
              "                    animation: spin 1s linear infinite;\n",
              "                }\n",
              "\n",
              "                .spinner-text {\n",
              "                    padding-left: 6px;\n",
              "                }\n",
              "            </style>\n",
              "        "
            ]
          },
          "metadata": {}
        },
        {
          "output_type": "display_data",
          "data": {
            "text/plain": [
              "<IPython.core.display.Javascript object>"
            ],
            "application/javascript": [
              "\n",
              "            const element = document.getElementById(\"e318dbac-a7ab-40bf-8cdd-f9add6ddcd40-circle\");\n",
              "            element.style.border = \"3px solid limegreen\";\n",
              "            element.style.animation = \"none\";\n",
              "\n",
              "            const text = document.getElementById(\"e318dbac-a7ab-40bf-8cdd-f9add6ddcd40-text\");\n",
              "            text.innerText = \"Initialized Chromedriver\";\n",
              "        "
            ]
          },
          "metadata": {}
        },
        {
          "output_type": "display_data",
          "data": {
            "text/plain": [
              "<IPython.core.display.HTML object>"
            ],
            "text/html": [
              "\n",
              "            <div class=\"spinner-container\">\n",
              "                <div class=\"spinner\" id=\"ff795f22-a1c0-46ac-93ca-ffa97ffe6183-circle\"></div>\n",
              "                <div class=\"spinner-text\" id=\"ff795f22-a1c0-46ac-93ca-ffa97ffe6183-text\">Initializing Chromedriver</div>\n",
              "            </div>\n",
              "            <style>\n",
              "                @keyframes spin {\n",
              "                    from { transform: rotate(0deg); }\n",
              "                    to { transform: rotate(360deg); }\n",
              "                }\n",
              "\n",
              "                .spinner-container {\n",
              "                    display: flex;\n",
              "                    align-items: center;\n",
              "                    margin-bottom: 3px;\n",
              "                }\n",
              "\n",
              "                .spinner {\n",
              "                    border: 3px solid rgba(0, 0, 0, 0.1);\n",
              "                    border-left-color: lightblue;\n",
              "                    border-radius: 50%;\n",
              "                    width: 12px;\n",
              "                    height: 12px;\n",
              "                    animation: spin 1s linear infinite;\n",
              "                }\n",
              "\n",
              "                .spinner-text {\n",
              "                    padding-left: 6px;\n",
              "                }\n",
              "            </style>\n",
              "        "
            ]
          },
          "metadata": {}
        },
        {
          "output_type": "display_data",
          "data": {
            "text/plain": [
              "<IPython.core.display.Javascript object>"
            ],
            "application/javascript": [
              "\n",
              "            const element = document.getElementById(\"ff795f22-a1c0-46ac-93ca-ffa97ffe6183-circle\");\n",
              "            element.style.border = \"3px solid limegreen\";\n",
              "            element.style.animation = \"none\";\n",
              "\n",
              "            const text = document.getElementById(\"ff795f22-a1c0-46ac-93ca-ffa97ffe6183-text\");\n",
              "            text.innerText = \"Initialized Chromedriver\";\n",
              "        "
            ]
          },
          "metadata": {}
        },
        {
          "output_type": "display_data",
          "data": {
            "text/plain": [
              "<IPython.core.display.HTML object>"
            ],
            "text/html": [
              "\n",
              "            <div class=\"spinner-container\">\n",
              "                <div class=\"spinner\" id=\"d8aa13e1-ebf7-4080-b7d9-f335a76723d3-circle\"></div>\n",
              "                <div class=\"spinner-text\" id=\"d8aa13e1-ebf7-4080-b7d9-f335a76723d3-text\">Initializing Chromedriver</div>\n",
              "            </div>\n",
              "            <style>\n",
              "                @keyframes spin {\n",
              "                    from { transform: rotate(0deg); }\n",
              "                    to { transform: rotate(360deg); }\n",
              "                }\n",
              "\n",
              "                .spinner-container {\n",
              "                    display: flex;\n",
              "                    align-items: center;\n",
              "                    margin-bottom: 3px;\n",
              "                }\n",
              "\n",
              "                .spinner {\n",
              "                    border: 3px solid rgba(0, 0, 0, 0.1);\n",
              "                    border-left-color: lightblue;\n",
              "                    border-radius: 50%;\n",
              "                    width: 12px;\n",
              "                    height: 12px;\n",
              "                    animation: spin 1s linear infinite;\n",
              "                }\n",
              "\n",
              "                .spinner-text {\n",
              "                    padding-left: 6px;\n",
              "                }\n",
              "            </style>\n",
              "        "
            ]
          },
          "metadata": {}
        },
        {
          "output_type": "display_data",
          "data": {
            "text/plain": [
              "<IPython.core.display.Javascript object>"
            ],
            "application/javascript": [
              "\n",
              "            const element = document.getElementById(\"d8aa13e1-ebf7-4080-b7d9-f335a76723d3-circle\");\n",
              "            element.style.border = \"3px solid limegreen\";\n",
              "            element.style.animation = \"none\";\n",
              "\n",
              "            const text = document.getElementById(\"d8aa13e1-ebf7-4080-b7d9-f335a76723d3-text\");\n",
              "            text.innerText = \"Initialized Chromedriver\";\n",
              "        "
            ]
          },
          "metadata": {}
        },
        {
          "output_type": "display_data",
          "data": {
            "text/plain": [
              "<IPython.core.display.HTML object>"
            ],
            "text/html": [
              "\n",
              "            <div class=\"spinner-container\">\n",
              "                <div class=\"spinner\" id=\"e8e775cf-a250-446e-9e2e-31139ed7b60f-circle\"></div>\n",
              "                <div class=\"spinner-text\" id=\"e8e775cf-a250-446e-9e2e-31139ed7b60f-text\">Initializing Chromedriver</div>\n",
              "            </div>\n",
              "            <style>\n",
              "                @keyframes spin {\n",
              "                    from { transform: rotate(0deg); }\n",
              "                    to { transform: rotate(360deg); }\n",
              "                }\n",
              "\n",
              "                .spinner-container {\n",
              "                    display: flex;\n",
              "                    align-items: center;\n",
              "                    margin-bottom: 3px;\n",
              "                }\n",
              "\n",
              "                .spinner {\n",
              "                    border: 3px solid rgba(0, 0, 0, 0.1);\n",
              "                    border-left-color: lightblue;\n",
              "                    border-radius: 50%;\n",
              "                    width: 12px;\n",
              "                    height: 12px;\n",
              "                    animation: spin 1s linear infinite;\n",
              "                }\n",
              "\n",
              "                .spinner-text {\n",
              "                    padding-left: 6px;\n",
              "                }\n",
              "            </style>\n",
              "        "
            ]
          },
          "metadata": {}
        },
        {
          "output_type": "display_data",
          "data": {
            "text/plain": [
              "<IPython.core.display.Javascript object>"
            ],
            "application/javascript": [
              "\n",
              "            const element = document.getElementById(\"e8e775cf-a250-446e-9e2e-31139ed7b60f-circle\");\n",
              "            element.style.border = \"3px solid limegreen\";\n",
              "            element.style.animation = \"none\";\n",
              "\n",
              "            const text = document.getElementById(\"e8e775cf-a250-446e-9e2e-31139ed7b60f-text\");\n",
              "            text.innerText = \"Initialized Chromedriver\";\n",
              "        "
            ]
          },
          "metadata": {}
        },
        {
          "output_type": "display_data",
          "data": {
            "text/plain": [
              "<IPython.core.display.HTML object>"
            ],
            "text/html": [
              "\n",
              "            <div class=\"spinner-container\">\n",
              "                <div class=\"spinner\" id=\"6485d355-3789-4387-982a-1b93762bdcfe-circle\"></div>\n",
              "                <div class=\"spinner-text\" id=\"6485d355-3789-4387-982a-1b93762bdcfe-text\">Initializing Chromedriver</div>\n",
              "            </div>\n",
              "            <style>\n",
              "                @keyframes spin {\n",
              "                    from { transform: rotate(0deg); }\n",
              "                    to { transform: rotate(360deg); }\n",
              "                }\n",
              "\n",
              "                .spinner-container {\n",
              "                    display: flex;\n",
              "                    align-items: center;\n",
              "                    margin-bottom: 3px;\n",
              "                }\n",
              "\n",
              "                .spinner {\n",
              "                    border: 3px solid rgba(0, 0, 0, 0.1);\n",
              "                    border-left-color: lightblue;\n",
              "                    border-radius: 50%;\n",
              "                    width: 12px;\n",
              "                    height: 12px;\n",
              "                    animation: spin 1s linear infinite;\n",
              "                }\n",
              "\n",
              "                .spinner-text {\n",
              "                    padding-left: 6px;\n",
              "                }\n",
              "            </style>\n",
              "        "
            ]
          },
          "metadata": {}
        },
        {
          "output_type": "display_data",
          "data": {
            "text/plain": [
              "<IPython.core.display.Javascript object>"
            ],
            "application/javascript": [
              "\n",
              "            const element = document.getElementById(\"6485d355-3789-4387-982a-1b93762bdcfe-circle\");\n",
              "            element.style.border = \"3px solid limegreen\";\n",
              "            element.style.animation = \"none\";\n",
              "\n",
              "            const text = document.getElementById(\"6485d355-3789-4387-982a-1b93762bdcfe-text\");\n",
              "            text.innerText = \"Initialized Chromedriver\";\n",
              "        "
            ]
          },
          "metadata": {}
        },
        {
          "output_type": "display_data",
          "data": {
            "text/plain": [
              "<IPython.core.display.HTML object>"
            ],
            "text/html": [
              "\n",
              "            <div class=\"spinner-container\">\n",
              "                <div class=\"spinner\" id=\"f20d2287-9763-4f6c-bc48-e2b0631c501a-circle\"></div>\n",
              "                <div class=\"spinner-text\" id=\"f20d2287-9763-4f6c-bc48-e2b0631c501a-text\">Initializing Chromedriver</div>\n",
              "            </div>\n",
              "            <style>\n",
              "                @keyframes spin {\n",
              "                    from { transform: rotate(0deg); }\n",
              "                    to { transform: rotate(360deg); }\n",
              "                }\n",
              "\n",
              "                .spinner-container {\n",
              "                    display: flex;\n",
              "                    align-items: center;\n",
              "                    margin-bottom: 3px;\n",
              "                }\n",
              "\n",
              "                .spinner {\n",
              "                    border: 3px solid rgba(0, 0, 0, 0.1);\n",
              "                    border-left-color: lightblue;\n",
              "                    border-radius: 50%;\n",
              "                    width: 12px;\n",
              "                    height: 12px;\n",
              "                    animation: spin 1s linear infinite;\n",
              "                }\n",
              "\n",
              "                .spinner-text {\n",
              "                    padding-left: 6px;\n",
              "                }\n",
              "            </style>\n",
              "        "
            ]
          },
          "metadata": {}
        },
        {
          "output_type": "display_data",
          "data": {
            "text/plain": [
              "<IPython.core.display.Javascript object>"
            ],
            "application/javascript": [
              "\n",
              "            const element = document.getElementById(\"f20d2287-9763-4f6c-bc48-e2b0631c501a-circle\");\n",
              "            element.style.border = \"3px solid limegreen\";\n",
              "            element.style.animation = \"none\";\n",
              "\n",
              "            const text = document.getElementById(\"f20d2287-9763-4f6c-bc48-e2b0631c501a-text\");\n",
              "            text.innerText = \"Initialized Chromedriver\";\n",
              "        "
            ]
          },
          "metadata": {}
        }
      ]
    },
    {
      "cell_type": "markdown",
      "source": [
        "#CampusEventsPage"
      ],
      "metadata": {
        "id": "vAopuvXEELao"
      }
    },
    {
      "cell_type": "code",
      "source": [
        "events_data = [\n",
        "    {\"event_time\": \"October 27, 2024\", \"location\": \"Honolulu, HI\", \"event_name\": \"HI - CMU Meetup: Rock Climbing\"},\n",
        "    {\"event_time\": \"November 01, 2024\", \"location\": \"Pittsburgh, PA\", \"event_name\": \"Homecoming 2024\"},\n",
        "    {\"event_time\": \"November 01, 2024\", \"location\": \"Pittsburgh, PA\", \"event_name\": \"Alumni Awards Ceremony\"},\n",
        "    {\"event_time\": \"November 02, 2024\", \"location\": \"New York, NY\", \"event_name\": \"NYC - Fall Happy Hour\"},\n",
        "    {\"event_time\": \"November 06, 2024\", \"location\": \"Atlanta, GA\", \"event_name\": \"ATL - Alumni Event Planning Meeting\"},\n",
        "    {\"event_time\": \"November 09, 2024\", \"location\": \"Pittsburgh, PA\", \"event_name\": \"PIT - Saint Anthony Chapel Tour\"},\n",
        "    {\"event_time\": \"November 09, 2024\", \"location\": \"Marietta, GA\", \"event_name\": \"ATL- Hands-on Workshop to Build Your LinkedIn Brand\"},\n",
        "    {\"event_time\": \"November 11, 2024\", \"location\": \"Webinar, Online\", \"event_name\": \"PGH - November Network Planning Meeting\"},\n",
        "    {\"event_time\": \"November 11, 2024\", \"location\": \"Decatur, GA\", \"event_name\": \"ATL- Scotch Tasting in Decatur\"},\n",
        "    {\"event_time\": \"November 12, 2024\", \"location\": \"New York, NY\", \"event_name\": \"NYC - Art Collecting With Confidence\"},\n",
        "    {\"event_time\": \"November 13, 2024\", \"location\": \"La Jolla, CA\", \"event_name\": \"SD - Wine Tasting Social\"},\n",
        "    {\"event_time\": \"November 16, 2024\", \"location\": \"New York, NY\", \"event_name\": \"HLAA - Coffee with Glenn and Jonathan: Thanksgiving Edition\"},\n",
        "    {\"event_time\": \"December 13, 2024\", \"location\": \"Elmhurst, IL\", \"event_name\": \"CHI - West Burbs Social Lunch at Gia Mia\"},\n",
        "    {\"event_time\": \"December 19, 2024\", \"location\": \"Sandy Springs, GA\", \"event_name\": \"ATL - Vienna Boys Choir: Christmas in Vienna\"},\n",
        "    {\"event_time\": \"December 22, 2024\", \"location\": \"Honolulu, HI\", \"event_name\": \"HI - Network Holiday Party\"}\n",
        "]\n",
        "\n",
        "# Saving to a JSON file\n",
        "filename = \"/content/drive/MyDrive/11711/assignment2/data/CampusEventsPage.json\"\n",
        "with open(filename, 'w') as f:\n",
        "    json.dump(events_data, f, indent=4)"
      ],
      "metadata": {
        "id": "a-7sNeSLEKhM"
      },
      "execution_count": null,
      "outputs": []
    },
    {
      "cell_type": "markdown",
      "source": [
        "# CMU events calendar"
      ],
      "metadata": {
        "id": "fRTYcGJmHPP_"
      }
    },
    {
      "cell_type": "code",
      "source": [
        "urls=[]\n",
        "for i in range(27,32):\n",
        "  urls.append('https://events.cmu.edu/day/date/202410'+str(i))\n",
        "for i in range(1,31):\n",
        "  urls.append('https://events.cmu.edu/day/date/202411'+str(i))\n",
        "for i in range(1,32):\n",
        "  urls.append('https://events.cmu.edu/day/date/202412'+str(i))"
      ],
      "metadata": {
        "id": "oOXoO7LxHTTe"
      },
      "execution_count": null,
      "outputs": []
    },
    {
      "cell_type": "code",
      "source": [
        "def find_soup(url):\n",
        "  # Set up Selenium's browser driver\n",
        "  driver = gs.Chrome()\n",
        "  driver.get(url)\n",
        "  # Wait for the lw_cal_event_list to be rendered on the page\n",
        "  try:\n",
        "      WebDriverWait(driver, 10).until(\n",
        "          EC.presence_of_element_located((By.CLASS_NAME, \"lw_cal_event_list\"))\n",
        "      )\n",
        "  except Exception as e:\n",
        "      print(f\"Error: {e}\")\n",
        "\n",
        "  # Get the page source once the desired element is present\n",
        "  soup = BeautifulSoup(driver.page_source, 'html.parser')\n",
        "\n",
        "  # Close the driver\n",
        "  driver.close()\n",
        "\n",
        "  # Extract the desired element\n",
        "  events_list = soup.find('div', {'class': 'lw_cal_event_list'})\n",
        "\n",
        "  # Print or return the extracted content\n",
        "  print(events_list)\n",
        "  return events_list"
      ],
      "metadata": {
        "id": "uTvN3Gt-PVZo"
      },
      "execution_count": null,
      "outputs": []
    },
    {
      "cell_type": "code",
      "source": [
        "soup=find_soup(urls[0])"
      ],
      "metadata": {
        "colab": {
          "base_uri": "https://localhost:8080/",
          "height": 787
        },
        "id": "bbQt4RfgPk-R",
        "outputId": "0b2dcd95-59d0-4170-bf10-3ab3efdd7d2e"
      },
      "execution_count": null,
      "outputs": [
        {
          "output_type": "display_data",
          "data": {
            "text/plain": [
              "<IPython.core.display.HTML object>"
            ],
            "text/html": [
              "\n",
              "            <div class=\"spinner-container\">\n",
              "                <div class=\"spinner\" id=\"df503c36-62a2-4699-806f-91159c4ceeed-circle\"></div>\n",
              "                <div class=\"spinner-text\" id=\"df503c36-62a2-4699-806f-91159c4ceeed-text\">Initializing Chromedriver</div>\n",
              "            </div>\n",
              "            <style>\n",
              "                @keyframes spin {\n",
              "                    from { transform: rotate(0deg); }\n",
              "                    to { transform: rotate(360deg); }\n",
              "                }\n",
              "\n",
              "                .spinner-container {\n",
              "                    display: flex;\n",
              "                    align-items: center;\n",
              "                    margin-bottom: 3px;\n",
              "                }\n",
              "\n",
              "                .spinner {\n",
              "                    border: 3px solid rgba(0, 0, 0, 0.1);\n",
              "                    border-left-color: lightblue;\n",
              "                    border-radius: 50%;\n",
              "                    width: 12px;\n",
              "                    height: 12px;\n",
              "                    animation: spin 1s linear infinite;\n",
              "                }\n",
              "\n",
              "                .spinner-text {\n",
              "                    padding-left: 6px;\n",
              "                }\n",
              "            </style>\n",
              "        "
            ]
          },
          "metadata": {}
        },
        {
          "output_type": "display_data",
          "data": {
            "text/plain": [
              "<IPython.core.display.Javascript object>"
            ],
            "application/javascript": [
              "\n",
              "            const element = document.getElementById(\"df503c36-62a2-4699-806f-91159c4ceeed-circle\");\n",
              "            element.style.border = \"3px solid limegreen\";\n",
              "            element.style.animation = \"none\";\n",
              "\n",
              "            const text = document.getElementById(\"df503c36-62a2-4699-806f-91159c4ceeed-text\");\n",
              "            text.innerText = \"Initialized Chromedriver\";\n",
              "        "
            ]
          },
          "metadata": {}
        },
        {
          "output_type": "stream",
          "name": "stdout",
          "text": [
            "<div class=\"lw_cal_event_list\"> <div class=\"lw_cal_event lw_has_image lw_category_open_to_the_public lw_category_athletics_recreation lw_category_alumni lw_category_faculty lw_category_general_public lw_category_graduate_students lw_category_staff lw_category_undergraduate_students lw_category_youth_(k-12)\" data-id=\"11977\"> <div class=\"lw_cal_event_info\"> <div class=\"lw_events_location\"> </div> <div class=\"lw_events_time\"> <span class=\"lw_start_time\">Noon</span> - <span class=\"lw_end_time\">3 p.m.</span> </div> <span class=\"lw_item_thumb\"> <a href=\"/event/11977-womens-volleyball-case-western-reserve-vs-carnegie\"><picture class=\"lw_image\">\n",
            "<source data-origin=\"responsive\" srcset=\"https://events.cmu.edu/live/image/scale/2x/gid/4/width/200/height/200/crop/1/src_region/0,0,400,400/27_cmu-athletics.rev.1717011793.webp 2x\" type=\"image/webp\"/>\n",
            "<source data-origin=\"responsive\" srcset=\"https://events.cmu.edu/live/image/scale/2x/gid/4/width/200/height/200/crop/1/src_region/0,0,400,400/27_cmu-athletics.rev.1717011793.png 2x\" type=\"image/png\"/>\n",
            "<img alt=\"CMU Tartans logo\" data-max-h=\"400\" data-max-w=\"400\" data-optimized=\"true\" height=\"200\" loading=\"lazy\" src=\"https://events.cmu.edu/live/image/gid/4/width/200/height/200/crop/1/src_region/0,0,400,400/27_cmu-athletics.rev.1717011793.png\" srcset=\"https://events.cmu.edu/live/image/scale/2x/gid/4/width/200/height/200/crop/1/src_region/0,0,400,400/27_cmu-athletics.rev.1717011793.png 2x\" width=\"200\"/>\n",
            "</picture>\n",
            "</a> </span> <div class=\"lw_events_title\"><a href=\"/event/11977-womens-volleyball-case-western-reserve-vs-carnegie\">(Women’s Volleyball) Case Western Reserve vs. Carnegie Mellon</a></div> </div> </div> <div class=\"lw_cal_event lw_has_image lw_category_open_to_the_public lw_category_athletics_recreation lw_category_alumni lw_category_faculty lw_category_general_public lw_category_graduate_students lw_category_staff lw_category_undergraduate_students lw_category_youth_(k-12)\" data-id=\"11976\"> <div class=\"lw_cal_event_info\"> <div class=\"lw_events_location\"> </div> <div class=\"lw_events_time\"> <span class=\"lw_start_time\">2</span> - <span class=\"lw_end_time\">5 p.m.</span> </div> <span class=\"lw_item_thumb\"> <a href=\"/event/11976-womens-volleyball-washu-vs-carnegie-mellon\"><picture class=\"lw_image\">\n",
            "<source data-origin=\"responsive\" srcset=\"https://events.cmu.edu/live/image/scale/2x/gid/4/width/200/height/200/crop/1/src_region/0,0,400,400/27_cmu-athletics.rev.1717011793.webp 2x\" type=\"image/webp\"/>\n",
            "<source data-origin=\"responsive\" srcset=\"https://events.cmu.edu/live/image/scale/2x/gid/4/width/200/height/200/crop/1/src_region/0,0,400,400/27_cmu-athletics.rev.1717011793.png 2x\" type=\"image/png\"/>\n",
            "<img alt=\"CMU Tartans logo\" data-max-h=\"400\" data-max-w=\"400\" data-optimized=\"true\" height=\"200\" loading=\"lazy\" src=\"https://events.cmu.edu/live/image/gid/4/width/200/height/200/crop/1/src_region/0,0,400,400/27_cmu-athletics.rev.1717011793.png\" srcset=\"https://events.cmu.edu/live/image/scale/2x/gid/4/width/200/height/200/crop/1/src_region/0,0,400,400/27_cmu-athletics.rev.1717011793.png 2x\" width=\"200\"/>\n",
            "</picture>\n",
            "</a> </span> <div class=\"lw_events_title\"><a href=\"/event/11976-womens-volleyball-washu-vs-carnegie-mellon\">(Women’s Volleyball) WashU vs. Carnegie Mellon</a></div> </div> </div> <div class=\"lw_cal_event lw_has_image lw_repeats lw_tag_civic-engagement lw_tag_cmu-votes lw_tag_democratic-engagement lw_tag_nexus-of-civic-engagement lw_tag_slice lw_tag_student-affairs lw_tag_voter-resources lw_category_leadership_civic_engagement lw_category_graduate_students lw_category_undergraduate_students\" data-id=\"12329\"> <div class=\"lw_cal_event_info\"> <div class=\"lw_cal_location_link_wrapper\"> [ <a class=\"lw_cal_location_link\" data-latitude=\"40.443354\" data-longitude=\"-79.941927\" href=\"?event_id=12329\">map</a> ] </div> <div class=\"lw_events_location\"> Nexus of Civic Engagement, Room 102, Cohon Univers... </div> <div class=\"lw_events_time\"> <span class=\"lw_start_time\">4</span> - <span class=\"lw_end_time\">7 p.m.</span> <span class=\"postfix\">Weekly (to Nov 6)</span> </div> <span class=\"lw_item_thumb\"> <a href=\"/event/12329-voter-registration-assistance\"><picture class=\"lw_image\">\n",
            "<source data-origin=\"responsive\" srcset=\"https://events.cmu.edu/live/image/scale/2x/gid/6/width/200/height/200/crop/1/src_region/0,0,896,1205/175_CMU_Votes_Scotty_Head_2.rev.1727785260.png 2x, https://events.cmu.edu/live/image/scale/3x/gid/6/width/200/height/200/crop/1/src_region/0,0,896,1205/175_CMU_Votes_Scotty_Head_2.rev.1727785260.png 3x\" type=\"image/png\"/>\n",
            "<img alt=\"Scotty is a member of CMU Votes and encourages you to participate in democratic engagement events throughout the year.\" data-max-h=\"1205\" data-max-w=\"896\" data-optimized=\"true\" height=\"200\" loading=\"lazy\" src=\"https://events.cmu.edu/live/image/gid/6/width/200/height/200/crop/1/src_region/0,0,896,1205/175_CMU_Votes_Scotty_Head_2.rev.1727785260.png\" srcset=\"https://events.cmu.edu/live/image/scale/2x/gid/6/width/200/height/200/crop/1/src_region/0,0,896,1205/175_CMU_Votes_Scotty_Head_2.rev.1727785260.png 2x, https://events.cmu.edu/live/image/scale/3x/gid/6/width/200/height/200/crop/1/src_region/0,0,896,1205/175_CMU_Votes_Scotty_Head_2.rev.1727785260.png 3x\" width=\"200\"/>\n",
            "</picture>\n",
            "</a> </span> <div class=\"lw_events_title\"><a href=\"/event/12329-voter-registration-assistance\">Voter Registration Assistance</a></div> <div class=\"lw_events_summary\"><p>\n",
            "  A member of the CMU Votes team will be available to help you register to vote, check your voter registration status, and/or find your polling place for the upcoming election\n",
            "</p></div> </div> </div> <div class=\"lw_cal_event lw_has_image lw_multi_day lw_first_multi_day lw_category_open_to_the_public lw_category_arts_performance lw_category_alumni lw_category_faculty lw_category_general_public lw_category_graduate_students lw_category_staff lw_category_undergraduate_students\" data-id=\"7307\"> <div class=\"lw_cal_event_info\"> <div class=\"lw_cal_location_link_wrapper\"> [ <a class=\"lw_cal_location_link\" data-latitude=\"40.441104\" data-longitude=\"-79.943734\" href=\"?event_id=7307\">map</a> ] </div> <div class=\"lw_events_location\"> Hunt Library, Fourth Floor </div> <div class=\"lw_events_time\">  All Day </div> <span class=\"lw_item_thumb\"> <a href=\"/event/7307-here-to-stay-celebrating-40-years-at-the\"><picture class=\"lw_image\">\n",
            "<source data-origin=\"responsive\" srcset=\"https://events.cmu.edu/live/image/scale/2x/gid/3/width/200/height/200/crop/1/src_region/0,0,800,800/38_archarch40_website.rev.1719341395.webp 2x, https://events.cmu.edu/live/image/scale/3x/gid/3/width/200/height/200/crop/1/src_region/0,0,800,800/38_archarch40_website.rev.1719341395.webp 3x\" type=\"image/webp\"/>\n",
            "<source data-origin=\"responsive\" srcset=\"https://events.cmu.edu/live/image/scale/2x/gid/3/width/200/height/200/crop/1/src_region/0,0,800,800/38_archarch40_website.rev.1719341395.png 2x, https://events.cmu.edu/live/image/scale/3x/gid/3/width/200/height/200/crop/1/src_region/0,0,800,800/38_archarch40_website.rev.1719341395.png 3x\" type=\"image/png\"/>\n",
            "<img alt=\"Event Thumbnail\" data-max-h=\"800\" data-max-w=\"800\" data-optimized=\"true\" height=\"200\" loading=\"lazy\" src=\"https://events.cmu.edu/live/image/gid/3/width/200/height/200/crop/1/src_region/0,0,800,800/38_archarch40_website.rev.1719341395.png\" srcset=\"https://events.cmu.edu/live/image/scale/2x/gid/3/width/200/height/200/crop/1/src_region/0,0,800,800/38_archarch40_website.rev.1719341395.png 2x, https://events.cmu.edu/live/image/scale/3x/gid/3/width/200/height/200/crop/1/src_region/0,0,800,800/38_archarch40_website.rev.1719341395.png 3x\" width=\"200\"/>\n",
            "</picture>\n",
            "</a> </span> <div class=\"lw_events_title\"><a href=\"/event/7307-here-to-stay-celebrating-40-years-at-the\">Here to Stay: Celebrating 40 Years at the Architecture Archives</a></div> <div class=\"lw_events_summary\"><p>\n",
            "  This University Libraries’ exhibition celebrates the 40th anniversary of the Architecture Archives, which was founded to create, conserve and promote the rich history of Pittsburgh’s buildings and tell part of the story of this dynamic city.\n",
            "</p></div> </div> </div> <div class=\"lw_cal_event lw_has_image lw_multi_day lw_first_multi_day lw_category_open_to_the_public lw_category_campus_life lw_category_alumni lw_category_faculty lw_category_general_public lw_category_graduate_students lw_category_staff lw_category_undergraduate_students\" data-id=\"10974\"> <div class=\"lw_cal_event_info\"> <div class=\"lw_cal_location_link_wrapper\"> [ <a class=\"lw_cal_location_link\" data-latitude=\"40.441104\" data-longitude=\"-79.943734\" href=\"?event_id=10974\">map</a> ] </div> <div class=\"lw_events_location\"> Hunt Library Gallery </div> <div class=\"lw_events_time\">  All Day </div> <span class=\"lw_item_thumb\"> <a href=\"/event/10974-like-totally-transformative-cmu-in-the-1980s\"><picture class=\"lw_image\">\n",
            "<source data-origin=\"responsive\" srcset=\"https://events.cmu.edu/live/image/scale/2x/gid/3/width/200/height/200/crop/1/src_region/0,0,591,559/107_2024.8.26_LikeTotally_WebsiteArtboard_1.p_s_.rev.1725542721.webp 2x\" type=\"image/webp\"/>\n",
            "<source data-origin=\"responsive\" srcset=\"https://events.cmu.edu/live/image/scale/2x/gid/3/width/200/height/200/crop/1/src_region/0,0,591,559/107_2024.8.26_LikeTotally_WebsiteArtboard_1.p_s_.rev.1725542721.jpg 2x\" type=\"image/jpeg\"/>\n",
            "<img alt=\"Event Thumbnail\" data-max-h=\"559\" data-max-w=\"591\" data-optimized=\"true\" height=\"200\" loading=\"lazy\" src=\"https://events.cmu.edu/live/image/gid/3/width/200/height/200/crop/1/src_region/0,0,591,559/107_2024.8.26_LikeTotally_WebsiteArtboard_1.p_s_.rev.1725542721.jpg\" srcset=\"https://events.cmu.edu/live/image/scale/2x/gid/3/width/200/height/200/crop/1/src_region/0,0,591,559/107_2024.8.26_LikeTotally_WebsiteArtboard_1.p_s_.rev.1725542721.jpg 2x\" width=\"200\"/>\n",
            "</picture>\n",
            "</a> </span> <div class=\"lw_events_title\"><a href=\"/event/10974-like-totally-transformative-cmu-in-the-1980s\">Like, Totally Transformative: CMU in the 1980s</a></div> <div class=\"lw_events_summary\"><p>\n",
            "  This University Libraries’ exhibit is a portal to the past, a snapshot of life on campus more than four decades ago as our world began to transform!\n",
            "</p></div> </div> </div> <div class=\"lw_cal_event lw_has_image lw_multi_day lw_first_multi_day lw_tag_inclusive-holiday-observation lw_category_diversity_inclusion lw_category_faculty lw_category_graduate_students lw_category_staff lw_category_undergraduate_students\" data-id=\"9893\"> <div class=\"lw_cal_event_info\"> <div class=\"lw_events_location\"> </div> <div class=\"lw_events_time\">  All Day </div> <span class=\"lw_item_thumb\"> <a href=\"/event/9893-national-disability-employment-awareness-month\"><picture class=\"lw_image\">\n",
            "<source data-origin=\"responsive\" srcset=\"https://events.cmu.edu/live/image/scale/2x/gid/9/width/200/height/200/crop/1/src_region/0,0,2000,2000/166_NDEAM_Square_English_1000x1000.rev.1727700292.webp 2x, https://events.cmu.edu/live/image/scale/3x/gid/9/width/200/height/200/crop/1/src_region/0,0,2000,2000/166_NDEAM_Square_English_1000x1000.rev.1727700292.webp 3x\" type=\"image/webp\"/>\n",
            "<source data-origin=\"responsive\" srcset=\"https://events.cmu.edu/live/image/scale/2x/gid/9/width/200/height/200/crop/1/src_region/0,0,2000,2000/166_NDEAM_Square_English_1000x1000.rev.1727700292.jpg 2x, https://events.cmu.edu/live/image/scale/3x/gid/9/width/200/height/200/crop/1/src_region/0,0,2000,2000/166_NDEAM_Square_English_1000x1000.rev.1727700292.jpg 3x\" type=\"image/jpeg\"/>\n",
            "<img alt=\"Event Thumbnail\" data-max-h=\"2000\" data-max-w=\"2000\" data-optimized=\"true\" height=\"200\" loading=\"lazy\" src=\"https://events.cmu.edu/live/image/gid/9/width/200/height/200/crop/1/src_region/0,0,2000,2000/166_NDEAM_Square_English_1000x1000.rev.1727700292.jpg\" srcset=\"https://events.cmu.edu/live/image/scale/2x/gid/9/width/200/height/200/crop/1/src_region/0,0,2000,2000/166_NDEAM_Square_English_1000x1000.rev.1727700292.jpg 2x, https://events.cmu.edu/live/image/scale/3x/gid/9/width/200/height/200/crop/1/src_region/0,0,2000,2000/166_NDEAM_Square_English_1000x1000.rev.1727700292.jpg 3x\" width=\"200\"/>\n",
            "</picture>\n",
            "</a> </span> <div class=\"lw_events_title\"><a href=\"/event/9893-national-disability-employment-awareness-month\">National Disability Employment Awareness Month</a></div> </div> </div> <div class=\"lw_cal_event lw_has_image lw_multi_day lw_first_multi_day lw_tag_democratic-engagement lw_category_open_to_the_public lw_category_leadership_civic_engagement lw_category_alumni lw_category_faculty lw_category_general_public lw_category_graduate_students lw_category_staff lw_category_undergraduate_students\" data-id=\"12484\"> <div class=\"lw_cal_event_info\"> <div class=\"lw_cal_location_link_wrapper\"> [ <a class=\"lw_cal_location_link\" data-latitude=\"40.443354\" data-longitude=\"-79.941927\" href=\"?event_id=12484\">map</a> ] </div> <div class=\"lw_events_location\"> Cohon University Center, Main Hallway </div> <div class=\"lw_events_time\">  All Day </div> <span class=\"lw_item_thumb\"> <a href=\"/event/12484-your-vote-your-future-exhibition\"><picture class=\"lw_image\">\n",
            "<source data-origin=\"responsive\" srcset=\"https://events.cmu.edu/live/image/scale/2x/gid/6/width/200/height/200/crop/1/src_region/0,0,896,1205/183_CMU_Votes_Scotty_Head.rev.1727787708.png 2x, https://events.cmu.edu/live/image/scale/3x/gid/6/width/200/height/200/crop/1/src_region/0,0,896,1205/183_CMU_Votes_Scotty_Head.rev.1727787708.png 3x\" type=\"image/png\"/>\n",
            "<img alt=\"Scotty is a member of CMU Votes and encourages you to participate in democratic engagement events throughout the year.\" data-max-h=\"1205\" data-max-w=\"896\" data-optimized=\"true\" height=\"200\" loading=\"lazy\" src=\"https://events.cmu.edu/live/image/gid/6/width/200/height/200/crop/1/src_region/0,0,896,1205/183_CMU_Votes_Scotty_Head.rev.1727787708.png\" srcset=\"https://events.cmu.edu/live/image/scale/2x/gid/6/width/200/height/200/crop/1/src_region/0,0,896,1205/183_CMU_Votes_Scotty_Head.rev.1727787708.png 2x, https://events.cmu.edu/live/image/scale/3x/gid/6/width/200/height/200/crop/1/src_region/0,0,896,1205/183_CMU_Votes_Scotty_Head.rev.1727787708.png 3x\" width=\"200\"/>\n",
            "</picture>\n",
            "</a> </span> <div class=\"lw_events_title\"><a href=\"/event/12484-your-vote-your-future-exhibition\">“Your Vote, Your Future” Exhibition</a></div> <div class=\"lw_events_summary\"><p>\n",
            "  Get inspired to vote by attending “Your Vote, Your Future,” an exhibition created by the School of Design’s third-year communication design students that emphasizes the power of voting and civic engagement. \n",
            "</p></div> </div> </div> </div>\n"
          ]
        }
      ]
    },
    {
      "cell_type": "code",
      "source": [
        "soup.find_all('div', {'id':\"main-content\"})"
      ],
      "metadata": {
        "colab": {
          "base_uri": "https://localhost:8080/"
        },
        "id": "Y2KZ_BT9RNiH",
        "outputId": "372c3faf-8fc3-4136-bcff-a8e23b5cc8c3"
      },
      "execution_count": null,
      "outputs": [
        {
          "output_type": "execute_result",
          "data": {
            "text/plain": [
              "[<div class=\"col-lg-9\" id=\"main-content\">\n",
              " <div class=\"clearfix\" id=\"lw_cal_view_selector\"> <ul role=\"navigation\"> <li class=\"today\"><a aria-label=\"October 15, 2024 Events View\" href=\"#!view/day/date/20241015\">October 15, 2024</a></li> <li class=\"day\"><a aria-label=\"Day View\" href=\"#!view/day\">Day</a></li> <li class=\"week\"><a aria-label=\"Week View\" href=\"#!view/week\">Week</a></li> <li class=\"month\"><a aria-label=\"Month View\" href=\"#!view/month\">Month</a></li> <li class=\"all\"> <a aria-label=\"List All Upcoming Events\" href=\"#!view/all\"><span class=\"m\">List </span><span>All Upcoming Events</span></a> <span class=\"lw_hidden\" id=\"lw_cal_events_badge\"></span> </li> </ul> </div>\n",
              " <div id=\"lw_cal\">\n",
              " <div id=\"lw_cal_header\"> <div id=\"lw_cal_date_selector\"></div> <div id=\"lw_cal_scroll_links\"></div> <h5 id=\"lw_cal_this_day\"></h5> <div id=\"lw_cal_showing\"></div> </div>\n",
              " <div class=\"lw_clearfix\" id=\"lw_cal_body\">\n",
              " <div class=\"lw_cal_loading\" id=\"lw_cal_events\" tabindex=\"-1\">\n",
              " </div>\n",
              " </div>\n",
              " <div class=\"lw_widget_syntax lw_hidden\" title=\"%3Cwidget%20type%3D%22events_calendar%22%3E%3Carg%20id%3D%22mini_cal_heat_map%22%3Etrue%3C%2Farg%3E%3Carg%20id%3D%22thumb_width%22%3E200%3C%2Farg%3E%3Carg%20id%3D%22thumb_height%22%3E200%3C%2Farg%3E%3Carg%20id%3D%22hide_repeats%22%3Efalse%3C%2Farg%3E%3Carg%20id%3D%22show_groups%22%3Etrue%3C%2Farg%3E%3Carg%20id%3D%22show_locations%22%3Efalse%3C%2Farg%3E%3Carg%20id%3D%22show_tags%22%3Etrue%3C%2Farg%3E%3Carg%20id%3D%22month_view_day_limit%22%3E2%3C%2Farg%3E%3Carg%20id%3D%22use_tag_classes%22%3Efalse%3C%2Farg%3E%3Carg%20id%3D%22search_all_events_only%22%3Etrue%3C%2Farg%3E%3Carg%20id%3D%22use_modular_templates%22%3Etrue%3C%2Farg%3E%3Carg%20id%3D%22exclude_tag%22%3Eexclude%20from%20main%20calendar%3C%2Farg%3E%3Carg%20id%3D%22display_all_day_events_last%22%3Etrue%3C%2Farg%3E%3C%2Fwidget%3E\">\n",
              " </div>\n",
              " </div>\n",
              " <div id=\"lw_cal_js_templates\">\n",
              " <script id=\"lw_cal_date_selector_template\" type=\"text/template\"> <form> <label for=\"lw_cal_date_picker\" class=\"lw_sr_only\">Jump to date:</label> <select class=\"lw_cal_date_picker form-control input-sm\" id=\"lw_cal_date_picker\"> {[ _.each(dates, function(dt) { ]} <option value=\"{{ dt.value }}\"{[ if (dt.selected) { print(' selected=\\\"selected\\\"'); } ]}> {{ dt.label }} </option> {[ }); ]} </select> </form> </script><script id=\"lw_cal_day_template\" type=\"text/template\"> <div id=\"lw_cal_day_leftcol\"> <div id=\"lw_cal_day_date\"> <span class=\"lw_cal_today_month\">{{ month }}</span> <span class=\"lw_cal_today_day\">{{ day }}</span> </div> {[ if (obj.weather) { ]} <div id=\"lw_cal_weather\"> Weather in {{ weather.location }}:<br /> <span>{{ weather.description }}</span> </div> {[ } ]} <div id=\"lw_cal_today_facts\"> {{ today_facts }} </div> </div> <div id=\"lw_cal_day_rightcol\"> {[ if (obj.feature) { ]} {{ feature }} {[ } ]} <div class=\"lw_cal_event_list\"> {{ events }} </div> {[ if (obj.upcoming_events) { ]} <div class=\"lw_cal_upcoming_events\"> <h3>Upcoming Featured Events</h3> <div class=\"lw_cal_event_list\"> {{ upcoming_events }} </div> </div> {[ } ]} </div> </script> <script id=\"lw_cal_home_template\" type=\"text/template\"> <div id=\"lw_cal_day_leftcol\"> <div id=\"lw_cal_day_date\"> <span class=\"lw_cal_today_month\">{{ month }}</span> <span class=\"lw_cal_today_day\">{{ day }}</span> </div> {[ if (obj.weather) { ]} <div id=\"lw_cal_weather\"> Weather in {{ weather.location }}:<br /> <span>{{ weather.description }}</span> </div> {[ } ]} <div id=\"lw_cal_today_facts\"> {{ today_facts }} </div> </div> <div id=\"lw_cal_day_rightcol\"> {[ if (obj.feature) { ]} {{ feature }} {[ } ]} <div class=\"lw_cal_event_list\"> {{ events }} </div> {[ if (obj.upcoming_events) { ]} <div class=\"lw_cal_upcoming_events\"> <h3>Upcoming Featured Events</h3> <div class=\"lw_cal_event_list\"> {{ upcoming_events }} </div> </div> {[ } ]} </div> </script> <script id=\"lw_cal_calendar_selector_template\" type=\"text/template\"> <form id=\"lw_cal_calendar\" class=\"lw_cal_selector filter lw_cal_calendar\"> <div class=\"filter-label btn\" aria-expanded=\"false\" aria-controls=\"calendar-filter-dropdown\" role=\"button\" tabindex=\"0\"> <span class=\"filter-title\" id=\"lw_cal_calendar_selector_label\" lw_sr_only=\"Filter events by calendar\" role=\"label\">Calendar</span> <span class=\"lw-icon lw-icon-angle-down filter-icon\"></span> </div> <fieldset> <legend class=\"lw_sr_only\">Filter by calendar</legend> <div class=\"filter-dropdown\" id=\"calendar-filter-dropdown\" role=\"listbox\" aria-labelledby=\"lw_cal_calendar_selector_label\"> <ul> {[ _.each(calendars, function(calendar) { ]} <li class=\"filter-option\"><label><input type=\"checkbox\" value=\"{{ calendar.directory }}\"/>{{ calendar.title }}</label></li> {[ }); ]} </ul> </div> </fieldset> </form> </script> <script id=\"lw_cal_category_selector_template\" type=\"text/template\"> <form id=\"lw_cal_category_selector\" class=\"lw_hidden lw_cal_selector filter\"> <div class=\"filter-label btn\" aria-expanded=\"false\" aria-controls=\"event-filter-dropdown\" role=\"button\" tabindex=\"0\"> <span class=\"filter-title\" id=\"lw_cal_category_selector_label\" lw_sr_only=\"Filter events by event type\" role=\"label\">Event Type</span> <span class=\"lw-icon lw-icon-angle-down filter-icon\"></span> </div> <fieldset> <legend class=\"lw_sr_only\">Filter by event type</legend> <div class=\"filter-dropdown\" id=\"event-filter-dropdown\" role=\"listbox\" aria-labelledby=\"lw_cal_category_selector_label\"> <div id=\"lw_cal_online_selector\" class=\"lw_cal_selector\"></div> <ul> {[ _.each(categories, function(category) { ]} <li class=\"filter-option\"><label><input type=\"checkbox\" value=\"{{ category }}\"/>{{ category }}</label></li> {[ }); ]} </ul> </div> </fieldset> </form> </script> <script id=\"lw_cal_category_audience_selector_template\" type=\"text/template\"> <form id=\"lw_cal_category_audience_selector\" class=\"lw_hidden lw_cal_selector filter\"> <div class=\"filter-label btn\" aria-expanded=\"false\" aria-controls=\"audience-filter-dropdown\" role=\"button\" tabindex=\"0\"> <span class=\"filter-title\" id=\"lw_cal_audience_selector_label\" lw_sr_only=\"Filter events by audience\" role=\"label\">Audience</span> <span class=\"lw-icon lw-icon-angle-down filter-icon\"></span> </div> <fieldset> <legend class=\"lw_sr_only\">Filter by audience</legend> <div class=\"filter-dropdown\" id=\"audience-filter-dropdown\" role=\"listbox\" aria-labelledby=\"lw_cal_audience_selector_label\"> <ul> {[ _.each(audiences, function(category) { ]} <li class=\"filter-option\"><label><input type=\"checkbox\" value=\"{{ category }}\"/>{{ category }}</label></li> {[ }); ]} </ul> </div> </fieldset> </form> </script> <script id=\"lw_cal_category_campus_selector_template\" type=\"text/template\"> <form id=\"lw_cal_category_campus_selector\" class=\"lw_hidden lw_cal_selector filter\"> <div class=\"filter-label btn\" aria-expanded=\"false\" aria-controls=\"campus-filter-dropdown\" role=\"button\" tabindex=\"0\"> <span class=\"filter-title\" id=\"lw_cal_campus_selector_label\" lw_sr_only=\"Filter events by campus\" role=\"label\">Campus</span> <span class=\"lw-icon lw-icon-angle-down filter-icon\"></span> </div> <fieldset> <legend class=\"lw_sr_only\">Filter by campus</legend> <div class=\"filter-dropdown\" id=\"campus-filter-dropdown\" role=\"listbox\" aria-labelledby=\"lw_cal_campus_selector_label\"> <ul> {[ _.each(campuses, function(category) { ]} <li class=\"filter-option\"><label><input type=\"checkbox\" value=\"{{ category }}\"/>{{ category }}</label></li> {[ }); ]} </ul> </div> </fieldset> </form> </script> <script id=\"lw_cal_group_selector_template\" type=\"text/template\"> <form id=\"lw_cal_group_selector\" class=\"lw_cal_selector filter\">  <div class=\"filter-label btn\" aria-expanded=\"false\" aria-controls=\"calendar-filter-dropdown\" role=\"button\" tabindex=\"0\"> <span class=\"filter-title\" id=\"lw_cal_group_selector_label\" lw_sr_only=\"Filter events by calendar\" role=\"label\">Calendar</span> <span class=\"lw-icon lw-icon-angle-down filter-icon\"></span> </div> <fieldset> <legend class=\"lw_sr_only\">Filter by calendar</legend> <div class=\"filter-dropdown\" id=\"group-filter-dropdown\" role=\"listbox\" aria-labelledby=\"lw_cal_calendar_selector_label\"> <ul> {[ _.each(groups, function(group) { ]} <li class=\"filter-option {{ group.class }}\"><label><input type=\"checkbox\" value=\"{{ group.fullname }}\"/>{{ group.title }}</label></li> {[ }); ]} </ul> </div> </fieldset> </form> </script> <script id=\"lw_cal_location_selector_template\" type=\"text/template\"> <form id=\"lw_cal_location_selector\" class=\"lw_hidden lw_cal_selector\"> <h4>Locations:</h4> <ul> {[ _.each(locations, function(location) { ]} <li><label><input type=\"checkbox\" value=\"{{ location.id }}\"/>{{ location.title }}</label></li> {[ }); ]} </ul> </form> </script> <script id=\"lw_cal_tag_selector_template\" type=\"text/template\"> <div id=\"lw_cal_tag_selector\" class=\"lw_hidden lw_cal_selector lw_clearfix\"> <h4><span class=\"lw_sr_only\">Filter by </span>Tags <small><a href=\"#\" id=\"lw_cal_tag_toggle\" aria-expanded=\"false\">show</a></small></h4> <ul> {[ _.each(tags, function(tag, index) { ]} <li class=\"lw_cal_tag\"><input type=\"checkbox\" id=\"lw_tag_{{ index }}\" class=\"lw_sr_only\" /><label for=\"lw_tag_{{ index }}\">{{ tag }}</label></li> {[ }); ]} </ul> </div> </script> <script id=\"lw_cal_event_detail_template\" type=\"text/template\"> {[ if (obj.hero_image) { ]} <div id=\"lw_cal_hero\" style=\"background-image:url({{hero_image}})\"> <div> <h1>{{ title }}</h1> <h3> {[ if (obj.is_online) { ]} <i class=\"lw-icon lw-icon-videocam\" aria-label=\"Online event\"></i>  {[ } ]} {{ date_time }} </h3> </div> </div> <h4>{{ location }}</h4> {[ } ]} {[ if (!obj.hero_image) { ]} <h1>{{ title }}</h1> <p> {[ if (obj.is_online) { ]} <i class=\"lw-icon lw-icon-videocam\" aria-label=\"Online event\"></i>  {[ } ]} {[ if (obj.date_time) { ]} {{ date_time }} <br/> {[ } ]} {[ if (obj.location) { ]} {{ location }} <br/> {[ } ]} {[ if (obj.is_repeating) { ]} Repeats {{repeats}} {{ until }} <br/> {[ } ]} </p> {[ } ]} <div id=\"lw_cal_event_leftcol\"> {{ image }} {[ if (obj.is_online) { ]} {[ if (obj.online_url) { ]} <a class=\"lw_join_online\" href=\" {{ obj.online_url }}\"> {[ if (obj.online_button_label) { ]} {{ obj.online_button_label }} {[ } else { ]} Join Event {[ } ]} </a> {[ } ]} {[ if (obj.online_instructions) { ]} <div id=\"lw_cal_online_instructions\"> {{ online_instructions }} </div> {[ } ]} {[ } ]} {[ if (obj.location_latitude) { ]} <div class=\"lw_cal_event_detail_map\"></div> {[ } ]} {[ if (obj.contact_info) { ]} <h3>Contact Info:</h3> <p>{{ contact_info }}</p> {[ } ]} {[ if (obj.related_content) { ]} <div id=\"lw_cal_event_related_content\"> <h3>Related Content:</h3> {{ related_content }} </div> {[ } ]} {{ share_links }} </div> <div id=\"lw_cal_event_rightcol\"> {[ if (obj.summary) { ]} <div class=\"intro\"> {{ summary }} </div> {[ } ]} {[ if (obj.description) { ]} <div class=\"lw_calendar_event_description\"> {{ description }} </div> {[ } ]} {[ if (obj.cost) { ]} <div class=\"lw_calendar_event_cost\"> {{ cost_type }} {{ cost }} </div> {[ } ]} {[ if (obj.has_registration) { ]} {{ registration }} {[ } ]}  <div class=\"lw_cal_event_group\" style=\"display:none;\"> Posted to calendar: {{obj.group}} </div> <div id=\"event_options\"> {[ if (logged_in) { ]} <span class=\"lw_cal_event_edit\"> <a href=\"/livewhale/?events_edit&amp;id={{ id }}\"><span class=\"lw-icon-edit lw-icon-fw\"></span> Edit this event</a> </span> {[ } ]} <div id=\"lw_cal_add_to_calendar\"> {[ if (!is_repeating) { ]} <a href=\"{{ ical_download_href }}\" class=\"lw-direct-link btn ghost\"><span class=\"lw-icon-calendar lw-icon-fw\"></span> Add to my calendar</a> {[ } else { ]} <a href=\"#\"><span class=\"lw-icon-calendar lw-icon-fw\"></span> Add to my calendar</a> <ul style=\"display:none\"> <li> <a href=\"{{ ical_download_href }}\" target=\"cal\">Add this event</a> </li> <li> <a href=\"{{ ical_all_series }}\" target=\"cal\">Add all events in series</a> </li> </ul> {[ } ]} </div> <div id=\"disqus_thread\"></div> </div> </div> </script><script id=\"lw_cal_event_template\" type=\"text/template\"> <div class=\"lw_cal_event{[ obj.is_canceled ? print(' lw_is_canceled') : '' ]}{[ obj.is_online ? print(' lw_is_online') : '' ]}{[ obj.image_src ? print(' lw_has_image') : '' ]}{[ obj.repeats ? print(' lw_repeats') : '' ]}{[ obj.is_multi_day ? print(' lw_multi_day') : '' ]}{[ obj.is_first_multi_day ? print(' lw_first_multi_day') : '' ]}{[ obj.multi_day_span ? print(' lw_multi_day_span'+obj.multi_day_span) : '' ]}{[ obj.href ? '' : print(' lw_no_details') ]}{[ obj.tag_classes ? print(' '+obj.tag_classes) : '' ]}{[ obj.category_classes ? print(' '+obj.category_classes) : '' ]}\" data-id={{ id }}> <div class=\"lw_cal_event_info\"> {[ if (obj.has_map) { ]} <div class=\"lw_cal_location_link_wrapper\"> [ <a href=\"?event_id={{ id }}\" data-latitude=\"{{ latitude }}\" data-longitude=\"{{ longitude }}\" class=\"lw_cal_location_link\">map</a> ] </div> {[ } ]} <div class=\"lw_events_location\"> {{ location }} </div> <div class=\"lw_events_time\"> {[ if (obj.is_online) { ]} <i class=\"lw-icon lw-icon-videocam\" aria-label=\"Online event\"></i>  {[ } ]} {{ time }} </div> {[ if (obj.image_raw ) { ]} <span class=\"lw_item_thumb\"> <a href=\"{{ href }}\">{{ image_raw }}</a> </span> {[ } ]} <div class=\"lw_events_title\">{{ title_link }}</div> {[ if (obj.summary) { ]} <div class=\"lw_events_summary\">{{ summary }}</div> {[ } ]} {[ if (obj.until) { ]} <div class=\"lw_events_until\">{{ until }}</div> {[ } ]} </div> </div> </script> <script id=\"lw_cal_event_images_template\" type=\"text/template\"> <div class=\"lw_event_image\"> {{ image }} </div> </script><script id=\"lw_cal_event_related_content\" type=\"text/template\"> <div class=\"lw_related_{{ type }}{[ if (obj.doc_type) { print(' ' + doc_type.toLowerCase()); } ]}\"> <a href=\"{{ href }}\">{{ title }}</a> </div> </script><script id=\"lw_cal_event_share_icons\" type=\"text/template\"> <ul class=\"lw_widget_saveandshare\"> <li class=\"lw_item_1 facebook\"> <a href=\"{{ facebook }}\" target=\"_blank\"> <span class=\"lw-icon-facebook-square lw-icon-2x\" aria-label=\"Share on Facebook\"></span> <span class=\"lw_sr_only\">Facebook</span> </a> </li> <li class=\"lw_item_2 twitter\"> <a href=\"{{ twitter }}\" target=\"_blank\" aria-label=\"Share on Twitter\"> <span class=\"lw-icon-twitter-square lw-icon-2x\"></span> <span class=\"lw_sr_only\">Twitter</span> </a> </li> <li class=\"lw_item_3 email\"> <a href=\"#\" target=\"_blank\" aria-label=\"Share via Email\"> <span class=\"lw-icon-envelope-o lw-icon-2x\"></span> <span class=\"lw_sr_only\">Email</span> </a> </li> <li class=\"lw_item_4 permalink\"> <a href=\"#\" target=\"_blank\" aria-label=\"Copy Link\"> <span class=\"lw-icon-link lw-icon-2x\"></span> <span class=\"lw_sr_only\">Copy Link</span> </a> </li> </ul> </script> <script id=\"lw_cal_feature\" type=\"text/template\"> <div class=\"lw_cal_feature lw_cal_event_list lw_clearfix\"> {{ feature_top }} {[ if (obj.feature_items) { ]} <div class=\"feature-highlights triplet-highlights\"> {{ feature_items }} </div> {[ } ]} </div> </script> <script id=\"lw_cal_feature_item\" type=\"text/template\"> <div class=\"highlight1-3\"> {[ if (obj.image_src) { ]} <a href=\"{{ href }}\" class=\"highlight-image-container image-container dark-overlay ui-link\"><img src=\"{{ image_src }}\" alt=\"Event Thumbnail\" class=\"lw_image\" /></a> {[ } ]} <a href=\"{{ href }}\" class=\"highlight-title ui-link\"> {{ title }} </a> <div class=\"lw_nyu_time_location\">{[ if (obj.date_time) { ]}{{ obj.date_time }}{[ } ]}</div> </div> </script> <script id=\"lw_cal_feature_top\" type=\"text/template\"> <div class=\"feature-top\"> {[ if (obj.image_src) { ]} <a href=\"{{href}}\"><div class=\"feature-top-image\" style=\"background-image: url({{image_src}});\"></div></a> {[ } ]} <div class=\"feature-top-info\"> <h4>{{ title_link }}</h4> <div class=\"nyu-date-time\">{{ date_title }} &middot; {{ time }}</div> {[ if (obj.location) { ]} <p class=\"map-marker\"> {[ if (obj.has_map) { ]} <a href=\"?event_id={{ id }}\" data-latitude=\"{{ latitude }}\" data-longitude=\"{{ longitude }}\" class=\"lw_cal_location_link\">{{ location }}</a> {[ } else { ]} {{ location }} {[ } ]} </p> {[ } ]} {[ if (obj.summary) { ]} <p>{{ summary }}</p> {[ } ]} </div> </div> </script> <script id=\"lw_cal_feed_template\" type=\"text/template\"> <div class=\"lw_cal_feed_builder\"> <p>Select one or more items below to generate a custom URL for your feed.</p> <div class=\"lw_cal_feed_selectors\"> {[ if (selectors.category) { ]} <div> <h4>Event Type:</h4> {{ selectors.category }} </div> {[ } ]} {[ if (selectors.audience) { ]} <div> <h4>Audience:</h4> {{ selectors.audience }} </div> {[ } ]} {[ if (selectors.campus) { ]} <div> <h4>Campus:</h4> {{ selectors.campus }} </div> {[ } ]} {[ if (selectors.location) { ]} <div> <h4>Location:</h4> {{ selectors.location }} </div> {[ } ]} {[ if (selectors.group) { ]} <div> <h4>Calendar:</h4> {{ selectors.group }} </div> {[ } ]} {[ if (selectors.tag) { ]} <div> <h4>Tag:</h4> {{ selectors.tag }} </div> {[ } ]} </div> <div class=\"lw_cal_feed_result\"> <label for=\"lw_cal_feed_ical_result\">iCal</label> <input type=\"text\" id=\"lw_cal_feed_ical_result\" />  <label for=\"lw_cal_feed_rss_result\">RSS</label> <input type=\"text\" id=\"lw_cal_feed_rss_result\" />  </div> </div> </script> <script id=\"lw_cal_feed_selector_template\" type=\"text/template\"> <div class=\"lw_cal_feed_selector lw_cal_feed_selector_type_{{ type }}\"> <input type=\"text\" /> <ul> {[ _.each(items, function(item) { ]} <li><label><input type=\"checkbox\" value=\"{{ item.id }}\" />{{ item.title }}</label></li> {[ }); ]} </ul> </div> </script> <script id=\"lw_cal_online_selector_template\" type=\"text/template\"> <form id=\"lw_cal_online_selector\" class=\"lw_cal_selector m-0\" style=\"overflow:visible;\"> <ul> <li style=\"\"><label class=\"m-0\"><input type=\"checkbox\" />Online events <i class=\"lw-icon lw-icon-videocam\" aria-hidden=\"true\" role=\"presentation\"></i></label> </li> </ul> </form> </script> <script id=\"lw_cal_header_template\" type=\"text/template\"> <div id=\"lw_cal_header\"> <div id=\"lw_cal_date_selector\"></div> <div id=\"lw_cal_scroll_links\"></div> <h5 id=\"lw_cal_this_day\"></h5> <div id=\"lw_cal_showing\"></div> </div> </script> <script id=\"lw_cal_list_template\" type=\"text/template\"> <h3>{{ date }}</h3> <div> <div class=\"lw_cal_event_list\"> {{ events }} </div> </div> </script> <script id=\"lw_cal_login_link_template\" type=\"text/template\"> {[ if (livewhale.logged_in) { ]} <a href=\"/livewhale/?logout\">Log Out</a> {[ } else { ]} <a href=\"/livewhale/?login&amp;referer=1\">Log In</a> {[ } ]} </script><script id=\"lw_cal_all_template\" type=\"text/template\"> {{ events }} </script> <script id=\"lw_cal_week_template\" type=\"text/template\"> {{ events }} </script> <script id=\"lw_cal_mini_cal_template\" type=\"text/template\"> <h3 role=\"application\" aria-label=\"Month selector\"> <a href=\"#\" class=\"lw_left\" role=\"button\"><span class=\"lw-icon-lg lw-icon-chevron-circle-left\"></span><span class=\"lw_sr_only\">Previous Month</span></a> <span id=\"mini_cal_header\">{{ mini_cal_header }}</span> <a href=\"#\" class=\"lw_right\" role=\"button\"><span class=\"lw-icon-lg lw-icon-chevron-circle-right\"></span><span class=\"lw_sr_only\">Next Month</span></a> </h3> <div class=\"lw_sr_only\">To use the following date selector, first Tab to enter and the current date will be selected.</div> <table role=\"grid\" aria-readonly=\"true\"> <thead> <th aria-label=\"Sunday\">S<span>un</span><span class=\"lw_sr_only\">day</span></th> <th aria-label=\"Monday\">M<span>on</span><span class=\"lw_sr_only\">day</span></th> <th aria-label=\"Tuesday\">T<span>ue</span><span class=\"lw_sr_only\">sday</span></th> <th aria-label=\"Wednesday\">W<span>ed</span><span class=\"lw_sr_only\">nesday</span></th> <th aria-label=\"Thursday\">T<span>hu</span><span class=\"lw_sr_only\">rsday</span></th> <th aria-label=\"Friday\">F<span>ri</span><span class=\"lw_sr_only\">day</span></th> <th aria-label=\"Span\">S<span>at</span><span class=\"lw_sr_only\">urday</span></th> </thead> <tbody>{{ mini_cal_body }}</tbody> </table> <div class=\"lw_week_select\" style=\"display: none;\"><div>&gt;</div></div> </script> <script id=\"lw_cal_month_template\" type=\"text/template\"> <table id=\"lw_cal_month_table\" cellpadding=\"0\" cellspacing=\"0\" class=\"lw_cal_borders\"> <caption class=\"lw_sr_only\">{{ caption }}</caption> <thead> <tr>{{ week_days }}</tr> </thead> <tbody> {{ days }} </tbody> </table> </script> <script id=\"lw_cal_month_day_template\" type=\"text/template\"> <td class=\"{{ class_name }}\"> <span class=\"lw_cal_date\"> <a href=\"#!view/day/date/{{ date }}\">{{ day }}</a> <span class=\"lw_cal_month_week_day lw_hidden\">{{ day_of_week }}</span> </span> <div class=\"lw_cal_event_list\"> {{ events }} </div> </td> </script> <script id=\"lw_cal_month_event_template\" type=\"text/template\"> <div class=\"lw_cal_event{[ obj.repeats ? print(' lw_repeats') : '' ]}{[ obj.is_multi_day ? print(' lw_multi_day') : '' ]}{[ obj.is_first_multi_day ? print(' lw_first_multi_day') : '' ]}{[ obj.multi_day_span ? print(' lw_multi_day_span'+obj.multi_day_span) : '' ]}{[ obj.href ? '' : print(' lw_no_details') ]}{[ obj.tag_classes ? print(' '+obj.tag_classes) : '' ]}{[ obj.category_classes ? print(' '+obj.category_classes) : '' ]}\" data-id={{ id }}> <div class=\"lw_cal_event_info\"> <div class=\"lw_events_time\">{{ time }}</div> <div class=\"lw_events_title\">{{ title_link }}</div> {[ if (obj.summary) { ]} <div class=\"lw_events_summary\">{{ summary }}</div> {[ } ]} {[ if (obj.until) { ]} <div class=\"lw_events_until\">{{ until }}</div> {[ } ]} </div> </div> </script> <script id=\"lw_cal_no_results_template\" type=\"text/template\"> <div class=\"no\"><p>No events found.</p></div> </script> <script id=\"lw_cal_scroll_link_template\" type=\"text/template\"> <div class=\"lw_cal_date_scroll\"> <a href=\"#!date/{{ prev_date }}\"><span class=\"lw-icon-2x lw-icon-chevron-circle-left\"><span class=\"lw_sr_only\">Previous</span></a> </div> <div class=\"lw_cal_date_scroll\"> <a href=\"#!date/{{ next_date }}\"><span class=\"lw-icon-2x lw-icon-chevron-circle-right\"><span class=\"lw_sr_only\">Next</span></a> </div> </script> <script id=\"lw_cal_search_template\" type=\"text/template\"> <form id=\"lw_cal_search_form\"> <label for=\"lw_cal_search\" class=\"lw_sr_only\">Search events:</label> <input type=\"text\" id=\"lw_cal_search\" placeholder=\"Search events\"/> <button type=\"submit\" class=\"lw_sr_only_focusable\">Search</button> </form> </script> <script id=\"lw_cal_showing_template\" type=\"text/template\"> {[ if (obj.filters.length) { ]} <p> <span>Showing events</span> {[ _.each(obj.filters, function(filter, index) { ]} <span class=\"showing_{{filter.name}}\"> {[ if (filter.name === 'tags') { ]} <span>tagged</span> {[ } else if (filter.name === 'groups') { ]} <span>from</span> {[ } else if (filter.name === 'locations') { ]} <span>at</span> {[ } else { ]} {[ if (index === 0) { ]} <span>in</span> {[ } else { ]} <span>and in</span> {[ } ]} {[ } ]} {[ _.each(filter.values, function(val, index) { ]} <a href=\"{{ val }}\" class=\"lw_cal_showing_{{ filter.name }}\">{{ val }}</a>{[ if (index < filter.values.length - 1) { ]}<span>, </span>{[ } ]} {[ }); ]} </span> {[ }); ]} </p> {[ } ]} {[ if (obj.search_str) { ]} <p> <span>Showing search results matching</span> \"<a href=\"{{ obj.search_str }}\" class=\"lw_cal_showing_search\">{{ obj.search_str }}</a>\" </p> {[ } ]} {[ if (obj.start_date) { ]} <p> <span>Date range:</span> <span class=\"lw_cal_showing_range\"> {{ formatDate(obj.start_date, 'M j, Y') }} {[ if (obj.end_date) { ]} to {{ formatDate(obj.end_date, 'M j, Y') }} {[ } ]} </span> </p> {[ } ]} {[ if (obj.only_online) { ]} <p>Showing <strong>online events</strong> only</p> {[ } ]} <p><a href=\"#\" class=\"lw_cal_clear_filters\">Clear all filters</a></p> </script> <script id=\"lw_cal_subscribe_template\" type=\"text/template\"> <div id=\"lw_cal_subscribe\"><button class=\"lw_cal_subscribe_button\">Subscribe <span class=\"lw-icon lw-icon-rss-square\"></span></button></div> </script><script id=\"lw_cal_subscription_menu_template\" type=\"text/template\"> <div id=\"lw_cal_subscription_menu\"> <p data-default=\"Main Calendar\">Current calendar:  {[ if (!_.isEmpty(group)) { ]} <strong>{{obj.group}}</strong> {[ } else { ]} <strong>Main Calendar</strong> {[ } ]} </p> <p><a class=\"lw_cal_sub\" href=\"{{ all_events_link }}\">Subscribe to all {{obj.group}} events</a></p> <p class=\"lw_link_copied\" style=\"display: none; margin: 10px 0;\"> Event feed link copied. <br/>Paste into any calendar app. </p> <p class=\"lw_link_copy_fail\" style=\"display: none; margin: 10px 0;\">Unable to copy link!</p> <h6 class=\"\" style=\"margin: 10px 0;\">Subscribe by event type:</h6> <ul></ul> </div> </script> <script id=\"lw_cal_timezone_menu_template\" type=\"text/template\"> <div id=\"lw_cal_tz\"> <div class=\"lw_spinner\"></div> <div class=\"lw_cal_tz_selector_content\"> <h3>Change Your Timezone</h3> <select class=\"lw_cal_tz_select\" id=\"timezones\" name=\"timezones\"> {[ _.each(timezones, function(tz) { ]} <option data-tz-abbrv=\"{{ tz[5] }}\" value=\"{{ tz[1] }}\">{{ tz[0] }}</option> {[ }); ]} </select> <div class=\"lw_cal_tz_action\"> <button class=\"lw_submit lw_cal_btn\">Change</button> <button class=\"lw_cancel lw_cal_btn\">Cancel</button> </div> </div> </div> </script> <script id=\"lw_cal_view_selector_template\" type=\"text/template\"> <div id=\"lw_cal_view_selector\" class=\"clearfix\"> <ul role=\"navigation\"> <li class=\"today\"><a href=\"#!view/day/date/{{ date }}\" aria-label=\"{{ display_date }} Events View\">{{ display_date }}</a></li> <li class=\"day\"><a href=\"#!view/day\" aria-label=\"Day View\">Day</a></li> <li class=\"week\"><a href=\"#!view/week\" aria-label=\"Week View\">Week</a></li> <li class=\"month\"><a href=\"#!view/month\" aria-label=\"Month View\">Month</a></li> {[ if (obj.search_view_enabled) { ]} <li class=\"search\"><a href=\"#!view/search\" aria-label=\"Search Results\">Search Results</a></li> {[ } ]} <li class=\"all\"> <a href=\"#!view/all\" aria-label=\"List All Upcoming Events\"><span class=\"m\">List </span><span>All Upcoming Events</span></a> <span id=\"lw_cal_events_badge\" class=\"lw_hidden\"></span> </li> </ul> </div> </script>\n",
              " </div>\n",
              " </div>]"
            ]
          },
          "metadata": {},
          "execution_count": 66
        }
      ]
    },
    {
      "cell_type": "code",
      "source": [
        "from selenium.webdriver.common.by import By\n",
        "from selenium.webdriver.support.ui import WebDriverWait\n",
        "from selenium.webdriver.support import expected_conditions as EC\n",
        "from selenium import webdriver\n",
        "from bs4 import BeautifulSoup\n",
        "import json\n",
        "\n",
        "def store_file(url, filename, return_soup=False):\n",
        "    # Set up Selenium's browser driver\n",
        "    driver = gs.Chrome()  # Ensure this is correctly configured for your setup\n",
        "    driver.get(url)\n",
        "\n",
        "    # Wait for the lw_cal_event_list to be rendered on the page\n",
        "    try:\n",
        "        WebDriverWait(driver, 10).until(\n",
        "            EC.presence_of_element_located((By.CLASS_NAME, \"lw_cal_event_list\"))\n",
        "        )\n",
        "    except Exception as e:\n",
        "        print(f\"Error: {e}\")\n",
        "\n",
        "    # Get the page source after waiting\n",
        "    soup = BeautifulSoup(driver.page_source, 'html.parser')\n",
        "\n",
        "    # Close the driver after getting the page source\n",
        "    driver.close()\n",
        "\n",
        "    # Find the main event list container\n",
        "    month=soup.find('span', class_=\"lw_cal_today_month\")\n",
        "    day=soup.find('span', class_=\"lw_cal_today_day\")\n",
        "    event_list_container = soup.find('div', class_=\"lw_cal_event_list\")\n",
        "\n",
        "    events = []\n",
        "\n",
        "    if event_list_container:\n",
        "        # Find all individual events\n",
        "        event_items = event_list_container.find_all('div', class_=\"lw_cal_event\")\n",
        "\n",
        "        # Iterate over each event and extract details\n",
        "        for item in event_items:\n",
        "            event = {}\n",
        "            # Get event name from the title section\n",
        "            event_name = item.find('div', {'class': 'lw_events_title'}).text.strip() if item.find('div', {'class': 'lw_events_title'}) else 'N/A'\n",
        "            event['event_name']=event_name\n",
        "\n",
        "            if item.find('div', {'class': 'lw_events_time'}):\n",
        "              # Get event time\n",
        "              event_time = item.find('div', {'class': 'lw_events_time'}).text.strip()\n",
        "              event['event_time']=month.text+' '+day.text+',2024'+'|'+event_time\n",
        "\n",
        "            if item.find('div', {'class': 'lw_events_location'}):\n",
        "              location = item.find('div', {'class': 'lw_events_location'}).text.strip()\n",
        "              if location !='':\n",
        "                event['location']=location\n",
        "\n",
        "            if item.find('div', {'class': 'lw_events_summary'}):\n",
        "              content = item.find('div', {'class': 'lw_events_summary'}).text.strip()\n",
        "              event['content']=content\n",
        "\n",
        "            # Append the event to the events list\n",
        "            events.append(event)\n",
        "    else:\n",
        "        print(\"No event list container found.\")\n",
        "\n",
        "    if return_soup:\n",
        "        return events\n",
        "\n",
        "    # Save events to a JSON file\n",
        "    with open(filename, 'w') as f:\n",
        "        json.dump(events, f, indent=4)\n",
        "\n",
        "    print(f\"Data saved to {filename}\")\n"
      ],
      "metadata": {
        "id": "g3gg_KZlIZRS"
      },
      "execution_count": null,
      "outputs": []
    },
    {
      "cell_type": "code",
      "source": [
        "print(urls[0])\n",
        "store_file(urls[0], 'a',return_soup=True)"
      ],
      "metadata": {
        "colab": {
          "base_uri": "https://localhost:8080/",
          "height": 506
        },
        "id": "tosjeOVqJ9l_",
        "outputId": "74d036a8-e812-4636-8b90-e245973f0f36"
      },
      "execution_count": null,
      "outputs": [
        {
          "output_type": "stream",
          "name": "stdout",
          "text": [
            "https://events.cmu.edu/day/date/20241027\n"
          ]
        },
        {
          "output_type": "display_data",
          "data": {
            "text/plain": [
              "<IPython.core.display.HTML object>"
            ],
            "text/html": [
              "\n",
              "            <div class=\"spinner-container\">\n",
              "                <div class=\"spinner\" id=\"dbe4f406-562c-4ae9-94e0-e0be49797718-circle\"></div>\n",
              "                <div class=\"spinner-text\" id=\"dbe4f406-562c-4ae9-94e0-e0be49797718-text\">Initializing Chromedriver</div>\n",
              "            </div>\n",
              "            <style>\n",
              "                @keyframes spin {\n",
              "                    from { transform: rotate(0deg); }\n",
              "                    to { transform: rotate(360deg); }\n",
              "                }\n",
              "\n",
              "                .spinner-container {\n",
              "                    display: flex;\n",
              "                    align-items: center;\n",
              "                    margin-bottom: 3px;\n",
              "                }\n",
              "\n",
              "                .spinner {\n",
              "                    border: 3px solid rgba(0, 0, 0, 0.1);\n",
              "                    border-left-color: lightblue;\n",
              "                    border-radius: 50%;\n",
              "                    width: 12px;\n",
              "                    height: 12px;\n",
              "                    animation: spin 1s linear infinite;\n",
              "                }\n",
              "\n",
              "                .spinner-text {\n",
              "                    padding-left: 6px;\n",
              "                }\n",
              "            </style>\n",
              "        "
            ]
          },
          "metadata": {}
        },
        {
          "output_type": "display_data",
          "data": {
            "text/plain": [
              "<IPython.core.display.Javascript object>"
            ],
            "application/javascript": [
              "\n",
              "            const element = document.getElementById(\"dbe4f406-562c-4ae9-94e0-e0be49797718-circle\");\n",
              "            element.style.border = \"3px solid limegreen\";\n",
              "            element.style.animation = \"none\";\n",
              "\n",
              "            const text = document.getElementById(\"dbe4f406-562c-4ae9-94e0-e0be49797718-text\");\n",
              "            text.innerText = \"Initialized Chromedriver\";\n",
              "        "
            ]
          },
          "metadata": {}
        },
        {
          "output_type": "execute_result",
          "data": {
            "text/plain": [
              "[{'event_name': '(Women’s Volleyball) Case Western Reserve vs. Carnegie Mellon',\n",
              "  'event_time': 'Noon - 3 p.m.|Oct 27,2024'},\n",
              " {'event_name': '(Women’s Volleyball) WashU vs. Carnegie Mellon',\n",
              "  'event_time': '2 - 5 p.m.|Oct 27,2024'},\n",
              " {'event_name': 'Voter Registration Assistance',\n",
              "  'event_time': '4 - 7 p.m. Weekly (to Nov 6)|Oct 27,2024',\n",
              "  'location': 'Nexus of Civic Engagement, Room 102, Cohon Univers...',\n",
              "  'content': 'A member of the CMU Votes team will be available to help you register to vote, check your voter registration status, and/or find your polling place for the upcoming election'},\n",
              " {'event_name': 'Here to Stay: Celebrating 40 Years at the Architecture Archives',\n",
              "  'event_time': 'All Day|Oct 27,2024',\n",
              "  'location': 'Hunt Library, Fourth Floor',\n",
              "  'content': 'This University Libraries’ exhibition celebrates the 40th anniversary of the Architecture Archives, which was founded to create, conserve and promote the rich history of Pittsburgh’s buildings and tell part of the story of this dynamic city.'},\n",
              " {'event_name': 'Like, Totally Transformative: CMU in the 1980s',\n",
              "  'event_time': 'All Day|Oct 27,2024',\n",
              "  'location': 'Hunt Library Gallery',\n",
              "  'content': 'This University Libraries’ exhibit is a portal to the past, a snapshot of life on campus more than four decades ago as our world began to transform!'},\n",
              " {'event_name': 'National Disability Employment Awareness Month',\n",
              "  'event_time': 'All Day|Oct 27,2024'},\n",
              " {'event_name': '“Your Vote, Your Future” Exhibition',\n",
              "  'event_time': 'All Day|Oct 27,2024',\n",
              "  'location': 'Cohon University Center, Main Hallway',\n",
              "  'content': 'Get inspired to vote by attending “Your Vote, Your Future,” an exhibition created by the School of Design’s third-year communication design students that emphasizes the power of voting and civic engagement.'}]"
            ]
          },
          "metadata": {},
          "execution_count": 96
        }
      ]
    },
    {
      "cell_type": "code",
      "source": [
        "events=[]\n",
        "for i in range(len(urls)):\n",
        "  events.extend(store_file(urls[i],'',return_soup=True))\n",
        "with open('/content/drive/MyDrive/11711/assignment2/data/CMUeventsCalendar.json', 'w') as f:\n",
        "    json.dump(events, f, indent=4)"
      ],
      "metadata": {
        "colab": {
          "base_uri": "https://localhost:8080/",
          "height": 1000
        },
        "id": "AHoFDla2Ib2h",
        "outputId": "8bca24fa-8025-442d-8459-38a3a1ae5d4b"
      },
      "execution_count": null,
      "outputs": [
        {
          "output_type": "display_data",
          "data": {
            "text/plain": [
              "<IPython.core.display.HTML object>"
            ],
            "text/html": [
              "\n",
              "            <div class=\"spinner-container\">\n",
              "                <div class=\"spinner\" id=\"540844d8-af4b-48e8-9813-8f92ebcc4b38-circle\"></div>\n",
              "                <div class=\"spinner-text\" id=\"540844d8-af4b-48e8-9813-8f92ebcc4b38-text\">Initializing Chromedriver</div>\n",
              "            </div>\n",
              "            <style>\n",
              "                @keyframes spin {\n",
              "                    from { transform: rotate(0deg); }\n",
              "                    to { transform: rotate(360deg); }\n",
              "                }\n",
              "\n",
              "                .spinner-container {\n",
              "                    display: flex;\n",
              "                    align-items: center;\n",
              "                    margin-bottom: 3px;\n",
              "                }\n",
              "\n",
              "                .spinner {\n",
              "                    border: 3px solid rgba(0, 0, 0, 0.1);\n",
              "                    border-left-color: lightblue;\n",
              "                    border-radius: 50%;\n",
              "                    width: 12px;\n",
              "                    height: 12px;\n",
              "                    animation: spin 1s linear infinite;\n",
              "                }\n",
              "\n",
              "                .spinner-text {\n",
              "                    padding-left: 6px;\n",
              "                }\n",
              "            </style>\n",
              "        "
            ]
          },
          "metadata": {}
        },
        {
          "output_type": "display_data",
          "data": {
            "text/plain": [
              "<IPython.core.display.Javascript object>"
            ],
            "application/javascript": [
              "\n",
              "            const element = document.getElementById(\"540844d8-af4b-48e8-9813-8f92ebcc4b38-circle\");\n",
              "            element.style.border = \"3px solid limegreen\";\n",
              "            element.style.animation = \"none\";\n",
              "\n",
              "            const text = document.getElementById(\"540844d8-af4b-48e8-9813-8f92ebcc4b38-text\");\n",
              "            text.innerText = \"Initialized Chromedriver\";\n",
              "        "
            ]
          },
          "metadata": {}
        },
        {
          "output_type": "display_data",
          "data": {
            "text/plain": [
              "<IPython.core.display.HTML object>"
            ],
            "text/html": [
              "\n",
              "            <div class=\"spinner-container\">\n",
              "                <div class=\"spinner\" id=\"8b3007b3-b53f-4ddd-b10f-2657e3d23a1e-circle\"></div>\n",
              "                <div class=\"spinner-text\" id=\"8b3007b3-b53f-4ddd-b10f-2657e3d23a1e-text\">Initializing Chromedriver</div>\n",
              "            </div>\n",
              "            <style>\n",
              "                @keyframes spin {\n",
              "                    from { transform: rotate(0deg); }\n",
              "                    to { transform: rotate(360deg); }\n",
              "                }\n",
              "\n",
              "                .spinner-container {\n",
              "                    display: flex;\n",
              "                    align-items: center;\n",
              "                    margin-bottom: 3px;\n",
              "                }\n",
              "\n",
              "                .spinner {\n",
              "                    border: 3px solid rgba(0, 0, 0, 0.1);\n",
              "                    border-left-color: lightblue;\n",
              "                    border-radius: 50%;\n",
              "                    width: 12px;\n",
              "                    height: 12px;\n",
              "                    animation: spin 1s linear infinite;\n",
              "                }\n",
              "\n",
              "                .spinner-text {\n",
              "                    padding-left: 6px;\n",
              "                }\n",
              "            </style>\n",
              "        "
            ]
          },
          "metadata": {}
        },
        {
          "output_type": "display_data",
          "data": {
            "text/plain": [
              "<IPython.core.display.Javascript object>"
            ],
            "application/javascript": [
              "\n",
              "            const element = document.getElementById(\"8b3007b3-b53f-4ddd-b10f-2657e3d23a1e-circle\");\n",
              "            element.style.border = \"3px solid limegreen\";\n",
              "            element.style.animation = \"none\";\n",
              "\n",
              "            const text = document.getElementById(\"8b3007b3-b53f-4ddd-b10f-2657e3d23a1e-text\");\n",
              "            text.innerText = \"Initialized Chromedriver\";\n",
              "        "
            ]
          },
          "metadata": {}
        },
        {
          "output_type": "display_data",
          "data": {
            "text/plain": [
              "<IPython.core.display.HTML object>"
            ],
            "text/html": [
              "\n",
              "            <div class=\"spinner-container\">\n",
              "                <div class=\"spinner\" id=\"7034b16d-472c-479f-93ca-a52fd1556993-circle\"></div>\n",
              "                <div class=\"spinner-text\" id=\"7034b16d-472c-479f-93ca-a52fd1556993-text\">Initializing Chromedriver</div>\n",
              "            </div>\n",
              "            <style>\n",
              "                @keyframes spin {\n",
              "                    from { transform: rotate(0deg); }\n",
              "                    to { transform: rotate(360deg); }\n",
              "                }\n",
              "\n",
              "                .spinner-container {\n",
              "                    display: flex;\n",
              "                    align-items: center;\n",
              "                    margin-bottom: 3px;\n",
              "                }\n",
              "\n",
              "                .spinner {\n",
              "                    border: 3px solid rgba(0, 0, 0, 0.1);\n",
              "                    border-left-color: lightblue;\n",
              "                    border-radius: 50%;\n",
              "                    width: 12px;\n",
              "                    height: 12px;\n",
              "                    animation: spin 1s linear infinite;\n",
              "                }\n",
              "\n",
              "                .spinner-text {\n",
              "                    padding-left: 6px;\n",
              "                }\n",
              "            </style>\n",
              "        "
            ]
          },
          "metadata": {}
        },
        {
          "output_type": "display_data",
          "data": {
            "text/plain": [
              "<IPython.core.display.Javascript object>"
            ],
            "application/javascript": [
              "\n",
              "            const element = document.getElementById(\"7034b16d-472c-479f-93ca-a52fd1556993-circle\");\n",
              "            element.style.border = \"3px solid limegreen\";\n",
              "            element.style.animation = \"none\";\n",
              "\n",
              "            const text = document.getElementById(\"7034b16d-472c-479f-93ca-a52fd1556993-text\");\n",
              "            text.innerText = \"Initialized Chromedriver\";\n",
              "        "
            ]
          },
          "metadata": {}
        },
        {
          "output_type": "display_data",
          "data": {
            "text/plain": [
              "<IPython.core.display.HTML object>"
            ],
            "text/html": [
              "\n",
              "            <div class=\"spinner-container\">\n",
              "                <div class=\"spinner\" id=\"9ecabd9e-1fd6-48b7-942e-f2469d389663-circle\"></div>\n",
              "                <div class=\"spinner-text\" id=\"9ecabd9e-1fd6-48b7-942e-f2469d389663-text\">Initializing Chromedriver</div>\n",
              "            </div>\n",
              "            <style>\n",
              "                @keyframes spin {\n",
              "                    from { transform: rotate(0deg); }\n",
              "                    to { transform: rotate(360deg); }\n",
              "                }\n",
              "\n",
              "                .spinner-container {\n",
              "                    display: flex;\n",
              "                    align-items: center;\n",
              "                    margin-bottom: 3px;\n",
              "                }\n",
              "\n",
              "                .spinner {\n",
              "                    border: 3px solid rgba(0, 0, 0, 0.1);\n",
              "                    border-left-color: lightblue;\n",
              "                    border-radius: 50%;\n",
              "                    width: 12px;\n",
              "                    height: 12px;\n",
              "                    animation: spin 1s linear infinite;\n",
              "                }\n",
              "\n",
              "                .spinner-text {\n",
              "                    padding-left: 6px;\n",
              "                }\n",
              "            </style>\n",
              "        "
            ]
          },
          "metadata": {}
        },
        {
          "output_type": "display_data",
          "data": {
            "text/plain": [
              "<IPython.core.display.Javascript object>"
            ],
            "application/javascript": [
              "\n",
              "            const element = document.getElementById(\"9ecabd9e-1fd6-48b7-942e-f2469d389663-circle\");\n",
              "            element.style.border = \"3px solid limegreen\";\n",
              "            element.style.animation = \"none\";\n",
              "\n",
              "            const text = document.getElementById(\"9ecabd9e-1fd6-48b7-942e-f2469d389663-text\");\n",
              "            text.innerText = \"Initialized Chromedriver\";\n",
              "        "
            ]
          },
          "metadata": {}
        },
        {
          "output_type": "display_data",
          "data": {
            "text/plain": [
              "<IPython.core.display.HTML object>"
            ],
            "text/html": [
              "\n",
              "            <div class=\"spinner-container\">\n",
              "                <div class=\"spinner\" id=\"91ff1ac9-9e3a-4b23-997d-7f9e0ec702fb-circle\"></div>\n",
              "                <div class=\"spinner-text\" id=\"91ff1ac9-9e3a-4b23-997d-7f9e0ec702fb-text\">Initializing Chromedriver</div>\n",
              "            </div>\n",
              "            <style>\n",
              "                @keyframes spin {\n",
              "                    from { transform: rotate(0deg); }\n",
              "                    to { transform: rotate(360deg); }\n",
              "                }\n",
              "\n",
              "                .spinner-container {\n",
              "                    display: flex;\n",
              "                    align-items: center;\n",
              "                    margin-bottom: 3px;\n",
              "                }\n",
              "\n",
              "                .spinner {\n",
              "                    border: 3px solid rgba(0, 0, 0, 0.1);\n",
              "                    border-left-color: lightblue;\n",
              "                    border-radius: 50%;\n",
              "                    width: 12px;\n",
              "                    height: 12px;\n",
              "                    animation: spin 1s linear infinite;\n",
              "                }\n",
              "\n",
              "                .spinner-text {\n",
              "                    padding-left: 6px;\n",
              "                }\n",
              "            </style>\n",
              "        "
            ]
          },
          "metadata": {}
        },
        {
          "output_type": "display_data",
          "data": {
            "text/plain": [
              "<IPython.core.display.Javascript object>"
            ],
            "application/javascript": [
              "\n",
              "            const element = document.getElementById(\"91ff1ac9-9e3a-4b23-997d-7f9e0ec702fb-circle\");\n",
              "            element.style.border = \"3px solid limegreen\";\n",
              "            element.style.animation = \"none\";\n",
              "\n",
              "            const text = document.getElementById(\"91ff1ac9-9e3a-4b23-997d-7f9e0ec702fb-text\");\n",
              "            text.innerText = \"Initialized Chromedriver\";\n",
              "        "
            ]
          },
          "metadata": {}
        },
        {
          "output_type": "display_data",
          "data": {
            "text/plain": [
              "<IPython.core.display.HTML object>"
            ],
            "text/html": [
              "\n",
              "            <div class=\"spinner-container\">\n",
              "                <div class=\"spinner\" id=\"bc7c5306-f8fa-4a0d-8c70-b318f2f3220e-circle\"></div>\n",
              "                <div class=\"spinner-text\" id=\"bc7c5306-f8fa-4a0d-8c70-b318f2f3220e-text\">Initializing Chromedriver</div>\n",
              "            </div>\n",
              "            <style>\n",
              "                @keyframes spin {\n",
              "                    from { transform: rotate(0deg); }\n",
              "                    to { transform: rotate(360deg); }\n",
              "                }\n",
              "\n",
              "                .spinner-container {\n",
              "                    display: flex;\n",
              "                    align-items: center;\n",
              "                    margin-bottom: 3px;\n",
              "                }\n",
              "\n",
              "                .spinner {\n",
              "                    border: 3px solid rgba(0, 0, 0, 0.1);\n",
              "                    border-left-color: lightblue;\n",
              "                    border-radius: 50%;\n",
              "                    width: 12px;\n",
              "                    height: 12px;\n",
              "                    animation: spin 1s linear infinite;\n",
              "                }\n",
              "\n",
              "                .spinner-text {\n",
              "                    padding-left: 6px;\n",
              "                }\n",
              "            </style>\n",
              "        "
            ]
          },
          "metadata": {}
        },
        {
          "output_type": "display_data",
          "data": {
            "text/plain": [
              "<IPython.core.display.Javascript object>"
            ],
            "application/javascript": [
              "\n",
              "            const element = document.getElementById(\"bc7c5306-f8fa-4a0d-8c70-b318f2f3220e-circle\");\n",
              "            element.style.border = \"3px solid limegreen\";\n",
              "            element.style.animation = \"none\";\n",
              "\n",
              "            const text = document.getElementById(\"bc7c5306-f8fa-4a0d-8c70-b318f2f3220e-text\");\n",
              "            text.innerText = \"Initialized Chromedriver\";\n",
              "        "
            ]
          },
          "metadata": {}
        },
        {
          "output_type": "display_data",
          "data": {
            "text/plain": [
              "<IPython.core.display.HTML object>"
            ],
            "text/html": [
              "\n",
              "            <div class=\"spinner-container\">\n",
              "                <div class=\"spinner\" id=\"b7fa17e4-62c5-4a97-b75e-635e1214f562-circle\"></div>\n",
              "                <div class=\"spinner-text\" id=\"b7fa17e4-62c5-4a97-b75e-635e1214f562-text\">Initializing Chromedriver</div>\n",
              "            </div>\n",
              "            <style>\n",
              "                @keyframes spin {\n",
              "                    from { transform: rotate(0deg); }\n",
              "                    to { transform: rotate(360deg); }\n",
              "                }\n",
              "\n",
              "                .spinner-container {\n",
              "                    display: flex;\n",
              "                    align-items: center;\n",
              "                    margin-bottom: 3px;\n",
              "                }\n",
              "\n",
              "                .spinner {\n",
              "                    border: 3px solid rgba(0, 0, 0, 0.1);\n",
              "                    border-left-color: lightblue;\n",
              "                    border-radius: 50%;\n",
              "                    width: 12px;\n",
              "                    height: 12px;\n",
              "                    animation: spin 1s linear infinite;\n",
              "                }\n",
              "\n",
              "                .spinner-text {\n",
              "                    padding-left: 6px;\n",
              "                }\n",
              "            </style>\n",
              "        "
            ]
          },
          "metadata": {}
        },
        {
          "output_type": "display_data",
          "data": {
            "text/plain": [
              "<IPython.core.display.Javascript object>"
            ],
            "application/javascript": [
              "\n",
              "            const element = document.getElementById(\"b7fa17e4-62c5-4a97-b75e-635e1214f562-circle\");\n",
              "            element.style.border = \"3px solid limegreen\";\n",
              "            element.style.animation = \"none\";\n",
              "\n",
              "            const text = document.getElementById(\"b7fa17e4-62c5-4a97-b75e-635e1214f562-text\");\n",
              "            text.innerText = \"Initialized Chromedriver\";\n",
              "        "
            ]
          },
          "metadata": {}
        },
        {
          "output_type": "display_data",
          "data": {
            "text/plain": [
              "<IPython.core.display.HTML object>"
            ],
            "text/html": [
              "\n",
              "            <div class=\"spinner-container\">\n",
              "                <div class=\"spinner\" id=\"c4322544-206b-4e86-88e9-0486c7c97def-circle\"></div>\n",
              "                <div class=\"spinner-text\" id=\"c4322544-206b-4e86-88e9-0486c7c97def-text\">Initializing Chromedriver</div>\n",
              "            </div>\n",
              "            <style>\n",
              "                @keyframes spin {\n",
              "                    from { transform: rotate(0deg); }\n",
              "                    to { transform: rotate(360deg); }\n",
              "                }\n",
              "\n",
              "                .spinner-container {\n",
              "                    display: flex;\n",
              "                    align-items: center;\n",
              "                    margin-bottom: 3px;\n",
              "                }\n",
              "\n",
              "                .spinner {\n",
              "                    border: 3px solid rgba(0, 0, 0, 0.1);\n",
              "                    border-left-color: lightblue;\n",
              "                    border-radius: 50%;\n",
              "                    width: 12px;\n",
              "                    height: 12px;\n",
              "                    animation: spin 1s linear infinite;\n",
              "                }\n",
              "\n",
              "                .spinner-text {\n",
              "                    padding-left: 6px;\n",
              "                }\n",
              "            </style>\n",
              "        "
            ]
          },
          "metadata": {}
        },
        {
          "output_type": "display_data",
          "data": {
            "text/plain": [
              "<IPython.core.display.Javascript object>"
            ],
            "application/javascript": [
              "\n",
              "            const element = document.getElementById(\"c4322544-206b-4e86-88e9-0486c7c97def-circle\");\n",
              "            element.style.border = \"3px solid limegreen\";\n",
              "            element.style.animation = \"none\";\n",
              "\n",
              "            const text = document.getElementById(\"c4322544-206b-4e86-88e9-0486c7c97def-text\");\n",
              "            text.innerText = \"Initialized Chromedriver\";\n",
              "        "
            ]
          },
          "metadata": {}
        },
        {
          "output_type": "display_data",
          "data": {
            "text/plain": [
              "<IPython.core.display.HTML object>"
            ],
            "text/html": [
              "\n",
              "            <div class=\"spinner-container\">\n",
              "                <div class=\"spinner\" id=\"bc74b5c2-6909-45ca-a1d7-b6d3a69559ab-circle\"></div>\n",
              "                <div class=\"spinner-text\" id=\"bc74b5c2-6909-45ca-a1d7-b6d3a69559ab-text\">Initializing Chromedriver</div>\n",
              "            </div>\n",
              "            <style>\n",
              "                @keyframes spin {\n",
              "                    from { transform: rotate(0deg); }\n",
              "                    to { transform: rotate(360deg); }\n",
              "                }\n",
              "\n",
              "                .spinner-container {\n",
              "                    display: flex;\n",
              "                    align-items: center;\n",
              "                    margin-bottom: 3px;\n",
              "                }\n",
              "\n",
              "                .spinner {\n",
              "                    border: 3px solid rgba(0, 0, 0, 0.1);\n",
              "                    border-left-color: lightblue;\n",
              "                    border-radius: 50%;\n",
              "                    width: 12px;\n",
              "                    height: 12px;\n",
              "                    animation: spin 1s linear infinite;\n",
              "                }\n",
              "\n",
              "                .spinner-text {\n",
              "                    padding-left: 6px;\n",
              "                }\n",
              "            </style>\n",
              "        "
            ]
          },
          "metadata": {}
        },
        {
          "output_type": "display_data",
          "data": {
            "text/plain": [
              "<IPython.core.display.Javascript object>"
            ],
            "application/javascript": [
              "\n",
              "            const element = document.getElementById(\"bc74b5c2-6909-45ca-a1d7-b6d3a69559ab-circle\");\n",
              "            element.style.border = \"3px solid limegreen\";\n",
              "            element.style.animation = \"none\";\n",
              "\n",
              "            const text = document.getElementById(\"bc74b5c2-6909-45ca-a1d7-b6d3a69559ab-text\");\n",
              "            text.innerText = \"Initialized Chromedriver\";\n",
              "        "
            ]
          },
          "metadata": {}
        },
        {
          "output_type": "display_data",
          "data": {
            "text/plain": [
              "<IPython.core.display.HTML object>"
            ],
            "text/html": [
              "\n",
              "            <div class=\"spinner-container\">\n",
              "                <div class=\"spinner\" id=\"c89be128-8968-4443-a50d-9adb56ae1f0b-circle\"></div>\n",
              "                <div class=\"spinner-text\" id=\"c89be128-8968-4443-a50d-9adb56ae1f0b-text\">Initializing Chromedriver</div>\n",
              "            </div>\n",
              "            <style>\n",
              "                @keyframes spin {\n",
              "                    from { transform: rotate(0deg); }\n",
              "                    to { transform: rotate(360deg); }\n",
              "                }\n",
              "\n",
              "                .spinner-container {\n",
              "                    display: flex;\n",
              "                    align-items: center;\n",
              "                    margin-bottom: 3px;\n",
              "                }\n",
              "\n",
              "                .spinner {\n",
              "                    border: 3px solid rgba(0, 0, 0, 0.1);\n",
              "                    border-left-color: lightblue;\n",
              "                    border-radius: 50%;\n",
              "                    width: 12px;\n",
              "                    height: 12px;\n",
              "                    animation: spin 1s linear infinite;\n",
              "                }\n",
              "\n",
              "                .spinner-text {\n",
              "                    padding-left: 6px;\n",
              "                }\n",
              "            </style>\n",
              "        "
            ]
          },
          "metadata": {}
        },
        {
          "output_type": "display_data",
          "data": {
            "text/plain": [
              "<IPython.core.display.Javascript object>"
            ],
            "application/javascript": [
              "\n",
              "            const element = document.getElementById(\"c89be128-8968-4443-a50d-9adb56ae1f0b-circle\");\n",
              "            element.style.border = \"3px solid limegreen\";\n",
              "            element.style.animation = \"none\";\n",
              "\n",
              "            const text = document.getElementById(\"c89be128-8968-4443-a50d-9adb56ae1f0b-text\");\n",
              "            text.innerText = \"Initialized Chromedriver\";\n",
              "        "
            ]
          },
          "metadata": {}
        },
        {
          "output_type": "display_data",
          "data": {
            "text/plain": [
              "<IPython.core.display.HTML object>"
            ],
            "text/html": [
              "\n",
              "            <div class=\"spinner-container\">\n",
              "                <div class=\"spinner\" id=\"79b40189-e184-4b6b-a4b2-55d3a334f938-circle\"></div>\n",
              "                <div class=\"spinner-text\" id=\"79b40189-e184-4b6b-a4b2-55d3a334f938-text\">Initializing Chromedriver</div>\n",
              "            </div>\n",
              "            <style>\n",
              "                @keyframes spin {\n",
              "                    from { transform: rotate(0deg); }\n",
              "                    to { transform: rotate(360deg); }\n",
              "                }\n",
              "\n",
              "                .spinner-container {\n",
              "                    display: flex;\n",
              "                    align-items: center;\n",
              "                    margin-bottom: 3px;\n",
              "                }\n",
              "\n",
              "                .spinner {\n",
              "                    border: 3px solid rgba(0, 0, 0, 0.1);\n",
              "                    border-left-color: lightblue;\n",
              "                    border-radius: 50%;\n",
              "                    width: 12px;\n",
              "                    height: 12px;\n",
              "                    animation: spin 1s linear infinite;\n",
              "                }\n",
              "\n",
              "                .spinner-text {\n",
              "                    padding-left: 6px;\n",
              "                }\n",
              "            </style>\n",
              "        "
            ]
          },
          "metadata": {}
        },
        {
          "output_type": "display_data",
          "data": {
            "text/plain": [
              "<IPython.core.display.Javascript object>"
            ],
            "application/javascript": [
              "\n",
              "            const element = document.getElementById(\"79b40189-e184-4b6b-a4b2-55d3a334f938-circle\");\n",
              "            element.style.border = \"3px solid limegreen\";\n",
              "            element.style.animation = \"none\";\n",
              "\n",
              "            const text = document.getElementById(\"79b40189-e184-4b6b-a4b2-55d3a334f938-text\");\n",
              "            text.innerText = \"Initialized Chromedriver\";\n",
              "        "
            ]
          },
          "metadata": {}
        },
        {
          "output_type": "display_data",
          "data": {
            "text/plain": [
              "<IPython.core.display.HTML object>"
            ],
            "text/html": [
              "\n",
              "            <div class=\"spinner-container\">\n",
              "                <div class=\"spinner\" id=\"064870fa-f9aa-41aa-b2df-c72a5f05dab2-circle\"></div>\n",
              "                <div class=\"spinner-text\" id=\"064870fa-f9aa-41aa-b2df-c72a5f05dab2-text\">Initializing Chromedriver</div>\n",
              "            </div>\n",
              "            <style>\n",
              "                @keyframes spin {\n",
              "                    from { transform: rotate(0deg); }\n",
              "                    to { transform: rotate(360deg); }\n",
              "                }\n",
              "\n",
              "                .spinner-container {\n",
              "                    display: flex;\n",
              "                    align-items: center;\n",
              "                    margin-bottom: 3px;\n",
              "                }\n",
              "\n",
              "                .spinner {\n",
              "                    border: 3px solid rgba(0, 0, 0, 0.1);\n",
              "                    border-left-color: lightblue;\n",
              "                    border-radius: 50%;\n",
              "                    width: 12px;\n",
              "                    height: 12px;\n",
              "                    animation: spin 1s linear infinite;\n",
              "                }\n",
              "\n",
              "                .spinner-text {\n",
              "                    padding-left: 6px;\n",
              "                }\n",
              "            </style>\n",
              "        "
            ]
          },
          "metadata": {}
        },
        {
          "output_type": "display_data",
          "data": {
            "text/plain": [
              "<IPython.core.display.Javascript object>"
            ],
            "application/javascript": [
              "\n",
              "            const element = document.getElementById(\"064870fa-f9aa-41aa-b2df-c72a5f05dab2-circle\");\n",
              "            element.style.border = \"3px solid limegreen\";\n",
              "            element.style.animation = \"none\";\n",
              "\n",
              "            const text = document.getElementById(\"064870fa-f9aa-41aa-b2df-c72a5f05dab2-text\");\n",
              "            text.innerText = \"Initialized Chromedriver\";\n",
              "        "
            ]
          },
          "metadata": {}
        },
        {
          "output_type": "display_data",
          "data": {
            "text/plain": [
              "<IPython.core.display.HTML object>"
            ],
            "text/html": [
              "\n",
              "            <div class=\"spinner-container\">\n",
              "                <div class=\"spinner\" id=\"20a9c5b8-cf33-481f-9068-e5cce6f2be34-circle\"></div>\n",
              "                <div class=\"spinner-text\" id=\"20a9c5b8-cf33-481f-9068-e5cce6f2be34-text\">Initializing Chromedriver</div>\n",
              "            </div>\n",
              "            <style>\n",
              "                @keyframes spin {\n",
              "                    from { transform: rotate(0deg); }\n",
              "                    to { transform: rotate(360deg); }\n",
              "                }\n",
              "\n",
              "                .spinner-container {\n",
              "                    display: flex;\n",
              "                    align-items: center;\n",
              "                    margin-bottom: 3px;\n",
              "                }\n",
              "\n",
              "                .spinner {\n",
              "                    border: 3px solid rgba(0, 0, 0, 0.1);\n",
              "                    border-left-color: lightblue;\n",
              "                    border-radius: 50%;\n",
              "                    width: 12px;\n",
              "                    height: 12px;\n",
              "                    animation: spin 1s linear infinite;\n",
              "                }\n",
              "\n",
              "                .spinner-text {\n",
              "                    padding-left: 6px;\n",
              "                }\n",
              "            </style>\n",
              "        "
            ]
          },
          "metadata": {}
        },
        {
          "output_type": "display_data",
          "data": {
            "text/plain": [
              "<IPython.core.display.Javascript object>"
            ],
            "application/javascript": [
              "\n",
              "            const element = document.getElementById(\"20a9c5b8-cf33-481f-9068-e5cce6f2be34-circle\");\n",
              "            element.style.border = \"3px solid limegreen\";\n",
              "            element.style.animation = \"none\";\n",
              "\n",
              "            const text = document.getElementById(\"20a9c5b8-cf33-481f-9068-e5cce6f2be34-text\");\n",
              "            text.innerText = \"Initialized Chromedriver\";\n",
              "        "
            ]
          },
          "metadata": {}
        },
        {
          "output_type": "display_data",
          "data": {
            "text/plain": [
              "<IPython.core.display.HTML object>"
            ],
            "text/html": [
              "\n",
              "            <div class=\"spinner-container\">\n",
              "                <div class=\"spinner\" id=\"68769e13-ac91-41fb-8749-d71f86796619-circle\"></div>\n",
              "                <div class=\"spinner-text\" id=\"68769e13-ac91-41fb-8749-d71f86796619-text\">Initializing Chromedriver</div>\n",
              "            </div>\n",
              "            <style>\n",
              "                @keyframes spin {\n",
              "                    from { transform: rotate(0deg); }\n",
              "                    to { transform: rotate(360deg); }\n",
              "                }\n",
              "\n",
              "                .spinner-container {\n",
              "                    display: flex;\n",
              "                    align-items: center;\n",
              "                    margin-bottom: 3px;\n",
              "                }\n",
              "\n",
              "                .spinner {\n",
              "                    border: 3px solid rgba(0, 0, 0, 0.1);\n",
              "                    border-left-color: lightblue;\n",
              "                    border-radius: 50%;\n",
              "                    width: 12px;\n",
              "                    height: 12px;\n",
              "                    animation: spin 1s linear infinite;\n",
              "                }\n",
              "\n",
              "                .spinner-text {\n",
              "                    padding-left: 6px;\n",
              "                }\n",
              "            </style>\n",
              "        "
            ]
          },
          "metadata": {}
        },
        {
          "output_type": "display_data",
          "data": {
            "text/plain": [
              "<IPython.core.display.Javascript object>"
            ],
            "application/javascript": [
              "\n",
              "            const element = document.getElementById(\"68769e13-ac91-41fb-8749-d71f86796619-circle\");\n",
              "            element.style.border = \"3px solid limegreen\";\n",
              "            element.style.animation = \"none\";\n",
              "\n",
              "            const text = document.getElementById(\"68769e13-ac91-41fb-8749-d71f86796619-text\");\n",
              "            text.innerText = \"Initialized Chromedriver\";\n",
              "        "
            ]
          },
          "metadata": {}
        },
        {
          "output_type": "display_data",
          "data": {
            "text/plain": [
              "<IPython.core.display.HTML object>"
            ],
            "text/html": [
              "\n",
              "            <div class=\"spinner-container\">\n",
              "                <div class=\"spinner\" id=\"e6eb74b1-494a-4ba4-b1df-ecc153360efb-circle\"></div>\n",
              "                <div class=\"spinner-text\" id=\"e6eb74b1-494a-4ba4-b1df-ecc153360efb-text\">Initializing Chromedriver</div>\n",
              "            </div>\n",
              "            <style>\n",
              "                @keyframes spin {\n",
              "                    from { transform: rotate(0deg); }\n",
              "                    to { transform: rotate(360deg); }\n",
              "                }\n",
              "\n",
              "                .spinner-container {\n",
              "                    display: flex;\n",
              "                    align-items: center;\n",
              "                    margin-bottom: 3px;\n",
              "                }\n",
              "\n",
              "                .spinner {\n",
              "                    border: 3px solid rgba(0, 0, 0, 0.1);\n",
              "                    border-left-color: lightblue;\n",
              "                    border-radius: 50%;\n",
              "                    width: 12px;\n",
              "                    height: 12px;\n",
              "                    animation: spin 1s linear infinite;\n",
              "                }\n",
              "\n",
              "                .spinner-text {\n",
              "                    padding-left: 6px;\n",
              "                }\n",
              "            </style>\n",
              "        "
            ]
          },
          "metadata": {}
        },
        {
          "output_type": "display_data",
          "data": {
            "text/plain": [
              "<IPython.core.display.Javascript object>"
            ],
            "application/javascript": [
              "\n",
              "            const element = document.getElementById(\"e6eb74b1-494a-4ba4-b1df-ecc153360efb-circle\");\n",
              "            element.style.border = \"3px solid limegreen\";\n",
              "            element.style.animation = \"none\";\n",
              "\n",
              "            const text = document.getElementById(\"e6eb74b1-494a-4ba4-b1df-ecc153360efb-text\");\n",
              "            text.innerText = \"Initialized Chromedriver\";\n",
              "        "
            ]
          },
          "metadata": {}
        },
        {
          "output_type": "display_data",
          "data": {
            "text/plain": [
              "<IPython.core.display.HTML object>"
            ],
            "text/html": [
              "\n",
              "            <div class=\"spinner-container\">\n",
              "                <div class=\"spinner\" id=\"b1ab7083-f010-4abe-b2e3-0700466b4618-circle\"></div>\n",
              "                <div class=\"spinner-text\" id=\"b1ab7083-f010-4abe-b2e3-0700466b4618-text\">Initializing Chromedriver</div>\n",
              "            </div>\n",
              "            <style>\n",
              "                @keyframes spin {\n",
              "                    from { transform: rotate(0deg); }\n",
              "                    to { transform: rotate(360deg); }\n",
              "                }\n",
              "\n",
              "                .spinner-container {\n",
              "                    display: flex;\n",
              "                    align-items: center;\n",
              "                    margin-bottom: 3px;\n",
              "                }\n",
              "\n",
              "                .spinner {\n",
              "                    border: 3px solid rgba(0, 0, 0, 0.1);\n",
              "                    border-left-color: lightblue;\n",
              "                    border-radius: 50%;\n",
              "                    width: 12px;\n",
              "                    height: 12px;\n",
              "                    animation: spin 1s linear infinite;\n",
              "                }\n",
              "\n",
              "                .spinner-text {\n",
              "                    padding-left: 6px;\n",
              "                }\n",
              "            </style>\n",
              "        "
            ]
          },
          "metadata": {}
        },
        {
          "output_type": "display_data",
          "data": {
            "text/plain": [
              "<IPython.core.display.Javascript object>"
            ],
            "application/javascript": [
              "\n",
              "            const element = document.getElementById(\"b1ab7083-f010-4abe-b2e3-0700466b4618-circle\");\n",
              "            element.style.border = \"3px solid limegreen\";\n",
              "            element.style.animation = \"none\";\n",
              "\n",
              "            const text = document.getElementById(\"b1ab7083-f010-4abe-b2e3-0700466b4618-text\");\n",
              "            text.innerText = \"Initialized Chromedriver\";\n",
              "        "
            ]
          },
          "metadata": {}
        },
        {
          "output_type": "display_data",
          "data": {
            "text/plain": [
              "<IPython.core.display.HTML object>"
            ],
            "text/html": [
              "\n",
              "            <div class=\"spinner-container\">\n",
              "                <div class=\"spinner\" id=\"c1161f40-0a3e-45eb-93b5-917373789725-circle\"></div>\n",
              "                <div class=\"spinner-text\" id=\"c1161f40-0a3e-45eb-93b5-917373789725-text\">Initializing Chromedriver</div>\n",
              "            </div>\n",
              "            <style>\n",
              "                @keyframes spin {\n",
              "                    from { transform: rotate(0deg); }\n",
              "                    to { transform: rotate(360deg); }\n",
              "                }\n",
              "\n",
              "                .spinner-container {\n",
              "                    display: flex;\n",
              "                    align-items: center;\n",
              "                    margin-bottom: 3px;\n",
              "                }\n",
              "\n",
              "                .spinner {\n",
              "                    border: 3px solid rgba(0, 0, 0, 0.1);\n",
              "                    border-left-color: lightblue;\n",
              "                    border-radius: 50%;\n",
              "                    width: 12px;\n",
              "                    height: 12px;\n",
              "                    animation: spin 1s linear infinite;\n",
              "                }\n",
              "\n",
              "                .spinner-text {\n",
              "                    padding-left: 6px;\n",
              "                }\n",
              "            </style>\n",
              "        "
            ]
          },
          "metadata": {}
        },
        {
          "output_type": "display_data",
          "data": {
            "text/plain": [
              "<IPython.core.display.Javascript object>"
            ],
            "application/javascript": [
              "\n",
              "            const element = document.getElementById(\"c1161f40-0a3e-45eb-93b5-917373789725-circle\");\n",
              "            element.style.border = \"3px solid limegreen\";\n",
              "            element.style.animation = \"none\";\n",
              "\n",
              "            const text = document.getElementById(\"c1161f40-0a3e-45eb-93b5-917373789725-text\");\n",
              "            text.innerText = \"Initialized Chromedriver\";\n",
              "        "
            ]
          },
          "metadata": {}
        },
        {
          "output_type": "display_data",
          "data": {
            "text/plain": [
              "<IPython.core.display.HTML object>"
            ],
            "text/html": [
              "\n",
              "            <div class=\"spinner-container\">\n",
              "                <div class=\"spinner\" id=\"c3a8e824-3569-40e6-a5db-91710d3e272a-circle\"></div>\n",
              "                <div class=\"spinner-text\" id=\"c3a8e824-3569-40e6-a5db-91710d3e272a-text\">Initializing Chromedriver</div>\n",
              "            </div>\n",
              "            <style>\n",
              "                @keyframes spin {\n",
              "                    from { transform: rotate(0deg); }\n",
              "                    to { transform: rotate(360deg); }\n",
              "                }\n",
              "\n",
              "                .spinner-container {\n",
              "                    display: flex;\n",
              "                    align-items: center;\n",
              "                    margin-bottom: 3px;\n",
              "                }\n",
              "\n",
              "                .spinner {\n",
              "                    border: 3px solid rgba(0, 0, 0, 0.1);\n",
              "                    border-left-color: lightblue;\n",
              "                    border-radius: 50%;\n",
              "                    width: 12px;\n",
              "                    height: 12px;\n",
              "                    animation: spin 1s linear infinite;\n",
              "                }\n",
              "\n",
              "                .spinner-text {\n",
              "                    padding-left: 6px;\n",
              "                }\n",
              "            </style>\n",
              "        "
            ]
          },
          "metadata": {}
        },
        {
          "output_type": "display_data",
          "data": {
            "text/plain": [
              "<IPython.core.display.Javascript object>"
            ],
            "application/javascript": [
              "\n",
              "            const element = document.getElementById(\"c3a8e824-3569-40e6-a5db-91710d3e272a-circle\");\n",
              "            element.style.border = \"3px solid limegreen\";\n",
              "            element.style.animation = \"none\";\n",
              "\n",
              "            const text = document.getElementById(\"c3a8e824-3569-40e6-a5db-91710d3e272a-text\");\n",
              "            text.innerText = \"Initialized Chromedriver\";\n",
              "        "
            ]
          },
          "metadata": {}
        },
        {
          "output_type": "display_data",
          "data": {
            "text/plain": [
              "<IPython.core.display.HTML object>"
            ],
            "text/html": [
              "\n",
              "            <div class=\"spinner-container\">\n",
              "                <div class=\"spinner\" id=\"4b92789d-d2d4-4432-99c6-da0d8c23a633-circle\"></div>\n",
              "                <div class=\"spinner-text\" id=\"4b92789d-d2d4-4432-99c6-da0d8c23a633-text\">Initializing Chromedriver</div>\n",
              "            </div>\n",
              "            <style>\n",
              "                @keyframes spin {\n",
              "                    from { transform: rotate(0deg); }\n",
              "                    to { transform: rotate(360deg); }\n",
              "                }\n",
              "\n",
              "                .spinner-container {\n",
              "                    display: flex;\n",
              "                    align-items: center;\n",
              "                    margin-bottom: 3px;\n",
              "                }\n",
              "\n",
              "                .spinner {\n",
              "                    border: 3px solid rgba(0, 0, 0, 0.1);\n",
              "                    border-left-color: lightblue;\n",
              "                    border-radius: 50%;\n",
              "                    width: 12px;\n",
              "                    height: 12px;\n",
              "                    animation: spin 1s linear infinite;\n",
              "                }\n",
              "\n",
              "                .spinner-text {\n",
              "                    padding-left: 6px;\n",
              "                }\n",
              "            </style>\n",
              "        "
            ]
          },
          "metadata": {}
        },
        {
          "output_type": "display_data",
          "data": {
            "text/plain": [
              "<IPython.core.display.Javascript object>"
            ],
            "application/javascript": [
              "\n",
              "            const element = document.getElementById(\"4b92789d-d2d4-4432-99c6-da0d8c23a633-circle\");\n",
              "            element.style.border = \"3px solid limegreen\";\n",
              "            element.style.animation = \"none\";\n",
              "\n",
              "            const text = document.getElementById(\"4b92789d-d2d4-4432-99c6-da0d8c23a633-text\");\n",
              "            text.innerText = \"Initialized Chromedriver\";\n",
              "        "
            ]
          },
          "metadata": {}
        },
        {
          "output_type": "display_data",
          "data": {
            "text/plain": [
              "<IPython.core.display.HTML object>"
            ],
            "text/html": [
              "\n",
              "            <div class=\"spinner-container\">\n",
              "                <div class=\"spinner\" id=\"1e713653-ae19-4304-b61b-e79695ac74b2-circle\"></div>\n",
              "                <div class=\"spinner-text\" id=\"1e713653-ae19-4304-b61b-e79695ac74b2-text\">Initializing Chromedriver</div>\n",
              "            </div>\n",
              "            <style>\n",
              "                @keyframes spin {\n",
              "                    from { transform: rotate(0deg); }\n",
              "                    to { transform: rotate(360deg); }\n",
              "                }\n",
              "\n",
              "                .spinner-container {\n",
              "                    display: flex;\n",
              "                    align-items: center;\n",
              "                    margin-bottom: 3px;\n",
              "                }\n",
              "\n",
              "                .spinner {\n",
              "                    border: 3px solid rgba(0, 0, 0, 0.1);\n",
              "                    border-left-color: lightblue;\n",
              "                    border-radius: 50%;\n",
              "                    width: 12px;\n",
              "                    height: 12px;\n",
              "                    animation: spin 1s linear infinite;\n",
              "                }\n",
              "\n",
              "                .spinner-text {\n",
              "                    padding-left: 6px;\n",
              "                }\n",
              "            </style>\n",
              "        "
            ]
          },
          "metadata": {}
        },
        {
          "output_type": "display_data",
          "data": {
            "text/plain": [
              "<IPython.core.display.Javascript object>"
            ],
            "application/javascript": [
              "\n",
              "            const element = document.getElementById(\"1e713653-ae19-4304-b61b-e79695ac74b2-circle\");\n",
              "            element.style.border = \"3px solid limegreen\";\n",
              "            element.style.animation = \"none\";\n",
              "\n",
              "            const text = document.getElementById(\"1e713653-ae19-4304-b61b-e79695ac74b2-text\");\n",
              "            text.innerText = \"Initialized Chromedriver\";\n",
              "        "
            ]
          },
          "metadata": {}
        },
        {
          "output_type": "display_data",
          "data": {
            "text/plain": [
              "<IPython.core.display.HTML object>"
            ],
            "text/html": [
              "\n",
              "            <div class=\"spinner-container\">\n",
              "                <div class=\"spinner\" id=\"fb8863e1-7973-4403-9de5-f2d74d23a8c5-circle\"></div>\n",
              "                <div class=\"spinner-text\" id=\"fb8863e1-7973-4403-9de5-f2d74d23a8c5-text\">Initializing Chromedriver</div>\n",
              "            </div>\n",
              "            <style>\n",
              "                @keyframes spin {\n",
              "                    from { transform: rotate(0deg); }\n",
              "                    to { transform: rotate(360deg); }\n",
              "                }\n",
              "\n",
              "                .spinner-container {\n",
              "                    display: flex;\n",
              "                    align-items: center;\n",
              "                    margin-bottom: 3px;\n",
              "                }\n",
              "\n",
              "                .spinner {\n",
              "                    border: 3px solid rgba(0, 0, 0, 0.1);\n",
              "                    border-left-color: lightblue;\n",
              "                    border-radius: 50%;\n",
              "                    width: 12px;\n",
              "                    height: 12px;\n",
              "                    animation: spin 1s linear infinite;\n",
              "                }\n",
              "\n",
              "                .spinner-text {\n",
              "                    padding-left: 6px;\n",
              "                }\n",
              "            </style>\n",
              "        "
            ]
          },
          "metadata": {}
        },
        {
          "output_type": "display_data",
          "data": {
            "text/plain": [
              "<IPython.core.display.Javascript object>"
            ],
            "application/javascript": [
              "\n",
              "            const element = document.getElementById(\"fb8863e1-7973-4403-9de5-f2d74d23a8c5-circle\");\n",
              "            element.style.border = \"3px solid limegreen\";\n",
              "            element.style.animation = \"none\";\n",
              "\n",
              "            const text = document.getElementById(\"fb8863e1-7973-4403-9de5-f2d74d23a8c5-text\");\n",
              "            text.innerText = \"Initialized Chromedriver\";\n",
              "        "
            ]
          },
          "metadata": {}
        },
        {
          "output_type": "display_data",
          "data": {
            "text/plain": [
              "<IPython.core.display.HTML object>"
            ],
            "text/html": [
              "\n",
              "            <div class=\"spinner-container\">\n",
              "                <div class=\"spinner\" id=\"b72c730e-5ac9-49bc-88ef-a08f1e8b36bd-circle\"></div>\n",
              "                <div class=\"spinner-text\" id=\"b72c730e-5ac9-49bc-88ef-a08f1e8b36bd-text\">Initializing Chromedriver</div>\n",
              "            </div>\n",
              "            <style>\n",
              "                @keyframes spin {\n",
              "                    from { transform: rotate(0deg); }\n",
              "                    to { transform: rotate(360deg); }\n",
              "                }\n",
              "\n",
              "                .spinner-container {\n",
              "                    display: flex;\n",
              "                    align-items: center;\n",
              "                    margin-bottom: 3px;\n",
              "                }\n",
              "\n",
              "                .spinner {\n",
              "                    border: 3px solid rgba(0, 0, 0, 0.1);\n",
              "                    border-left-color: lightblue;\n",
              "                    border-radius: 50%;\n",
              "                    width: 12px;\n",
              "                    height: 12px;\n",
              "                    animation: spin 1s linear infinite;\n",
              "                }\n",
              "\n",
              "                .spinner-text {\n",
              "                    padding-left: 6px;\n",
              "                }\n",
              "            </style>\n",
              "        "
            ]
          },
          "metadata": {}
        },
        {
          "output_type": "display_data",
          "data": {
            "text/plain": [
              "<IPython.core.display.Javascript object>"
            ],
            "application/javascript": [
              "\n",
              "            const element = document.getElementById(\"b72c730e-5ac9-49bc-88ef-a08f1e8b36bd-circle\");\n",
              "            element.style.border = \"3px solid limegreen\";\n",
              "            element.style.animation = \"none\";\n",
              "\n",
              "            const text = document.getElementById(\"b72c730e-5ac9-49bc-88ef-a08f1e8b36bd-text\");\n",
              "            text.innerText = \"Initialized Chromedriver\";\n",
              "        "
            ]
          },
          "metadata": {}
        },
        {
          "output_type": "display_data",
          "data": {
            "text/plain": [
              "<IPython.core.display.HTML object>"
            ],
            "text/html": [
              "\n",
              "            <div class=\"spinner-container\">\n",
              "                <div class=\"spinner\" id=\"da748f5e-ca6a-4fc8-89a1-f997791a8d2f-circle\"></div>\n",
              "                <div class=\"spinner-text\" id=\"da748f5e-ca6a-4fc8-89a1-f997791a8d2f-text\">Initializing Chromedriver</div>\n",
              "            </div>\n",
              "            <style>\n",
              "                @keyframes spin {\n",
              "                    from { transform: rotate(0deg); }\n",
              "                    to { transform: rotate(360deg); }\n",
              "                }\n",
              "\n",
              "                .spinner-container {\n",
              "                    display: flex;\n",
              "                    align-items: center;\n",
              "                    margin-bottom: 3px;\n",
              "                }\n",
              "\n",
              "                .spinner {\n",
              "                    border: 3px solid rgba(0, 0, 0, 0.1);\n",
              "                    border-left-color: lightblue;\n",
              "                    border-radius: 50%;\n",
              "                    width: 12px;\n",
              "                    height: 12px;\n",
              "                    animation: spin 1s linear infinite;\n",
              "                }\n",
              "\n",
              "                .spinner-text {\n",
              "                    padding-left: 6px;\n",
              "                }\n",
              "            </style>\n",
              "        "
            ]
          },
          "metadata": {}
        },
        {
          "output_type": "display_data",
          "data": {
            "text/plain": [
              "<IPython.core.display.Javascript object>"
            ],
            "application/javascript": [
              "\n",
              "            const element = document.getElementById(\"da748f5e-ca6a-4fc8-89a1-f997791a8d2f-circle\");\n",
              "            element.style.border = \"3px solid limegreen\";\n",
              "            element.style.animation = \"none\";\n",
              "\n",
              "            const text = document.getElementById(\"da748f5e-ca6a-4fc8-89a1-f997791a8d2f-text\");\n",
              "            text.innerText = \"Initialized Chromedriver\";\n",
              "        "
            ]
          },
          "metadata": {}
        },
        {
          "output_type": "display_data",
          "data": {
            "text/plain": [
              "<IPython.core.display.HTML object>"
            ],
            "text/html": [
              "\n",
              "            <div class=\"spinner-container\">\n",
              "                <div class=\"spinner\" id=\"8e9a38a7-4f8b-4a1e-97b8-cf38ededc147-circle\"></div>\n",
              "                <div class=\"spinner-text\" id=\"8e9a38a7-4f8b-4a1e-97b8-cf38ededc147-text\">Initializing Chromedriver</div>\n",
              "            </div>\n",
              "            <style>\n",
              "                @keyframes spin {\n",
              "                    from { transform: rotate(0deg); }\n",
              "                    to { transform: rotate(360deg); }\n",
              "                }\n",
              "\n",
              "                .spinner-container {\n",
              "                    display: flex;\n",
              "                    align-items: center;\n",
              "                    margin-bottom: 3px;\n",
              "                }\n",
              "\n",
              "                .spinner {\n",
              "                    border: 3px solid rgba(0, 0, 0, 0.1);\n",
              "                    border-left-color: lightblue;\n",
              "                    border-radius: 50%;\n",
              "                    width: 12px;\n",
              "                    height: 12px;\n",
              "                    animation: spin 1s linear infinite;\n",
              "                }\n",
              "\n",
              "                .spinner-text {\n",
              "                    padding-left: 6px;\n",
              "                }\n",
              "            </style>\n",
              "        "
            ]
          },
          "metadata": {}
        },
        {
          "output_type": "display_data",
          "data": {
            "text/plain": [
              "<IPython.core.display.Javascript object>"
            ],
            "application/javascript": [
              "\n",
              "            const element = document.getElementById(\"8e9a38a7-4f8b-4a1e-97b8-cf38ededc147-circle\");\n",
              "            element.style.border = \"3px solid limegreen\";\n",
              "            element.style.animation = \"none\";\n",
              "\n",
              "            const text = document.getElementById(\"8e9a38a7-4f8b-4a1e-97b8-cf38ededc147-text\");\n",
              "            text.innerText = \"Initialized Chromedriver\";\n",
              "        "
            ]
          },
          "metadata": {}
        },
        {
          "output_type": "display_data",
          "data": {
            "text/plain": [
              "<IPython.core.display.HTML object>"
            ],
            "text/html": [
              "\n",
              "            <div class=\"spinner-container\">\n",
              "                <div class=\"spinner\" id=\"a6976d95-e996-451a-ad5e-aec65807e44a-circle\"></div>\n",
              "                <div class=\"spinner-text\" id=\"a6976d95-e996-451a-ad5e-aec65807e44a-text\">Initializing Chromedriver</div>\n",
              "            </div>\n",
              "            <style>\n",
              "                @keyframes spin {\n",
              "                    from { transform: rotate(0deg); }\n",
              "                    to { transform: rotate(360deg); }\n",
              "                }\n",
              "\n",
              "                .spinner-container {\n",
              "                    display: flex;\n",
              "                    align-items: center;\n",
              "                    margin-bottom: 3px;\n",
              "                }\n",
              "\n",
              "                .spinner {\n",
              "                    border: 3px solid rgba(0, 0, 0, 0.1);\n",
              "                    border-left-color: lightblue;\n",
              "                    border-radius: 50%;\n",
              "                    width: 12px;\n",
              "                    height: 12px;\n",
              "                    animation: spin 1s linear infinite;\n",
              "                }\n",
              "\n",
              "                .spinner-text {\n",
              "                    padding-left: 6px;\n",
              "                }\n",
              "            </style>\n",
              "        "
            ]
          },
          "metadata": {}
        },
        {
          "output_type": "display_data",
          "data": {
            "text/plain": [
              "<IPython.core.display.Javascript object>"
            ],
            "application/javascript": [
              "\n",
              "            const element = document.getElementById(\"a6976d95-e996-451a-ad5e-aec65807e44a-circle\");\n",
              "            element.style.border = \"3px solid limegreen\";\n",
              "            element.style.animation = \"none\";\n",
              "\n",
              "            const text = document.getElementById(\"a6976d95-e996-451a-ad5e-aec65807e44a-text\");\n",
              "            text.innerText = \"Initialized Chromedriver\";\n",
              "        "
            ]
          },
          "metadata": {}
        },
        {
          "output_type": "display_data",
          "data": {
            "text/plain": [
              "<IPython.core.display.HTML object>"
            ],
            "text/html": [
              "\n",
              "            <div class=\"spinner-container\">\n",
              "                <div class=\"spinner\" id=\"feb58d3a-8d9f-48d1-9247-aa5cc7eaa495-circle\"></div>\n",
              "                <div class=\"spinner-text\" id=\"feb58d3a-8d9f-48d1-9247-aa5cc7eaa495-text\">Initializing Chromedriver</div>\n",
              "            </div>\n",
              "            <style>\n",
              "                @keyframes spin {\n",
              "                    from { transform: rotate(0deg); }\n",
              "                    to { transform: rotate(360deg); }\n",
              "                }\n",
              "\n",
              "                .spinner-container {\n",
              "                    display: flex;\n",
              "                    align-items: center;\n",
              "                    margin-bottom: 3px;\n",
              "                }\n",
              "\n",
              "                .spinner {\n",
              "                    border: 3px solid rgba(0, 0, 0, 0.1);\n",
              "                    border-left-color: lightblue;\n",
              "                    border-radius: 50%;\n",
              "                    width: 12px;\n",
              "                    height: 12px;\n",
              "                    animation: spin 1s linear infinite;\n",
              "                }\n",
              "\n",
              "                .spinner-text {\n",
              "                    padding-left: 6px;\n",
              "                }\n",
              "            </style>\n",
              "        "
            ]
          },
          "metadata": {}
        },
        {
          "output_type": "display_data",
          "data": {
            "text/plain": [
              "<IPython.core.display.Javascript object>"
            ],
            "application/javascript": [
              "\n",
              "            const element = document.getElementById(\"feb58d3a-8d9f-48d1-9247-aa5cc7eaa495-circle\");\n",
              "            element.style.border = \"3px solid limegreen\";\n",
              "            element.style.animation = \"none\";\n",
              "\n",
              "            const text = document.getElementById(\"feb58d3a-8d9f-48d1-9247-aa5cc7eaa495-text\");\n",
              "            text.innerText = \"Initialized Chromedriver\";\n",
              "        "
            ]
          },
          "metadata": {}
        },
        {
          "output_type": "display_data",
          "data": {
            "text/plain": [
              "<IPython.core.display.HTML object>"
            ],
            "text/html": [
              "\n",
              "            <div class=\"spinner-container\">\n",
              "                <div class=\"spinner\" id=\"461e8464-0ab7-4cbc-a0f1-63ad37316bb9-circle\"></div>\n",
              "                <div class=\"spinner-text\" id=\"461e8464-0ab7-4cbc-a0f1-63ad37316bb9-text\">Initializing Chromedriver</div>\n",
              "            </div>\n",
              "            <style>\n",
              "                @keyframes spin {\n",
              "                    from { transform: rotate(0deg); }\n",
              "                    to { transform: rotate(360deg); }\n",
              "                }\n",
              "\n",
              "                .spinner-container {\n",
              "                    display: flex;\n",
              "                    align-items: center;\n",
              "                    margin-bottom: 3px;\n",
              "                }\n",
              "\n",
              "                .spinner {\n",
              "                    border: 3px solid rgba(0, 0, 0, 0.1);\n",
              "                    border-left-color: lightblue;\n",
              "                    border-radius: 50%;\n",
              "                    width: 12px;\n",
              "                    height: 12px;\n",
              "                    animation: spin 1s linear infinite;\n",
              "                }\n",
              "\n",
              "                .spinner-text {\n",
              "                    padding-left: 6px;\n",
              "                }\n",
              "            </style>\n",
              "        "
            ]
          },
          "metadata": {}
        },
        {
          "output_type": "display_data",
          "data": {
            "text/plain": [
              "<IPython.core.display.Javascript object>"
            ],
            "application/javascript": [
              "\n",
              "            const element = document.getElementById(\"461e8464-0ab7-4cbc-a0f1-63ad37316bb9-circle\");\n",
              "            element.style.border = \"3px solid limegreen\";\n",
              "            element.style.animation = \"none\";\n",
              "\n",
              "            const text = document.getElementById(\"461e8464-0ab7-4cbc-a0f1-63ad37316bb9-text\");\n",
              "            text.innerText = \"Initialized Chromedriver\";\n",
              "        "
            ]
          },
          "metadata": {}
        },
        {
          "output_type": "display_data",
          "data": {
            "text/plain": [
              "<IPython.core.display.HTML object>"
            ],
            "text/html": [
              "\n",
              "            <div class=\"spinner-container\">\n",
              "                <div class=\"spinner\" id=\"74913925-adeb-4561-accf-2f98a4a8c130-circle\"></div>\n",
              "                <div class=\"spinner-text\" id=\"74913925-adeb-4561-accf-2f98a4a8c130-text\">Initializing Chromedriver</div>\n",
              "            </div>\n",
              "            <style>\n",
              "                @keyframes spin {\n",
              "                    from { transform: rotate(0deg); }\n",
              "                    to { transform: rotate(360deg); }\n",
              "                }\n",
              "\n",
              "                .spinner-container {\n",
              "                    display: flex;\n",
              "                    align-items: center;\n",
              "                    margin-bottom: 3px;\n",
              "                }\n",
              "\n",
              "                .spinner {\n",
              "                    border: 3px solid rgba(0, 0, 0, 0.1);\n",
              "                    border-left-color: lightblue;\n",
              "                    border-radius: 50%;\n",
              "                    width: 12px;\n",
              "                    height: 12px;\n",
              "                    animation: spin 1s linear infinite;\n",
              "                }\n",
              "\n",
              "                .spinner-text {\n",
              "                    padding-left: 6px;\n",
              "                }\n",
              "            </style>\n",
              "        "
            ]
          },
          "metadata": {}
        },
        {
          "output_type": "display_data",
          "data": {
            "text/plain": [
              "<IPython.core.display.Javascript object>"
            ],
            "application/javascript": [
              "\n",
              "            const element = document.getElementById(\"74913925-adeb-4561-accf-2f98a4a8c130-circle\");\n",
              "            element.style.border = \"3px solid limegreen\";\n",
              "            element.style.animation = \"none\";\n",
              "\n",
              "            const text = document.getElementById(\"74913925-adeb-4561-accf-2f98a4a8c130-text\");\n",
              "            text.innerText = \"Initialized Chromedriver\";\n",
              "        "
            ]
          },
          "metadata": {}
        },
        {
          "output_type": "display_data",
          "data": {
            "text/plain": [
              "<IPython.core.display.HTML object>"
            ],
            "text/html": [
              "\n",
              "            <div class=\"spinner-container\">\n",
              "                <div class=\"spinner\" id=\"e6b27e70-fc1c-432d-ac19-17995c504362-circle\"></div>\n",
              "                <div class=\"spinner-text\" id=\"e6b27e70-fc1c-432d-ac19-17995c504362-text\">Initializing Chromedriver</div>\n",
              "            </div>\n",
              "            <style>\n",
              "                @keyframes spin {\n",
              "                    from { transform: rotate(0deg); }\n",
              "                    to { transform: rotate(360deg); }\n",
              "                }\n",
              "\n",
              "                .spinner-container {\n",
              "                    display: flex;\n",
              "                    align-items: center;\n",
              "                    margin-bottom: 3px;\n",
              "                }\n",
              "\n",
              "                .spinner {\n",
              "                    border: 3px solid rgba(0, 0, 0, 0.1);\n",
              "                    border-left-color: lightblue;\n",
              "                    border-radius: 50%;\n",
              "                    width: 12px;\n",
              "                    height: 12px;\n",
              "                    animation: spin 1s linear infinite;\n",
              "                }\n",
              "\n",
              "                .spinner-text {\n",
              "                    padding-left: 6px;\n",
              "                }\n",
              "            </style>\n",
              "        "
            ]
          },
          "metadata": {}
        },
        {
          "output_type": "display_data",
          "data": {
            "text/plain": [
              "<IPython.core.display.Javascript object>"
            ],
            "application/javascript": [
              "\n",
              "            const element = document.getElementById(\"e6b27e70-fc1c-432d-ac19-17995c504362-circle\");\n",
              "            element.style.border = \"3px solid limegreen\";\n",
              "            element.style.animation = \"none\";\n",
              "\n",
              "            const text = document.getElementById(\"e6b27e70-fc1c-432d-ac19-17995c504362-text\");\n",
              "            text.innerText = \"Initialized Chromedriver\";\n",
              "        "
            ]
          },
          "metadata": {}
        },
        {
          "output_type": "display_data",
          "data": {
            "text/plain": [
              "<IPython.core.display.HTML object>"
            ],
            "text/html": [
              "\n",
              "            <div class=\"spinner-container\">\n",
              "                <div class=\"spinner\" id=\"b6848408-16a8-4b0d-8578-40bd59b677e8-circle\"></div>\n",
              "                <div class=\"spinner-text\" id=\"b6848408-16a8-4b0d-8578-40bd59b677e8-text\">Initializing Chromedriver</div>\n",
              "            </div>\n",
              "            <style>\n",
              "                @keyframes spin {\n",
              "                    from { transform: rotate(0deg); }\n",
              "                    to { transform: rotate(360deg); }\n",
              "                }\n",
              "\n",
              "                .spinner-container {\n",
              "                    display: flex;\n",
              "                    align-items: center;\n",
              "                    margin-bottom: 3px;\n",
              "                }\n",
              "\n",
              "                .spinner {\n",
              "                    border: 3px solid rgba(0, 0, 0, 0.1);\n",
              "                    border-left-color: lightblue;\n",
              "                    border-radius: 50%;\n",
              "                    width: 12px;\n",
              "                    height: 12px;\n",
              "                    animation: spin 1s linear infinite;\n",
              "                }\n",
              "\n",
              "                .spinner-text {\n",
              "                    padding-left: 6px;\n",
              "                }\n",
              "            </style>\n",
              "        "
            ]
          },
          "metadata": {}
        },
        {
          "output_type": "display_data",
          "data": {
            "text/plain": [
              "<IPython.core.display.Javascript object>"
            ],
            "application/javascript": [
              "\n",
              "            const element = document.getElementById(\"b6848408-16a8-4b0d-8578-40bd59b677e8-circle\");\n",
              "            element.style.border = \"3px solid limegreen\";\n",
              "            element.style.animation = \"none\";\n",
              "\n",
              "            const text = document.getElementById(\"b6848408-16a8-4b0d-8578-40bd59b677e8-text\");\n",
              "            text.innerText = \"Initialized Chromedriver\";\n",
              "        "
            ]
          },
          "metadata": {}
        },
        {
          "output_type": "display_data",
          "data": {
            "text/plain": [
              "<IPython.core.display.HTML object>"
            ],
            "text/html": [
              "\n",
              "            <div class=\"spinner-container\">\n",
              "                <div class=\"spinner\" id=\"9f50335d-e45f-4fd5-a9e7-d5274e1f654a-circle\"></div>\n",
              "                <div class=\"spinner-text\" id=\"9f50335d-e45f-4fd5-a9e7-d5274e1f654a-text\">Initializing Chromedriver</div>\n",
              "            </div>\n",
              "            <style>\n",
              "                @keyframes spin {\n",
              "                    from { transform: rotate(0deg); }\n",
              "                    to { transform: rotate(360deg); }\n",
              "                }\n",
              "\n",
              "                .spinner-container {\n",
              "                    display: flex;\n",
              "                    align-items: center;\n",
              "                    margin-bottom: 3px;\n",
              "                }\n",
              "\n",
              "                .spinner {\n",
              "                    border: 3px solid rgba(0, 0, 0, 0.1);\n",
              "                    border-left-color: lightblue;\n",
              "                    border-radius: 50%;\n",
              "                    width: 12px;\n",
              "                    height: 12px;\n",
              "                    animation: spin 1s linear infinite;\n",
              "                }\n",
              "\n",
              "                .spinner-text {\n",
              "                    padding-left: 6px;\n",
              "                }\n",
              "            </style>\n",
              "        "
            ]
          },
          "metadata": {}
        },
        {
          "output_type": "display_data",
          "data": {
            "text/plain": [
              "<IPython.core.display.Javascript object>"
            ],
            "application/javascript": [
              "\n",
              "            const element = document.getElementById(\"9f50335d-e45f-4fd5-a9e7-d5274e1f654a-circle\");\n",
              "            element.style.border = \"3px solid limegreen\";\n",
              "            element.style.animation = \"none\";\n",
              "\n",
              "            const text = document.getElementById(\"9f50335d-e45f-4fd5-a9e7-d5274e1f654a-text\");\n",
              "            text.innerText = \"Initialized Chromedriver\";\n",
              "        "
            ]
          },
          "metadata": {}
        },
        {
          "output_type": "display_data",
          "data": {
            "text/plain": [
              "<IPython.core.display.HTML object>"
            ],
            "text/html": [
              "\n",
              "            <div class=\"spinner-container\">\n",
              "                <div class=\"spinner\" id=\"68ae216d-f645-479c-b6a8-e9e5f137c397-circle\"></div>\n",
              "                <div class=\"spinner-text\" id=\"68ae216d-f645-479c-b6a8-e9e5f137c397-text\">Initializing Chromedriver</div>\n",
              "            </div>\n",
              "            <style>\n",
              "                @keyframes spin {\n",
              "                    from { transform: rotate(0deg); }\n",
              "                    to { transform: rotate(360deg); }\n",
              "                }\n",
              "\n",
              "                .spinner-container {\n",
              "                    display: flex;\n",
              "                    align-items: center;\n",
              "                    margin-bottom: 3px;\n",
              "                }\n",
              "\n",
              "                .spinner {\n",
              "                    border: 3px solid rgba(0, 0, 0, 0.1);\n",
              "                    border-left-color: lightblue;\n",
              "                    border-radius: 50%;\n",
              "                    width: 12px;\n",
              "                    height: 12px;\n",
              "                    animation: spin 1s linear infinite;\n",
              "                }\n",
              "\n",
              "                .spinner-text {\n",
              "                    padding-left: 6px;\n",
              "                }\n",
              "            </style>\n",
              "        "
            ]
          },
          "metadata": {}
        },
        {
          "output_type": "display_data",
          "data": {
            "text/plain": [
              "<IPython.core.display.Javascript object>"
            ],
            "application/javascript": [
              "\n",
              "            const element = document.getElementById(\"68ae216d-f645-479c-b6a8-e9e5f137c397-circle\");\n",
              "            element.style.border = \"3px solid limegreen\";\n",
              "            element.style.animation = \"none\";\n",
              "\n",
              "            const text = document.getElementById(\"68ae216d-f645-479c-b6a8-e9e5f137c397-text\");\n",
              "            text.innerText = \"Initialized Chromedriver\";\n",
              "        "
            ]
          },
          "metadata": {}
        },
        {
          "output_type": "display_data",
          "data": {
            "text/plain": [
              "<IPython.core.display.HTML object>"
            ],
            "text/html": [
              "\n",
              "            <div class=\"spinner-container\">\n",
              "                <div class=\"spinner\" id=\"4c984f51-988e-47d9-b93d-32189c2cea35-circle\"></div>\n",
              "                <div class=\"spinner-text\" id=\"4c984f51-988e-47d9-b93d-32189c2cea35-text\">Initializing Chromedriver</div>\n",
              "            </div>\n",
              "            <style>\n",
              "                @keyframes spin {\n",
              "                    from { transform: rotate(0deg); }\n",
              "                    to { transform: rotate(360deg); }\n",
              "                }\n",
              "\n",
              "                .spinner-container {\n",
              "                    display: flex;\n",
              "                    align-items: center;\n",
              "                    margin-bottom: 3px;\n",
              "                }\n",
              "\n",
              "                .spinner {\n",
              "                    border: 3px solid rgba(0, 0, 0, 0.1);\n",
              "                    border-left-color: lightblue;\n",
              "                    border-radius: 50%;\n",
              "                    width: 12px;\n",
              "                    height: 12px;\n",
              "                    animation: spin 1s linear infinite;\n",
              "                }\n",
              "\n",
              "                .spinner-text {\n",
              "                    padding-left: 6px;\n",
              "                }\n",
              "            </style>\n",
              "        "
            ]
          },
          "metadata": {}
        },
        {
          "output_type": "display_data",
          "data": {
            "text/plain": [
              "<IPython.core.display.Javascript object>"
            ],
            "application/javascript": [
              "\n",
              "            const element = document.getElementById(\"4c984f51-988e-47d9-b93d-32189c2cea35-circle\");\n",
              "            element.style.border = \"3px solid limegreen\";\n",
              "            element.style.animation = \"none\";\n",
              "\n",
              "            const text = document.getElementById(\"4c984f51-988e-47d9-b93d-32189c2cea35-text\");\n",
              "            text.innerText = \"Initialized Chromedriver\";\n",
              "        "
            ]
          },
          "metadata": {}
        },
        {
          "output_type": "display_data",
          "data": {
            "text/plain": [
              "<IPython.core.display.HTML object>"
            ],
            "text/html": [
              "\n",
              "            <div class=\"spinner-container\">\n",
              "                <div class=\"spinner\" id=\"f6e12ced-5860-4996-9a59-1786e1653476-circle\"></div>\n",
              "                <div class=\"spinner-text\" id=\"f6e12ced-5860-4996-9a59-1786e1653476-text\">Initializing Chromedriver</div>\n",
              "            </div>\n",
              "            <style>\n",
              "                @keyframes spin {\n",
              "                    from { transform: rotate(0deg); }\n",
              "                    to { transform: rotate(360deg); }\n",
              "                }\n",
              "\n",
              "                .spinner-container {\n",
              "                    display: flex;\n",
              "                    align-items: center;\n",
              "                    margin-bottom: 3px;\n",
              "                }\n",
              "\n",
              "                .spinner {\n",
              "                    border: 3px solid rgba(0, 0, 0, 0.1);\n",
              "                    border-left-color: lightblue;\n",
              "                    border-radius: 50%;\n",
              "                    width: 12px;\n",
              "                    height: 12px;\n",
              "                    animation: spin 1s linear infinite;\n",
              "                }\n",
              "\n",
              "                .spinner-text {\n",
              "                    padding-left: 6px;\n",
              "                }\n",
              "            </style>\n",
              "        "
            ]
          },
          "metadata": {}
        },
        {
          "output_type": "display_data",
          "data": {
            "text/plain": [
              "<IPython.core.display.Javascript object>"
            ],
            "application/javascript": [
              "\n",
              "            const element = document.getElementById(\"f6e12ced-5860-4996-9a59-1786e1653476-circle\");\n",
              "            element.style.border = \"3px solid limegreen\";\n",
              "            element.style.animation = \"none\";\n",
              "\n",
              "            const text = document.getElementById(\"f6e12ced-5860-4996-9a59-1786e1653476-text\");\n",
              "            text.innerText = \"Initialized Chromedriver\";\n",
              "        "
            ]
          },
          "metadata": {}
        },
        {
          "output_type": "display_data",
          "data": {
            "text/plain": [
              "<IPython.core.display.HTML object>"
            ],
            "text/html": [
              "\n",
              "            <div class=\"spinner-container\">\n",
              "                <div class=\"spinner\" id=\"dfb442c8-3dac-44e3-9bc1-e60c5eeeac0c-circle\"></div>\n",
              "                <div class=\"spinner-text\" id=\"dfb442c8-3dac-44e3-9bc1-e60c5eeeac0c-text\">Initializing Chromedriver</div>\n",
              "            </div>\n",
              "            <style>\n",
              "                @keyframes spin {\n",
              "                    from { transform: rotate(0deg); }\n",
              "                    to { transform: rotate(360deg); }\n",
              "                }\n",
              "\n",
              "                .spinner-container {\n",
              "                    display: flex;\n",
              "                    align-items: center;\n",
              "                    margin-bottom: 3px;\n",
              "                }\n",
              "\n",
              "                .spinner {\n",
              "                    border: 3px solid rgba(0, 0, 0, 0.1);\n",
              "                    border-left-color: lightblue;\n",
              "                    border-radius: 50%;\n",
              "                    width: 12px;\n",
              "                    height: 12px;\n",
              "                    animation: spin 1s linear infinite;\n",
              "                }\n",
              "\n",
              "                .spinner-text {\n",
              "                    padding-left: 6px;\n",
              "                }\n",
              "            </style>\n",
              "        "
            ]
          },
          "metadata": {}
        },
        {
          "output_type": "display_data",
          "data": {
            "text/plain": [
              "<IPython.core.display.Javascript object>"
            ],
            "application/javascript": [
              "\n",
              "            const element = document.getElementById(\"dfb442c8-3dac-44e3-9bc1-e60c5eeeac0c-circle\");\n",
              "            element.style.border = \"3px solid limegreen\";\n",
              "            element.style.animation = \"none\";\n",
              "\n",
              "            const text = document.getElementById(\"dfb442c8-3dac-44e3-9bc1-e60c5eeeac0c-text\");\n",
              "            text.innerText = \"Initialized Chromedriver\";\n",
              "        "
            ]
          },
          "metadata": {}
        },
        {
          "output_type": "display_data",
          "data": {
            "text/plain": [
              "<IPython.core.display.HTML object>"
            ],
            "text/html": [
              "\n",
              "            <div class=\"spinner-container\">\n",
              "                <div class=\"spinner\" id=\"eb0a89d2-1398-4f26-a49c-29160cf518f0-circle\"></div>\n",
              "                <div class=\"spinner-text\" id=\"eb0a89d2-1398-4f26-a49c-29160cf518f0-text\">Initializing Chromedriver</div>\n",
              "            </div>\n",
              "            <style>\n",
              "                @keyframes spin {\n",
              "                    from { transform: rotate(0deg); }\n",
              "                    to { transform: rotate(360deg); }\n",
              "                }\n",
              "\n",
              "                .spinner-container {\n",
              "                    display: flex;\n",
              "                    align-items: center;\n",
              "                    margin-bottom: 3px;\n",
              "                }\n",
              "\n",
              "                .spinner {\n",
              "                    border: 3px solid rgba(0, 0, 0, 0.1);\n",
              "                    border-left-color: lightblue;\n",
              "                    border-radius: 50%;\n",
              "                    width: 12px;\n",
              "                    height: 12px;\n",
              "                    animation: spin 1s linear infinite;\n",
              "                }\n",
              "\n",
              "                .spinner-text {\n",
              "                    padding-left: 6px;\n",
              "                }\n",
              "            </style>\n",
              "        "
            ]
          },
          "metadata": {}
        },
        {
          "output_type": "display_data",
          "data": {
            "text/plain": [
              "<IPython.core.display.Javascript object>"
            ],
            "application/javascript": [
              "\n",
              "            const element = document.getElementById(\"eb0a89d2-1398-4f26-a49c-29160cf518f0-circle\");\n",
              "            element.style.border = \"3px solid limegreen\";\n",
              "            element.style.animation = \"none\";\n",
              "\n",
              "            const text = document.getElementById(\"eb0a89d2-1398-4f26-a49c-29160cf518f0-text\");\n",
              "            text.innerText = \"Initialized Chromedriver\";\n",
              "        "
            ]
          },
          "metadata": {}
        },
        {
          "output_type": "display_data",
          "data": {
            "text/plain": [
              "<IPython.core.display.HTML object>"
            ],
            "text/html": [
              "\n",
              "            <div class=\"spinner-container\">\n",
              "                <div class=\"spinner\" id=\"646d6ec6-a36c-4d99-b4d0-be8637c46559-circle\"></div>\n",
              "                <div class=\"spinner-text\" id=\"646d6ec6-a36c-4d99-b4d0-be8637c46559-text\">Initializing Chromedriver</div>\n",
              "            </div>\n",
              "            <style>\n",
              "                @keyframes spin {\n",
              "                    from { transform: rotate(0deg); }\n",
              "                    to { transform: rotate(360deg); }\n",
              "                }\n",
              "\n",
              "                .spinner-container {\n",
              "                    display: flex;\n",
              "                    align-items: center;\n",
              "                    margin-bottom: 3px;\n",
              "                }\n",
              "\n",
              "                .spinner {\n",
              "                    border: 3px solid rgba(0, 0, 0, 0.1);\n",
              "                    border-left-color: lightblue;\n",
              "                    border-radius: 50%;\n",
              "                    width: 12px;\n",
              "                    height: 12px;\n",
              "                    animation: spin 1s linear infinite;\n",
              "                }\n",
              "\n",
              "                .spinner-text {\n",
              "                    padding-left: 6px;\n",
              "                }\n",
              "            </style>\n",
              "        "
            ]
          },
          "metadata": {}
        },
        {
          "output_type": "display_data",
          "data": {
            "text/plain": [
              "<IPython.core.display.Javascript object>"
            ],
            "application/javascript": [
              "\n",
              "            const element = document.getElementById(\"646d6ec6-a36c-4d99-b4d0-be8637c46559-circle\");\n",
              "            element.style.border = \"3px solid limegreen\";\n",
              "            element.style.animation = \"none\";\n",
              "\n",
              "            const text = document.getElementById(\"646d6ec6-a36c-4d99-b4d0-be8637c46559-text\");\n",
              "            text.innerText = \"Initialized Chromedriver\";\n",
              "        "
            ]
          },
          "metadata": {}
        },
        {
          "output_type": "display_data",
          "data": {
            "text/plain": [
              "<IPython.core.display.HTML object>"
            ],
            "text/html": [
              "\n",
              "            <div class=\"spinner-container\">\n",
              "                <div class=\"spinner\" id=\"d81ed17e-77d4-4656-8182-036d0ceac038-circle\"></div>\n",
              "                <div class=\"spinner-text\" id=\"d81ed17e-77d4-4656-8182-036d0ceac038-text\">Initializing Chromedriver</div>\n",
              "            </div>\n",
              "            <style>\n",
              "                @keyframes spin {\n",
              "                    from { transform: rotate(0deg); }\n",
              "                    to { transform: rotate(360deg); }\n",
              "                }\n",
              "\n",
              "                .spinner-container {\n",
              "                    display: flex;\n",
              "                    align-items: center;\n",
              "                    margin-bottom: 3px;\n",
              "                }\n",
              "\n",
              "                .spinner {\n",
              "                    border: 3px solid rgba(0, 0, 0, 0.1);\n",
              "                    border-left-color: lightblue;\n",
              "                    border-radius: 50%;\n",
              "                    width: 12px;\n",
              "                    height: 12px;\n",
              "                    animation: spin 1s linear infinite;\n",
              "                }\n",
              "\n",
              "                .spinner-text {\n",
              "                    padding-left: 6px;\n",
              "                }\n",
              "            </style>\n",
              "        "
            ]
          },
          "metadata": {}
        },
        {
          "output_type": "display_data",
          "data": {
            "text/plain": [
              "<IPython.core.display.Javascript object>"
            ],
            "application/javascript": [
              "\n",
              "            const element = document.getElementById(\"d81ed17e-77d4-4656-8182-036d0ceac038-circle\");\n",
              "            element.style.border = \"3px solid limegreen\";\n",
              "            element.style.animation = \"none\";\n",
              "\n",
              "            const text = document.getElementById(\"d81ed17e-77d4-4656-8182-036d0ceac038-text\");\n",
              "            text.innerText = \"Initialized Chromedriver\";\n",
              "        "
            ]
          },
          "metadata": {}
        },
        {
          "output_type": "display_data",
          "data": {
            "text/plain": [
              "<IPython.core.display.HTML object>"
            ],
            "text/html": [
              "\n",
              "            <div class=\"spinner-container\">\n",
              "                <div class=\"spinner\" id=\"12af07f0-8eff-48c6-82ec-d48f60e1c35e-circle\"></div>\n",
              "                <div class=\"spinner-text\" id=\"12af07f0-8eff-48c6-82ec-d48f60e1c35e-text\">Initializing Chromedriver</div>\n",
              "            </div>\n",
              "            <style>\n",
              "                @keyframes spin {\n",
              "                    from { transform: rotate(0deg); }\n",
              "                    to { transform: rotate(360deg); }\n",
              "                }\n",
              "\n",
              "                .spinner-container {\n",
              "                    display: flex;\n",
              "                    align-items: center;\n",
              "                    margin-bottom: 3px;\n",
              "                }\n",
              "\n",
              "                .spinner {\n",
              "                    border: 3px solid rgba(0, 0, 0, 0.1);\n",
              "                    border-left-color: lightblue;\n",
              "                    border-radius: 50%;\n",
              "                    width: 12px;\n",
              "                    height: 12px;\n",
              "                    animation: spin 1s linear infinite;\n",
              "                }\n",
              "\n",
              "                .spinner-text {\n",
              "                    padding-left: 6px;\n",
              "                }\n",
              "            </style>\n",
              "        "
            ]
          },
          "metadata": {}
        },
        {
          "output_type": "display_data",
          "data": {
            "text/plain": [
              "<IPython.core.display.Javascript object>"
            ],
            "application/javascript": [
              "\n",
              "            const element = document.getElementById(\"12af07f0-8eff-48c6-82ec-d48f60e1c35e-circle\");\n",
              "            element.style.border = \"3px solid limegreen\";\n",
              "            element.style.animation = \"none\";\n",
              "\n",
              "            const text = document.getElementById(\"12af07f0-8eff-48c6-82ec-d48f60e1c35e-text\");\n",
              "            text.innerText = \"Initialized Chromedriver\";\n",
              "        "
            ]
          },
          "metadata": {}
        },
        {
          "output_type": "display_data",
          "data": {
            "text/plain": [
              "<IPython.core.display.HTML object>"
            ],
            "text/html": [
              "\n",
              "            <div class=\"spinner-container\">\n",
              "                <div class=\"spinner\" id=\"c89df3ca-f9c9-4bde-8789-3fadf24607fe-circle\"></div>\n",
              "                <div class=\"spinner-text\" id=\"c89df3ca-f9c9-4bde-8789-3fadf24607fe-text\">Initializing Chromedriver</div>\n",
              "            </div>\n",
              "            <style>\n",
              "                @keyframes spin {\n",
              "                    from { transform: rotate(0deg); }\n",
              "                    to { transform: rotate(360deg); }\n",
              "                }\n",
              "\n",
              "                .spinner-container {\n",
              "                    display: flex;\n",
              "                    align-items: center;\n",
              "                    margin-bottom: 3px;\n",
              "                }\n",
              "\n",
              "                .spinner {\n",
              "                    border: 3px solid rgba(0, 0, 0, 0.1);\n",
              "                    border-left-color: lightblue;\n",
              "                    border-radius: 50%;\n",
              "                    width: 12px;\n",
              "                    height: 12px;\n",
              "                    animation: spin 1s linear infinite;\n",
              "                }\n",
              "\n",
              "                .spinner-text {\n",
              "                    padding-left: 6px;\n",
              "                }\n",
              "            </style>\n",
              "        "
            ]
          },
          "metadata": {}
        },
        {
          "output_type": "display_data",
          "data": {
            "text/plain": [
              "<IPython.core.display.Javascript object>"
            ],
            "application/javascript": [
              "\n",
              "            const element = document.getElementById(\"c89df3ca-f9c9-4bde-8789-3fadf24607fe-circle\");\n",
              "            element.style.border = \"3px solid limegreen\";\n",
              "            element.style.animation = \"none\";\n",
              "\n",
              "            const text = document.getElementById(\"c89df3ca-f9c9-4bde-8789-3fadf24607fe-text\");\n",
              "            text.innerText = \"Initialized Chromedriver\";\n",
              "        "
            ]
          },
          "metadata": {}
        },
        {
          "output_type": "display_data",
          "data": {
            "text/plain": [
              "<IPython.core.display.HTML object>"
            ],
            "text/html": [
              "\n",
              "            <div class=\"spinner-container\">\n",
              "                <div class=\"spinner\" id=\"93067d67-6e22-423d-9250-9ba7a441076c-circle\"></div>\n",
              "                <div class=\"spinner-text\" id=\"93067d67-6e22-423d-9250-9ba7a441076c-text\">Initializing Chromedriver</div>\n",
              "            </div>\n",
              "            <style>\n",
              "                @keyframes spin {\n",
              "                    from { transform: rotate(0deg); }\n",
              "                    to { transform: rotate(360deg); }\n",
              "                }\n",
              "\n",
              "                .spinner-container {\n",
              "                    display: flex;\n",
              "                    align-items: center;\n",
              "                    margin-bottom: 3px;\n",
              "                }\n",
              "\n",
              "                .spinner {\n",
              "                    border: 3px solid rgba(0, 0, 0, 0.1);\n",
              "                    border-left-color: lightblue;\n",
              "                    border-radius: 50%;\n",
              "                    width: 12px;\n",
              "                    height: 12px;\n",
              "                    animation: spin 1s linear infinite;\n",
              "                }\n",
              "\n",
              "                .spinner-text {\n",
              "                    padding-left: 6px;\n",
              "                }\n",
              "            </style>\n",
              "        "
            ]
          },
          "metadata": {}
        },
        {
          "output_type": "display_data",
          "data": {
            "text/plain": [
              "<IPython.core.display.Javascript object>"
            ],
            "application/javascript": [
              "\n",
              "            const element = document.getElementById(\"93067d67-6e22-423d-9250-9ba7a441076c-circle\");\n",
              "            element.style.border = \"3px solid limegreen\";\n",
              "            element.style.animation = \"none\";\n",
              "\n",
              "            const text = document.getElementById(\"93067d67-6e22-423d-9250-9ba7a441076c-text\");\n",
              "            text.innerText = \"Initialized Chromedriver\";\n",
              "        "
            ]
          },
          "metadata": {}
        },
        {
          "output_type": "display_data",
          "data": {
            "text/plain": [
              "<IPython.core.display.HTML object>"
            ],
            "text/html": [
              "\n",
              "            <div class=\"spinner-container\">\n",
              "                <div class=\"spinner\" id=\"e4aab886-0c20-48cb-8ce6-146022486b87-circle\"></div>\n",
              "                <div class=\"spinner-text\" id=\"e4aab886-0c20-48cb-8ce6-146022486b87-text\">Initializing Chromedriver</div>\n",
              "            </div>\n",
              "            <style>\n",
              "                @keyframes spin {\n",
              "                    from { transform: rotate(0deg); }\n",
              "                    to { transform: rotate(360deg); }\n",
              "                }\n",
              "\n",
              "                .spinner-container {\n",
              "                    display: flex;\n",
              "                    align-items: center;\n",
              "                    margin-bottom: 3px;\n",
              "                }\n",
              "\n",
              "                .spinner {\n",
              "                    border: 3px solid rgba(0, 0, 0, 0.1);\n",
              "                    border-left-color: lightblue;\n",
              "                    border-radius: 50%;\n",
              "                    width: 12px;\n",
              "                    height: 12px;\n",
              "                    animation: spin 1s linear infinite;\n",
              "                }\n",
              "\n",
              "                .spinner-text {\n",
              "                    padding-left: 6px;\n",
              "                }\n",
              "            </style>\n",
              "        "
            ]
          },
          "metadata": {}
        },
        {
          "output_type": "display_data",
          "data": {
            "text/plain": [
              "<IPython.core.display.Javascript object>"
            ],
            "application/javascript": [
              "\n",
              "            const element = document.getElementById(\"e4aab886-0c20-48cb-8ce6-146022486b87-circle\");\n",
              "            element.style.border = \"3px solid limegreen\";\n",
              "            element.style.animation = \"none\";\n",
              "\n",
              "            const text = document.getElementById(\"e4aab886-0c20-48cb-8ce6-146022486b87-text\");\n",
              "            text.innerText = \"Initialized Chromedriver\";\n",
              "        "
            ]
          },
          "metadata": {}
        },
        {
          "output_type": "display_data",
          "data": {
            "text/plain": [
              "<IPython.core.display.HTML object>"
            ],
            "text/html": [
              "\n",
              "            <div class=\"spinner-container\">\n",
              "                <div class=\"spinner\" id=\"4049f44e-44ee-463d-9027-2e2f376084c8-circle\"></div>\n",
              "                <div class=\"spinner-text\" id=\"4049f44e-44ee-463d-9027-2e2f376084c8-text\">Initializing Chromedriver</div>\n",
              "            </div>\n",
              "            <style>\n",
              "                @keyframes spin {\n",
              "                    from { transform: rotate(0deg); }\n",
              "                    to { transform: rotate(360deg); }\n",
              "                }\n",
              "\n",
              "                .spinner-container {\n",
              "                    display: flex;\n",
              "                    align-items: center;\n",
              "                    margin-bottom: 3px;\n",
              "                }\n",
              "\n",
              "                .spinner {\n",
              "                    border: 3px solid rgba(0, 0, 0, 0.1);\n",
              "                    border-left-color: lightblue;\n",
              "                    border-radius: 50%;\n",
              "                    width: 12px;\n",
              "                    height: 12px;\n",
              "                    animation: spin 1s linear infinite;\n",
              "                }\n",
              "\n",
              "                .spinner-text {\n",
              "                    padding-left: 6px;\n",
              "                }\n",
              "            </style>\n",
              "        "
            ]
          },
          "metadata": {}
        },
        {
          "output_type": "display_data",
          "data": {
            "text/plain": [
              "<IPython.core.display.Javascript object>"
            ],
            "application/javascript": [
              "\n",
              "            const element = document.getElementById(\"4049f44e-44ee-463d-9027-2e2f376084c8-circle\");\n",
              "            element.style.border = \"3px solid limegreen\";\n",
              "            element.style.animation = \"none\";\n",
              "\n",
              "            const text = document.getElementById(\"4049f44e-44ee-463d-9027-2e2f376084c8-text\");\n",
              "            text.innerText = \"Initialized Chromedriver\";\n",
              "        "
            ]
          },
          "metadata": {}
        },
        {
          "output_type": "display_data",
          "data": {
            "text/plain": [
              "<IPython.core.display.HTML object>"
            ],
            "text/html": [
              "\n",
              "            <div class=\"spinner-container\">\n",
              "                <div class=\"spinner\" id=\"6ddddce3-a171-41c4-878c-5d6fa8592d39-circle\"></div>\n",
              "                <div class=\"spinner-text\" id=\"6ddddce3-a171-41c4-878c-5d6fa8592d39-text\">Initializing Chromedriver</div>\n",
              "            </div>\n",
              "            <style>\n",
              "                @keyframes spin {\n",
              "                    from { transform: rotate(0deg); }\n",
              "                    to { transform: rotate(360deg); }\n",
              "                }\n",
              "\n",
              "                .spinner-container {\n",
              "                    display: flex;\n",
              "                    align-items: center;\n",
              "                    margin-bottom: 3px;\n",
              "                }\n",
              "\n",
              "                .spinner {\n",
              "                    border: 3px solid rgba(0, 0, 0, 0.1);\n",
              "                    border-left-color: lightblue;\n",
              "                    border-radius: 50%;\n",
              "                    width: 12px;\n",
              "                    height: 12px;\n",
              "                    animation: spin 1s linear infinite;\n",
              "                }\n",
              "\n",
              "                .spinner-text {\n",
              "                    padding-left: 6px;\n",
              "                }\n",
              "            </style>\n",
              "        "
            ]
          },
          "metadata": {}
        },
        {
          "output_type": "display_data",
          "data": {
            "text/plain": [
              "<IPython.core.display.Javascript object>"
            ],
            "application/javascript": [
              "\n",
              "            const element = document.getElementById(\"6ddddce3-a171-41c4-878c-5d6fa8592d39-circle\");\n",
              "            element.style.border = \"3px solid limegreen\";\n",
              "            element.style.animation = \"none\";\n",
              "\n",
              "            const text = document.getElementById(\"6ddddce3-a171-41c4-878c-5d6fa8592d39-text\");\n",
              "            text.innerText = \"Initialized Chromedriver\";\n",
              "        "
            ]
          },
          "metadata": {}
        },
        {
          "output_type": "display_data",
          "data": {
            "text/plain": [
              "<IPython.core.display.HTML object>"
            ],
            "text/html": [
              "\n",
              "            <div class=\"spinner-container\">\n",
              "                <div class=\"spinner\" id=\"b79faf07-958d-4eb7-92fd-751fe8a19b63-circle\"></div>\n",
              "                <div class=\"spinner-text\" id=\"b79faf07-958d-4eb7-92fd-751fe8a19b63-text\">Initializing Chromedriver</div>\n",
              "            </div>\n",
              "            <style>\n",
              "                @keyframes spin {\n",
              "                    from { transform: rotate(0deg); }\n",
              "                    to { transform: rotate(360deg); }\n",
              "                }\n",
              "\n",
              "                .spinner-container {\n",
              "                    display: flex;\n",
              "                    align-items: center;\n",
              "                    margin-bottom: 3px;\n",
              "                }\n",
              "\n",
              "                .spinner {\n",
              "                    border: 3px solid rgba(0, 0, 0, 0.1);\n",
              "                    border-left-color: lightblue;\n",
              "                    border-radius: 50%;\n",
              "                    width: 12px;\n",
              "                    height: 12px;\n",
              "                    animation: spin 1s linear infinite;\n",
              "                }\n",
              "\n",
              "                .spinner-text {\n",
              "                    padding-left: 6px;\n",
              "                }\n",
              "            </style>\n",
              "        "
            ]
          },
          "metadata": {}
        },
        {
          "output_type": "display_data",
          "data": {
            "text/plain": [
              "<IPython.core.display.Javascript object>"
            ],
            "application/javascript": [
              "\n",
              "            const element = document.getElementById(\"b79faf07-958d-4eb7-92fd-751fe8a19b63-circle\");\n",
              "            element.style.border = \"3px solid limegreen\";\n",
              "            element.style.animation = \"none\";\n",
              "\n",
              "            const text = document.getElementById(\"b79faf07-958d-4eb7-92fd-751fe8a19b63-text\");\n",
              "            text.innerText = \"Initialized Chromedriver\";\n",
              "        "
            ]
          },
          "metadata": {}
        },
        {
          "output_type": "display_data",
          "data": {
            "text/plain": [
              "<IPython.core.display.HTML object>"
            ],
            "text/html": [
              "\n",
              "            <div class=\"spinner-container\">\n",
              "                <div class=\"spinner\" id=\"f28c63ea-4ae2-49f0-9622-38f476e8ca62-circle\"></div>\n",
              "                <div class=\"spinner-text\" id=\"f28c63ea-4ae2-49f0-9622-38f476e8ca62-text\">Initializing Chromedriver</div>\n",
              "            </div>\n",
              "            <style>\n",
              "                @keyframes spin {\n",
              "                    from { transform: rotate(0deg); }\n",
              "                    to { transform: rotate(360deg); }\n",
              "                }\n",
              "\n",
              "                .spinner-container {\n",
              "                    display: flex;\n",
              "                    align-items: center;\n",
              "                    margin-bottom: 3px;\n",
              "                }\n",
              "\n",
              "                .spinner {\n",
              "                    border: 3px solid rgba(0, 0, 0, 0.1);\n",
              "                    border-left-color: lightblue;\n",
              "                    border-radius: 50%;\n",
              "                    width: 12px;\n",
              "                    height: 12px;\n",
              "                    animation: spin 1s linear infinite;\n",
              "                }\n",
              "\n",
              "                .spinner-text {\n",
              "                    padding-left: 6px;\n",
              "                }\n",
              "            </style>\n",
              "        "
            ]
          },
          "metadata": {}
        },
        {
          "output_type": "display_data",
          "data": {
            "text/plain": [
              "<IPython.core.display.Javascript object>"
            ],
            "application/javascript": [
              "\n",
              "            const element = document.getElementById(\"f28c63ea-4ae2-49f0-9622-38f476e8ca62-circle\");\n",
              "            element.style.border = \"3px solid limegreen\";\n",
              "            element.style.animation = \"none\";\n",
              "\n",
              "            const text = document.getElementById(\"f28c63ea-4ae2-49f0-9622-38f476e8ca62-text\");\n",
              "            text.innerText = \"Initialized Chromedriver\";\n",
              "        "
            ]
          },
          "metadata": {}
        },
        {
          "output_type": "display_data",
          "data": {
            "text/plain": [
              "<IPython.core.display.HTML object>"
            ],
            "text/html": [
              "\n",
              "            <div class=\"spinner-container\">\n",
              "                <div class=\"spinner\" id=\"949ebcc1-3f5b-49f8-b72b-bd68321c3636-circle\"></div>\n",
              "                <div class=\"spinner-text\" id=\"949ebcc1-3f5b-49f8-b72b-bd68321c3636-text\">Initializing Chromedriver</div>\n",
              "            </div>\n",
              "            <style>\n",
              "                @keyframes spin {\n",
              "                    from { transform: rotate(0deg); }\n",
              "                    to { transform: rotate(360deg); }\n",
              "                }\n",
              "\n",
              "                .spinner-container {\n",
              "                    display: flex;\n",
              "                    align-items: center;\n",
              "                    margin-bottom: 3px;\n",
              "                }\n",
              "\n",
              "                .spinner {\n",
              "                    border: 3px solid rgba(0, 0, 0, 0.1);\n",
              "                    border-left-color: lightblue;\n",
              "                    border-radius: 50%;\n",
              "                    width: 12px;\n",
              "                    height: 12px;\n",
              "                    animation: spin 1s linear infinite;\n",
              "                }\n",
              "\n",
              "                .spinner-text {\n",
              "                    padding-left: 6px;\n",
              "                }\n",
              "            </style>\n",
              "        "
            ]
          },
          "metadata": {}
        },
        {
          "output_type": "display_data",
          "data": {
            "text/plain": [
              "<IPython.core.display.Javascript object>"
            ],
            "application/javascript": [
              "\n",
              "            const element = document.getElementById(\"949ebcc1-3f5b-49f8-b72b-bd68321c3636-circle\");\n",
              "            element.style.border = \"3px solid limegreen\";\n",
              "            element.style.animation = \"none\";\n",
              "\n",
              "            const text = document.getElementById(\"949ebcc1-3f5b-49f8-b72b-bd68321c3636-text\");\n",
              "            text.innerText = \"Initialized Chromedriver\";\n",
              "        "
            ]
          },
          "metadata": {}
        },
        {
          "output_type": "display_data",
          "data": {
            "text/plain": [
              "<IPython.core.display.HTML object>"
            ],
            "text/html": [
              "\n",
              "            <div class=\"spinner-container\">\n",
              "                <div class=\"spinner\" id=\"72edfec6-892d-4d9a-8a15-0f39c4463b49-circle\"></div>\n",
              "                <div class=\"spinner-text\" id=\"72edfec6-892d-4d9a-8a15-0f39c4463b49-text\">Initializing Chromedriver</div>\n",
              "            </div>\n",
              "            <style>\n",
              "                @keyframes spin {\n",
              "                    from { transform: rotate(0deg); }\n",
              "                    to { transform: rotate(360deg); }\n",
              "                }\n",
              "\n",
              "                .spinner-container {\n",
              "                    display: flex;\n",
              "                    align-items: center;\n",
              "                    margin-bottom: 3px;\n",
              "                }\n",
              "\n",
              "                .spinner {\n",
              "                    border: 3px solid rgba(0, 0, 0, 0.1);\n",
              "                    border-left-color: lightblue;\n",
              "                    border-radius: 50%;\n",
              "                    width: 12px;\n",
              "                    height: 12px;\n",
              "                    animation: spin 1s linear infinite;\n",
              "                }\n",
              "\n",
              "                .spinner-text {\n",
              "                    padding-left: 6px;\n",
              "                }\n",
              "            </style>\n",
              "        "
            ]
          },
          "metadata": {}
        },
        {
          "output_type": "display_data",
          "data": {
            "text/plain": [
              "<IPython.core.display.Javascript object>"
            ],
            "application/javascript": [
              "\n",
              "            const element = document.getElementById(\"72edfec6-892d-4d9a-8a15-0f39c4463b49-circle\");\n",
              "            element.style.border = \"3px solid limegreen\";\n",
              "            element.style.animation = \"none\";\n",
              "\n",
              "            const text = document.getElementById(\"72edfec6-892d-4d9a-8a15-0f39c4463b49-text\");\n",
              "            text.innerText = \"Initialized Chromedriver\";\n",
              "        "
            ]
          },
          "metadata": {}
        },
        {
          "output_type": "display_data",
          "data": {
            "text/plain": [
              "<IPython.core.display.HTML object>"
            ],
            "text/html": [
              "\n",
              "            <div class=\"spinner-container\">\n",
              "                <div class=\"spinner\" id=\"ea18c388-0a34-4b2c-9f6f-ab301245eef1-circle\"></div>\n",
              "                <div class=\"spinner-text\" id=\"ea18c388-0a34-4b2c-9f6f-ab301245eef1-text\">Initializing Chromedriver</div>\n",
              "            </div>\n",
              "            <style>\n",
              "                @keyframes spin {\n",
              "                    from { transform: rotate(0deg); }\n",
              "                    to { transform: rotate(360deg); }\n",
              "                }\n",
              "\n",
              "                .spinner-container {\n",
              "                    display: flex;\n",
              "                    align-items: center;\n",
              "                    margin-bottom: 3px;\n",
              "                }\n",
              "\n",
              "                .spinner {\n",
              "                    border: 3px solid rgba(0, 0, 0, 0.1);\n",
              "                    border-left-color: lightblue;\n",
              "                    border-radius: 50%;\n",
              "                    width: 12px;\n",
              "                    height: 12px;\n",
              "                    animation: spin 1s linear infinite;\n",
              "                }\n",
              "\n",
              "                .spinner-text {\n",
              "                    padding-left: 6px;\n",
              "                }\n",
              "            </style>\n",
              "        "
            ]
          },
          "metadata": {}
        },
        {
          "output_type": "display_data",
          "data": {
            "text/plain": [
              "<IPython.core.display.Javascript object>"
            ],
            "application/javascript": [
              "\n",
              "            const element = document.getElementById(\"ea18c388-0a34-4b2c-9f6f-ab301245eef1-circle\");\n",
              "            element.style.border = \"3px solid limegreen\";\n",
              "            element.style.animation = \"none\";\n",
              "\n",
              "            const text = document.getElementById(\"ea18c388-0a34-4b2c-9f6f-ab301245eef1-text\");\n",
              "            text.innerText = \"Initialized Chromedriver\";\n",
              "        "
            ]
          },
          "metadata": {}
        },
        {
          "output_type": "display_data",
          "data": {
            "text/plain": [
              "<IPython.core.display.HTML object>"
            ],
            "text/html": [
              "\n",
              "            <div class=\"spinner-container\">\n",
              "                <div class=\"spinner\" id=\"cc5e22ff-4995-4daa-b2e5-7b4c4b62e28b-circle\"></div>\n",
              "                <div class=\"spinner-text\" id=\"cc5e22ff-4995-4daa-b2e5-7b4c4b62e28b-text\">Initializing Chromedriver</div>\n",
              "            </div>\n",
              "            <style>\n",
              "                @keyframes spin {\n",
              "                    from { transform: rotate(0deg); }\n",
              "                    to { transform: rotate(360deg); }\n",
              "                }\n",
              "\n",
              "                .spinner-container {\n",
              "                    display: flex;\n",
              "                    align-items: center;\n",
              "                    margin-bottom: 3px;\n",
              "                }\n",
              "\n",
              "                .spinner {\n",
              "                    border: 3px solid rgba(0, 0, 0, 0.1);\n",
              "                    border-left-color: lightblue;\n",
              "                    border-radius: 50%;\n",
              "                    width: 12px;\n",
              "                    height: 12px;\n",
              "                    animation: spin 1s linear infinite;\n",
              "                }\n",
              "\n",
              "                .spinner-text {\n",
              "                    padding-left: 6px;\n",
              "                }\n",
              "            </style>\n",
              "        "
            ]
          },
          "metadata": {}
        },
        {
          "output_type": "display_data",
          "data": {
            "text/plain": [
              "<IPython.core.display.Javascript object>"
            ],
            "application/javascript": [
              "\n",
              "            const element = document.getElementById(\"cc5e22ff-4995-4daa-b2e5-7b4c4b62e28b-circle\");\n",
              "            element.style.border = \"3px solid limegreen\";\n",
              "            element.style.animation = \"none\";\n",
              "\n",
              "            const text = document.getElementById(\"cc5e22ff-4995-4daa-b2e5-7b4c4b62e28b-text\");\n",
              "            text.innerText = \"Initialized Chromedriver\";\n",
              "        "
            ]
          },
          "metadata": {}
        },
        {
          "output_type": "display_data",
          "data": {
            "text/plain": [
              "<IPython.core.display.HTML object>"
            ],
            "text/html": [
              "\n",
              "            <div class=\"spinner-container\">\n",
              "                <div class=\"spinner\" id=\"3d5029a0-a0d0-4565-b464-e0267421bdf7-circle\"></div>\n",
              "                <div class=\"spinner-text\" id=\"3d5029a0-a0d0-4565-b464-e0267421bdf7-text\">Initializing Chromedriver</div>\n",
              "            </div>\n",
              "            <style>\n",
              "                @keyframes spin {\n",
              "                    from { transform: rotate(0deg); }\n",
              "                    to { transform: rotate(360deg); }\n",
              "                }\n",
              "\n",
              "                .spinner-container {\n",
              "                    display: flex;\n",
              "                    align-items: center;\n",
              "                    margin-bottom: 3px;\n",
              "                }\n",
              "\n",
              "                .spinner {\n",
              "                    border: 3px solid rgba(0, 0, 0, 0.1);\n",
              "                    border-left-color: lightblue;\n",
              "                    border-radius: 50%;\n",
              "                    width: 12px;\n",
              "                    height: 12px;\n",
              "                    animation: spin 1s linear infinite;\n",
              "                }\n",
              "\n",
              "                .spinner-text {\n",
              "                    padding-left: 6px;\n",
              "                }\n",
              "            </style>\n",
              "        "
            ]
          },
          "metadata": {}
        },
        {
          "output_type": "display_data",
          "data": {
            "text/plain": [
              "<IPython.core.display.Javascript object>"
            ],
            "application/javascript": [
              "\n",
              "            const element = document.getElementById(\"3d5029a0-a0d0-4565-b464-e0267421bdf7-circle\");\n",
              "            element.style.border = \"3px solid limegreen\";\n",
              "            element.style.animation = \"none\";\n",
              "\n",
              "            const text = document.getElementById(\"3d5029a0-a0d0-4565-b464-e0267421bdf7-text\");\n",
              "            text.innerText = \"Initialized Chromedriver\";\n",
              "        "
            ]
          },
          "metadata": {}
        },
        {
          "output_type": "display_data",
          "data": {
            "text/plain": [
              "<IPython.core.display.HTML object>"
            ],
            "text/html": [
              "\n",
              "            <div class=\"spinner-container\">\n",
              "                <div class=\"spinner\" id=\"1ff12f76-8ba1-4b84-9985-f92f02d64ce2-circle\"></div>\n",
              "                <div class=\"spinner-text\" id=\"1ff12f76-8ba1-4b84-9985-f92f02d64ce2-text\">Initializing Chromedriver</div>\n",
              "            </div>\n",
              "            <style>\n",
              "                @keyframes spin {\n",
              "                    from { transform: rotate(0deg); }\n",
              "                    to { transform: rotate(360deg); }\n",
              "                }\n",
              "\n",
              "                .spinner-container {\n",
              "                    display: flex;\n",
              "                    align-items: center;\n",
              "                    margin-bottom: 3px;\n",
              "                }\n",
              "\n",
              "                .spinner {\n",
              "                    border: 3px solid rgba(0, 0, 0, 0.1);\n",
              "                    border-left-color: lightblue;\n",
              "                    border-radius: 50%;\n",
              "                    width: 12px;\n",
              "                    height: 12px;\n",
              "                    animation: spin 1s linear infinite;\n",
              "                }\n",
              "\n",
              "                .spinner-text {\n",
              "                    padding-left: 6px;\n",
              "                }\n",
              "            </style>\n",
              "        "
            ]
          },
          "metadata": {}
        },
        {
          "output_type": "display_data",
          "data": {
            "text/plain": [
              "<IPython.core.display.Javascript object>"
            ],
            "application/javascript": [
              "\n",
              "            const element = document.getElementById(\"1ff12f76-8ba1-4b84-9985-f92f02d64ce2-circle\");\n",
              "            element.style.border = \"3px solid limegreen\";\n",
              "            element.style.animation = \"none\";\n",
              "\n",
              "            const text = document.getElementById(\"1ff12f76-8ba1-4b84-9985-f92f02d64ce2-text\");\n",
              "            text.innerText = \"Initialized Chromedriver\";\n",
              "        "
            ]
          },
          "metadata": {}
        },
        {
          "output_type": "display_data",
          "data": {
            "text/plain": [
              "<IPython.core.display.HTML object>"
            ],
            "text/html": [
              "\n",
              "            <div class=\"spinner-container\">\n",
              "                <div class=\"spinner\" id=\"9037e5d0-9d0b-4e2b-84e5-41f4caad9b02-circle\"></div>\n",
              "                <div class=\"spinner-text\" id=\"9037e5d0-9d0b-4e2b-84e5-41f4caad9b02-text\">Initializing Chromedriver</div>\n",
              "            </div>\n",
              "            <style>\n",
              "                @keyframes spin {\n",
              "                    from { transform: rotate(0deg); }\n",
              "                    to { transform: rotate(360deg); }\n",
              "                }\n",
              "\n",
              "                .spinner-container {\n",
              "                    display: flex;\n",
              "                    align-items: center;\n",
              "                    margin-bottom: 3px;\n",
              "                }\n",
              "\n",
              "                .spinner {\n",
              "                    border: 3px solid rgba(0, 0, 0, 0.1);\n",
              "                    border-left-color: lightblue;\n",
              "                    border-radius: 50%;\n",
              "                    width: 12px;\n",
              "                    height: 12px;\n",
              "                    animation: spin 1s linear infinite;\n",
              "                }\n",
              "\n",
              "                .spinner-text {\n",
              "                    padding-left: 6px;\n",
              "                }\n",
              "            </style>\n",
              "        "
            ]
          },
          "metadata": {}
        },
        {
          "output_type": "display_data",
          "data": {
            "text/plain": [
              "<IPython.core.display.Javascript object>"
            ],
            "application/javascript": [
              "\n",
              "            const element = document.getElementById(\"9037e5d0-9d0b-4e2b-84e5-41f4caad9b02-circle\");\n",
              "            element.style.border = \"3px solid limegreen\";\n",
              "            element.style.animation = \"none\";\n",
              "\n",
              "            const text = document.getElementById(\"9037e5d0-9d0b-4e2b-84e5-41f4caad9b02-text\");\n",
              "            text.innerText = \"Initialized Chromedriver\";\n",
              "        "
            ]
          },
          "metadata": {}
        },
        {
          "output_type": "display_data",
          "data": {
            "text/plain": [
              "<IPython.core.display.HTML object>"
            ],
            "text/html": [
              "\n",
              "            <div class=\"spinner-container\">\n",
              "                <div class=\"spinner\" id=\"e13712b8-5911-407b-8ff0-083d250a3a1e-circle\"></div>\n",
              "                <div class=\"spinner-text\" id=\"e13712b8-5911-407b-8ff0-083d250a3a1e-text\">Initializing Chromedriver</div>\n",
              "            </div>\n",
              "            <style>\n",
              "                @keyframes spin {\n",
              "                    from { transform: rotate(0deg); }\n",
              "                    to { transform: rotate(360deg); }\n",
              "                }\n",
              "\n",
              "                .spinner-container {\n",
              "                    display: flex;\n",
              "                    align-items: center;\n",
              "                    margin-bottom: 3px;\n",
              "                }\n",
              "\n",
              "                .spinner {\n",
              "                    border: 3px solid rgba(0, 0, 0, 0.1);\n",
              "                    border-left-color: lightblue;\n",
              "                    border-radius: 50%;\n",
              "                    width: 12px;\n",
              "                    height: 12px;\n",
              "                    animation: spin 1s linear infinite;\n",
              "                }\n",
              "\n",
              "                .spinner-text {\n",
              "                    padding-left: 6px;\n",
              "                }\n",
              "            </style>\n",
              "        "
            ]
          },
          "metadata": {}
        },
        {
          "output_type": "display_data",
          "data": {
            "text/plain": [
              "<IPython.core.display.Javascript object>"
            ],
            "application/javascript": [
              "\n",
              "            const element = document.getElementById(\"e13712b8-5911-407b-8ff0-083d250a3a1e-circle\");\n",
              "            element.style.border = \"3px solid limegreen\";\n",
              "            element.style.animation = \"none\";\n",
              "\n",
              "            const text = document.getElementById(\"e13712b8-5911-407b-8ff0-083d250a3a1e-text\");\n",
              "            text.innerText = \"Initialized Chromedriver\";\n",
              "        "
            ]
          },
          "metadata": {}
        },
        {
          "output_type": "display_data",
          "data": {
            "text/plain": [
              "<IPython.core.display.HTML object>"
            ],
            "text/html": [
              "\n",
              "            <div class=\"spinner-container\">\n",
              "                <div class=\"spinner\" id=\"2ebc6a69-3f38-43b5-b5a2-867bd5ba31d9-circle\"></div>\n",
              "                <div class=\"spinner-text\" id=\"2ebc6a69-3f38-43b5-b5a2-867bd5ba31d9-text\">Initializing Chromedriver</div>\n",
              "            </div>\n",
              "            <style>\n",
              "                @keyframes spin {\n",
              "                    from { transform: rotate(0deg); }\n",
              "                    to { transform: rotate(360deg); }\n",
              "                }\n",
              "\n",
              "                .spinner-container {\n",
              "                    display: flex;\n",
              "                    align-items: center;\n",
              "                    margin-bottom: 3px;\n",
              "                }\n",
              "\n",
              "                .spinner {\n",
              "                    border: 3px solid rgba(0, 0, 0, 0.1);\n",
              "                    border-left-color: lightblue;\n",
              "                    border-radius: 50%;\n",
              "                    width: 12px;\n",
              "                    height: 12px;\n",
              "                    animation: spin 1s linear infinite;\n",
              "                }\n",
              "\n",
              "                .spinner-text {\n",
              "                    padding-left: 6px;\n",
              "                }\n",
              "            </style>\n",
              "        "
            ]
          },
          "metadata": {}
        },
        {
          "output_type": "display_data",
          "data": {
            "text/plain": [
              "<IPython.core.display.Javascript object>"
            ],
            "application/javascript": [
              "\n",
              "            const element = document.getElementById(\"2ebc6a69-3f38-43b5-b5a2-867bd5ba31d9-circle\");\n",
              "            element.style.border = \"3px solid limegreen\";\n",
              "            element.style.animation = \"none\";\n",
              "\n",
              "            const text = document.getElementById(\"2ebc6a69-3f38-43b5-b5a2-867bd5ba31d9-text\");\n",
              "            text.innerText = \"Initialized Chromedriver\";\n",
              "        "
            ]
          },
          "metadata": {}
        },
        {
          "output_type": "display_data",
          "data": {
            "text/plain": [
              "<IPython.core.display.HTML object>"
            ],
            "text/html": [
              "\n",
              "            <div class=\"spinner-container\">\n",
              "                <div class=\"spinner\" id=\"3b16f73f-8f0c-492e-8af0-24ad1a8f5aa9-circle\"></div>\n",
              "                <div class=\"spinner-text\" id=\"3b16f73f-8f0c-492e-8af0-24ad1a8f5aa9-text\">Initializing Chromedriver</div>\n",
              "            </div>\n",
              "            <style>\n",
              "                @keyframes spin {\n",
              "                    from { transform: rotate(0deg); }\n",
              "                    to { transform: rotate(360deg); }\n",
              "                }\n",
              "\n",
              "                .spinner-container {\n",
              "                    display: flex;\n",
              "                    align-items: center;\n",
              "                    margin-bottom: 3px;\n",
              "                }\n",
              "\n",
              "                .spinner {\n",
              "                    border: 3px solid rgba(0, 0, 0, 0.1);\n",
              "                    border-left-color: lightblue;\n",
              "                    border-radius: 50%;\n",
              "                    width: 12px;\n",
              "                    height: 12px;\n",
              "                    animation: spin 1s linear infinite;\n",
              "                }\n",
              "\n",
              "                .spinner-text {\n",
              "                    padding-left: 6px;\n",
              "                }\n",
              "            </style>\n",
              "        "
            ]
          },
          "metadata": {}
        },
        {
          "output_type": "display_data",
          "data": {
            "text/plain": [
              "<IPython.core.display.Javascript object>"
            ],
            "application/javascript": [
              "\n",
              "            const element = document.getElementById(\"3b16f73f-8f0c-492e-8af0-24ad1a8f5aa9-circle\");\n",
              "            element.style.border = \"3px solid limegreen\";\n",
              "            element.style.animation = \"none\";\n",
              "\n",
              "            const text = document.getElementById(\"3b16f73f-8f0c-492e-8af0-24ad1a8f5aa9-text\");\n",
              "            text.innerText = \"Initialized Chromedriver\";\n",
              "        "
            ]
          },
          "metadata": {}
        },
        {
          "output_type": "display_data",
          "data": {
            "text/plain": [
              "<IPython.core.display.HTML object>"
            ],
            "text/html": [
              "\n",
              "            <div class=\"spinner-container\">\n",
              "                <div class=\"spinner\" id=\"7b4f177c-6e33-44de-8f91-10a1a99256ae-circle\"></div>\n",
              "                <div class=\"spinner-text\" id=\"7b4f177c-6e33-44de-8f91-10a1a99256ae-text\">Initializing Chromedriver</div>\n",
              "            </div>\n",
              "            <style>\n",
              "                @keyframes spin {\n",
              "                    from { transform: rotate(0deg); }\n",
              "                    to { transform: rotate(360deg); }\n",
              "                }\n",
              "\n",
              "                .spinner-container {\n",
              "                    display: flex;\n",
              "                    align-items: center;\n",
              "                    margin-bottom: 3px;\n",
              "                }\n",
              "\n",
              "                .spinner {\n",
              "                    border: 3px solid rgba(0, 0, 0, 0.1);\n",
              "                    border-left-color: lightblue;\n",
              "                    border-radius: 50%;\n",
              "                    width: 12px;\n",
              "                    height: 12px;\n",
              "                    animation: spin 1s linear infinite;\n",
              "                }\n",
              "\n",
              "                .spinner-text {\n",
              "                    padding-left: 6px;\n",
              "                }\n",
              "            </style>\n",
              "        "
            ]
          },
          "metadata": {}
        },
        {
          "output_type": "display_data",
          "data": {
            "text/plain": [
              "<IPython.core.display.Javascript object>"
            ],
            "application/javascript": [
              "\n",
              "            const element = document.getElementById(\"7b4f177c-6e33-44de-8f91-10a1a99256ae-circle\");\n",
              "            element.style.border = \"3px solid limegreen\";\n",
              "            element.style.animation = \"none\";\n",
              "\n",
              "            const text = document.getElementById(\"7b4f177c-6e33-44de-8f91-10a1a99256ae-text\");\n",
              "            text.innerText = \"Initialized Chromedriver\";\n",
              "        "
            ]
          },
          "metadata": {}
        },
        {
          "output_type": "display_data",
          "data": {
            "text/plain": [
              "<IPython.core.display.HTML object>"
            ],
            "text/html": [
              "\n",
              "            <div class=\"spinner-container\">\n",
              "                <div class=\"spinner\" id=\"6b021732-1c0a-4058-8112-a9bc1413f468-circle\"></div>\n",
              "                <div class=\"spinner-text\" id=\"6b021732-1c0a-4058-8112-a9bc1413f468-text\">Initializing Chromedriver</div>\n",
              "            </div>\n",
              "            <style>\n",
              "                @keyframes spin {\n",
              "                    from { transform: rotate(0deg); }\n",
              "                    to { transform: rotate(360deg); }\n",
              "                }\n",
              "\n",
              "                .spinner-container {\n",
              "                    display: flex;\n",
              "                    align-items: center;\n",
              "                    margin-bottom: 3px;\n",
              "                }\n",
              "\n",
              "                .spinner {\n",
              "                    border: 3px solid rgba(0, 0, 0, 0.1);\n",
              "                    border-left-color: lightblue;\n",
              "                    border-radius: 50%;\n",
              "                    width: 12px;\n",
              "                    height: 12px;\n",
              "                    animation: spin 1s linear infinite;\n",
              "                }\n",
              "\n",
              "                .spinner-text {\n",
              "                    padding-left: 6px;\n",
              "                }\n",
              "            </style>\n",
              "        "
            ]
          },
          "metadata": {}
        },
        {
          "output_type": "display_data",
          "data": {
            "text/plain": [
              "<IPython.core.display.Javascript object>"
            ],
            "application/javascript": [
              "\n",
              "            const element = document.getElementById(\"6b021732-1c0a-4058-8112-a9bc1413f468-circle\");\n",
              "            element.style.border = \"3px solid limegreen\";\n",
              "            element.style.animation = \"none\";\n",
              "\n",
              "            const text = document.getElementById(\"6b021732-1c0a-4058-8112-a9bc1413f468-text\");\n",
              "            text.innerText = \"Initialized Chromedriver\";\n",
              "        "
            ]
          },
          "metadata": {}
        },
        {
          "output_type": "display_data",
          "data": {
            "text/plain": [
              "<IPython.core.display.HTML object>"
            ],
            "text/html": [
              "\n",
              "            <div class=\"spinner-container\">\n",
              "                <div class=\"spinner\" id=\"0d6fa4cf-30f7-4515-8879-704dd778661e-circle\"></div>\n",
              "                <div class=\"spinner-text\" id=\"0d6fa4cf-30f7-4515-8879-704dd778661e-text\">Initializing Chromedriver</div>\n",
              "            </div>\n",
              "            <style>\n",
              "                @keyframes spin {\n",
              "                    from { transform: rotate(0deg); }\n",
              "                    to { transform: rotate(360deg); }\n",
              "                }\n",
              "\n",
              "                .spinner-container {\n",
              "                    display: flex;\n",
              "                    align-items: center;\n",
              "                    margin-bottom: 3px;\n",
              "                }\n",
              "\n",
              "                .spinner {\n",
              "                    border: 3px solid rgba(0, 0, 0, 0.1);\n",
              "                    border-left-color: lightblue;\n",
              "                    border-radius: 50%;\n",
              "                    width: 12px;\n",
              "                    height: 12px;\n",
              "                    animation: spin 1s linear infinite;\n",
              "                }\n",
              "\n",
              "                .spinner-text {\n",
              "                    padding-left: 6px;\n",
              "                }\n",
              "            </style>\n",
              "        "
            ]
          },
          "metadata": {}
        },
        {
          "output_type": "display_data",
          "data": {
            "text/plain": [
              "<IPython.core.display.Javascript object>"
            ],
            "application/javascript": [
              "\n",
              "            const element = document.getElementById(\"0d6fa4cf-30f7-4515-8879-704dd778661e-circle\");\n",
              "            element.style.border = \"3px solid limegreen\";\n",
              "            element.style.animation = \"none\";\n",
              "\n",
              "            const text = document.getElementById(\"0d6fa4cf-30f7-4515-8879-704dd778661e-text\");\n",
              "            text.innerText = \"Initialized Chromedriver\";\n",
              "        "
            ]
          },
          "metadata": {}
        },
        {
          "output_type": "display_data",
          "data": {
            "text/plain": [
              "<IPython.core.display.HTML object>"
            ],
            "text/html": [
              "\n",
              "            <div class=\"spinner-container\">\n",
              "                <div class=\"spinner\" id=\"4fe2bb2c-67f6-46a3-968b-a73c11e2e33e-circle\"></div>\n",
              "                <div class=\"spinner-text\" id=\"4fe2bb2c-67f6-46a3-968b-a73c11e2e33e-text\">Initializing Chromedriver</div>\n",
              "            </div>\n",
              "            <style>\n",
              "                @keyframes spin {\n",
              "                    from { transform: rotate(0deg); }\n",
              "                    to { transform: rotate(360deg); }\n",
              "                }\n",
              "\n",
              "                .spinner-container {\n",
              "                    display: flex;\n",
              "                    align-items: center;\n",
              "                    margin-bottom: 3px;\n",
              "                }\n",
              "\n",
              "                .spinner {\n",
              "                    border: 3px solid rgba(0, 0, 0, 0.1);\n",
              "                    border-left-color: lightblue;\n",
              "                    border-radius: 50%;\n",
              "                    width: 12px;\n",
              "                    height: 12px;\n",
              "                    animation: spin 1s linear infinite;\n",
              "                }\n",
              "\n",
              "                .spinner-text {\n",
              "                    padding-left: 6px;\n",
              "                }\n",
              "            </style>\n",
              "        "
            ]
          },
          "metadata": {}
        },
        {
          "output_type": "display_data",
          "data": {
            "text/plain": [
              "<IPython.core.display.Javascript object>"
            ],
            "application/javascript": [
              "\n",
              "            const element = document.getElementById(\"4fe2bb2c-67f6-46a3-968b-a73c11e2e33e-circle\");\n",
              "            element.style.border = \"3px solid limegreen\";\n",
              "            element.style.animation = \"none\";\n",
              "\n",
              "            const text = document.getElementById(\"4fe2bb2c-67f6-46a3-968b-a73c11e2e33e-text\");\n",
              "            text.innerText = \"Initialized Chromedriver\";\n",
              "        "
            ]
          },
          "metadata": {}
        },
        {
          "output_type": "display_data",
          "data": {
            "text/plain": [
              "<IPython.core.display.HTML object>"
            ],
            "text/html": [
              "\n",
              "            <div class=\"spinner-container\">\n",
              "                <div class=\"spinner\" id=\"b55d05b2-9f1e-432f-ab2e-7299884280ae-circle\"></div>\n",
              "                <div class=\"spinner-text\" id=\"b55d05b2-9f1e-432f-ab2e-7299884280ae-text\">Initializing Chromedriver</div>\n",
              "            </div>\n",
              "            <style>\n",
              "                @keyframes spin {\n",
              "                    from { transform: rotate(0deg); }\n",
              "                    to { transform: rotate(360deg); }\n",
              "                }\n",
              "\n",
              "                .spinner-container {\n",
              "                    display: flex;\n",
              "                    align-items: center;\n",
              "                    margin-bottom: 3px;\n",
              "                }\n",
              "\n",
              "                .spinner {\n",
              "                    border: 3px solid rgba(0, 0, 0, 0.1);\n",
              "                    border-left-color: lightblue;\n",
              "                    border-radius: 50%;\n",
              "                    width: 12px;\n",
              "                    height: 12px;\n",
              "                    animation: spin 1s linear infinite;\n",
              "                }\n",
              "\n",
              "                .spinner-text {\n",
              "                    padding-left: 6px;\n",
              "                }\n",
              "            </style>\n",
              "        "
            ]
          },
          "metadata": {}
        },
        {
          "output_type": "display_data",
          "data": {
            "text/plain": [
              "<IPython.core.display.Javascript object>"
            ],
            "application/javascript": [
              "\n",
              "            const element = document.getElementById(\"b55d05b2-9f1e-432f-ab2e-7299884280ae-circle\");\n",
              "            element.style.border = \"3px solid limegreen\";\n",
              "            element.style.animation = \"none\";\n",
              "\n",
              "            const text = document.getElementById(\"b55d05b2-9f1e-432f-ab2e-7299884280ae-text\");\n",
              "            text.innerText = \"Initialized Chromedriver\";\n",
              "        "
            ]
          },
          "metadata": {}
        },
        {
          "output_type": "display_data",
          "data": {
            "text/plain": [
              "<IPython.core.display.HTML object>"
            ],
            "text/html": [
              "\n",
              "            <div class=\"spinner-container\">\n",
              "                <div class=\"spinner\" id=\"a0e9eff4-2ce9-49e5-88f5-a5828355f75a-circle\"></div>\n",
              "                <div class=\"spinner-text\" id=\"a0e9eff4-2ce9-49e5-88f5-a5828355f75a-text\">Initializing Chromedriver</div>\n",
              "            </div>\n",
              "            <style>\n",
              "                @keyframes spin {\n",
              "                    from { transform: rotate(0deg); }\n",
              "                    to { transform: rotate(360deg); }\n",
              "                }\n",
              "\n",
              "                .spinner-container {\n",
              "                    display: flex;\n",
              "                    align-items: center;\n",
              "                    margin-bottom: 3px;\n",
              "                }\n",
              "\n",
              "                .spinner {\n",
              "                    border: 3px solid rgba(0, 0, 0, 0.1);\n",
              "                    border-left-color: lightblue;\n",
              "                    border-radius: 50%;\n",
              "                    width: 12px;\n",
              "                    height: 12px;\n",
              "                    animation: spin 1s linear infinite;\n",
              "                }\n",
              "\n",
              "                .spinner-text {\n",
              "                    padding-left: 6px;\n",
              "                }\n",
              "            </style>\n",
              "        "
            ]
          },
          "metadata": {}
        },
        {
          "output_type": "display_data",
          "data": {
            "text/plain": [
              "<IPython.core.display.Javascript object>"
            ],
            "application/javascript": [
              "\n",
              "            const element = document.getElementById(\"a0e9eff4-2ce9-49e5-88f5-a5828355f75a-circle\");\n",
              "            element.style.border = \"3px solid limegreen\";\n",
              "            element.style.animation = \"none\";\n",
              "\n",
              "            const text = document.getElementById(\"a0e9eff4-2ce9-49e5-88f5-a5828355f75a-text\");\n",
              "            text.innerText = \"Initialized Chromedriver\";\n",
              "        "
            ]
          },
          "metadata": {}
        },
        {
          "output_type": "display_data",
          "data": {
            "text/plain": [
              "<IPython.core.display.HTML object>"
            ],
            "text/html": [
              "\n",
              "            <div class=\"spinner-container\">\n",
              "                <div class=\"spinner\" id=\"dd179b8c-d998-4d20-a511-15a3b1624575-circle\"></div>\n",
              "                <div class=\"spinner-text\" id=\"dd179b8c-d998-4d20-a511-15a3b1624575-text\">Initializing Chromedriver</div>\n",
              "            </div>\n",
              "            <style>\n",
              "                @keyframes spin {\n",
              "                    from { transform: rotate(0deg); }\n",
              "                    to { transform: rotate(360deg); }\n",
              "                }\n",
              "\n",
              "                .spinner-container {\n",
              "                    display: flex;\n",
              "                    align-items: center;\n",
              "                    margin-bottom: 3px;\n",
              "                }\n",
              "\n",
              "                .spinner {\n",
              "                    border: 3px solid rgba(0, 0, 0, 0.1);\n",
              "                    border-left-color: lightblue;\n",
              "                    border-radius: 50%;\n",
              "                    width: 12px;\n",
              "                    height: 12px;\n",
              "                    animation: spin 1s linear infinite;\n",
              "                }\n",
              "\n",
              "                .spinner-text {\n",
              "                    padding-left: 6px;\n",
              "                }\n",
              "            </style>\n",
              "        "
            ]
          },
          "metadata": {}
        },
        {
          "output_type": "display_data",
          "data": {
            "text/plain": [
              "<IPython.core.display.Javascript object>"
            ],
            "application/javascript": [
              "\n",
              "            const element = document.getElementById(\"dd179b8c-d998-4d20-a511-15a3b1624575-circle\");\n",
              "            element.style.border = \"3px solid limegreen\";\n",
              "            element.style.animation = \"none\";\n",
              "\n",
              "            const text = document.getElementById(\"dd179b8c-d998-4d20-a511-15a3b1624575-text\");\n",
              "            text.innerText = \"Initialized Chromedriver\";\n",
              "        "
            ]
          },
          "metadata": {}
        },
        {
          "output_type": "display_data",
          "data": {
            "text/plain": [
              "<IPython.core.display.HTML object>"
            ],
            "text/html": [
              "\n",
              "            <div class=\"spinner-container\">\n",
              "                <div class=\"spinner\" id=\"b255fbc1-e8f5-4852-8071-c0f33a2c2b0a-circle\"></div>\n",
              "                <div class=\"spinner-text\" id=\"b255fbc1-e8f5-4852-8071-c0f33a2c2b0a-text\">Initializing Chromedriver</div>\n",
              "            </div>\n",
              "            <style>\n",
              "                @keyframes spin {\n",
              "                    from { transform: rotate(0deg); }\n",
              "                    to { transform: rotate(360deg); }\n",
              "                }\n",
              "\n",
              "                .spinner-container {\n",
              "                    display: flex;\n",
              "                    align-items: center;\n",
              "                    margin-bottom: 3px;\n",
              "                }\n",
              "\n",
              "                .spinner {\n",
              "                    border: 3px solid rgba(0, 0, 0, 0.1);\n",
              "                    border-left-color: lightblue;\n",
              "                    border-radius: 50%;\n",
              "                    width: 12px;\n",
              "                    height: 12px;\n",
              "                    animation: spin 1s linear infinite;\n",
              "                }\n",
              "\n",
              "                .spinner-text {\n",
              "                    padding-left: 6px;\n",
              "                }\n",
              "            </style>\n",
              "        "
            ]
          },
          "metadata": {}
        },
        {
          "output_type": "display_data",
          "data": {
            "text/plain": [
              "<IPython.core.display.Javascript object>"
            ],
            "application/javascript": [
              "\n",
              "            const element = document.getElementById(\"b255fbc1-e8f5-4852-8071-c0f33a2c2b0a-circle\");\n",
              "            element.style.border = \"3px solid limegreen\";\n",
              "            element.style.animation = \"none\";\n",
              "\n",
              "            const text = document.getElementById(\"b255fbc1-e8f5-4852-8071-c0f33a2c2b0a-text\");\n",
              "            text.innerText = \"Initialized Chromedriver\";\n",
              "        "
            ]
          },
          "metadata": {}
        },
        {
          "output_type": "display_data",
          "data": {
            "text/plain": [
              "<IPython.core.display.HTML object>"
            ],
            "text/html": [
              "\n",
              "            <div class=\"spinner-container\">\n",
              "                <div class=\"spinner\" id=\"dc33c277-4983-4b80-b470-20bc1c3902a3-circle\"></div>\n",
              "                <div class=\"spinner-text\" id=\"dc33c277-4983-4b80-b470-20bc1c3902a3-text\">Initializing Chromedriver</div>\n",
              "            </div>\n",
              "            <style>\n",
              "                @keyframes spin {\n",
              "                    from { transform: rotate(0deg); }\n",
              "                    to { transform: rotate(360deg); }\n",
              "                }\n",
              "\n",
              "                .spinner-container {\n",
              "                    display: flex;\n",
              "                    align-items: center;\n",
              "                    margin-bottom: 3px;\n",
              "                }\n",
              "\n",
              "                .spinner {\n",
              "                    border: 3px solid rgba(0, 0, 0, 0.1);\n",
              "                    border-left-color: lightblue;\n",
              "                    border-radius: 50%;\n",
              "                    width: 12px;\n",
              "                    height: 12px;\n",
              "                    animation: spin 1s linear infinite;\n",
              "                }\n",
              "\n",
              "                .spinner-text {\n",
              "                    padding-left: 6px;\n",
              "                }\n",
              "            </style>\n",
              "        "
            ]
          },
          "metadata": {}
        },
        {
          "output_type": "display_data",
          "data": {
            "text/plain": [
              "<IPython.core.display.Javascript object>"
            ],
            "application/javascript": [
              "\n",
              "            const element = document.getElementById(\"dc33c277-4983-4b80-b470-20bc1c3902a3-circle\");\n",
              "            element.style.border = \"3px solid limegreen\";\n",
              "            element.style.animation = \"none\";\n",
              "\n",
              "            const text = document.getElementById(\"dc33c277-4983-4b80-b470-20bc1c3902a3-text\");\n",
              "            text.innerText = \"Initialized Chromedriver\";\n",
              "        "
            ]
          },
          "metadata": {}
        },
        {
          "output_type": "display_data",
          "data": {
            "text/plain": [
              "<IPython.core.display.HTML object>"
            ],
            "text/html": [
              "\n",
              "            <div class=\"spinner-container\">\n",
              "                <div class=\"spinner\" id=\"b5d5e216-2f08-4384-ba7c-4553afb7e89b-circle\"></div>\n",
              "                <div class=\"spinner-text\" id=\"b5d5e216-2f08-4384-ba7c-4553afb7e89b-text\">Initializing Chromedriver</div>\n",
              "            </div>\n",
              "            <style>\n",
              "                @keyframes spin {\n",
              "                    from { transform: rotate(0deg); }\n",
              "                    to { transform: rotate(360deg); }\n",
              "                }\n",
              "\n",
              "                .spinner-container {\n",
              "                    display: flex;\n",
              "                    align-items: center;\n",
              "                    margin-bottom: 3px;\n",
              "                }\n",
              "\n",
              "                .spinner {\n",
              "                    border: 3px solid rgba(0, 0, 0, 0.1);\n",
              "                    border-left-color: lightblue;\n",
              "                    border-radius: 50%;\n",
              "                    width: 12px;\n",
              "                    height: 12px;\n",
              "                    animation: spin 1s linear infinite;\n",
              "                }\n",
              "\n",
              "                .spinner-text {\n",
              "                    padding-left: 6px;\n",
              "                }\n",
              "            </style>\n",
              "        "
            ]
          },
          "metadata": {}
        },
        {
          "output_type": "display_data",
          "data": {
            "text/plain": [
              "<IPython.core.display.Javascript object>"
            ],
            "application/javascript": [
              "\n",
              "            const element = document.getElementById(\"b5d5e216-2f08-4384-ba7c-4553afb7e89b-circle\");\n",
              "            element.style.border = \"3px solid limegreen\";\n",
              "            element.style.animation = \"none\";\n",
              "\n",
              "            const text = document.getElementById(\"b5d5e216-2f08-4384-ba7c-4553afb7e89b-text\");\n",
              "            text.innerText = \"Initialized Chromedriver\";\n",
              "        "
            ]
          },
          "metadata": {}
        }
      ]
    },
    {
      "cell_type": "markdown",
      "source": [
        "# utilize for sports (greedy way)"
      ],
      "metadata": {
        "id": "4-W7oA79ZDZ0"
      }
    },
    {
      "cell_type": "code",
      "source": [
        "import requests\n",
        "from bs4 import BeautifulSoup\n",
        "from urllib.parse import urljoin\n",
        "\n",
        "\n",
        "def get_subpage_links(unwanted_keywords,area,url, depth, current_depth=0, visited=None):\n",
        "    if visited is None:\n",
        "        visited = set()  # Keep track of visited URLs to avoid duplicates\n",
        "\n",
        "    # Stop recursion if the maximum depth is reached\n",
        "    if current_depth > depth:\n",
        "        return []\n",
        "\n",
        "    try:\n",
        "        response = requests.get(url)\n",
        "        soup = BeautifulSoup(response.content, 'html.parser')\n",
        "    except Exception as e:\n",
        "        print(f\"Error fetching {url}: {e}\")\n",
        "        return []\n",
        "\n",
        "\n",
        "    # Find all <a> tags and filter out unwanted links\n",
        "    links = []\n",
        "    for a_tag in soup.find_all('a', href=True):\n",
        "        link = a_tag['href']\n",
        "\n",
        "        # Convert relative links to absolute\n",
        "        link = urljoin(url, link)\n",
        "\n",
        "        # Only include links containing the word \"pirates\"\n",
        "        if area in link.lower() and not any(keyword in link.lower() for keyword in unwanted_keywords) and link not in visited:\n",
        "            visited.add(link)  # Mark the link as visited\n",
        "            links.append(link)\n",
        "\n",
        "            # Recursively fetch sublinks if not too deep\n",
        "            if current_depth < depth:\n",
        "                sublinks = get_subpage_links(unwanted_keywords,area,link, depth, current_depth + 1, visited)\n",
        "                links.extend(sublinks)\n",
        "\n",
        "    return links\n",
        "\n",
        "# # Example usage\n",
        "# url = \"https://www.mlb.com/pirates\"  # Replace with the base URL\n",
        "# depth = 5  # Set the desired depth for recursion\n",
        "# subpage_links = get_subpage_links(url, depth)\n",
        "\n",
        "# print(f\"Found {len(subpage_links)} subpage links (filtered and recursive):\")\n",
        "# for link in subpage_links:\n",
        "#     print(link)\n",
        "\n"
      ],
      "metadata": {
        "id": "bHQWEFH9ZFic"
      },
      "execution_count": 103,
      "outputs": []
    },
    {
      "cell_type": "code",
      "source": [
        "# # Example usage\n",
        "# url = \"https://www.mlb.com/pirates/ballpark/tours\"  # Replace with the website you want to scrape\n",
        "# structured_text = scrape_structured_text(url)\n",
        "\n",
        "\n",
        "# if structured_text:\n",
        "#     # Optionally save the result as JSON for easier handling\n",
        "#     import json\n",
        "#     with open(\"structured_text.json\", \"w\", encoding=\"utf-8\") as f:\n",
        "#         json.dump(structured_text, f, ensure_ascii=False, indent=4)\n",
        "#     print(\"Structured text saved to 'structured_text.json'\")\n",
        "# else:\n",
        "#     print(\"Failed to scrape content.\")"
      ],
      "metadata": {
        "colab": {
          "base_uri": "https://localhost:8080/"
        },
        "id": "M6NzyuNi14R-",
        "outputId": "235da988-7a14-4587-86f6-3306800cc9f3"
      },
      "execution_count": 60,
      "outputs": [
        {
          "output_type": "stream",
          "name": "stdout",
          "text": [
            "Structured text saved to 'structured_text.json'\n"
          ]
        }
      ]
    },
    {
      "cell_type": "code",
      "source": [
        "# # Example usage\n",
        "# url = \"https://www.steelers.com/\"  # Replace with the base URL\n",
        "# depth = 6  # Set the desired depth for recursion\n",
        "# subpage_links = get_subpage_links('steelers',url, depth)\n",
        "\n",
        "# print(f\"Found {len(subpage_links)} subpage links (filtered and recursive):\")\n",
        "# for link in subpage_links:\n",
        "#     print(link)"
      ],
      "metadata": {
        "colab": {
          "base_uri": "https://localhost:8080/"
        },
        "id": "-w2NeBsiyEXl",
        "outputId": "e8dd96b2-a52c-43c1-afa8-a2b2802985f7"
      },
      "execution_count": 84,
      "outputs": [
        {
          "output_type": "stream",
          "name": "stderr",
          "text": [
            "WARNING:bs4.dammit:Some characters could not be decoded, and were replaced with REPLACEMENT CHARACTER.\n"
          ]
        },
        {
          "output_type": "stream",
          "name": "stdout",
          "text": [
            "Found 120 subpage links (filtered and recursive):\n",
            "https://www.steelers.com/#main-content\n",
            "https://www.steelers.com/\n",
            "https://www.steelers.com\n",
            "https://www.steelers.com#main-content\n",
            "https://www.steelers.com/game-day/2024/week7/jets-at-steelers/\n",
            "https://www.steelers.com/game-day/2024/week7/jets-at-steelers/#main-content\n",
            "https://www.steelers.com/schedule/index\n",
            "https://www.steelers.com/team/players-roster/\n",
            "https://www.steelers.com/fans/\n",
            "https://www.steelers.com/game-day/2024/week7/jets-at-steelers/#2ndlevel\n",
            "https://www.steelers.com/museum/\n",
            "https://www.steelers.com/audio/steelers-nation-radio/\n",
            "https://www.steelers.com/audio/podcast/\n",
            "https://www.steelers.com/history/\n",
            "https://www.steelers.com/legends/\n",
            "https://www.steelers.com/women/\n",
            "https://www.steelers.com/youth/\n",
            "https://www.steelers.com/ireland/\n",
            "https://www.steelers.com/deutschland/\n",
            "https://www.steelers.com/community/index\n",
            "https://www.steelers.com/tickets\n",
            "https://www.steelers.com/tickets/index\n",
            "https://www.steelers.com/game-day/2024/week7/jets-at-steelers/scoring-summary\n",
            "https://www.steelers.com/game-day/2024/week7/jets-at-steelers/box-score\n",
            "https://www.steelers.com/game-day/2024/week7/jets-at-steelers/play-by-play\n",
            "https://www.steelers.com/audio/steelers-gameday-broadcast-x0641\n",
            "https://www.steelers.com/team/\n",
            "https://www.steelers.com/team/depth-chart/\n",
            "https://www.steelers.com/team/coaches-roster/\n",
            "https://www.steelers.com/team/standings/\n",
            "https://www.steelers.com/team/injury-report/\n",
            "https://www.steelers.com/team/transactions/\n",
            "https://www.steelers.com/team/front-office-roster/\n",
            "https://www.steelers.com/draft/\n",
            "https://www.steelers.com/media/\n",
            "https://www.steelers.com/schedule/\n",
            "https://www.steelers.com/schedule/event-calendar/\n",
            "https://www.steelers.com/tickets/\n",
            "https://steelersportal.io-media.com/\n",
            "https://www.ticketmaster.com/Pittsburgh-Steelers-tickets/artist/806007?wt.mc_id=NFL_TEAM_PIT_FOOTER&utm_source=NFL.com&utm_medium=medium&utm_campaign=NFL_TEAM_PIT&utm_content=FOOTER\n",
            "https://www.ticketmaster.com/Pittsburgh-Steelers-tickets/artist/806007?wt.mc_id=NFL_TEAM_PIT_HOME_PAGE_LINK&utm_source=NFL.com&utm_medium=medium&utm_campaign=NFL_TEAM_PIT&utm_content=HOME_PAGE_LINK\n",
            "https://onlocationexp.com/nfl/super-bowl-tickets?utm_source=steelers.com&utm_medium=referral&utm_campaign=super_bowl_teams-steelers_footer_menu\n",
            "https://www.steelers.com/tickets/season-tickets-waiting-list/\n",
            "https://steelers.strmarketplace.com/\n",
            "https://www.steelers.com/tickets/seat-transfer/\n",
            "http://steelers.io-media.com/web/index.html\n",
            "https://www.steelers.com/fans/official-steelers-mobile-app/\n",
            "https://www.steelers.com/fans/contests-and-promotions/\n",
            "https://www.steelers.com/history/index\n",
            "https://www.steelers.com/history/hall-of-honor/index\n",
            "https://www.steelers.com/history/hall-of-fame/index\n",
            "https://www.steelers.com/history/super-bowls/index\n",
            "https://www.steelers.com/community/community-outreach-programs/index\n",
            "https://www.steelers.com/youth/index\n",
            "https://www.steelers.com/youth/high-school-football-showcase\n",
            "https://www.steelers.com/schedule/event-calendar/youth-football-camps/index\n",
            "https://www.steelers.com/legal/privacy-policy/\n",
            "https://www.steelers.com/legal/terms-of-use/\n",
            "https://www.steelers.com/legal/accessibility/\n",
            "https://www.steelers.com/legal/contact-us/\n",
            "https://www.steelers.com/sitemap/0\n",
            "https://www.steelers.com/legal/privacy-policy/#IBA\n",
            "https://www.steelers.com#2ndlevel\n",
            "https://static.clubs.nfl.com/image/upload/steelers/ghshdtpzvnttawj3bxrd\n",
            "https://www.steelers.com/fans/yinzchat/ \n",
            "https://www.steelers.com/fans/steelers-stillhouse/?campaig=pit-ge-iw-po-2010292\n",
            "https://www.steelers.com/fans/steelers-stillhouse/?campaig=pit-ge-iw-po-2010292#main-content\n",
            "https://www.steelers.com/fans/steelers-stillhouse/?campaig=pit-ge-iw-po-2010292#2ndlevel\n",
            "https://www.steelers.com/fans/index\n",
            "https://www.steelers.com/fans/yinzchat/\n",
            "https://www.steelers.com/fans/steelers-stillhouse/\n",
            "https://www.steelers.com/fans/student-rush/\n",
            "https://www.steelers.com/schedule/gameday/gameday-poster\n",
            "https://onlocationexp.com/nfl/super-bowl-tickets?utm_source=steelers.com&utm_medium=referral&utm_campaign=super_bowl_teams-steelers_fanzone_menu\n",
            "https://www.steelers.com/fans/fan-pack-request\n",
            "https://www.steelers.com/women/?utm_medium=steelers.com&utm_source=steelers.com&utm_campaign=wos%20pI&utm_content=promo&campaign=pit-ge-iw-po-2010492\n",
            "https://www.steelers.com/women/?utm_medium=steelers.com&utm_source=steelers.com&utm_campaign=wos%20pI&utm_content=promo&campaign=pit-ge-iw-po-2010492#main-content\n",
            "https://www.steelers.com/women/?utm_medium=steelers.com&utm_source=steelers.com&utm_campaign=wos%20pI&utm_content=promo&campaign=pit-ge-iw-po-2010492#2ndlevel\n",
            "https://www.steelers.com/women/nomination-form\n",
            "https://www.steelers.com/women/influencer-appearances\n",
            "https://www.steelers.com/women/staff-quotes\n",
            "https://www.steelers.com/women/insider-form\n",
            "https://www.steelers.com/women/?utm_medium=steelers.com&utm_source=steelers.com&utm_campaign=wos%20pI&utm_content=promo&campaign=pit-ge-iw-po-2010492#promo-b2c768f1-24b8-41b7-a88b-c3cbc2516685\n",
            "https://www.steelers.com/youth/girls-flag-football\n",
            "https://www.steelers.com/schedule/gameday/gameday-poster?campaign=pit-ge-iw-po-2009240\n",
            "https://www.steelers.com/schedule/gameday/gameday-poster?campaign=pit-ge-iw-po-2009240#main-content\n",
            "https://www.steelers.com/schedule/gameday/gameday-poster?campaign=pit-ge-iw-po-2009240#2ndlevel\n",
            "https://www.steelers.com/schedule/printable\n",
            "https://onlocationexp.com/nfl/super-bowl-tickets?utm_source=steelers.com&utm_medium=referral&utm_campaign=super_bowl_teams-steelers_schedule_menu\n",
            "https://www.steelers.com/schedule/gameday/gameday-poster-2023\n",
            "https://www.steelers.com/schedule/gameday/gameday-poster-2022\n",
            "https://www.steelers.com/schedule/gameday/gameday-poster-2021\n",
            "https://www.steelers.com/fans/contests-and-promotions/?campaign=pit-ge-iw-po-2006570\n",
            "https://www.steelers.com/fans/contests-and-promotions/?campaign=pit-ge-iw-po-2006570#main-content\n",
            "https://www.steelers.com/fans/contests-and-promotions/?campaign=pit-ge-iw-po-2006570#2ndlevel\n",
            "https://nfl.csharmony.epsilon.com/pc/clubs/steelers/Account/Register\n",
            "https://www.steelers.com/fans/contests-and-promotions/win-a-ford-truck-contest/?utm_medium=steelers.com&utm_source=steelers.com&utm_campaign=2024+win+a+ford+truck\n",
            "https://millerlite.com/steelersmillertime?utm_medium=steelers.com&utm_source=steelers.com&utm_campaign=miller+time+sweeps\n",
            "https://www.steelers.com/fans/contests-and-promotions/steelers-essentials/\n",
            "https://onlocationexp.com/nfl/super-bowl-tickets?utm_source=steelers.com&utm_medium=referral&utm_campaign=super_bowl_teams-steelers_promotions_menu\n",
            "https://www.steelers.com/community/\n",
            "https://www.steelers.com/community/#main-content\n",
            "https://www.steelers.com/community/#2ndlevel\n",
            "https://www.steelers.com/community/community-outreach-programs/\n",
            "https://www.steelers.com/schedule/gameday/50-50-raffle\n",
            "https://www.steelers.com/community/acrisure\n",
            "https://www.steelers.com/community/paving-the-way\n",
            "https://www.steelers.com/community/sacks-for-kids\n",
            "https://www.steelers.com/community/steelers-stem/\n",
            "https://www.steelers.com/community/veterans\n",
            "https://www.steelers.com/community/appearance-requests/\n",
            "https://www.steelers.com/community/donation-requests/\n",
            "https://www.steelers.com/community/training-camp-visits/\n",
            "https://www.steelers.com/community/social-justice-efforts\n",
            "https://steelers.formstack.com/forms/steely_mcbeam_request_form\n",
            "https://www.steelers.com/fans/50-50-raffle/\n",
            "https://www.steelers.com/museum/?campaign=si-pit-ti-ot-zy-0000056\n",
            "https://www.steelers.com/museum/?campaign=si-pit-ti-ot-zy-0000056#main-content\n",
            "https://www.steelers.com/museum/?campaign=si-pit-ti-ot-zy-0000056#2ndlevel\n",
            "https://www.steelers.com/#2ndlevel\n"
          ]
        }
      ]
    },
    {
      "cell_type": "code",
      "source": [
        "import requests\n",
        "from bs4 import BeautifulSoup\n",
        "\n",
        "# Function to recursively extract structured text and ignore unwanted tags\n",
        "def extract_text_with_structure(element):\n",
        "    # Define tags that should be excluded (e.g., script, style, etc.)\n",
        "    exclude_tags = ['script', 'style', 'meta', 'link', 'noscript']\n",
        "\n",
        "    # If the element is in exclude tags, skip it\n",
        "    if element.name in exclude_tags:\n",
        "        return None\n",
        "\n",
        "    # If the element contains only text, return the text\n",
        "    if element.string:\n",
        "        return element.string.strip()\n",
        "\n",
        "    # Otherwise, create a list to store the structured data\n",
        "    structured_data = []\n",
        "\n",
        "    # Iterate over the children of the current element\n",
        "    for child in element.children:\n",
        "        if child.name:  # Check if the child is an HTML tag\n",
        "            child_data = extract_text_with_structure(child)\n",
        "            if child_data:  # Only add if there is text\n",
        "                structured_data.append(child_data)\n",
        "        elif child.string and child.string.strip():  # If the child is a text node\n",
        "            structured_data.append(child.string.strip())\n",
        "\n",
        "    # If the structured data list has only one item, return it directly\n",
        "    if len(structured_data) == 1:\n",
        "        return structured_data[0]\n",
        "\n",
        "    # Return the structured data as a list\n",
        "    return structured_data\n",
        "\n",
        "# Function to scrape and return structured text\n",
        "def scrape_structured_text(url):\n",
        "    try:\n",
        "        response = requests.get(url)\n",
        "        soup = BeautifulSoup(response.content, 'html.parser')\n",
        "    except Exception as e:\n",
        "        print(f\"Error fetching {url}: {e}\")\n",
        "        return None\n",
        "\n",
        "    # Remove unwanted tags such as <script>, <style>, etc.\n",
        "    for tag in soup(['script', 'style', 'meta', 'link', 'noscript']):\n",
        "        tag.decompose()  # This removes the tag and its content\n",
        "\n",
        "    # Extract text from the body of the webpage\n",
        "    body = soup.body\n",
        "    if body:\n",
        "        structured_text = extract_text_with_structure(body)\n",
        "    else:\n",
        "        return None\n",
        "\n",
        "    return structured_text\n",
        "\n",
        "\n"
      ],
      "metadata": {
        "id": "VdwMM2q32R_D"
      },
      "execution_count": 90,
      "outputs": []
    },
    {
      "cell_type": "code",
      "source": [
        "urls=['https://www.mlb.com/pirates','https://www.nhl.com/penguins','https://www.steelers.com/']\n",
        "areas=['pirates','penguins','steelers']\n",
        "unwanted_keywords = ['snapchat','dubliner','shop','news', 'scores', 'recent', 'stats', 'states','thepiratespress','issuu','video','photos','espanol','itunes','google','twitter','instagram','youtube','tiktok','facebook']\n",
        "\n",
        "for i in range(len(urls)):\n",
        "  subpage_links = get_subpage_links(unwanted_keywords,areas[i],urls[i], 6)\n",
        "  print(f\"Found {len(subpage_links)} subpage links (filtered and recursive):\")\n",
        "  data=[]\n",
        "  for link in subpage_links:\n",
        "    structured_text = scrape_structured_text(link)\n",
        "    if structured_text:\n",
        "      data.extend(structured_text)\n",
        "  with open('/content/drive/MyDrive/11711/assignment2/data/greedy_'+areas[i]+'.json', 'w') as f:\n",
        "    json.dump(data, f, indent=4)"
      ],
      "metadata": {
        "colab": {
          "base_uri": "https://localhost:8080/"
        },
        "id": "iqopIrH4ydhn",
        "outputId": "a17edd35-c84c-46d3-e491-012220cc190a"
      },
      "execution_count": 91,
      "outputs": [
        {
          "output_type": "stream",
          "name": "stderr",
          "text": [
            "WARNING:bs4.dammit:Some characters could not be decoded, and were replaced with REPLACEMENT CHARACTER.\n"
          ]
        },
        {
          "output_type": "stream",
          "name": "stdout",
          "text": [
            "Found 100 subpage links (filtered and recursive):\n"
          ]
        },
        {
          "output_type": "stream",
          "name": "stderr",
          "text": [
            "WARNING:bs4.dammit:Some characters could not be decoded, and were replaced with REPLACEMENT CHARACTER.\n"
          ]
        },
        {
          "output_type": "stream",
          "name": "stdout",
          "text": [
            "Found 266 subpage links (filtered and recursive):\n",
            "Error fetching https://penguinspride.com: HTTPSConnectionPool(host='penguinspride.com', port=443): Max retries exceeded with url: / (Caused by SSLError(SSLCertVerificationError(1, '[SSL: CERTIFICATE_VERIFY_FAILED] certificate verify failed: certificate has expired (_ssl.c:1007)')))\n",
            "Error fetching mailto:info@pittsburghpenguinsfoundation.org: No connection adapters were found for 'mailto:info@pittsburghpenguinsfoundation.org'\n"
          ]
        },
        {
          "output_type": "stream",
          "name": "stderr",
          "text": [
            "WARNING:bs4.dammit:Some characters could not be decoded, and were replaced with REPLACEMENT CHARACTER.\n"
          ]
        },
        {
          "output_type": "stream",
          "name": "stdout",
          "text": [
            "Found 120 subpage links (filtered and recursive):\n"
          ]
        },
        {
          "output_type": "stream",
          "name": "stderr",
          "text": [
            "WARNING:bs4.dammit:Some characters could not be decoded, and were replaced with REPLACEMENT CHARACTER.\n"
          ]
        }
      ]
    },
    {
      "cell_type": "code",
      "source": [
        "urls=['https://www.mlb.com/pirates','https://www.nhl.com/penguins','https://www.steelers.com/']\n",
        "areas=['pirates','penguins','steelers']\n",
        "\n",
        "def clean_data(data, unwanted_strings):\n",
        "    if isinstance(data, list):\n",
        "        # Iterate through each item in the list and clean it recursively\n",
        "        return [clean_data(item, unwanted_strings) for item in data if clean_data(item, unwanted_strings) != \"\"]\n",
        "    elif isinstance(data, str):\n",
        "        # If the data is a string, check if it matches any of the unwanted strings\n",
        "        if data in unwanted_strings:\n",
        "            return \"\"  # Return an empty string if it's an unwanted string\n",
        "        return data  # Return the string if it's not unwanted\n",
        "    else:\n",
        "        return data  # If it's not a list or string, return the data as is\n",
        "\n",
        "for i in range(len(urls)):\n",
        "  with open('/content/drive/MyDrive/11711/assignment2/data/greedy_'+areas[i]+'.json', 'r') as f:\n",
        "    data=json.load(f)\n",
        "  with open('/content/drive/MyDrive/11711/assignment2/data/greedy_'+areas[i]+'.json', 'w') as f:\n",
        "    json.dump(clean_data(data, [\"[if IE 9]><video style=\\\"display: none;\\\"><![endif]\",\"[if IE 9]><video style=\\\"display: none; \\\"><![endif]\",\n",
        "            \"[if IE 9]></video><![endif]\"]), f, indent=4)"
      ],
      "metadata": {
        "id": "Dbctd4oZWRdH"
      },
      "execution_count": 96,
      "outputs": []
    },
    {
      "cell_type": "code",
      "source": [
        "urls=['https://www.thefrickpittsburgh.org']\n",
        "areas=['thefrickpittsburgh']\n",
        "unwanted_keywords=[]\n",
        "for i in range(len(urls)):\n",
        "  subpage_links = get_subpage_links(unwanted_keywords,areas[i],urls[i], 11)\n",
        "  print(f\"Found {len(subpage_links)} subpage links (filtered and recursive):\")\n",
        "  data=[]\n",
        "  for link in subpage_links:\n",
        "    structured_text = scrape_structured_text(link)\n",
        "    if structured_text:\n",
        "      data.extend(structured_text)\n",
        "  with open('/content/drive/MyDrive/11711/assignment2/data/greedy_'+areas[i]+'.json', 'w') as f:\n",
        "    json.dump(clean_data(data, [\"[if IE 9]><video style=\\\"display: none;\\\"><![endif]\",\"[if IE 9]><video style=\\\"display: none; \\\"><![endif]\",\n",
        "            \"[if IE 9]></video><![endif]\"]), f, indent=4)"
      ],
      "metadata": {
        "colab": {
          "base_uri": "https://localhost:8080/"
        },
        "id": "4P2VDhA5hTLG",
        "outputId": "9997e8ad-192d-47ce-bf88-b4dd0c9559e5"
      },
      "execution_count": null,
      "outputs": [
        {
          "output_type": "stream",
          "name": "stderr",
          "text": [
            "WARNING:bs4.dammit:Some characters could not be decoded, and were replaced with REPLACEMENT CHARACTER.\n",
            "WARNING:bs4.dammit:Some characters could not be decoded, and were replaced with REPLACEMENT CHARACTER.\n"
          ]
        },
        {
          "output_type": "stream",
          "name": "stdout",
          "text": [
            "Error fetching mailto:mrolla@thefrickpittsburgh.org?subject=Why%20is%20the%20Car%20and%20Carriage%20Museum%20closed%20and%20what's%20next%3F: No connection adapters were found for \"mailto:mrolla@thefrickpittsburgh.org?subject=Why%20is%20the%20Car%20and%20Carriage%20Museum%20closed%20and%20what's%20next%3F\"\n",
            "Error fetching mailto:kcady@thefrickpittsburgh.org: No connection adapters were found for 'mailto:kcady@thefrickpittsburgh.org'\n"
          ]
        },
        {
          "output_type": "stream",
          "name": "stderr",
          "text": [
            "WARNING:bs4.dammit:Some characters could not be decoded, and were replaced with REPLACEMENT CHARACTER.\n",
            "WARNING:bs4.dammit:Some characters could not be decoded, and were replaced with REPLACEMENT CHARACTER.\n"
          ]
        },
        {
          "output_type": "stream",
          "name": "stdout",
          "text": [
            "Found 301 subpage links (filtered and recursive):\n"
          ]
        },
        {
          "output_type": "stream",
          "name": "stderr",
          "text": [
            "WARNING:bs4.dammit:Some characters could not be decoded, and were replaced with REPLACEMENT CHARACTER.\n"
          ]
        },
        {
          "output_type": "stream",
          "name": "stdout",
          "text": [
            "Error fetching mailto:info@thefrickpittsburgh.org: No connection adapters were found for 'mailto:info@thefrickpittsburgh.org'\n"
          ]
        },
        {
          "output_type": "stream",
          "name": "stderr",
          "text": [
            "WARNING:bs4.dammit:Some characters could not be decoded, and were replaced with REPLACEMENT CHARACTER.\n",
            "WARNING:bs4.dammit:Some characters could not be decoded, and were replaced with REPLACEMENT CHARACTER.\n",
            "WARNING:bs4.dammit:Some characters could not be decoded, and were replaced with REPLACEMENT CHARACTER.\n",
            "WARNING:bs4.dammit:Some characters could not be decoded, and were replaced with REPLACEMENT CHARACTER.\n",
            "WARNING:bs4.dammit:Some characters could not be decoded, and were replaced with REPLACEMENT CHARACTER.\n",
            "WARNING:bs4.dammit:Some characters could not be decoded, and were replaced with REPLACEMENT CHARACTER.\n",
            "WARNING:bs4.dammit:Some characters could not be decoded, and were replaced with REPLACEMENT CHARACTER.\n",
            "WARNING:bs4.dammit:Some characters could not be decoded, and were replaced with REPLACEMENT CHARACTER.\n",
            "WARNING:bs4.dammit:Some characters could not be decoded, and were replaced with REPLACEMENT CHARACTER.\n",
            "WARNING:bs4.dammit:Some characters could not be decoded, and were replaced with REPLACEMENT CHARACTER.\n"
          ]
        }
      ]
    },
    {
      "cell_type": "code",
      "source": [
        "def get_subpage_links_general(url, depth, current_depth=0, visited=None):\n",
        "    if visited is None:\n",
        "        visited = set()  # Keep track of visited URLs to avoid duplicates\n",
        "\n",
        "    # Stop recursion if the maximum depth is reached\n",
        "    if current_depth > depth:\n",
        "        return []\n",
        "\n",
        "    try:\n",
        "        response = requests.get(url)\n",
        "        soup = BeautifulSoup(response.content, 'html.parser')\n",
        "    except Exception as e:\n",
        "        print(f\"Error fetching {url}: {e}\")\n",
        "        return []\n",
        "\n",
        "    # Keywords to filter out and include\n",
        "    unwanted_keywords = ['news', 'scores', 'recent', 'stats', 'states']\n",
        "\n",
        "    # Find all <a> tags and filter out unwanted links\n",
        "    links = []\n",
        "    for a_tag in soup.find_all('a', href=True):\n",
        "        link = a_tag['href']\n",
        "\n",
        "        # Convert relative links to absolute\n",
        "        link = urljoin(url, link)\n",
        "\n",
        "        # Only include links containing the word \"pirates\"\n",
        "        if 'visitpittsburgh' in link.lower() and ('sports' in link.lower() or 'pirates' in link.lower() or 'steelers' in link.lower() or 'penguins' in link.lower())and not any(keyword in link.lower() for keyword in unwanted_keywords) and link not in visited:\n",
        "            visited.add(link)  # Mark the link as visited\n",
        "            links.append(link)\n",
        "\n",
        "            # Recursively fetch sublinks if not too deep\n",
        "            if current_depth < depth:\n",
        "                sublinks =  get_subpage_links_general(link, depth, current_depth + 1, visited)\n",
        "                links.extend(sublinks)\n",
        "\n",
        "    return links"
      ],
      "metadata": {
        "id": "FFbYCUi65qf-"
      },
      "execution_count": 99,
      "outputs": []
    },
    {
      "cell_type": "code",
      "source": [
        "# Example usage\n",
        "url = \"https://www.visitpittsburgh.com/things-to-do/pittsburgh-sports-teams\"  # Replace with the base URL\n",
        "depth = 6  # Set the desired depth for recursion\n",
        "subpage_links = get_subpage_links_general(url, depth)\n",
        "\n",
        "print(f\"Found {len(subpage_links)} subpage links (filtered and recursive):\")\n",
        "for link in subpage_links:\n",
        "    print(link)"
      ],
      "metadata": {
        "colab": {
          "base_uri": "https://localhost:8080/"
        },
        "id": "8F3eR-iLFw3P",
        "outputId": "7074f32b-312d-49bc-8a37-b3a1383ee1c6"
      },
      "execution_count": 100,
      "outputs": [
        {
          "output_type": "stream",
          "name": "stdout",
          "text": [
            "Found 31 subpage links (filtered and recursive):\n",
            "https://www.visitpittsburgh.com/things-to-do/pittsburgh-sports-teams#main\n",
            "https://www.visitpittsburgh.com/things-to-do/pittsburgh-sports-teams/\n",
            "https://www.visitpittsburgh.com/things-to-do/pittsburgh-sports-teams/#main\n",
            "https://www.visitpittsburgh.com/things-to-do/pittsburgh-sports-teams/pittsburgh-steelers/\n",
            "https://www.visitpittsburgh.com/things-to-do/pittsburgh-sports-teams/pittsburgh-steelers/#main\n",
            "https://www.visitpittsburgh.com/things-to-do/pittsburgh-sports-teams/terrible-towel/\n",
            "https://www.visitpittsburgh.com/things-to-do/pittsburgh-sports-teams/terrible-towel/#main\n",
            "https://www.visitpittsburgh.com/blog/guide-to-acrisure-stadium-for-steelers-fans/\n",
            "https://www.visitpittsburgh.com/directory/pittsburgh-steelers-event-meeting-venues/\n",
            "https://www.visitpittsburgh.com/blog/steelers-nation-lets-bring-it-in/\n",
            "https://www.visitpittsburgh.com/things-to-do/pittsburgh-sports-teams/college-sports/\n",
            "https://www.visitpittsburgh.com/things-to-do/arts-culture/architecture/sports-venues/\n",
            "https://www.visitpittsburgh.com/blog/womens-sports-in-pittsburgh/\n",
            "https://visitpittsburgh.com/things-to-do/spectator-sports/terrible-towel/\n",
            "https://visitpittsburgh.com/things-to-do/spectator-sports/terrible-towel/#main\n",
            "https://www.visitpittsburgh.com/things-to-do/pittsburgh-sports-teams/pittsburgh-pirates/\n",
            "https://www.visitpittsburgh.com/things-to-do/pittsburgh-sports-teams/pittsburgh-pirates/#main\n",
            "https://www.visitpittsburgh.com/things-to-do/pittsburgh-sports-teams/pittsburgh-penguins/\n",
            "https://www.visitpittsburgh.com/things-to-do/pittsburgh-sports-teams/pittsburgh-penguins/#main\n",
            "https://www.visitpittsburgh.com/things-to-do/pittsburgh-sports-teams/other-sports-teams/\n",
            "https://www.visitpittsburgh.com/things-to-do/pittsburgh-sports-teams/other-sports-teams/#main\n",
            "https://www.visitpittsburgh.com/things-to-do/pittsburgh-sports-teams/pittsburgh-riverhounds/\n",
            "https://www.visitpittsburgh.com/things-to-do/pittsburgh-sports-teams/pittsburgh-riverhounds/#main\n",
            "https://www.visitpittsburgh.com/blog/ppg-paints-arena-penguins-guide/\n",
            "https://www.visitpittsburgh.com/blog/ppg-paints-arena-penguins-guide/#main\n",
            "https://www.visitpittsburgh.com/blog/eating-your-way-through-pittsburgh-sports/\n",
            "https://www.visitpittsburgh.com/blog/eating-your-way-through-pittsburgh-sports/#main\n",
            "https://www.visitpittsburgh.com/directory/pittsburgh-pirates-at-pnc-park/\n",
            "https://www.visitpittsburgh.com/directory/pittsburgh-penguins/\n",
            "https://www.visitpittsburgh.com/blog/steelers-hall-of-honor-museum/\n",
            "https://www.visitpittsburgh.com/blog/steelers-hall-of-honor-museum/#main\n"
          ]
        }
      ]
    },
    {
      "cell_type": "code",
      "source": [
        "urls=['https://www.visitpittsburgh.com/things-to-do/pittsburgh-sports-teams']\n",
        "areas=['sportsGeneral']\n",
        "for i in range(len(urls)):\n",
        "  subpage_links = get_subpage_links_general(urls[i], 6)\n",
        "  print(f\"Found {len(subpage_links)} subpage links (filtered and recursive):\")\n",
        "  data=[]\n",
        "  for link in subpage_links:\n",
        "    structured_text = scrape_structured_text(link)\n",
        "    if structured_text:\n",
        "      data.extend(structured_text)\n",
        "  with open('/content/drive/MyDrive/11711/assignment2/data/greedy_'+areas[i]+'.json', 'w') as f:\n",
        "    json.dump(clean_data(data, [\"[if IE 9]><video style=\\\"display: none;\\\"><![endif]\",\"[if IE 9]><video style=\\\"display: none; \\\"><![endif]\",\n",
        "            \"[if IE 9]></video><![endif]\"]), f, indent=4)"
      ],
      "metadata": {
        "colab": {
          "base_uri": "https://localhost:8080/"
        },
        "id": "fYCZ6FYo5Twt",
        "outputId": "3d367251-7d59-4123-a5e9-c59846350ac7"
      },
      "execution_count": 102,
      "outputs": [
        {
          "output_type": "stream",
          "name": "stdout",
          "text": [
            "Found 31 subpage links (filtered and recursive):\n"
          ]
        }
      ]
    },
    {
      "cell_type": "markdown",
      "source": [
        "#pirates"
      ],
      "metadata": {
        "id": "mN6cysmQM7HO"
      }
    },
    {
      "cell_type": "code",
      "source": [
        "import requests\n",
        "from bs4 import BeautifulSoup\n",
        "# 发送HTTP请求并获取HTML内容\n",
        "url = 'https://en.wikipedia.org/wiki/Pittsburgh_Pirates'\n",
        "response = requests.get(url)\n",
        "html = response.text\n",
        "# 使用BeautifulSoup解析HTML内容\n",
        "soup = BeautifulSoup(html, 'html.parser')\n",
        "# 提取所需数据\n",
        "data = []\n",
        "for tag in soup.find_all('div', {'class': 'mw-content-ltr'}):\n",
        "  for p in tag.find_all('p'):\n",
        "    text = p.get_text()\n",
        "    if text:\n",
        "        data.append(text)\n",
        "with open('/content/drive/MyDrive/11711/assignment2/data/pirates.json', 'w') as f:\n",
        "    json.dump(data, f, indent=4)"
      ],
      "metadata": {
        "id": "PrOQByFRM-3o"
      },
      "execution_count": null,
      "outputs": []
    },
    {
      "cell_type": "code",
      "source": [
        "with open('/content/drive/MyDrive/11711/assignment2/data/pirates.json', 'r') as f:\n",
        "    data = json.load(f)"
      ],
      "metadata": {
        "id": "8Jv5BZphfikX"
      },
      "execution_count": null,
      "outputs": []
    },
    {
      "cell_type": "code",
      "source": [
        "data['pirates timeline/history']={}\n",
        "with open('/content/drive/MyDrive/11711/assignment2/data/pirates.txt', 'r') as f:\n",
        "    text = f.read()\n",
        "    text = text.split('\\n')\n",
        "data['pirates timeline/history'][\"The early years\"]=text\n",
        "with open('/content/drive/MyDrive/11711/assignment2/data/pirates.json', 'w') as f:\n",
        "    json.dump(data, f, indent=4)"
      ],
      "metadata": {
        "id": "R-eiPximf5fF"
      },
      "execution_count": null,
      "outputs": []
    },
    {
      "cell_type": "code",
      "source": [
        "with open('/content/drive/MyDrive/11711/assignment2/data/pirates.json', 'r') as f:\n",
        "    data = json.load(f)\n",
        "with open('/content/drive/MyDrive/11711/assignment2/data/pirates.txt', 'r') as f:\n",
        "    text = f.read()\n",
        "    text = text.split('\\n')\n",
        "data['pirates timeline/history'][\"THE PNC PARK YEARS\"]=text\n",
        "with open('/content/drive/MyDrive/11711/assignment2/data/pirates.json', 'w') as f:\n",
        "    json.dump(data, f, indent=4)"
      ],
      "metadata": {
        "id": "lHfgsw50hUcZ"
      },
      "execution_count": null,
      "outputs": []
    },
    {
      "cell_type": "markdown",
      "source": [
        "# steelers"
      ],
      "metadata": {
        "id": "ADegtJByaAZL"
      }
    },
    {
      "cell_type": "code",
      "source": [
        "import requests\n",
        "from bs4 import BeautifulSoup\n",
        "# 发送HTTP请求并获取HTML内容\n",
        "url = 'https://en.wikipedia.org/wiki/Pittsburgh_Steelers'\n",
        "response = requests.get(url)\n",
        "html = response.text\n",
        "# 使用BeautifulSoup解析HTML内容\n",
        "soup = BeautifulSoup(html, 'html.parser')\n",
        "# 提取所需数据\n",
        "data = []\n",
        "for tag in soup.find_all('div', {'class': 'mw-content-ltr'}):\n",
        "  for p in tag.find_all('p'):\n",
        "    text = p.get_text()\n",
        "    if text:\n",
        "        data.append(text)\n",
        "with open('/content/drive/MyDrive/11711/assignment2/data/Steelers.json', 'w') as f:\n",
        "    json.dump(data, f, indent=4)"
      ],
      "metadata": {
        "id": "pL2ViWsvM6LR"
      },
      "execution_count": null,
      "outputs": []
    },
    {
      "cell_type": "code",
      "source": [
        "with open('/content/drive/MyDrive/11711/assignment2/data/steelers.json', 'r') as f:\n",
        "    data = json.load(f)\n",
        "with open('/content/drive/MyDrive/11711/assignment2/data/pirates.txt', 'r') as f:\n",
        "    text = f.read()\n",
        "    text = text.split('\\n')\n",
        "    text = [line for line in text if line.strip() != '']\n",
        "data['steelers history'][\"HALL OF HONOR MUSEUM\"]=text\n",
        "with open('/content/drive/MyDrive/11711/assignment2/data/steelers.json', 'w') as f:\n",
        "    json.dump(data, f, indent=4)"
      ],
      "metadata": {
        "id": "3coNXf_6j8mD"
      },
      "execution_count": null,
      "outputs": []
    },
    {
      "cell_type": "code",
      "source": [
        "with open('/content/drive/MyDrive/11711/assignment2/data/steelers.json', 'r') as f:\n",
        "    data = json.load(f)\n",
        "for i in range(len(data['steelers history'][\"HALL OF HONOR MUSEUM\"])):\n",
        "  data['steelers history'][\"HALL OF HONOR MUSEUM\"][i]=data['steelers history'][\"HALL OF HONOR MUSEUM\"][i].replace('\\t',' ')\n",
        "for i in range(len(data['steelers history'][\"Steelers Hall of Honor Member\"])):\n",
        "  data['steelers history'][\"Steelers Hall of Honor Member\"][i]=data['steelers history'][\"Steelers Hall of Honor Member\"][i].replace('\\t',' ')\n",
        "with open('/content/drive/MyDrive/11711/assignment2/data/steelers.json', 'w') as f:\n",
        "    json.dump(data, f, indent=4)"
      ],
      "metadata": {
        "id": "axgoYpt1wA4U"
      },
      "execution_count": null,
      "outputs": []
    },
    {
      "cell_type": "code",
      "source": [
        "import requests\n",
        "from bs4 import BeautifulSoup\n",
        "import csv\n",
        "\n",
        "url = 'https://www.steelers.com/team/players-roster/'\n",
        "response = requests.get(url)\n",
        "html = response.text\n",
        "# 使用BeautifulSoup解析HTML内容\n",
        "soup = BeautifulSoup(html, 'html.parser')\n",
        "\n",
        "# 找到表格元素\n",
        "table = soup.find(\"table\")\n",
        "\n",
        "with open(\"data.csv\", \"w\", newline=\"\", encoding='utf-8') as csvfile:\n",
        "    writer = csv.writer(csvfile)\n",
        "\n",
        "    # Write header (optional if you don't have <th> elements)\n",
        "    header = [th.text.strip() for th in table.find_all(\"th\")]\n",
        "    if header:\n",
        "        writer.writerow(header)\n",
        "\n",
        "    # Loop through table rows <tr>\n",
        "    for row in table.find_all(\"tr\"):\n",
        "        # Extract all <td> elements\n",
        "        data = [td.text.strip() for td in row.find_all(\"td\")]\n",
        "\n",
        "        # Only write rows with data (ignore rows without <td> elements)\n",
        "        if data:\n",
        "            writer.writerow(data)"
      ],
      "metadata": {
        "id": "Fb0gyBAbe3r9"
      },
      "execution_count": null,
      "outputs": []
    },
    {
      "cell_type": "code",
      "source": [
        "data"
      ],
      "metadata": {
        "colab": {
          "base_uri": "https://localhost:8080/"
        },
        "id": "RYnGDP-afWoN",
        "outputId": "ddc64446-3067-47ae-cc11-a95fa4cc0265"
      },
      "execution_count": null,
      "outputs": [
        {
          "output_type": "execute_result",
          "data": {
            "text/plain": [
              "['\\n\\n\\n\\n\\n\\n\\nRussell Wilson\\n\\n',\n",
              " '3',\n",
              " 'QB',\n",
              " '5-11',\n",
              " '206',\n",
              " '35',\n",
              " '13',\n",
              " 'Wisconsin']"
            ]
          },
          "metadata": {},
          "execution_count": 31
        }
      ]
    },
    {
      "cell_type": "markdown",
      "source": [
        "#penguins"
      ],
      "metadata": {
        "id": "aSVJ1AdZX7fg"
      }
    },
    {
      "cell_type": "code",
      "source": [
        "import pandas as pd\n",
        "\n",
        "# Load the Excel file\n",
        "excel_file = '/content/drive/MyDrive/11711/assignment2/data/penguins.xlsx'  # Replace with your file path\n",
        "\n",
        "# Read the Excel file into a DataFrame\n",
        "df = pd.read_excel(excel_file)\n",
        "\n",
        "# Convert the DataFrame to a CSV file\n",
        "csv_file = '/content/drive/MyDrive/11711/assignment2/data/penguins_teams_goalies_players.csv'  # Replace with your desired output file name\n",
        "df.to_csv(csv_file, index=False)\n",
        "\n",
        "print(f'Excel file has been converted to {csv_file}')"
      ],
      "metadata": {
        "colab": {
          "base_uri": "https://localhost:8080/"
        },
        "id": "aDcpkphqPxaS",
        "outputId": "d905321d-b796-4df2-c50d-2a376a1aa048"
      },
      "execution_count": null,
      "outputs": [
        {
          "output_type": "stream",
          "name": "stdout",
          "text": [
            "Excel file has been converted to /content/drive/MyDrive/11711/assignment2/data/penguins_teams_goalies_players.csv\n"
          ]
        }
      ]
    },
    {
      "cell_type": "code",
      "source": [
        "!apt update\n"
      ],
      "metadata": {
        "colab": {
          "base_uri": "https://localhost:8080/"
        },
        "id": "7xpa5BefOuJ4",
        "outputId": "cf17f16d-b1b9-4339-e623-ea37fd48537b"
      },
      "execution_count": null,
      "outputs": [
        {
          "output_type": "stream",
          "name": "stdout",
          "text": [
            "\u001b[33m\r0% [Working]\u001b[0m\r            \rHit:1 https://cloud.r-project.org/bin/linux/ubuntu jammy-cran40/ InRelease\n",
            "Hit:2 https://developer.download.nvidia.com/compute/cuda/repos/ubuntu2204/x86_64  InRelease\n",
            "Hit:3 http://security.ubuntu.com/ubuntu jammy-security InRelease\n",
            "Hit:4 http://archive.ubuntu.com/ubuntu jammy InRelease\n",
            "Ign:5 https://r2u.stat.illinois.edu/ubuntu jammy InRelease\n",
            "Hit:6 http://archive.ubuntu.com/ubuntu jammy-updates InRelease\n",
            "Hit:7 https://r2u.stat.illinois.edu/ubuntu jammy Release\n",
            "Hit:8 http://archive.ubuntu.com/ubuntu jammy-backports InRelease\n",
            "Hit:10 https://ppa.launchpadcontent.net/deadsnakes/ppa/ubuntu jammy InRelease\n",
            "Hit:11 https://ppa.launchpadcontent.net/graphics-drivers/ppa/ubuntu jammy InRelease\n",
            "Hit:12 https://ppa.launchpadcontent.net/ubuntugis/ppa/ubuntu jammy InRelease\n",
            "Reading package lists... Done\n",
            "Building dependency tree... Done\n",
            "Reading state information... Done\n",
            "39 packages can be upgraded. Run 'apt list --upgradable' to see them.\n",
            "\u001b[1;33mW: \u001b[0mSkipping acquire of configured file 'main/source/Sources' as repository 'https://r2u.stat.illinois.edu/ubuntu jammy InRelease' does not seem to provide it (sources.list entry misspelt?)\u001b[0m\n"
          ]
        }
      ]
    },
    {
      "cell_type": "code",
      "source": [
        "import requests\n",
        "from bs4 import BeautifulSoup\n",
        "import csv\n",
        "\n",
        "driver = gs.Chrome()\n",
        "\n",
        "# Open the target webpage\n",
        "driver.get('https://www.nhl.com/penguins/roster')  # Replace with the actual URL\n",
        "\n",
        "# Once the page is fully loaded, use BeautifulSoup to parse the content\n",
        "soup = BeautifulSoup(driver.page_source, 'html.parser')\n",
        "\n",
        "# 找到表格元素\n",
        "table = soup.find(\"table\")\n",
        "\n",
        "# 创建CSV文件并写入表头\n",
        "with open(\"data.csv\", \"w\", newline=\"\") as csvfile:\n",
        "    writer = csv.writer(csvfile)\n",
        "    header = [th.text for th in table.find_all(\"th\")]\n",
        "    writer.writerow(header)\n",
        "\n",
        "    # 遍历表格行\n",
        "    for row in table.find_all(\"tr\"):\n",
        "        # 提取每行的数据\n",
        "        data = [td.text for td in row.find_all(\"td\")]\n",
        "        writer.writerow(data)"
      ],
      "metadata": {
        "colab": {
          "base_uri": "https://localhost:8080/",
          "height": 620
        },
        "id": "y9gC941iMAHx",
        "outputId": "93be4865-17d4-4fb0-9b7b-2ccbd0217804"
      },
      "execution_count": null,
      "outputs": [
        {
          "output_type": "display_data",
          "data": {
            "text/plain": [
              "<IPython.core.display.HTML object>"
            ],
            "text/html": [
              "\n",
              "            <div class=\"spinner-container\">\n",
              "                <div class=\"spinner\" id=\"890eb4aa-875e-4d45-a163-c0231c28a43a-circle\"></div>\n",
              "                <div class=\"spinner-text\" id=\"890eb4aa-875e-4d45-a163-c0231c28a43a-text\">Updating and upgrading APT</div>\n",
              "            </div>\n",
              "            <style>\n",
              "                @keyframes spin {\n",
              "                    from { transform: rotate(0deg); }\n",
              "                    to { transform: rotate(360deg); }\n",
              "                }\n",
              "\n",
              "                .spinner-container {\n",
              "                    display: flex;\n",
              "                    align-items: center;\n",
              "                    margin-bottom: 3px;\n",
              "                }\n",
              "\n",
              "                .spinner {\n",
              "                    border: 3px solid rgba(0, 0, 0, 0.1);\n",
              "                    border-left-color: lightblue;\n",
              "                    border-radius: 50%;\n",
              "                    width: 12px;\n",
              "                    height: 12px;\n",
              "                    animation: spin 1s linear infinite;\n",
              "                }\n",
              "\n",
              "                .spinner-text {\n",
              "                    padding-left: 6px;\n",
              "                }\n",
              "            </style>\n",
              "        "
            ]
          },
          "metadata": {}
        },
        {
          "output_type": "display_data",
          "data": {
            "text/plain": [
              "<IPython.core.display.Javascript object>"
            ],
            "application/javascript": [
              "\n",
              "            const element = document.getElementById(\"890eb4aa-875e-4d45-a163-c0231c28a43a-circle\");\n",
              "            element.style.border = \"3px solid limegreen\";\n",
              "            element.style.animation = \"none\";\n",
              "\n",
              "            const text = document.getElementById(\"890eb4aa-875e-4d45-a163-c0231c28a43a-text\");\n",
              "            text.innerText = \"Updated and upgraded APT\";\n",
              "        "
            ]
          },
          "metadata": {}
        },
        {
          "output_type": "error",
          "ename": "GoogleColabSeleniumError",
          "evalue": "Failed to update and upgrade APT\n\t\n        If you believe this isn't due to a configuration error on your end, please\n        report the issue with any details you can provide about the steps leading\n        up to this error.\n\n\n        You can submit your report here:\n        https://github.com/jpjacobpadilla/Google-Colab-Selenium/issues/new\n\n        We apologize for any inconvenience!\n    ",
          "traceback": [
            "\u001b[0;31m---------------------------------------------------------------------------\u001b[0m",
            "\u001b[0;31mCalledProcessError\u001b[0m                        Traceback (most recent call last)",
            "\u001b[0;32m/usr/local/lib/python3.10/dist-packages/google_colab_selenium/colab_selenium_manager.py\u001b[0m in \u001b[0;36mupdate_upgrade_apt\u001b[0;34m(cls)\u001b[0m\n\u001b[1;32m     51\u001b[0m                 \u001b[0msubprocess\u001b[0m\u001b[0;34m.\u001b[0m\u001b[0mrun\u001b[0m\u001b[0;34m(\u001b[0m\u001b[0mcls\u001b[0m\u001b[0;34m.\u001b[0m\u001b[0mupdate_apt\u001b[0m\u001b[0;34m,\u001b[0m \u001b[0mcheck\u001b[0m\u001b[0;34m=\u001b[0m\u001b[0;32mTrue\u001b[0m\u001b[0;34m)\u001b[0m\u001b[0;34m\u001b[0m\u001b[0;34m\u001b[0m\u001b[0m\n\u001b[0;32m---> 52\u001b[0;31m                 \u001b[0msubprocess\u001b[0m\u001b[0;34m.\u001b[0m\u001b[0mrun\u001b[0m\u001b[0;34m(\u001b[0m\u001b[0mcls\u001b[0m\u001b[0;34m.\u001b[0m\u001b[0mupgrade_apt\u001b[0m\u001b[0;34m,\u001b[0m \u001b[0mcheck\u001b[0m\u001b[0;34m=\u001b[0m\u001b[0;32mTrue\u001b[0m\u001b[0;34m)\u001b[0m\u001b[0;34m\u001b[0m\u001b[0;34m\u001b[0m\u001b[0m\n\u001b[0m\u001b[1;32m     53\u001b[0m \u001b[0;34m\u001b[0m\u001b[0m\n",
            "\u001b[0;32m/usr/lib/python3.10/subprocess.py\u001b[0m in \u001b[0;36mrun\u001b[0;34m(input, capture_output, timeout, check, *popenargs, **kwargs)\u001b[0m\n\u001b[1;32m    525\u001b[0m         \u001b[0;32mif\u001b[0m \u001b[0mcheck\u001b[0m \u001b[0;32mand\u001b[0m \u001b[0mretcode\u001b[0m\u001b[0;34m:\u001b[0m\u001b[0;34m\u001b[0m\u001b[0;34m\u001b[0m\u001b[0m\n\u001b[0;32m--> 526\u001b[0;31m             raise CalledProcessError(retcode, process.args,\n\u001b[0m\u001b[1;32m    527\u001b[0m                                      output=stdout, stderr=stderr)\n",
            "\u001b[0;31mCalledProcessError\u001b[0m: Command '['sudo', 'apt', 'upgrade']' returned non-zero exit status 100.",
            "\nThe above exception was the direct cause of the following exception:\n",
            "\u001b[0;31mGoogleColabSeleniumError\u001b[0m                  Traceback (most recent call last)",
            "\u001b[0;32m<ipython-input-13-62e14ca6cd6d>\u001b[0m in \u001b[0;36m<cell line: 5>\u001b[0;34m()\u001b[0m\n\u001b[1;32m      3\u001b[0m \u001b[0;32mimport\u001b[0m \u001b[0mcsv\u001b[0m\u001b[0;34m\u001b[0m\u001b[0;34m\u001b[0m\u001b[0m\n\u001b[1;32m      4\u001b[0m \u001b[0;34m\u001b[0m\u001b[0m\n\u001b[0;32m----> 5\u001b[0;31m \u001b[0mdriver\u001b[0m \u001b[0;34m=\u001b[0m \u001b[0mgs\u001b[0m\u001b[0;34m.\u001b[0m\u001b[0mChrome\u001b[0m\u001b[0;34m(\u001b[0m\u001b[0;34m)\u001b[0m\u001b[0;34m\u001b[0m\u001b[0;34m\u001b[0m\u001b[0m\n\u001b[0m\u001b[1;32m      6\u001b[0m \u001b[0;34m\u001b[0m\u001b[0m\n\u001b[1;32m      7\u001b[0m \u001b[0;31m# Open the target webpage\u001b[0m\u001b[0;34m\u001b[0m\u001b[0;34m\u001b[0m\u001b[0m\n",
            "\u001b[0;32m/usr/local/lib/python3.10/dist-packages/google_colab_selenium/chromedriver.py\u001b[0m in \u001b[0;36m__init__\u001b[0;34m(self, options, keep_alive)\u001b[0m\n\u001b[1;32m     22\u001b[0m     \"\"\"\n\u001b[1;32m     23\u001b[0m     \u001b[0;32mdef\u001b[0m \u001b[0m__init__\u001b[0m\u001b[0;34m(\u001b[0m\u001b[0mself\u001b[0m\u001b[0;34m,\u001b[0m \u001b[0moptions\u001b[0m\u001b[0;34m:\u001b[0m \u001b[0mOptions\u001b[0m \u001b[0;34m=\u001b[0m \u001b[0;32mNone\u001b[0m\u001b[0;34m,\u001b[0m \u001b[0mkeep_alive\u001b[0m\u001b[0;34m:\u001b[0m \u001b[0mbool\u001b[0m \u001b[0;34m=\u001b[0m \u001b[0;32mTrue\u001b[0m\u001b[0;34m)\u001b[0m\u001b[0;34m:\u001b[0m\u001b[0;34m\u001b[0m\u001b[0;34m\u001b[0m\u001b[0m\n\u001b[0;32m---> 24\u001b[0;31m         \u001b[0mself\u001b[0m\u001b[0;34m.\u001b[0m\u001b[0mmanager\u001b[0m \u001b[0;34m=\u001b[0m \u001b[0mColabSeleniumManager\u001b[0m\u001b[0;34m(\u001b[0m\u001b[0moptions\u001b[0m\u001b[0;34m)\u001b[0m\u001b[0;34m\u001b[0m\u001b[0;34m\u001b[0m\u001b[0m\n\u001b[0m\u001b[1;32m     25\u001b[0m \u001b[0;34m\u001b[0m\u001b[0m\n\u001b[1;32m     26\u001b[0m         \u001b[0;32mtry\u001b[0m\u001b[0;34m:\u001b[0m\u001b[0;34m\u001b[0m\u001b[0;34m\u001b[0m\u001b[0m\n",
            "\u001b[0;32m/usr/local/lib/python3.10/dist-packages/google_colab_selenium/colab_selenium_manager.py\u001b[0m in \u001b[0;36m__init__\u001b[0;34m(self, base_options)\u001b[0m\n\u001b[1;32m     37\u001b[0m         \u001b[0;32mwith\u001b[0m \u001b[0mColabSeleniumManager\u001b[0m\u001b[0;34m.\u001b[0m\u001b[0m__initialization_lock\u001b[0m\u001b[0;34m:\u001b[0m\u001b[0;34m\u001b[0m\u001b[0;34m\u001b[0m\u001b[0m\n\u001b[1;32m     38\u001b[0m             \u001b[0;32mif\u001b[0m \u001b[0;32mnot\u001b[0m \u001b[0mself\u001b[0m\u001b[0;34m.\u001b[0m\u001b[0m_updated_apt\u001b[0m\u001b[0;34m:\u001b[0m\u001b[0;34m\u001b[0m\u001b[0;34m\u001b[0m\u001b[0m\n\u001b[0;32m---> 39\u001b[0;31m                 \u001b[0mself\u001b[0m\u001b[0;34m.\u001b[0m\u001b[0mupdate_upgrade_apt\u001b[0m\u001b[0;34m(\u001b[0m\u001b[0;34m)\u001b[0m\u001b[0;34m\u001b[0m\u001b[0;34m\u001b[0m\u001b[0m\n\u001b[0m\u001b[1;32m     40\u001b[0m \u001b[0;34m\u001b[0m\u001b[0m\n\u001b[1;32m     41\u001b[0m             \u001b[0;32mif\u001b[0m \u001b[0;32mnot\u001b[0m \u001b[0mself\u001b[0m\u001b[0;34m.\u001b[0m\u001b[0m_downloaded_chrome\u001b[0m\u001b[0;34m:\u001b[0m\u001b[0;34m\u001b[0m\u001b[0;34m\u001b[0m\u001b[0m\n",
            "\u001b[0;32m/usr/local/lib/python3.10/dist-packages/google_colab_selenium/colab_selenium_manager.py\u001b[0m in \u001b[0;36mupdate_upgrade_apt\u001b[0;34m(cls)\u001b[0m\n\u001b[1;32m     53\u001b[0m \u001b[0;34m\u001b[0m\u001b[0m\n\u001b[1;32m     54\u001b[0m         \u001b[0;32mexcept\u001b[0m \u001b[0mException\u001b[0m \u001b[0;32mas\u001b[0m \u001b[0me\u001b[0m\u001b[0;34m:\u001b[0m\u001b[0;34m\u001b[0m\u001b[0;34m\u001b[0m\u001b[0m\n\u001b[0;32m---> 55\u001b[0;31m             \u001b[0;32mraise\u001b[0m \u001b[0mGoogleColabSeleniumError\u001b[0m\u001b[0;34m(\u001b[0m\u001b[0;34m'Failed to update and upgrade APT'\u001b[0m\u001b[0;34m)\u001b[0m \u001b[0;32mfrom\u001b[0m \u001b[0me\u001b[0m\u001b[0;34m\u001b[0m\u001b[0;34m\u001b[0m\u001b[0m\n\u001b[0m\u001b[1;32m     56\u001b[0m \u001b[0;34m\u001b[0m\u001b[0m\n\u001b[1;32m     57\u001b[0m         \u001b[0;32melse\u001b[0m\u001b[0;34m:\u001b[0m\u001b[0;34m\u001b[0m\u001b[0;34m\u001b[0m\u001b[0m\n",
            "\u001b[0;31mGoogleColabSeleniumError\u001b[0m: Failed to update and upgrade APT\n\t\n        If you believe this isn't due to a configuration error on your end, please\n        report the issue with any details you can provide about the steps leading\n        up to this error.\n\n\n        You can submit your report here:\n        https://github.com/jpjacobpadilla/Google-Colab-Selenium/issues/new\n\n        We apologize for any inconvenience!\n    "
          ]
        }
      ]
    },
    {
      "cell_type": "code",
      "source": [
        "driver = gs.Chrome()  # Ensure this is correctly configured for your setup\n",
        "driver.get(url)\n",
        "# Wait for the lw_cal_event_list to be rendered on the page\n",
        "try:\n",
        "    WebDriverWait(driver, 10).until(\n",
        "        EC.presence_of_element_located((By.CLASS_NAME,\"d3-l-wrap\"))\n",
        "    )\n",
        "except Exception as e:\n",
        "    print(f\"Error: {e}\")\n",
        "\n",
        "soup = BeautifulSoup(driver.page_source, 'html.parser')"
      ],
      "metadata": {
        "colab": {
          "base_uri": "https://localhost:8080/",
          "height": 37
        },
        "id": "dCdp_1AAWy4U",
        "outputId": "3d4d6dcb-0aeb-4b45-b864-f5d9a5d511b8"
      },
      "execution_count": null,
      "outputs": [
        {
          "output_type": "display_data",
          "data": {
            "text/plain": [
              "<IPython.core.display.HTML object>"
            ],
            "text/html": [
              "\n",
              "            <div class=\"spinner-container\">\n",
              "                <div class=\"spinner\" id=\"f752aba3-ee67-48d9-b203-e443e3d43d98-circle\"></div>\n",
              "                <div class=\"spinner-text\" id=\"f752aba3-ee67-48d9-b203-e443e3d43d98-text\">Initializing Chromedriver</div>\n",
              "            </div>\n",
              "            <style>\n",
              "                @keyframes spin {\n",
              "                    from { transform: rotate(0deg); }\n",
              "                    to { transform: rotate(360deg); }\n",
              "                }\n",
              "\n",
              "                .spinner-container {\n",
              "                    display: flex;\n",
              "                    align-items: center;\n",
              "                    margin-bottom: 3px;\n",
              "                }\n",
              "\n",
              "                .spinner {\n",
              "                    border: 3px solid rgba(0, 0, 0, 0.1);\n",
              "                    border-left-color: lightblue;\n",
              "                    border-radius: 50%;\n",
              "                    width: 12px;\n",
              "                    height: 12px;\n",
              "                    animation: spin 1s linear infinite;\n",
              "                }\n",
              "\n",
              "                .spinner-text {\n",
              "                    padding-left: 6px;\n",
              "                }\n",
              "            </style>\n",
              "        "
            ]
          },
          "metadata": {}
        },
        {
          "output_type": "display_data",
          "data": {
            "text/plain": [
              "<IPython.core.display.Javascript object>"
            ],
            "application/javascript": [
              "\n",
              "            const element = document.getElementById(\"f752aba3-ee67-48d9-b203-e443e3d43d98-circle\");\n",
              "            element.style.border = \"3px solid limegreen\";\n",
              "            element.style.animation = \"none\";\n",
              "\n",
              "            const text = document.getElementById(\"f752aba3-ee67-48d9-b203-e443e3d43d98-text\");\n",
              "            text.innerText = \"Initialized Chromedriver\";\n",
              "        "
            ]
          },
          "metadata": {}
        }
      ]
    },
    {
      "cell_type": "code",
      "source": [
        "table=soup.find('div', {'class': \"sc-eCBGDA jsRppB\"})"
      ],
      "metadata": {
        "id": "vuwqAw0UXp49"
      },
      "execution_count": null,
      "outputs": []
    },
    {
      "cell_type": "code",
      "source": [
        "Day=table.find_all('div', {'class': \"sc-hPMVTF lixyng\"})\n",
        "content=table.find_all('div', {'class': \"sc-bhvJaM cLBylL\"})"
      ],
      "metadata": {
        "id": "h-uJm84WZjyd"
      },
      "execution_count": null,
      "outputs": []
    },
    {
      "cell_type": "code",
      "source": [
        "time[0]"
      ],
      "metadata": {
        "colab": {
          "base_uri": "https://localhost:8080/",
          "height": 42
        },
        "id": "W-I2NLB2ahw0",
        "outputId": "f2786b23-2af2-4de7-9995-c9cd0a340345"
      },
      "execution_count": null,
      "outputs": [
        {
          "output_type": "execute_result",
          "data": {
            "text/plain": [
              "'7'"
            ],
            "application/vnd.google.colaboratory.intrinsic+json": {
              "type": "string"
            }
          },
          "metadata": {},
          "execution_count": 99
        }
      ]
    },
    {
      "cell_type": "code",
      "source": [
        "len(time)"
      ],
      "metadata": {
        "colab": {
          "base_uri": "https://localhost:8080/"
        },
        "id": "fGOsycoCeHrB",
        "outputId": "656c3efb-320a-4489-d36e-2da07f470de5"
      },
      "execution_count": null,
      "outputs": [
        {
          "output_type": "execute_result",
          "data": {
            "text/plain": [
              "11"
            ]
          },
          "metadata": {},
          "execution_count": 97
        }
      ]
    },
    {
      "cell_type": "code",
      "source": [
        "content[11].find('span',\"sc-fqCdsd jJBPhl\").get_text()"
      ],
      "metadata": {
        "colab": {
          "base_uri": "https://localhost:8080/",
          "height": 42
        },
        "id": "N5kx2jsqdYVl",
        "outputId": "22c1ca72-a8c1-4fbf-c841-e1556564ce0a"
      },
      "execution_count": null,
      "outputs": [
        {
          "output_type": "execute_result",
          "data": {
            "text/plain": [
              "'7:00 PM EDT'"
            ],
            "application/vnd.google.colaboratory.intrinsic+json": {
              "type": "string"
            }
          },
          "metadata": {},
          "execution_count": 76
        }
      ]
    },
    {
      "cell_type": "code",
      "source": [
        "events=[]\n",
        "for i in range(11,len(Day)):\n",
        "  date=Day[i].get_text()\n",
        "  matchup=content[i].find(\"div\",\"sc-cmSatC dbWQrc\").get_text()\n",
        "  time=content[i].find('span',\"sc-fqCdsd jJBPhl\").get_text()\n",
        "  networks=content[i].find(\"div\",\"sc-hhTLmD fEEwQB\").get_text()\n",
        "  event={\n",
        "      'matchup':matchup,\n",
        "      'time':date+\"|\"+time,\n",
        "      'networks':networks,\n",
        "      \"location\":\"PPG Paints Arena, Pittsburgh, PA\"\n",
        "  }\n",
        "  print(event)\n",
        "  events.append(event)"
      ],
      "metadata": {
        "colab": {
          "base_uri": "https://localhost:8080/"
        },
        "id": "CZ7snThkW5yq",
        "outputId": "fa5d982d-f7a7-44c0-9f2f-d0def497927b"
      },
      "execution_count": null,
      "outputs": [
        {
          "output_type": "stream",
          "name": "stdout",
          "text": [
            "{'matchup': 'Buffalo@Pittsburgh', 'time': 'Wednesday, October 16|7:00 PM EDT', 'networks': '', 'location': 'PPG Paints Arena, Pittsburgh, PA'}\n",
            "{'matchup': 'Carolina@Pittsburgh', 'time': 'Friday, October 18|7:00 PM EDT', 'networks': 'SN-PIT, BSSO', 'location': 'PPG Paints Arena, Pittsburgh, PA'}\n",
            "{'matchup': 'Pittsburgh@Winnipeg', 'time': 'Sunday, October 20|3:00 PM EDT', 'networks': 'SN-PIT', 'location': 'PPG Paints Arena, Pittsburgh, PA'}\n",
            "{'matchup': 'Pittsburgh@Calgary', 'time': 'Tuesday, October 22|9:30 PM EDT', 'networks': 'SN-PIT', 'location': 'PPG Paints Arena, Pittsburgh, PA'}\n",
            "{'matchup': 'Pittsburgh@Edmonton', 'time': 'Friday, October 25|9:00 PM EDT', 'networks': 'SN-PIT', 'location': 'PPG Paints Arena, Pittsburgh, PA'}\n",
            "{'matchup': 'Pittsburgh@Vancouver', 'time': 'Saturday, October 26|10:00 PM EDT', 'networks': 'SN-PIT', 'location': 'PPG Paints Arena, Pittsburgh, PA'}\n",
            "{'matchup': 'Minnesota@Pittsburgh', 'time': 'Tuesday, October 29|7:00 PM EDT', 'networks': 'SN-PIT, BSN, BSWI', 'location': 'PPG Paints Arena, Pittsburgh, PA'}\n",
            "{'matchup': 'Anaheim@Pittsburgh', 'time': 'Thursday, October 31|7:00 PM EDT', 'networks': 'Victory+, SN-PIT, KCOP-13', 'location': 'PPG Paints Arena, Pittsburgh, PA'}\n",
            "{'matchup': 'Montréal@Pittsburgh', 'time': 'Saturday, November 2|7:00 PM EDT', 'networks': 'SN-PIT', 'location': 'PPG Paints Arena, Pittsburgh, PA'}\n",
            "{'matchup': 'Pittsburgh@New York', 'time': 'Tuesday, November 5|7:30 PM EST', 'networks': 'SN-PIT, MSGSN', 'location': 'PPG Paints Arena, Pittsburgh, PA'}\n",
            "{'matchup': 'Pittsburgh@Carolina', 'time': 'Thursday, November 7|7:00 PM EST', 'networks': 'SN-PIT, BSSO', 'location': 'PPG Paints Arena, Pittsburgh, PA'}\n",
            "{'matchup': 'Pittsburgh@Washington', 'time': 'Friday, November 8|7:30 PM EST', 'networks': '', 'location': 'PPG Paints Arena, Pittsburgh, PA'}\n",
            "{'matchup': 'Dallas@Pittsburgh', 'time': 'Monday, November 11|7:00 PM EST', 'networks': 'Victory+, SN-PIT', 'location': 'PPG Paints Arena, Pittsburgh, PA'}\n",
            "{'matchup': 'Detroit@Pittsburgh', 'time': 'Wednesday, November 13|7:30 PM EST', 'networks': 'SN-PIT', 'location': 'PPG Paints Arena, Pittsburgh, PA'}\n",
            "{'matchup': 'Pittsburgh@Columbus', 'time': 'Friday, November 15|7:00 PM EST', 'networks': 'SN-PIT, BSOH', 'location': 'PPG Paints Arena, Pittsburgh, PA'}\n",
            "{'matchup': 'San Jose@Pittsburgh', 'time': 'Saturday, November 16|7:00 PM EST', 'networks': 'SN-PIT, NBCSCA', 'location': 'PPG Paints Arena, Pittsburgh, PA'}\n",
            "{'matchup': 'Tampa Bay@Pittsburgh', 'time': 'Tuesday, November 19|7:00 PM EST', 'networks': 'SN-PIT, BSSUN', 'location': 'PPG Paints Arena, Pittsburgh, PA'}\n",
            "{'matchup': 'Winnipeg@Pittsburgh', 'time': 'Friday, November 22|7:00 PM EST', 'networks': 'SN-PIT', 'location': 'PPG Paints Arena, Pittsburgh, PA'}\n",
            "{'matchup': 'Utah@Pittsburgh', 'time': 'Saturday, November 23|7:00 PM EST', 'networks': 'Utah16, SN-PIT', 'location': 'PPG Paints Arena, Pittsburgh, PA'}\n",
            "{'matchup': 'Vancouver@Pittsburgh', 'time': 'Wednesday, November 27|7:30 PM EST', 'networks': 'SN-PIT', 'location': 'PPG Paints Arena, Pittsburgh, PA'}\n",
            "{'matchup': 'Pittsburgh@Boston', 'time': 'Friday, November 29|6:30 PM EST', 'networks': '', 'location': 'PPG Paints Arena, Pittsburgh, PA'}\n",
            "{'matchup': 'Calgary@Pittsburgh', 'time': 'Saturday, November 30|7:00 PM EST', 'networks': 'SN-PIT', 'location': 'PPG Paints Arena, Pittsburgh, PA'}\n",
            "{'matchup': 'Florida@Pittsburgh', 'time': 'Tuesday, December 3|7:00 PM EST', 'networks': 'SN-PIT, SCRIPPS', 'location': 'PPG Paints Arena, Pittsburgh, PA'}\n",
            "{'matchup': 'Pittsburgh@New York', 'time': 'Friday, December 6|7:30 PM EST', 'networks': '', 'location': 'PPG Paints Arena, Pittsburgh, PA'}\n",
            "{'matchup': 'Toronto@Pittsburgh', 'time': 'Saturday, December 7|7:00 PM EST', 'networks': 'SN-PIT', 'location': 'PPG Paints Arena, Pittsburgh, PA'}\n",
            "{'matchup': 'Colorado@Pittsburgh', 'time': 'Tuesday, December 10|7:00 PM EST', 'networks': 'SN-PIT, ALT', 'location': 'PPG Paints Arena, Pittsburgh, PA'}\n",
            "{'matchup': 'Pittsburgh@Montréal', 'time': 'Thursday, December 12|7:00 PM EST', 'networks': 'SN-PIT', 'location': 'PPG Paints Arena, Pittsburgh, PA'}\n",
            "{'matchup': 'Pittsburgh@Ottawa', 'time': 'Saturday, December 14|7:00 PM EST', 'networks': 'SN-PIT', 'location': 'PPG Paints Arena, Pittsburgh, PA'}\n",
            "{'matchup': 'Los Angeles@Pittsburgh', 'time': 'Tuesday, December 17|7:00 PM EST', 'networks': 'SN-PIT, BSW', 'location': 'PPG Paints Arena, Pittsburgh, PA'}\n",
            "{'matchup': 'Pittsburgh@Nashville', 'time': 'Thursday, December 19|8:00 PM EST', 'networks': 'SN-PIT, BSSO', 'location': 'PPG Paints Arena, Pittsburgh, PA'}\n",
            "{'matchup': 'Pittsburgh@New Jersey', 'time': 'Saturday, December 21|7:00 PM EST', 'networks': 'SN-PIT, MSGSN', 'location': 'PPG Paints Arena, Pittsburgh, PA'}\n",
            "{'matchup': 'Philadelphia@Pittsburgh', 'time': 'Monday, December 23|7:00 PM EST', 'networks': 'SN-PIT, NBCSP+', 'location': 'PPG Paints Arena, Pittsburgh, PA'}\n",
            "{'matchup': 'Pittsburgh@New York', 'time': 'Saturday, December 28|7:30 PM EST', 'networks': 'SN-PIT, MSGSN', 'location': 'PPG Paints Arena, Pittsburgh, PA'}\n",
            "{'matchup': 'New York@Pittsburgh', 'time': 'Sunday, December 29|5:30 PM EST', 'networks': 'SN-PIT, MSGSN', 'location': 'PPG Paints Arena, Pittsburgh, PA'}\n",
            "{'matchup': 'Pittsburgh@Detroit', 'time': 'Tuesday, December 31|8:00 PM EST', 'networks': 'BSDET, SN-PIT', 'location': 'PPG Paints Arena, Pittsburgh, PA'}\n",
            "{'matchup': 'Pittsburgh@Florida', 'time': 'Friday, January 3|7:00 PM EST', 'networks': 'SN-PIT, SCRIPPS', 'location': 'PPG Paints Arena, Pittsburgh, PA'}\n",
            "{'matchup': 'Pittsburgh@Carolina', 'time': 'Sunday, January 5|6:00 PM EST', 'networks': 'SN-PIT, BSSO', 'location': 'PPG Paints Arena, Pittsburgh, PA'}\n",
            "{'matchup': 'Columbus@Pittsburgh', 'time': 'Tuesday, January 7|7:00 PM EST', 'networks': 'SN-PIT, BSOH', 'location': 'PPG Paints Arena, Pittsburgh, PA'}\n",
            "{'matchup': 'Edmonton@Pittsburgh', 'time': 'Thursday, January 9|7:00 PM EST', 'networks': 'SN-PIT', 'location': 'PPG Paints Arena, Pittsburgh, PA'}\n",
            "{'matchup': 'Ottawa@Pittsburgh', 'time': 'Saturday, January 11|4:00 PM EST', 'networks': 'SN-PIT', 'location': 'PPG Paints Arena, Pittsburgh, PA'}\n",
            "{'matchup': 'Tampa Bay@Pittsburgh', 'time': 'Sunday, January 12|5:00 PM EST', 'networks': 'SN-PIT, BSSUN', 'location': 'PPG Paints Arena, Pittsburgh, PA'}\n",
            "{'matchup': 'Seattle@Pittsburgh', 'time': 'Tuesday, January 14|7:00 PM EST', 'networks': 'KHN, SN-PIT, KONG', 'location': 'PPG Paints Arena, Pittsburgh, PA'}\n",
            "{'matchup': 'Pittsburgh@Buffalo', 'time': 'Friday, January 17|7:00 PM EST', 'networks': 'SN-PIT, MSG-B', 'location': 'PPG Paints Arena, Pittsburgh, PA'}\n",
            "{'matchup': 'Pittsburgh@Washington', 'time': 'Saturday, January 18|7:00 PM EST', 'networks': 'SN-PIT, MNMT', 'location': 'PPG Paints Arena, Pittsburgh, PA'}\n",
            "{'matchup': 'Pittsburgh@Los Angeles', 'time': 'Monday, January 20|10:30 PM EST', 'networks': 'SN-PIT, BSW', 'location': 'PPG Paints Arena, Pittsburgh, PA'}\n",
            "{'matchup': 'Pittsburgh@Anaheim', 'time': 'Thursday, January 23|10:00 PM EST', 'networks': 'Victory+, SN-PIT, KCOP-13', 'location': 'PPG Paints Arena, Pittsburgh, PA'}\n",
            "{'matchup': 'Pittsburgh@Seattle', 'time': 'Saturday, January 25|4:00 PM EST', 'networks': 'KHN, SN-PIT, KONG', 'location': 'PPG Paints Arena, Pittsburgh, PA'}\n",
            "{'matchup': 'Pittsburgh@San Jose', 'time': 'Monday, January 27|10:30 PM EST', 'networks': 'SN-PIT, NBCSCA', 'location': 'PPG Paints Arena, Pittsburgh, PA'}\n",
            "{'matchup': 'Pittsburgh@Utah', 'time': 'Wednesday, January 29|9:30 PM EST', 'networks': 'SN-PIT', 'location': 'PPG Paints Arena, Pittsburgh, PA'}\n",
            "{'matchup': 'Nashville@Pittsburgh', 'time': 'Saturday, February 1|7:00 PM EST', 'networks': 'SN-PIT, BSSO', 'location': 'PPG Paints Arena, Pittsburgh, PA'}\n",
            "{'matchup': 'New Jersey@Pittsburgh', 'time': 'Tuesday, February 4|7:00 PM EST', 'networks': 'SN-PIT, MSGSN2', 'location': 'PPG Paints Arena, Pittsburgh, PA'}\n",
            "{'matchup': 'Pittsburgh@New York', 'time': 'Friday, February 7|7:00 PM EST', 'networks': 'SN-PIT, MSG', 'location': 'PPG Paints Arena, Pittsburgh, PA'}\n",
            "{'matchup': 'Pittsburgh@Philadelphia', 'time': 'Saturday, February 8|7:00 PM EST', 'networks': 'SN-PIT, NBCSP', 'location': 'PPG Paints Arena, Pittsburgh, PA'}\n",
            "{'matchup': 'Washington@Pittsburgh', 'time': 'Saturday, February 22|3:00 PM EST', 'networks': '', 'location': 'PPG Paints Arena, Pittsburgh, PA'}\n",
            "{'matchup': 'New York@Pittsburgh', 'time': 'Sunday, February 23|3:30 PM EST', 'networks': '', 'location': 'PPG Paints Arena, Pittsburgh, PA'}\n",
            "{'matchup': 'Pittsburgh@Philadelphia', 'time': 'Tuesday, February 25|7:00 PM EST', 'networks': 'SN-PIT, NBCSP', 'location': 'PPG Paints Arena, Pittsburgh, PA'}\n",
            "{'matchup': 'Philadelphia@Pittsburgh', 'time': 'Thursday, February 27|7:00 PM EST', 'networks': 'SN-PIT, NBCSP', 'location': 'PPG Paints Arena, Pittsburgh, PA'}\n",
            "{'matchup': 'Boston@Pittsburgh', 'time': 'Saturday, March 1|3:00 PM EST', 'networks': '', 'location': 'PPG Paints Arena, Pittsburgh, PA'}\n",
            "{'matchup': 'Toronto@Pittsburgh', 'time': 'Sunday, March 2|1:00 PM EST', 'networks': '', 'location': 'PPG Paints Arena, Pittsburgh, PA'}\n",
            "{'matchup': 'Pittsburgh@Colorado', 'time': 'Tuesday, March 4|9:00 PM EST', 'networks': 'SN-PIT, ALT', 'location': 'PPG Paints Arena, Pittsburgh, PA'}\n",
            "{'matchup': 'Pittsburgh@Vegas', 'time': 'Friday, March 7|10:00 PM EST', 'networks': 'SN-PIT, SCRIPPS', 'location': 'PPG Paints Arena, Pittsburgh, PA'}\n",
            "{'matchup': 'Pittsburgh@Minnesota', 'time': 'Sunday, March 9|3:30 PM EDT', 'networks': 'SN-PIT', 'location': 'PPG Paints Arena, Pittsburgh, PA'}\n",
            "{'matchup': 'Vegas@Pittsburgh', 'time': 'Tuesday, March 11|7:00 PM EDT', 'networks': 'SN-PIT, SCRIPPS', 'location': 'PPG Paints Arena, Pittsburgh, PA'}\n",
            "{'matchup': 'St. Louis@Pittsburgh', 'time': 'Thursday, March 13|7:00 PM EDT', 'networks': 'SN-PIT, BSMW', 'location': 'PPG Paints Arena, Pittsburgh, PA'}\n",
            "{'matchup': 'New Jersey@Pittsburgh', 'time': 'Saturday, March 15|3:00 PM EDT', 'networks': '', 'location': 'PPG Paints Arena, Pittsburgh, PA'}\n",
            "{'matchup': 'New York@Pittsburgh', 'time': 'Tuesday, March 18|7:00 PM EDT', 'networks': 'SN-PIT, MSGSN', 'location': 'PPG Paints Arena, Pittsburgh, PA'}\n",
            "{'matchup': 'Columbus@Pittsburgh', 'time': 'Friday, March 21|7:00 PM EDT', 'networks': 'SN-PIT, BSOH', 'location': 'PPG Paints Arena, Pittsburgh, PA'}\n",
            "{'matchup': 'Pittsburgh@Florida', 'time': 'Sunday, March 23|6:00 PM EDT', 'networks': 'SN-PIT, SCRIPPS', 'location': 'PPG Paints Arena, Pittsburgh, PA'}\n",
            "{'matchup': 'Pittsburgh@Tampa Bay', 'time': 'Tuesday, March 25|7:00 PM EDT', 'networks': 'SN-PIT, BSSUN', 'location': 'PPG Paints Arena, Pittsburgh, PA'}\n",
            "{'matchup': 'Pittsburgh@Buffalo', 'time': 'Thursday, March 27|7:00 PM EDT', 'networks': 'SN-PIT, MSG-B', 'location': 'PPG Paints Arena, Pittsburgh, PA'}\n",
            "{'matchup': 'Ottawa@Pittsburgh', 'time': 'Sunday, March 30|5:00 PM EDT', 'networks': 'SN-PIT', 'location': 'PPG Paints Arena, Pittsburgh, PA'}\n",
            "{'matchup': 'Pittsburgh@St. Louis', 'time': 'Thursday, April 3|8:00 PM EDT', 'networks': 'SN-PIT, BSMW', 'location': 'PPG Paints Arena, Pittsburgh, PA'}\n",
            "{'matchup': 'Pittsburgh@Dallas', 'time': 'Saturday, April 5|3:00 PM EDT', 'networks': '', 'location': 'PPG Paints Arena, Pittsburgh, PA'}\n",
            "{'matchup': 'Pittsburgh@Chicago', 'time': 'Sunday, April 6|6:00 PM EDT', 'networks': 'CHSN, SN-PIT', 'location': 'PPG Paints Arena, Pittsburgh, PA'}\n",
            "{'matchup': 'Chicago@Pittsburgh', 'time': 'Tuesday, April 8|7:00 PM EDT', 'networks': '', 'location': 'PPG Paints Arena, Pittsburgh, PA'}\n",
            "{'matchup': 'Pittsburgh@New Jersey', 'time': 'Friday, April 11|7:00 PM EDT', 'networks': 'SN-PIT, MSGSN', 'location': 'PPG Paints Arena, Pittsburgh, PA'}\n",
            "{'matchup': 'Boston@Pittsburgh', 'time': 'Sunday, April 13|3:30 PM EDT', 'networks': 'SN-PIT', 'location': 'PPG Paints Arena, Pittsburgh, PA'}\n",
            "{'matchup': 'Washington@Pittsburgh', 'time': 'Thursday, April 17|7:00 PM EDT', 'networks': '', 'location': 'PPG Paints Arena, Pittsburgh, PA'}\n"
          ]
        }
      ]
    },
    {
      "cell_type": "code",
      "source": [
        "import requests\n",
        "from bs4 import BeautifulSoup\n",
        "# 发送HTTP请求并获取HTML内容\n",
        "url = 'https://en.wikipedia.org/wiki/Pittsburgh_Penguins'\n",
        "response = requests.get(url)\n",
        "html = response.text\n",
        "# 使用BeautifulSoup解析HTML内容\n",
        "soup = BeautifulSoup(html, 'html.parser')\n",
        "# 提取所需数据\n",
        "data = []\n",
        "for tag in soup.find_all('div', {'class': 'mw-content-ltr'}):\n",
        "  for p in tag.find_all('p'):\n",
        "    text = p.get_text()\n",
        "    if text:\n",
        "        data.append(text)"
      ],
      "metadata": {
        "id": "fo-pdaQyjWwH"
      },
      "execution_count": null,
      "outputs": []
    },
    {
      "cell_type": "code",
      "source": [
        "with open('/content/drive/MyDrive/11711/assignment2/data/penguins.json', 'r') as f:\n",
        "    ff = json.load(f)"
      ],
      "metadata": {
        "id": "vXEi9Snmabtu"
      },
      "execution_count": null,
      "outputs": []
    },
    {
      "cell_type": "code",
      "source": [
        "\n",
        "ff['wikipedia']=data\n"
      ],
      "metadata": {
        "id": "d45BXzaijFyE"
      },
      "execution_count": null,
      "outputs": []
    },
    {
      "cell_type": "code",
      "source": [
        "with open('/content/drive/MyDrive/11711/assignment2/data/penguins.json', 'w') as f:\n",
        "    json.dump(ff, f, indent=4)"
      ],
      "metadata": {
        "id": "5wIN4aaKaGLX"
      },
      "execution_count": null,
      "outputs": []
    },
    {
      "cell_type": "code",
      "source": [
        "content"
      ],
      "metadata": {
        "id": "VMM_QY1MW6QX"
      },
      "execution_count": null,
      "outputs": []
    },
    {
      "cell_type": "markdown",
      "source": [
        "#general information"
      ],
      "metadata": {
        "id": "mbjt5r4QkKdq"
      }
    },
    {
      "cell_type": "code",
      "source": [
        "import requests\n",
        "from bs4 import BeautifulSoup\n",
        "# 发送HTTP请求并获取HTML内容\n",
        "url = 'https://www.visitpittsburgh.com/things-to-do/pittsburgh-sports-teams/'\n",
        "response = requests.get(url)\n",
        "html = response.text\n",
        "# 使用BeautifulSoup解析HTML内容\n",
        "soup = BeautifulSoup(html, 'html.parser').get_text()\n"
      ],
      "metadata": {
        "id": "FbTsc7NpkM51"
      },
      "execution_count": null,
      "outputs": []
    },
    {
      "cell_type": "code",
      "source": [
        "soup.split('\\n')"
      ],
      "metadata": {
        "colab": {
          "base_uri": "https://localhost:8080/"
        },
        "id": "S0X-2q4Hkcu3",
        "outputId": "bafa4124-f773-4e6e-d3e8-bb234a173458"
      },
      "execution_count": null,
      "outputs": [
        {
          "output_type": "execute_result",
          "data": {
            "text/plain": [
              "['',\n",
              " '',\n",
              " '',\n",
              " '',\n",
              " '',\n",
              " '',\n",
              " '',\n",
              " '',\n",
              " '',\n",
              " '',\n",
              " '',\n",
              " '',\n",
              " '',\n",
              " '',\n",
              " '',\n",
              " '',\n",
              " '',\n",
              " '',\n",
              " 'Pittsburgh, PA Sports Teams | Steelers, Pirates, Penguins & Riverhounds | Visit Pittsburgh',\n",
              " '',\n",
              " '',\n",
              " '',\n",
              " '',\n",
              " '',\n",
              " '',\n",
              " '',\n",
              " '',\n",
              " '',\n",
              " '',\n",
              " '',\n",
              " '',\n",
              " '',\n",
              " '',\n",
              " '',\n",
              " '',\n",
              " '',\n",
              " '',\n",
              " '',\n",
              " '',\n",
              " '',\n",
              " '',\n",
              " '',\n",
              " '',\n",
              " '',\n",
              " '',\n",
              " '',\n",
              " '',\n",
              " '',\n",
              " '',\n",
              " '',\n",
              " '',\n",
              " '',\n",
              " '',\n",
              " '',\n",
              " 'Skip to content',\n",
              " '',\n",
              " '',\n",
              " '',\n",
              " '',\n",
              " '',\n",
              " '',\n",
              " '',\n",
              " 'Newsletter',\n",
              " '',\n",
              " '',\n",
              " 'Discover Your Persona',\n",
              " '',\n",
              " '',\n",
              " '',\n",
              " '',\n",
              " '',\n",
              " '                    51°F',\n",
              " '                                    ',\n",
              " '',\n",
              " '',\n",
              " '0',\n",
              " 'Saved',\n",
              " '',\n",
              " '',\n",
              " '',\n",
              " '',\n",
              " '',\n",
              " '',\n",
              " '',\n",
              " '',\n",
              " '',\n",
              " '',\n",
              " 'Navigation',\n",
              " '',\n",
              " '',\n",
              " '',\n",
              " '',\n",
              " '',\n",
              " '',\n",
              " '',\n",
              " '',\n",
              " '',\n",
              " '',\n",
              " '',\n",
              " '',\n",
              " '',\n",
              " '',\n",
              " '',\n",
              " '',\n",
              " '',\n",
              " '',\n",
              " ' ',\n",
              " '',\n",
              " '',\n",
              " '',\n",
              " '',\n",
              " 'Things to DoFree Things to DoFamily FunTours & SightseeingOutdoor AdventureArts & CultureShoppingHealth & WellnessPittsburgh Sports TeamsCasinos & GamingFilm FestivalsEvents & FestivalsSubmit Your EventThis Week in PittsburghAnnual EventsHoliday EventsHalloween EventsFilm FestivalsFood FestivalsMarathons, Runs & WalksPittsburgh Celebrates Juneteenth Freedom DayPittsburgh Black Music FestivalHotels & ResortsRestaurants & CulinaryBars & NightlifePittsburgh Craft BreweriesWineries & DistilleriesFarms & Farmers MarketsPlan Your TripPittsburgh Insiders GuideMulti-lingual BrochuresBeyond PittsburghTransportationExplore Black Culture & HeritageLGBTQIA+ Travel in PittsburghPet-friendly TravelCollege VisitsSenior TravelMedical TravelAccessibility GuideWeatherWelcome CentersNewsletterNeighborhoodsMeetings and EventsMeet in PittsburghHotelsEvent ServicesMarketing ToolkitGroup TourSubmit RFPContact UsShow Your BadgeSportsPITTSBURGHAbout SportsPITTSBURGHSports Event PlannerSports FacilitiesCalendar of EventsSports Event AttendeePower of Sports Economy',\n",
              " '',\n",
              " '',\n",
              " 'Weddings & ReunionsMediaPartners',\n",
              " '',\n",
              " 'Discover Your Persona',\n",
              " '                                    ',\n",
              " '',\n",
              " '',\n",
              " '',\n",
              " '',\n",
              " '',\n",
              " '',\n",
              " '',\n",
              " '',\n",
              " '',\n",
              " '',\n",
              " '',\n",
              " '',\n",
              " ' ',\n",
              " '',\n",
              " '',\n",
              " '',\n",
              " '',\n",
              " '',\n",
              " '',\n",
              " '',\n",
              " '',\n",
              " '',\n",
              " '',\n",
              " ' ',\n",
              " '',\n",
              " ' ',\n",
              " '',\n",
              " '',\n",
              " '',\n",
              " '',\n",
              " '',\n",
              " '',\n",
              " '',\n",
              " '',\n",
              " '',\n",
              " '',\n",
              " '',\n",
              " '',\n",
              " '                                Pittsburgh Steelers',\n",
              " '                            ',\n",
              " '',\n",
              " '',\n",
              " '',\n",
              " '',\n",
              " '',\n",
              " '                                Pittsburgh Pirates',\n",
              " '                            ',\n",
              " '',\n",
              " '',\n",
              " '',\n",
              " '',\n",
              " '',\n",
              " '                                Pittsburgh Penguins',\n",
              " '                            ',\n",
              " '',\n",
              " '',\n",
              " '',\n",
              " '',\n",
              " '',\n",
              " '                                College Sports',\n",
              " '                            ',\n",
              " '',\n",
              " '',\n",
              " '',\n",
              " '',\n",
              " '',\n",
              " '                                Other Sports Teams',\n",
              " '                            ',\n",
              " '',\n",
              " '',\n",
              " '',\n",
              " '',\n",
              " '',\n",
              " '                                History of the Terrible Towel',\n",
              " '                            ',\n",
              " '',\n",
              " '',\n",
              " '',\n",
              " '',\n",
              " '',\n",
              " '                                Pittsburgh Riverhounds',\n",
              " '                            ',\n",
              " '',\n",
              " '',\n",
              " '',\n",
              " '',\n",
              " '',\n",
              " '',\n",
              " '',\n",
              " '',\n",
              " '',\n",
              " '',\n",
              " '',\n",
              " '',\n",
              " '',\n",
              " '',\n",
              " '',\n",
              " '',\n",
              " '',\n",
              " 'Home',\n",
              " '',\n",
              " '',\n",
              " '',\n",
              " '',\n",
              " 'Things to Do',\n",
              " '',\n",
              " '',\n",
              " 'Pittsburgh Sports Teams',\n",
              " '',\n",
              " '',\n",
              " '',\n",
              " '',\n",
              " '',\n",
              " '',\n",
              " '',\n",
              " '',\n",
              " '',\n",
              " 'Pittsburgh Sports',\n",
              " 'In Pittsburgh, we bleed black and gold. Come see for yourself why Sporting News magazine awarded Pittsburgh the coveted \"Best Sports City\" title and why the USA TODAY 10 Best Reader\\'s Choice poll named Pittsburgh as one of the winners of the \"Best City for Sports\" travel award.',\n",
              " '',\n",
              " '',\n",
              " '',\n",
              " '',\n",
              " '',\n",
              " '',\n",
              " '',\n",
              " '',\n",
              " 'If its action you want, this city has it covered with the best of football, baseball, hockey and more. Grab your Terrible Towel and visit Acrisure Stadium to watch the six-time Super Bowl Champion Pittsburgh Steelers. Head to PPG Paints Arena and join in all the excitement when the Penguins take the ice. The Pirates make a perfect summer night complete as you watch the game from PNC Park, rated by Travel & Leisure as the \"best baseball stadium in America!\"',\n",
              " '',\n",
              " '',\n",
              " '',\n",
              " '',\n",
              " '',\n",
              " 'Sports Teams',\n",
              " '',\n",
              " 'Pittsburgh Steelers',\n",
              " 'Pittsburgh is officially \"Sixburgh\" as the Steelers became the first team in NFL history to win six Super Bowl titles! Steelers Nation spreads far and wide, so grab your Terrible Towel and come celebrate where it all originates: the Home of the World Champion Pittsburgh Steelers. Here we go!',\n",
              " 'Where to See Them: Acrisure StadiumCapacity: 68,400 (record is 70,622 for the 2022 Backyard Brawl between Pitt and West Virginia)Opened: 2001Also Home To: University of Pittsburgh Panthers D1 football, Rib FestKnown For: Terrible Towels waving, \"Renegade\" being played in the fourth quarter, incredible skyline viewsFun Fact: This stadium hosted two outdoor hockey games - the 2011 NHL Winter Classic and 2017 NHL Stadium Series.Did You Know?',\n",
              " '',\n",
              " '',\n",
              " '',\n",
              " '',\n",
              " '',\n",
              " ' ',\n",
              " '',\n",
              " '',\n",
              " '',\n",
              " '',\n",
              " 'Pittsburgh Pirates',\n",
              " \"You can always count on the Pittsburgh Pirates for an exciting summer of baseball! Raise the Jolly Roger at PNC Park, hailed as one of the best ballparks in the country. Let's Go Bucs!\",\n",
              " 'Where to See Them: PNC ParkCapacity: 38,362Opened: 2001Also Home To: All Star Craft Beer, Wine and Cocktail FestivalKnown For: Skyline views, fireworks nights, the Pittsburgh Pierogi Race, fantastic local food and brewsFun Facts: 70 home run balls have exited the stadium and splashed into the Allegheny River, but only five have landed in the river without bouncing.Did You Know? PNC Park offers stadium tours all season long that take you onto the field for an up-close look at this magnificent stadium.',\n",
              " '',\n",
              " '',\n",
              " '',\n",
              " '',\n",
              " '',\n",
              " ' ',\n",
              " '',\n",
              " '',\n",
              " '',\n",
              " '',\n",
              " 'Pittsburgh Penguins',\n",
              " 'The ice might be cold, but the Pittsburgh Penguins are HOT! When the five-time Stanley Cup champions take the ice at PPG Paints Arena it\\'s \"A Great Day for Hockey.\" Tickets sell out fast, so don\\'t be left out of the action! Let\\'s Go Pens!',\n",
              " \"Where to See Them: PPG Paints ArenaCapacity: 18,387Opened: 2010Also Home To: NCAA ice hockey and basketball tournamentsKnown For: The antics of Iceburgh (the Penguins' mascot), RC Cola, fantastic concerts, WWE live events, Monster Jam and other family eventsFun Fact: The Penguins had a record-setting sellout streak that lasted 14 years and 633 consecutive games from 2007-2021, resulting in three Stanley Cups.Did You Know? PPG Paints Arena offers free skates on select dates throughout the year. Look for announcements on social media.\",\n",
              " '',\n",
              " '',\n",
              " '',\n",
              " '',\n",
              " '',\n",
              " ' ',\n",
              " '',\n",
              " '',\n",
              " '',\n",
              " 'Credit |Dave DiCello',\n",
              " '',\n",
              " '',\n",
              " '',\n",
              " '',\n",
              " '',\n",
              " 'Pittsburgh Riverhounds',\n",
              " 'Pittsburgh is becoming a part on America’s growing soccer landscape with the Riverhounds! Take in a great city skyline at Highmark Stadium at Station Square and help turn Pittsburgh into a #HoundTahn!',\n",
              " \"Where to See Them: Highmark StadiumCapacity: 5,000Opened: 2012Also Home To: Blues & Heritage Festival, WPIAL soccer championshipsKnown For: Trains rumbling by during games, Steel Army supporters sectionFun Fact: A riverhound isn't a type of dog! It's a nickname for the people who operate coal barges on the river.Did You Know? The On-Field Party Box is one of the best luxury boxes in town, offering unmatched on-the-field views with seating for up to 60.\",\n",
              " '',\n",
              " '',\n",
              " '',\n",
              " '',\n",
              " '',\n",
              " ' ',\n",
              " '',\n",
              " '',\n",
              " '',\n",
              " 'Credit |Chris Cowger',\n",
              " '',\n",
              " '',\n",
              " '',\n",
              " '',\n",
              " '',\n",
              " '',\n",
              " 'Coming Soon...',\n",
              " '',\n",
              " 'Starting in 2025, the Riverhounds ownership group will have an all-new USL W League team competing at the pre-professional level. Look for names, logos and much more on this coming soon.',\n",
              " '',\n",
              " '',\n",
              " '',\n",
              " '',\n",
              " '',\n",
              " 'Other Pittsburgh Sports Teams',\n",
              " '',\n",
              " \"In addition to the Steelers, Penguins and Pirates, this world-class sports town boasts teams in everything from women's football to ultimate frisbee, roller derby, armored combat and eSports!\",\n",
              " '',\n",
              " '',\n",
              " '',\n",
              " '',\n",
              " '',\n",
              " '',\n",
              " '',\n",
              " '',\n",
              " '',\n",
              " '',\n",
              " '',\n",
              " '',\n",
              " 'Other Sports Attractions',\n",
              " '',\n",
              " '',\n",
              " '',\n",
              " '',\n",
              " '',\n",
              " 'Heinz History Center-Western Pennsylvania Sports Museum',\n",
              " 'The Western Pennsylvania Sports Museum, a state-of-the-art museum at the Senator John Heinz History Center, features a stunning collection of one-of-a-kind sports artifacts and interactive exhibits that celebrate the rich tradition of sports in our region. When it comes to sports pride and sports history, no other region in the world is like western Pennsylvania.',\n",
              " 'Engine House No.25',\n",
              " 'This historic firehouse now holds some of the most fascinating memorabilia of Roberto Clemente. Schedule a tour to see the paintings, photographs, letters and more and learn about the personal and professional journey of this beloved Pirates player.',\n",
              " 'Pittsburgh Vintage Grand Prix',\n",
              " \"Ladies and gentleman, start your engines! Don't miss this 10-day festival of motorsport events culminating with the Annual Vintage Races and Car Show at Schenley Park on the third weekend of July. Free to spectators.\",\n",
              " 'Collegiate Sports',\n",
              " 'Pittsburgh is a world-class sports town and home to many NCAA Division 1 universities, some right in the heart of the city, including the University of Pittsburgh, Duquesne University and Robert Morris University. Each school has a variety of sports teams, including football, basketball, baseball, golf, tennis…the list goes on!',\n",
              " '',\n",
              " '',\n",
              " '',\n",
              " '',\n",
              " '',\n",
              " '',\n",
              " '',\n",
              " '',\n",
              " 'In This Section',\n",
              " '',\n",
              " '',\n",
              " '',\n",
              " '',\n",
              " '',\n",
              " '',\n",
              " '',\n",
              " '',\n",
              " '',\n",
              " '',\n",
              " '',\n",
              " '',\n",
              " '',\n",
              " '',\n",
              " '                        ',\n",
              " '                        Pittsburgh Steelers                                ',\n",
              " '',\n",
              " '',\n",
              " '',\n",
              " '',\n",
              " '                        Learn More                            ',\n",
              " ' ',\n",
              " '',\n",
              " '',\n",
              " '',\n",
              " '',\n",
              " '',\n",
              " '',\n",
              " '',\n",
              " '',\n",
              " '',\n",
              " '',\n",
              " '',\n",
              " '',\n",
              " '',\n",
              " '',\n",
              " '                        ',\n",
              " '                        Pittsburgh Pirates                                ',\n",
              " '',\n",
              " '',\n",
              " '',\n",
              " '',\n",
              " '                        Learn More                            ',\n",
              " ' ',\n",
              " '',\n",
              " '',\n",
              " '',\n",
              " '',\n",
              " '',\n",
              " '',\n",
              " '',\n",
              " '',\n",
              " '',\n",
              " '',\n",
              " '',\n",
              " '',\n",
              " '',\n",
              " '',\n",
              " '                        ',\n",
              " '                        Pittsburgh Penguins                                ',\n",
              " '',\n",
              " '',\n",
              " '',\n",
              " '',\n",
              " '                        Learn More                            ',\n",
              " ' ',\n",
              " '',\n",
              " '',\n",
              " '',\n",
              " '',\n",
              " '',\n",
              " '',\n",
              " '',\n",
              " '',\n",
              " '',\n",
              " '',\n",
              " '',\n",
              " '',\n",
              " '',\n",
              " '',\n",
              " '                        ',\n",
              " '                        College Sports                                ',\n",
              " '',\n",
              " '',\n",
              " '',\n",
              " '',\n",
              " '                        Learn More                            ',\n",
              " ' ',\n",
              " '',\n",
              " '',\n",
              " '',\n",
              " '',\n",
              " '',\n",
              " '',\n",
              " '',\n",
              " '',\n",
              " '',\n",
              " '',\n",
              " '',\n",
              " '',\n",
              " '',\n",
              " '',\n",
              " '                        ',\n",
              " '                        Other Sports Teams                                ',\n",
              " '',\n",
              " '',\n",
              " '',\n",
              " '',\n",
              " '                        Learn More                            ',\n",
              " ' ',\n",
              " '',\n",
              " '',\n",
              " '',\n",
              " '',\n",
              " '',\n",
              " '',\n",
              " '',\n",
              " '',\n",
              " '',\n",
              " '',\n",
              " '',\n",
              " '',\n",
              " '',\n",
              " '',\n",
              " '                        ',\n",
              " '                        History of the Terrible Towel                                ',\n",
              " '',\n",
              " '',\n",
              " '',\n",
              " '',\n",
              " '                        Learn More                            ',\n",
              " ' ',\n",
              " '',\n",
              " '',\n",
              " '',\n",
              " '',\n",
              " '',\n",
              " '',\n",
              " '',\n",
              " '',\n",
              " '',\n",
              " '',\n",
              " '',\n",
              " '',\n",
              " '',\n",
              " '',\n",
              " '                        ',\n",
              " '                        Pittsburgh Riverhounds                                ',\n",
              " '',\n",
              " '',\n",
              " '',\n",
              " '',\n",
              " '                        Learn More                            ',\n",
              " ' ',\n",
              " '',\n",
              " '',\n",
              " '',\n",
              " '',\n",
              " '',\n",
              " '',\n",
              " '',\n",
              " '',\n",
              " '',\n",
              " '',\n",
              " '',\n",
              " '',\n",
              " '',\n",
              " '',\n",
              " '',\n",
              " 'Related Blog Posts',\n",
              " '',\n",
              " '',\n",
              " '',\n",
              " '',\n",
              " '',\n",
              " '',\n",
              " '',\n",
              " '',\n",
              " '',\n",
              " '',\n",
              " '',\n",
              " '',\n",
              " '',\n",
              " '',\n",
              " '',\n",
              " '',\n",
              " '                        ',\n",
              " '                        Insider’s Guide to the Steelers Hall of Honor Museum                                ',\n",
              " 'Relive 90 years of Steelers history with interactive exhibits for all fans of the black and\\xa0gold',\n",
              " '',\n",
              " '',\n",
              " '',\n",
              " '',\n",
              " '                        Details                            ',\n",
              " ' ',\n",
              " '',\n",
              " '',\n",
              " '',\n",
              " '',\n",
              " '',\n",
              " '',\n",
              " '',\n",
              " '',\n",
              " '',\n",
              " '',\n",
              " '',\n",
              " '',\n",
              " '',\n",
              " '',\n",
              " '                        ',\n",
              " '                        A Guide to Acrisure Stadium for Steelers Fans                                ',\n",
              " \"In town for a big game? We've got the scoop on how to enjoy a Steelers game in the ultimate…\",\n",
              " '',\n",
              " '',\n",
              " '',\n",
              " '',\n",
              " '                        Details                            ',\n",
              " ' ',\n",
              " '',\n",
              " '',\n",
              " '',\n",
              " '',\n",
              " '',\n",
              " '',\n",
              " '',\n",
              " '',\n",
              " '',\n",
              " '',\n",
              " '',\n",
              " '',\n",
              " '',\n",
              " '',\n",
              " '                        ',\n",
              " '                        What to Eat at PNC\\xa0Park                                ',\n",
              " '\\u200bSpending the day watching baseball at PNC Park is a real\\xa0treat.',\n",
              " '',\n",
              " '',\n",
              " '',\n",
              " '',\n",
              " '                        Details                            ',\n",
              " ' ',\n",
              " '',\n",
              " '',\n",
              " '',\n",
              " '',\n",
              " '',\n",
              " '',\n",
              " '',\n",
              " '',\n",
              " '',\n",
              " '',\n",
              " '',\n",
              " '',\n",
              " '',\n",
              " '',\n",
              " '                        ',\n",
              " '                        Roberto Clemente, Pittsburgh’s Hero!                                ',\n",
              " \"Pittsburgh's biggest baseball legend is Roberto Clemente and his impact on baseball and on Pittsburgh still remain.\",\n",
              " '',\n",
              " '',\n",
              " '',\n",
              " '',\n",
              " '                        Details                            ',\n",
              " ' ',\n",
              " '',\n",
              " '',\n",
              " '',\n",
              " '',\n",
              " '',\n",
              " '',\n",
              " '',\n",
              " '',\n",
              " '',\n",
              " '',\n",
              " '',\n",
              " '',\n",
              " '',\n",
              " '',\n",
              " '                        ',\n",
              " '                        A Guide to PPG Paints Arena for Penguins Fans                                ',\n",
              " 'In town for your first Pens game? We answer all your questions.',\n",
              " '',\n",
              " '',\n",
              " '',\n",
              " '',\n",
              " '                        Details                            ',\n",
              " ' ',\n",
              " '',\n",
              " '',\n",
              " '',\n",
              " '',\n",
              " '',\n",
              " '',\n",
              " '',\n",
              " '',\n",
              " '',\n",
              " '',\n",
              " '',\n",
              " '',\n",
              " '',\n",
              " '',\n",
              " '                        ',\n",
              " '                        Pittsburgh Steelers Hall of Famers                                ',\n",
              " \"A look at the City of Champions' recent honors with Hall of Fame enshrinements and retired numbers.\",\n",
              " '',\n",
              " '',\n",
              " '',\n",
              " '',\n",
              " '                        Details                            ',\n",
              " ' ',\n",
              " '',\n",
              " '',\n",
              " '',\n",
              " '',\n",
              " '',\n",
              " '',\n",
              " '',\n",
              " '',\n",
              " '',\n",
              " '',\n",
              " '',\n",
              " '',\n",
              " '',\n",
              " '',\n",
              " '                        ',\n",
              " '                        Ultimate Steelers Gameweek Guide                                ',\n",
              " \"Steelers Nation! In Pittsburgh for the big game? We've got the scoop on how to enjoy the ultimate sports city!\",\n",
              " '',\n",
              " '',\n",
              " '',\n",
              " '',\n",
              " '                        Details                            ',\n",
              " ' ',\n",
              " '',\n",
              " '',\n",
              " '',\n",
              " '',\n",
              " '',\n",
              " '',\n",
              " '',\n",
              " '',\n",
              " '',\n",
              " '',\n",
              " '',\n",
              " '',\n",
              " '',\n",
              " '',\n",
              " '                        ',\n",
              " '                        Steelers Nation, Here We\\xa0Go!                                ',\n",
              " \"Let's celebrate the Pittsburgh Steelers  – here and around the\\xa0world.\",\n",
              " '',\n",
              " '',\n",
              " '',\n",
              " '',\n",
              " '                        Details                            ',\n",
              " ' ',\n",
              " '',\n",
              " '',\n",
              " '',\n",
              " '',\n",
              " '',\n",
              " '',\n",
              " '',\n",
              " '',\n",
              " '',\n",
              " '',\n",
              " '',\n",
              " '',\n",
              " '',\n",
              " '',\n",
              " '                        ',\n",
              " '                        Eating Your Way Through Pittsburgh Sports                                ',\n",
              " '\\u200bExperience Pittsburgh’s food scene through our local sports scene',\n",
              " '',\n",
              " '',\n",
              " '',\n",
              " '',\n",
              " '                        Details                            ',\n",
              " ' ',\n",
              " '',\n",
              " '',\n",
              " '',\n",
              " '',\n",
              " '',\n",
              " '',\n",
              " '',\n",
              " '',\n",
              " '',\n",
              " '',\n",
              " '',\n",
              " '',\n",
              " '',\n",
              " '',\n",
              " '',\n",
              " '',\n",
              " '',\n",
              " '',\n",
              " '',\n",
              " '',\n",
              " '',\n",
              " '',\n",
              " '',\n",
              " 'Save',\n",
              " '',\n",
              " 'Pittsburgh Penguins1001 Fifth Ave., PPG Paints Arena',\n",
              " 'Pittsburgh, Pennsylvania 15219DetailsOpen in Google Maps',\n",
              " '                    ',\n",
              " 'Map',\n",
              " ' ',\n",
              " '',\n",
              " '',\n",
              " '',\n",
              " '',\n",
              " '',\n",
              " '',\n",
              " '',\n",
              " '',\n",
              " '                        ',\n",
              " '                        Pittsburgh Penguins                            ',\n",
              " '',\n",
              " '',\n",
              " ' Pittsburgh Penguins',\n",
              " '1001 Fifth Ave., PPG Paints Arena',\n",
              " 'Pittsburgh, Pennsylvania 15219',\n",
              " '',\n",
              " '(412) 642-7367',\n",
              " '',\n",
              " '',\n",
              " '',\n",
              " '',\n",
              " 'Details',\n",
              " '',\n",
              " 'Website',\n",
              " '        ',\n",
              " '',\n",
              " '',\n",
              " '',\n",
              " '',\n",
              " '',\n",
              " '',\n",
              " '',\n",
              " '',\n",
              " '',\n",
              " '',\n",
              " '',\n",
              " '',\n",
              " '',\n",
              " '',\n",
              " '',\n",
              " '',\n",
              " '',\n",
              " 'Save',\n",
              " '',\n",
              " 'Pittsburgh Pirates at PNC Park115 Federal St., PNC Park at the North Shore',\n",
              " 'Pittsburgh, Pennsylvania 15212DetailsOpen in Google Maps',\n",
              " '                    ',\n",
              " 'Map',\n",
              " ' ',\n",
              " '',\n",
              " '',\n",
              " '',\n",
              " '',\n",
              " '',\n",
              " '',\n",
              " '',\n",
              " '',\n",
              " '                        ',\n",
              " '                        Pittsburgh Pirates at PNC\\xa0Park                            ',\n",
              " '',\n",
              " '',\n",
              " ' Pittsburgh Pirates at PNC Park',\n",
              " '115 Federal St., PNC Park at the North Shore',\n",
              " 'Pittsburgh, Pennsylvania 15212',\n",
              " '',\n",
              " '(412) 323-5000',\n",
              " '',\n",
              " '',\n",
              " '',\n",
              " '',\n",
              " 'Details',\n",
              " '',\n",
              " 'Website',\n",
              " '        ',\n",
              " '',\n",
              " '',\n",
              " '',\n",
              " '',\n",
              " '',\n",
              " '',\n",
              " '',\n",
              " '',\n",
              " '',\n",
              " '',\n",
              " '',\n",
              " '',\n",
              " '',\n",
              " '',\n",
              " '',\n",
              " 'Museums',\n",
              " '',\n",
              " '',\n",
              " '',\n",
              " '',\n",
              " '',\n",
              " '',\n",
              " '',\n",
              " '                        ',\n",
              " '                ',\n",
              " '                    ',\n",
              " '        ',\n",
              " 'From history, art, science, sports and more, Pittsburgh museums offer much to be explored.',\n",
              " '',\n",
              " 'Learn More ',\n",
              " '',\n",
              " '',\n",
              " '',\n",
              " '',\n",
              " '',\n",
              " '',\n",
              " ' ',\n",
              " '',\n",
              " '',\n",
              " '',\n",
              " '',\n",
              " '',\n",
              " '',\n",
              " '',\n",
              " '',\n",
              " '',\n",
              " '',\n",
              " '',\n",
              " '',\n",
              " '',\n",
              " '',\n",
              " '',\n",
              " '',\n",
              " '',\n",
              " '',\n",
              " ' ',\n",
              " ' ',\n",
              " \"Plan Your Trip with the new Pittsburgh Insider's Guide\",\n",
              " '',\n",
              " '',\n",
              " 'Learn More',\n",
              " '',\n",
              " '',\n",
              " '',\n",
              " '',\n",
              " '',\n",
              " '',\n",
              " '',\n",
              " '',\n",
              " 'Contact UsPrivacyBlogAbout Us',\n",
              " '',\n",
              " '',\n",
              " '',\n",
              " '',\n",
              " '',\n",
              " '',\n",
              " '',\n",
              " '',\n",
              " '120 Fifth AvenueFifth Avenue PlaceSuite 2800Pittsburgh, PA 15222',\n",
              " '(412) 281-7711Toll Free: (877) 568-3744',\n",
              " '',\n",
              " '',\n",
              " '',\n",
              " '',\n",
              " ' ',\n",
              " '',\n",
              " '©️2024 Visit Pittsburgh. All Rights Reserved. Privacy Policy',\n",
              " '',\n",
              " '',\n",
              " '',\n",
              " '',\n",
              " '',\n",
              " '',\n",
              " '',\n",
              " '',\n",
              " '',\n",
              " '',\n",
              " '',\n",
              " '',\n",
              " 'This site uses cookies to enhance your experience.',\n",
              " '',\n",
              " '            ',\n",
              " '',\n",
              " '',\n",
              " 'Accept',\n",
              " '',\n",
              " '',\n",
              " '',\n",
              " 'Experience Builder',\n",
              " '',\n",
              " '',\n",
              " '',\n",
              " '',\n",
              " '',\n",
              " '',\n",
              " '',\n",
              " '',\n",
              " '',\n",
              " '',\n",
              " '',\n",
              " '',\n",
              " '',\n",
              " '',\n",
              " '',\n",
              " '',\n",
              " '',\n",
              " ' ',\n",
              " '',\n",
              " '',\n",
              " '',\n",
              " '',\n",
              " '',\n",
              " '',\n",
              " '',\n",
              " 'Quick Search',\n",
              " '',\n",
              " '',\n",
              " '',\n",
              " '',\n",
              " '',\n",
              " '',\n",
              " '',\n",
              " '',\n",
              " '',\n",
              " '',\n",
              " 'Full Search',\n",
              " '',\n",
              " '',\n",
              " '',\n",
              " '',\n",
              " '',\n",
              " '',\n",
              " '',\n",
              " '',\n",
              " ' ',\n",
              " ...]"
            ]
          },
          "metadata": {},
          "execution_count": 110
        }
      ]
    },
    {
      "cell_type": "code",
      "source": [],
      "metadata": {
        "id": "QH4M_KbSk1Px"
      },
      "execution_count": null,
      "outputs": []
    },
    {
      "cell_type": "markdown",
      "source": [
        "# museum"
      ],
      "metadata": {
        "id": "j0UWGclzjb8t"
      }
    },
    {
      "cell_type": "code",
      "source": [
        "import re"
      ],
      "metadata": {
        "id": "C4BsufykmgkV"
      },
      "execution_count": 1,
      "outputs": []
    },
    {
      "cell_type": "code",
      "source": [
        "with open('museum.txt', 'r') as f:\n",
        "    text = f.read()\n",
        "    text = text.split('\\n')"
      ],
      "metadata": {
        "id": "wUguBjaLluTf"
      },
      "execution_count": 2,
      "outputs": []
    },
    {
      "cell_type": "code",
      "source": [
        "for i in range(len(text)):\n",
        "    print(repr(text[i]))"
      ],
      "metadata": {
        "colab": {
          "base_uri": "https://localhost:8080/"
        },
        "id": "ahl_BRdQnOil",
        "outputId": "269b1a6f-44c7-48c2-8e23-914bb6f4016f"
      },
      "execution_count": 12,
      "outputs": [
        {
          "output_type": "stream",
          "name": "stdout",
          "text": [
            "'American Jewish Museum'\n",
            "'Andy Warhol Museum'\n",
            "'August Wilson Center for African American Culture'\n",
            "'Bicycle Heaven'\n",
            "'Carnegie Museum of Art'\n",
            "'Carnegie Museum of Natural History'\n",
            "'Kamin Science Center'\n",
            "'Center for PostNatural History'\n",
            "\"Children's Museum of Pittsburgh\"\n",
            "'The Clemente Museum'\n",
            "'Elmer H. Grimm Sr. Pharmacy Museum'\n",
            "'Fort Pitt Museum'\n",
            "'The Frick Pittsburgh'\n",
            "'Heinz History Center'\n",
            "'Kelso Museum of Near Eastern Archaeology'\n",
            "'Mattress Factory'\n",
            "'Miller Gallery at Carnegie Mellon University'\n",
            "'Miniature Railroad & Village'\n",
            "'Nationality Rooms'\n",
            "'Photo Antiquities Museum of Photographic History'\n",
            "'Pittsburgh Center for the Arts'\n",
            "'Pittsburgh Glass Center'\n",
            "'Randyland'\n",
            "'Silver Eye Center for Photography'\n",
            "'Society for Contemporary Craft'\n",
            "'Soldiers and Sailors Memorial Hall and Museum'\n",
            "'Stephen Foster Memorial Museum'\n",
            "'ToonSeum'\n",
            "'Trundle Manor'\n",
            "'University Arts Gallery'\n",
            "'University of Pittsburgh Dental Museum'\n",
            "'Western Pennsylvania Sports Museum at the History Center'\n",
            "'Wood Street Galleries'\n"
          ]
        }
      ]
    },
    {
      "cell_type": "code",
      "source": [
        "for i in range(len(text)):\n",
        "  text[i]=text[i].replace(' ','_')\n",
        "  print(text[i])"
      ],
      "metadata": {
        "colab": {
          "base_uri": "https://localhost:8080/"
        },
        "id": "fXCbmS76mlOr",
        "outputId": "e82b6afd-a78d-4bac-f03c-3a4ae36be1de"
      },
      "execution_count": 13,
      "outputs": [
        {
          "output_type": "stream",
          "name": "stdout",
          "text": [
            "American_Jewish_Museum\n",
            "Andy_Warhol_Museum\n",
            "August_Wilson_Center_for_African_American_Culture\n",
            "Bicycle_Heaven\n",
            "Carnegie_Museum_of_Art\n",
            "Carnegie_Museum_of_Natural_History\n",
            "Kamin_Science_Center\n",
            "Center_for_PostNatural_History\n",
            "Children's_Museum_of_Pittsburgh\n",
            "The_Clemente_Museum\n",
            "Elmer_H._Grimm_Sr._Pharmacy_Museum\n",
            "Fort_Pitt_Museum\n",
            "The_Frick_Pittsburgh\n",
            "Heinz_History_Center\n",
            "Kelso_Museum_of_Near_Eastern_Archaeology\n",
            "Mattress_Factory\n",
            "Miller_Gallery_at_Carnegie_Mellon_University\n",
            "Miniature_Railroad_&_Village\n",
            "Nationality_Rooms\n",
            "Photo_Antiquities_Museum_of_Photographic_History\n",
            "Pittsburgh_Center_for_the_Arts\n",
            "Pittsburgh_Glass_Center\n",
            "Randyland\n",
            "Silver_Eye_Center_for_Photography\n",
            "Society_for_Contemporary_Craft\n",
            "Soldiers_and_Sailors_Memorial_Hall_and_Museum\n",
            "Stephen_Foster_Memorial_Museum\n",
            "ToonSeum\n",
            "Trundle_Manor\n",
            "University_Arts_Gallery\n",
            "University_of_Pittsburgh_Dental_Museum\n",
            "Western_Pennsylvania_Sports_Museum_at_the_History_Center\n",
            "Wood_Street_Galleries\n"
          ]
        }
      ]
    },
    {
      "cell_type": "code",
      "source": [
        "names=['/content/drive/MyDrive/11711/assignment2/data/'+name+'.json' for name in text]\n",
        "print(names)"
      ],
      "metadata": {
        "colab": {
          "base_uri": "https://localhost:8080/"
        },
        "id": "w60841TmmtcN",
        "outputId": "8de72286-4478-447f-8f82-be80637bafe0"
      },
      "execution_count": 31,
      "outputs": [
        {
          "output_type": "stream",
          "name": "stdout",
          "text": [
            "['/content/drive/MyDrive/11711/assignment2/data/American_Jewish_Museum.json', '/content/drive/MyDrive/11711/assignment2/data/Andy_Warhol_Museum.json', '/content/drive/MyDrive/11711/assignment2/data/August_Wilson_Center_for_African_American_Culture.json', '/content/drive/MyDrive/11711/assignment2/data/Bicycle_Heaven.json', '/content/drive/MyDrive/11711/assignment2/data/Carnegie_Museum_of_Art.json', '/content/drive/MyDrive/11711/assignment2/data/Carnegie_Museum_of_Natural_History.json', '/content/drive/MyDrive/11711/assignment2/data/Kamin_Science_Center.json', '/content/drive/MyDrive/11711/assignment2/data/Center_for_PostNatural_History.json', \"/content/drive/MyDrive/11711/assignment2/data/Children's_Museum_of_Pittsburgh.json\", '/content/drive/MyDrive/11711/assignment2/data/The_Clemente_Museum.json', '/content/drive/MyDrive/11711/assignment2/data/Elmer_H._Grimm_Sr._Pharmacy_Museum.json', '/content/drive/MyDrive/11711/assignment2/data/Fort_Pitt_Museum.json', '/content/drive/MyDrive/11711/assignment2/data/The_Frick_Pittsburgh.json', '/content/drive/MyDrive/11711/assignment2/data/Heinz_History_Center.json', '/content/drive/MyDrive/11711/assignment2/data/Kelso_Museum_of_Near_Eastern_Archaeology.json', '/content/drive/MyDrive/11711/assignment2/data/Mattress_Factory.json', '/content/drive/MyDrive/11711/assignment2/data/Miller_Gallery_at_Carnegie_Mellon_University.json', '/content/drive/MyDrive/11711/assignment2/data/Miniature_Railroad_&_Village.json', '/content/drive/MyDrive/11711/assignment2/data/Nationality_Rooms.json', '/content/drive/MyDrive/11711/assignment2/data/Photo_Antiquities_Museum_of_Photographic_History.json', '/content/drive/MyDrive/11711/assignment2/data/Pittsburgh_Center_for_the_Arts.json', '/content/drive/MyDrive/11711/assignment2/data/Pittsburgh_Glass_Center.json', '/content/drive/MyDrive/11711/assignment2/data/Randyland.json', '/content/drive/MyDrive/11711/assignment2/data/Silver_Eye_Center_for_Photography.json', '/content/drive/MyDrive/11711/assignment2/data/Society_for_Contemporary_Craft.json', '/content/drive/MyDrive/11711/assignment2/data/Soldiers_and_Sailors_Memorial_Hall_and_Museum.json', '/content/drive/MyDrive/11711/assignment2/data/Stephen_Foster_Memorial_Museum.json', '/content/drive/MyDrive/11711/assignment2/data/ToonSeum.json', '/content/drive/MyDrive/11711/assignment2/data/Trundle_Manor.json', '/content/drive/MyDrive/11711/assignment2/data/University_Arts_Gallery.json', '/content/drive/MyDrive/11711/assignment2/data/University_of_Pittsburgh_Dental_Museum.json', '/content/drive/MyDrive/11711/assignment2/data/Western_Pennsylvania_Sports_Museum_at_the_History_Center.json', '/content/drive/MyDrive/11711/assignment2/data/Wood_Street_Galleries.json']\n"
          ]
        }
      ]
    },
    {
      "cell_type": "code",
      "source": [
        "links=['https://en.wikipedia.org/wiki/'+name for name in text]\n",
        "print(links)\n",
        "with open('museum_link.txt', 'w') as f:\n",
        "    for link in links:\n",
        "        f.write(link+'\\n')"
      ],
      "metadata": {
        "colab": {
          "base_uri": "https://localhost:8080/"
        },
        "id": "QIkx2LLzjeEO",
        "outputId": "9e7e9659-6a0a-486a-8d3e-6e20761cc071"
      },
      "execution_count": 18,
      "outputs": [
        {
          "output_type": "stream",
          "name": "stdout",
          "text": [
            "['https://en.wikipedia.org/wiki/American_Jewish_Museum', 'https://en.wikipedia.org/wiki/Andy_Warhol_Museum', 'https://en.wikipedia.org/wiki/August_Wilson_Center_for_African_American_Culture', 'https://en.wikipedia.org/wiki/Bicycle_Heaven', 'https://en.wikipedia.org/wiki/Carnegie_Museum_of_Art', 'https://en.wikipedia.org/wiki/Carnegie_Museum_of_Natural_History', 'https://en.wikipedia.org/wiki/Kamin_Science_Center', 'https://en.wikipedia.org/wiki/Center_for_PostNatural_History', \"https://en.wikipedia.org/wiki/Children's_Museum_of_Pittsburgh\", 'https://en.wikipedia.org/wiki/The_Clemente_Museum', 'https://en.wikipedia.org/wiki/Elmer_H._Grimm_Sr._Pharmacy_Museum', 'https://en.wikipedia.org/wiki/Fort_Pitt_Museum', 'https://en.wikipedia.org/wiki/The_Frick_Pittsburgh', 'https://en.wikipedia.org/wiki/Heinz_History_Center', 'https://en.wikipedia.org/wiki/Kelso_Museum_of_Near_Eastern_Archaeology', 'https://en.wikipedia.org/wiki/Mattress_Factory', 'https://en.wikipedia.org/wiki/Miller_Gallery_at_Carnegie_Mellon_University', 'https://en.wikipedia.org/wiki/Miniature_Railroad_&_Village', 'https://en.wikipedia.org/wiki/Nationality_Rooms', 'https://en.wikipedia.org/wiki/Photo_Antiquities_Museum_of_Photographic_History', 'https://en.wikipedia.org/wiki/Pittsburgh_Center_for_the_Arts', 'https://en.wikipedia.org/wiki/Pittsburgh_Glass_Center', 'https://en.wikipedia.org/wiki/Randyland', 'https://en.wikipedia.org/wiki/Silver_Eye_Center_for_Photography', 'https://en.wikipedia.org/wiki/Society_for_Contemporary_Craft', 'https://en.wikipedia.org/wiki/Soldiers_and_Sailors_Memorial_Hall_and_Museum', 'https://en.wikipedia.org/wiki/Stephen_Foster_Memorial_Museum', 'https://en.wikipedia.org/wiki/ToonSeum', 'https://en.wikipedia.org/wiki/Trundle_Manor', 'https://en.wikipedia.org/wiki/University_Arts_Gallery', 'https://en.wikipedia.org/wiki/University_of_Pittsburgh_Dental_Museum', 'https://en.wikipedia.org/wiki/Western_Pennsylvania_Sports_Museum_at_the_History_Center', 'https://en.wikipedia.org/wiki/Wood_Street_Galleries']\n"
          ]
        }
      ]
    },
    {
      "cell_type": "code",
      "source": [
        "with open('museum_link.txt', 'r') as f:\n",
        "    links = f.read().splitlines()\n",
        "print(links)"
      ],
      "metadata": {
        "colab": {
          "base_uri": "https://localhost:8080/"
        },
        "id": "yOMprc43rCoT",
        "outputId": "f91d0b78-f336-43aa-8fd4-5bfd69b16ac9"
      },
      "execution_count": 19,
      "outputs": [
        {
          "output_type": "stream",
          "name": "stdout",
          "text": [
            "['https://en.wikipedia.org/wiki/American_Jewish_Museum', 'https://en.wikipedia.org/wiki/The_Andy_Warhol_Museum', 'https://en.wikipedia.org/wiki/August_Wilson_African_American_Cultural_Center', 'https://en.wikipedia.org/wiki/Bicycle_Heaven', 'https://en.wikipedia.org/wiki/Carnegie_Museum_of_Art', 'https://en.wikipedia.org/wiki/Carnegie_Museum_of_Natural_History', 'https://en.wikipedia.org/wiki/Carnegie_Science_Center', 'https://en.wikipedia.org/wiki/Center_for_PostNatural_History', 'https://en.wikipedia.org/wiki/Children%27s_Museum_of_Pittsburgh', 'https://en.wikipedia.org/wiki/The_Clemente_Museum', 'https://en.wikipedia.org/wiki/Salk_Hall#Pharmacy_Museum', 'https://en.wikipedia.org/wiki/Fort_Pitt_Museum', 'https://en.wikipedia.org/wiki/The_Frick_Pittsburgh', 'https://en.wikipedia.org/wiki/Heinz_History_Center', 'https://en.wikipedia.org/wiki/Pittsburgh_Theological_Seminary#Kelso_Museum_of_Near_Eastern_Archaeology', 'https://en.wikipedia.org/wiki/Mattress_Factory', 'https://en.wikipedia.org/wiki/Miller_ICA_at_Carnegie_Mellon_University', 'https://en.wikipedia.org/wiki/Miniature_Railroad_%26_Village', 'https://en.wikipedia.org/wiki/Nationality_Rooms', 'https://en.wikipedia.org/wiki/Photo_Antiquities_Museum_of_Photographic_History', 'https://en.wikipedia.org/wiki/Pittsburgh_Center_for_the_Arts', 'https://en.wikipedia.org/wiki/Pittsburgh_Glass_Center', 'https://en.wikipedia.org/wiki/Randyland', 'https://en.wikipedia.org/wiki/Silver_Eye_Center_for_Photography', 'https://en.wikipedia.org/wiki/Society_for_Contemporary_Craft', 'https://en.wikipedia.org/wiki/Soldiers_and_Sailors_Memorial_Hall_and_Museum', 'https://en.wikipedia.org/wiki/Stephen_Foster_Memorial', 'https://en.wikipedia.org/wiki/ToonSeum', 'https://en.wikipedia.org/wiki/Trundle_Manor', 'https://en.wikipedia.org/wiki/Frick_Fine_Arts_Building#University_Arts_Gallery', 'https://en.wikipedia.org/wiki/Salk_Hall#Dental_Museum', 'https://en.wikipedia.org/wiki/Heinz_History_Center', 'https://en.wikipedia.org/wiki/Wood_Street_Galleries']\n"
          ]
        }
      ]
    },
    {
      "cell_type": "code",
      "source": [
        "def build_file_name(url):\n",
        "    return 'raw_documents/'+'-'.join(url.split(\"/\")[2:]).replace('.','-') + \".json\"\n",
        "import requests\n",
        "from bs4 import BeautifulSoup\n",
        "import json\n",
        "\n",
        "def scrape_wikipedia_to_json(url, output_file):\n",
        "\n",
        "    # Send request to the URL\n",
        "    response = requests.get(url)\n",
        "\n",
        "    # Parse the page content\n",
        "    soup = BeautifulSoup(response.content, 'html.parser')\n",
        "\n",
        "    # Find the correct div based on the updated structure\n",
        "    content = soup.find('div', {'id': 'mw-content-text'})\n",
        "\n",
        "    # Dictionary to store the result\n",
        "    data = {}\n",
        "    current_h1 = None\n",
        "    current_h2 = None\n",
        "    current_h3 = None\n",
        "    current_h4 = None\n",
        "    current_h5 = None\n",
        "    current_h6 = None\n",
        "    flag=False\n",
        "\n",
        "    # Iterate over headings and paragraphs\n",
        "    for tag in content.find_all(['h2', 'h3', 'h4', 'h5', 'h6', 'p']):\n",
        "        if tag.name == 'h2':\n",
        "            current_h2 = tag.get_text(strip=True)\n",
        "            data[current_h2] = {}\n",
        "            current_h3 = current_h4 = current_h5 = current_h6 = None\n",
        "        elif tag.name == 'h3' and current_h2:\n",
        "            current_h3 = tag.get_text(strip=True)\n",
        "            data[current_h2][current_h3] = {}\n",
        "            current_h4 = current_h5 = current_h6 = None\n",
        "        elif tag.name == 'h4' and current_h3:\n",
        "            current_h4 = tag.get_text(strip=True)\n",
        "            data[current_h2][current_h3][current_h4] = {}\n",
        "            current_h5 = current_h6 = None\n",
        "        elif tag.name == 'h5' and current_h4:\n",
        "            current_h5 = tag.get_text(strip=True)\n",
        "            data[current_h2][current_h3][current_h4][current_h5] = {}\n",
        "            current_h6 = None\n",
        "        elif tag.name == 'h6' and current_h5:\n",
        "            current_h6 = tag.get_text(strip=True)\n",
        "            data[current_h2][current_h3][current_h4][current_h5][current_h6] = {}\n",
        "        elif tag.name == 'p':\n",
        "            if current_h6:\n",
        "                data[current_h2][current_h3][current_h4][current_h5][current_h6].setdefault('content', []).append(tag.get_text(strip=True))\n",
        "            elif current_h5:\n",
        "                data[current_h2][current_h3][current_h4][current_h5].setdefault('content', []).append(tag.get_text(strip=True))\n",
        "            elif current_h4:\n",
        "                data[current_h2][current_h3][current_h4].setdefault('content', []).append(tag.get_text(strip=True))\n",
        "            elif current_h3:\n",
        "                data[current_h2][current_h3].setdefault('content', []).append(tag.get_text(strip=True))\n",
        "            elif current_h2:\n",
        "                data[current_h2].setdefault('content', []).append(tag.get_text(strip=True))\n",
        "            elif flag==False:\n",
        "                flag=True\n",
        "                data['introduction']=tag.get_text(strip=True)\n",
        "\n",
        "    # Save the dictionary as a JSON file\n",
        "    with open(output_file, 'w', encoding='utf-8') as f:\n",
        "        json.dump(data, f, ensure_ascii=False, indent=4)\n",
        "\n",
        "    print(f\"Content successfully written to {output_file}\")\n"
      ],
      "metadata": {
        "id": "4KRjT3AZrPYA"
      },
      "execution_count": 28,
      "outputs": []
    },
    {
      "cell_type": "code",
      "source": [
        "url_list = links\n",
        "output_file_list = names\n",
        "for url, output_file in zip(url_list, output_file_list):\n",
        "    scrape_wikipedia_to_json(url, output_file)"
      ],
      "metadata": {
        "colab": {
          "base_uri": "https://localhost:8080/"
        },
        "id": "kDW0jGxcrWIu",
        "outputId": "ee286a17-4fef-441e-e2d2-6b59b9e2fafe"
      },
      "execution_count": 32,
      "outputs": [
        {
          "output_type": "stream",
          "name": "stdout",
          "text": [
            "Content successfully written to /content/drive/MyDrive/11711/assignment2/data/American_Jewish_Museum.json\n",
            "Content successfully written to /content/drive/MyDrive/11711/assignment2/data/Andy_Warhol_Museum.json\n",
            "Content successfully written to /content/drive/MyDrive/11711/assignment2/data/August_Wilson_Center_for_African_American_Culture.json\n",
            "Content successfully written to /content/drive/MyDrive/11711/assignment2/data/Bicycle_Heaven.json\n",
            "Content successfully written to /content/drive/MyDrive/11711/assignment2/data/Carnegie_Museum_of_Art.json\n",
            "Content successfully written to /content/drive/MyDrive/11711/assignment2/data/Carnegie_Museum_of_Natural_History.json\n",
            "Content successfully written to /content/drive/MyDrive/11711/assignment2/data/Kamin_Science_Center.json\n",
            "Content successfully written to /content/drive/MyDrive/11711/assignment2/data/Center_for_PostNatural_History.json\n",
            "Content successfully written to /content/drive/MyDrive/11711/assignment2/data/Children's_Museum_of_Pittsburgh.json\n",
            "Content successfully written to /content/drive/MyDrive/11711/assignment2/data/The_Clemente_Museum.json\n",
            "Content successfully written to /content/drive/MyDrive/11711/assignment2/data/Elmer_H._Grimm_Sr._Pharmacy_Museum.json\n",
            "Content successfully written to /content/drive/MyDrive/11711/assignment2/data/Fort_Pitt_Museum.json\n",
            "Content successfully written to /content/drive/MyDrive/11711/assignment2/data/The_Frick_Pittsburgh.json\n",
            "Content successfully written to /content/drive/MyDrive/11711/assignment2/data/Heinz_History_Center.json\n",
            "Content successfully written to /content/drive/MyDrive/11711/assignment2/data/Kelso_Museum_of_Near_Eastern_Archaeology.json\n",
            "Content successfully written to /content/drive/MyDrive/11711/assignment2/data/Mattress_Factory.json\n",
            "Content successfully written to /content/drive/MyDrive/11711/assignment2/data/Miller_Gallery_at_Carnegie_Mellon_University.json\n",
            "Content successfully written to /content/drive/MyDrive/11711/assignment2/data/Miniature_Railroad_&_Village.json\n",
            "Content successfully written to /content/drive/MyDrive/11711/assignment2/data/Nationality_Rooms.json\n",
            "Content successfully written to /content/drive/MyDrive/11711/assignment2/data/Photo_Antiquities_Museum_of_Photographic_History.json\n",
            "Content successfully written to /content/drive/MyDrive/11711/assignment2/data/Pittsburgh_Center_for_the_Arts.json\n",
            "Content successfully written to /content/drive/MyDrive/11711/assignment2/data/Pittsburgh_Glass_Center.json\n",
            "Content successfully written to /content/drive/MyDrive/11711/assignment2/data/Randyland.json\n",
            "Content successfully written to /content/drive/MyDrive/11711/assignment2/data/Silver_Eye_Center_for_Photography.json\n",
            "Content successfully written to /content/drive/MyDrive/11711/assignment2/data/Society_for_Contemporary_Craft.json\n",
            "Content successfully written to /content/drive/MyDrive/11711/assignment2/data/Soldiers_and_Sailors_Memorial_Hall_and_Museum.json\n",
            "Content successfully written to /content/drive/MyDrive/11711/assignment2/data/Stephen_Foster_Memorial_Museum.json\n",
            "Content successfully written to /content/drive/MyDrive/11711/assignment2/data/ToonSeum.json\n",
            "Content successfully written to /content/drive/MyDrive/11711/assignment2/data/Trundle_Manor.json\n",
            "Content successfully written to /content/drive/MyDrive/11711/assignment2/data/University_Arts_Gallery.json\n",
            "Content successfully written to /content/drive/MyDrive/11711/assignment2/data/University_of_Pittsburgh_Dental_Museum.json\n",
            "Content successfully written to /content/drive/MyDrive/11711/assignment2/data/Western_Pennsylvania_Sports_Museum_at_the_History_Center.json\n",
            "Content successfully written to /content/drive/MyDrive/11711/assignment2/data/Wood_Street_Galleries.json\n"
          ]
        }
      ]
    }
  ],
  "metadata": {
    "colab": {
      "provenance": [],
      "collapsed_sections": [
        "phREBZHfquPT",
        "jMv4hd_kvTkL",
        "eCQMjJzM4pDZ",
        "vAopuvXEELao",
        "fRTYcGJmHPP_",
        "mN6cysmQM7HO",
        "aSVJ1AdZX7fg",
        "mbjt5r4QkKdq",
        "j0UWGclzjb8t"
      ]
    },
    "kernelspec": {
      "display_name": "Python 3",
      "name": "python3"
    }
  },
  "nbformat": 4,
  "nbformat_minor": 0
}