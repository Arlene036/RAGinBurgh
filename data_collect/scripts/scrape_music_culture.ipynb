{
 "cells": [
  {
   "cell_type": "markdown",
   "metadata": {},
   "source": [
    "# Music\n",
    "## Symphony\n",
    "### https://www.pittsburghsymphony.org/\n"
   ]
  },
  {
   "cell_type": "code",
   "execution_count": 15,
   "metadata": {},
   "outputs": [
    {
     "name": "stdout",
     "output_type": "stream",
     "text": [
      "Scraping page 1...\n",
      "Scraping page 2...\n",
      "Scraping page 3...\n",
      "Scraping page 4...\n",
      "Scraping page 5...\n",
      "Pittsburgh Symphony Scraping completed.\n"
     ]
    }
   ],
   "source": [
    "###################################### Events ######################################\n",
    "\n",
    "import json\n",
    "import time\n",
    "from bs4 import BeautifulSoup\n",
    "from selenium import webdriver\n",
    "from selenium.webdriver.chrome.options import Options\n",
    "\n",
    "\n",
    "class PittsburghSymphonyScraper:\n",
    "    def __init__(self):\n",
    "        chrome_options = Options()\n",
    "        chrome_options.add_argument(\"--headless\")\n",
    "        chrome_options.add_argument(\"--disable-gpu\")\n",
    "        chrome_options.add_argument(\"--no-sandbox\")\n",
    "        chrome_options.add_argument(\"--disable-dev-shm-usage\")\n",
    "        self.driver = webdriver.Chrome(options=chrome_options)\n",
    "        self.base_url = \"https://www.pittsburghsymphony.org/calendar?page=\"\n",
    "        self.result_file = \"../raw_documents/Pittsburgh_Symphony.json\"\n",
    "\n",
    "    def fetch_page(self, page_num):\n",
    "        url = self.base_url + str(page_num)\n",
    "        try:\n",
    "            self.driver.get(url)\n",
    "            time.sleep(3)  # wait the page to load\n",
    "            page_source = self.driver.page_source\n",
    "            soup = BeautifulSoup(page_source, \"html.parser\")\n",
    "            return soup\n",
    "        except Exception as e:\n",
    "            print(f\"Error fetching page {page_num}: {e}\")\n",
    "            return None\n",
    "\n",
    "    def extract_event_info(self, soup):\n",
    "        events = []\n",
    "        event_list = soup.find_all('article', class_='event')\n",
    "        for event in event_list:\n",
    "            try:\n",
    "                title = event.find('h3', class_='title').get_text(strip=True)\n",
    "                time = event.find('time', class_='range').get_text(strip=True)\n",
    "                venue = event.find('div', class_='venue').get_text(strip=True)\n",
    "                organization = event.find('div', class_='organization').get_text(strip=True)\n",
    "\n",
    "                event_info = {\n",
    "                    \"event_name\": title,\n",
    "                    \"event_time\": time,\n",
    "                    \"venue\": venue,\n",
    "                    \"organization\": organization\n",
    "                }\n",
    "                events.append(event_info)\n",
    "            except Exception as e:\n",
    "                print(f\"Error extracting event info: {e}\")\n",
    "        return events\n",
    "\n",
    "    def append_to_json(self, events):    \n",
    "        # write in time\n",
    "        try:\n",
    "            with open(self.result_file, 'a') as f:\n",
    "                for event in events:\n",
    "                    json.dump(event, f, indent=4)\n",
    "                    f.write(\"\\n\")\n",
    "        except Exception as e:\n",
    "            print(f\"Error writing to JSON file: {e}\")\n",
    "\n",
    "    def scrape(self):\n",
    "        for page_num in range(1, 6):\n",
    "            print(f\"Scraping page {page_num}...\")\n",
    "            soup = self.fetch_page(page_num)\n",
    "            if soup:\n",
    "                events = self.extract_event_info(soup)\n",
    "                self.append_to_json(events)\n",
    "\n",
    "    def close(self):\n",
    "        self.driver.quit()\n",
    "\n",
    "\n",
    "if __name__ == \"__main__\":\n",
    "    scraper = PittsburghSymphonyScraper()\n",
    "    scraper.scrape()\n",
    "    scraper.close()\n",
    "    print(\"Pittsburgh Symphony Scraping completed.\")"
   ]
  },
  {
   "cell_type": "code",
   "execution_count": 14,
   "metadata": {},
   "outputs": [
    {
     "name": "stdout",
     "output_type": "stream",
     "text": [
      "Musicians' data has been appended to the JSON file.\n"
     ]
    }
   ],
   "source": [
    "###################################### Musicians ######################################\n",
    "import requests\n",
    "from bs4 import BeautifulSoup\n",
    "import json\n",
    "import os\n",
    "\n",
    "# Pittsburgh Symphony Orchestra musicians page URL\n",
    "url = \"https://www.pittsburghsymphony.org/pso_home/web/musicians\"\n",
    "\n",
    "# Send a GET request to the page\n",
    "response = requests.get(url)\n",
    "\n",
    "# Parse the page content using BeautifulSoup\n",
    "soup = BeautifulSoup(response.content, \"html.parser\")\n",
    "\n",
    "# Initialize a dictionary to store musician data\n",
    "musicians_data = {}\n",
    "\n",
    "# Define the path of the existing JSON file\n",
    "json_file_path = \"../raw_documents/Pittsburgh_Symphony.json\"\n",
    "\n",
    "# If the file exists, load the existing data\n",
    "if os.path.exists(json_file_path):\n",
    "    with open(json_file_path, \"r\") as json_file:\n",
    "        try:\n",
    "            musicians_data = json.load(json_file)\n",
    "        except json.JSONDecodeError:\n",
    "            musicians_data = {}\n",
    "\n",
    "# Define a helper function to get musician introduction from subpages\n",
    "def get_musician_introduction(subpage_url):\n",
    "    try:\n",
    "        subpage_response = requests.get(subpage_url)\n",
    "        subpage_soup = BeautifulSoup(subpage_response.content, \"html.parser\")\n",
    "        bio_text_div = subpage_soup.find(\"div\", class_=\"bio-text\")\n",
    "        if bio_text_div:\n",
    "            return bio_text_div.get_text(strip=True, separator=\" \")\n",
    "    except Exception as e:\n",
    "        print(f\"Error accessing {subpage_url}: {e}\")\n",
    "    return None\n",
    "\n",
    "# Loop over sections such as First Violin, Second Violin, etc.\n",
    "for section in soup.find_all(\"h3\"):\n",
    "    section_name = section.get_text().strip()\n",
    "    # If this section already exists in the JSON, skip it to avoid duplicates\n",
    "    if section_name in musicians_data:\n",
    "        continue\n",
    "    \n",
    "    musicians_data[section_name] = []\n",
    "    \n",
    "    # Find the <p> tag containing musician list under each section\n",
    "    musician_list = section.find_next(\"p\")\n",
    "    \n",
    "    # Check if musician_list exists\n",
    "    if musician_list:\n",
    "        # Get all musician names and titles within the <p> tag\n",
    "        for musician in musician_list.find_all(\"a\"):\n",
    "            musician_name = musician.get_text(strip=True)\n",
    "            musician_title = musician_list.get_text(strip=True).split('|')[1].strip() if '|' in musician_list.get_text() else \"\"\n",
    "            musician_data = {\n",
    "                \"name\": musician_name,\n",
    "                \"title\": musician_title\n",
    "            }\n",
    "            \n",
    "            # If musician has a subpage, fetch their introduction\n",
    "            musician_subpage_url = musician.get(\"href\")\n",
    "            if musician_subpage_url:\n",
    "                full_subpage_url = f\"https://www.pittsburghsymphony.org{musician_subpage_url}\"\n",
    "                introduction = get_musician_introduction(full_subpage_url)\n",
    "                if introduction:\n",
    "                    musician_data[\"introduction\"] = introduction\n",
    "            \n",
    "            # Append each musician's data to the list under the section\n",
    "            musicians_data[section_name].append(musician_data)\n",
    "\n",
    "# Append new data to the JSON file\n",
    "with open(json_file_path, \"w\") as json_file:\n",
    "    json.dump(musicians_data, json_file, indent=4)\n",
    "    json_file.write(\"\\n\")  # Optional newline for better readability\n",
    "\n",
    "print(\"Musicians' data has been appended to the JSON file.\")"
   ]
  },
  {
   "cell_type": "markdown",
   "metadata": {},
   "source": [
    "## Opera\n",
    "### https://pittsburghopera.org/"
   ]
  },
  {
   "cell_type": "code",
   "execution_count": null,
   "metadata": {},
   "outputs": [],
   "source": []
  },
  {
   "cell_type": "markdown",
   "metadata": {},
   "source": [
    "## Cultural Trust\n",
    "### https://trustarts.org/"
   ]
  },
  {
   "cell_type": "code",
   "execution_count": null,
   "metadata": {},
   "outputs": [],
   "source": []
  },
  {
   "cell_type": "markdown",
   "metadata": {},
   "source": [
    "# Museum\n",
    "## Carnegie Museum\n",
    "### https://carnegiemuseums.org/"
   ]
  },
  {
   "cell_type": "code",
   "execution_count": null,
   "metadata": {},
   "outputs": [],
   "source": []
  },
  {
   "cell_type": "markdown",
   "metadata": {},
   "source": [
    "## Heinz History Center\n",
    "### https://www.heinzhistorycenter.org/"
   ]
  },
  {
   "cell_type": "code",
   "execution_count": null,
   "metadata": {},
   "outputs": [],
   "source": []
  },
  {
   "cell_type": "markdown",
   "metadata": {},
   "source": [
    "## The Frick\n",
    "### https://www.thefrickpittsburgh.org/"
   ]
  },
  {
   "cell_type": "code",
   "execution_count": null,
   "metadata": {},
   "outputs": [],
   "source": []
  },
  {
   "cell_type": "markdown",
   "metadata": {},
   "source": [
    "## More"
   ]
  },
  {
   "cell_type": "markdown",
   "metadata": {},
   "source": [
    "# Food\n",
    "## Food Festivals\n",
    "### https://www.visitpittsburgh.com/events-festivals/food-festivals/"
   ]
  },
  {
   "cell_type": "code",
   "execution_count": null,
   "metadata": {},
   "outputs": [],
   "source": []
  },
  {
   "cell_type": "markdown",
   "metadata": {},
   "source": [
    "## Picklesburgh\n",
    "### https://www.picklesburgh.com/"
   ]
  },
  {
   "cell_type": "code",
   "execution_count": null,
   "metadata": {},
   "outputs": [],
   "source": []
  },
  {
   "cell_type": "markdown",
   "metadata": {},
   "source": [
    "## Pittsburgh Taco Fest\n",
    "### https://www.pghtacofest.com/"
   ]
  },
  {
   "cell_type": "code",
   "execution_count": null,
   "metadata": {},
   "outputs": [],
   "source": []
  },
  {
   "cell_type": "markdown",
   "metadata": {},
   "source": [
    "## Pittsburgh Restaurant Week\n",
    "### https://pittsburghrestaurantweek.com/"
   ]
  },
  {
   "cell_type": "code",
   "execution_count": null,
   "metadata": {},
   "outputs": [],
   "source": []
  },
  {
   "cell_type": "markdown",
   "metadata": {},
   "source": [
    "## Little Italy Days\n",
    "### https://littleitalydays.com/"
   ]
  },
  {
   "cell_type": "code",
   "execution_count": null,
   "metadata": {},
   "outputs": [],
   "source": []
  },
  {
   "cell_type": "markdown",
   "metadata": {},
   "source": [
    "## Banana Split Fest\n",
    "### https://bananasplitfest.com/"
   ]
  },
  {
   "cell_type": "code",
   "execution_count": null,
   "metadata": {},
   "outputs": [],
   "source": []
  }
 ],
 "metadata": {
  "kernelspec": {
   "display_name": "rag_pittsburgh_env",
   "language": "python",
   "name": "python3"
  },
  "language_info": {
   "codemirror_mode": {
    "name": "ipython",
    "version": 3
   },
   "file_extension": ".py",
   "mimetype": "text/x-python",
   "name": "python",
   "nbconvert_exporter": "python",
   "pygments_lexer": "ipython3",
   "version": "3.11.10"
  }
 },
 "nbformat": 4,
 "nbformat_minor": 2
}
